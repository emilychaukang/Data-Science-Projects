{
 "cells": [
  {
   "cell_type": "markdown",
   "metadata": {},
   "source": [
    "# Step 6 : Pre-processing for ML : Stage 2\n",
    "\n",
    "1. Split the data into features(X) and the target label(y)\n",
    "\n",
    "\n",
    "2. Train | Test Split\n",
    "   - We seperate the training data and test data(hold-out)\n",
    "\n",
    "\n",
    "3. Feature Selection : \n",
    "   - Since the input variables are mostly categorical and the output variable(FINDJOB) is also categorical, Chi-Squared test was adopted to select top 10 features for ML models.\n",
    "\n",
    "\n",
    "4. Imbalanced Data Check : Check whether our data needs to be resampled\n",
    "   - Our target label FINDJOB is slightly imbalanced (4:6). This is often not a concern, so we didn't resample the data. \n",
    "\n",
    "\n",
    "5. Scale the data with MinMaxScaler\n",
    "   We chose MinMax Scaler to normalize our data because :\n",
    "      - Our data are mostly categorical data within the bounded intervals with little outliers(standardization will be better for data with a lot of outliers). Normalization will be useful for this data. \n",
    "      - It doesn't distort the shape of the data\n",
    "  "
   ]
  },
  {
   "cell_type": "markdown",
   "metadata": {},
   "source": [
    "## Split Data into Features(Xs) and Target(y) "
   ]
  },
  {
   "cell_type": "markdown",
   "metadata": {},
   "source": [
    "### Import Data"
   ]
  },
  {
   "cell_type": "code",
   "execution_count": 1,
   "metadata": {},
   "outputs": [],
   "source": [
    "# Imports\n",
    "import numpy as np\n",
    "import pandas as pd\n",
    "import matplotlib.pyplot as plt\n",
    "import seaborn as sns"
   ]
  },
  {
   "cell_type": "code",
   "execution_count": 2,
   "metadata": {},
   "outputs": [],
   "source": [
    "# Read the csv file\n",
    "df = pd.read_csv(\"Findjob_encoded.csv\")"
   ]
  },
  {
   "cell_type": "code",
   "execution_count": 3,
   "metadata": {},
   "outputs": [
    {
     "data": {
      "text/html": [
       "<div>\n",
       "<style scoped>\n",
       "    .dataframe tbody tr th:only-of-type {\n",
       "        vertical-align: middle;\n",
       "    }\n",
       "\n",
       "    .dataframe tbody tr th {\n",
       "        vertical-align: top;\n",
       "    }\n",
       "\n",
       "    .dataframe thead th {\n",
       "        text-align: right;\n",
       "    }\n",
       "</style>\n",
       "<table border=\"1\" class=\"dataframe\">\n",
       "  <thead>\n",
       "    <tr style=\"text-align: right;\">\n",
       "      <th></th>\n",
       "      <th>FINDJOB</th>\n",
       "      <th>YEARSERV</th>\n",
       "      <th>RANK</th>\n",
       "      <th>MILTOCIV</th>\n",
       "      <th>CIVADJ</th>\n",
       "      <th>CIVADJISSc</th>\n",
       "      <th>CIVADJISSe</th>\n",
       "      <th>MILJOBSKILLS</th>\n",
       "      <th>MILHELPJOB</th>\n",
       "      <th>F_AGECAT</th>\n",
       "      <th>...</th>\n",
       "      <th>LOOKJOB_Yes(right away)</th>\n",
       "      <th>SCHOOL_Yes</th>\n",
       "      <th>TRAUMA1_Yes</th>\n",
       "      <th>F_SEX_Male</th>\n",
       "      <th>F_HISP_Yes</th>\n",
       "      <th>INJURED</th>\n",
       "      <th>F_RACETHN</th>\n",
       "      <th>F_MARITAL</th>\n",
       "      <th>Branch</th>\n",
       "      <th>p_income</th>\n",
       "    </tr>\n",
       "  </thead>\n",
       "  <tbody>\n",
       "    <tr>\n",
       "      <th>0</th>\n",
       "      <td>1</td>\n",
       "      <td>4</td>\n",
       "      <td>0</td>\n",
       "      <td>2</td>\n",
       "      <td>3</td>\n",
       "      <td>3</td>\n",
       "      <td>0</td>\n",
       "      <td>2</td>\n",
       "      <td>4</td>\n",
       "      <td>3</td>\n",
       "      <td>...</td>\n",
       "      <td>1</td>\n",
       "      <td>0</td>\n",
       "      <td>0</td>\n",
       "      <td>1</td>\n",
       "      <td>0</td>\n",
       "      <td>2</td>\n",
       "      <td>3</td>\n",
       "      <td>1</td>\n",
       "      <td>4</td>\n",
       "      <td>31500</td>\n",
       "    </tr>\n",
       "    <tr>\n",
       "      <th>1</th>\n",
       "      <td>0</td>\n",
       "      <td>4</td>\n",
       "      <td>2</td>\n",
       "      <td>2</td>\n",
       "      <td>2</td>\n",
       "      <td>3</td>\n",
       "      <td>0</td>\n",
       "      <td>3</td>\n",
       "      <td>3</td>\n",
       "      <td>2</td>\n",
       "      <td>...</td>\n",
       "      <td>0</td>\n",
       "      <td>0</td>\n",
       "      <td>1</td>\n",
       "      <td>1</td>\n",
       "      <td>0</td>\n",
       "      <td>2</td>\n",
       "      <td>3</td>\n",
       "      <td>1</td>\n",
       "      <td>1</td>\n",
       "      <td>75000</td>\n",
       "    </tr>\n",
       "    <tr>\n",
       "      <th>2</th>\n",
       "      <td>1</td>\n",
       "      <td>4</td>\n",
       "      <td>1</td>\n",
       "      <td>2</td>\n",
       "      <td>2</td>\n",
       "      <td>2</td>\n",
       "      <td>1</td>\n",
       "      <td>3</td>\n",
       "      <td>4</td>\n",
       "      <td>2</td>\n",
       "      <td>...</td>\n",
       "      <td>1</td>\n",
       "      <td>0</td>\n",
       "      <td>0</td>\n",
       "      <td>1</td>\n",
       "      <td>0</td>\n",
       "      <td>2</td>\n",
       "      <td>3</td>\n",
       "      <td>1</td>\n",
       "      <td>5</td>\n",
       "      <td>31500</td>\n",
       "    </tr>\n",
       "    <tr>\n",
       "      <th>3</th>\n",
       "      <td>1</td>\n",
       "      <td>4</td>\n",
       "      <td>3</td>\n",
       "      <td>2</td>\n",
       "      <td>1</td>\n",
       "      <td>2</td>\n",
       "      <td>2</td>\n",
       "      <td>2</td>\n",
       "      <td>4</td>\n",
       "      <td>2</td>\n",
       "      <td>...</td>\n",
       "      <td>1</td>\n",
       "      <td>0</td>\n",
       "      <td>1</td>\n",
       "      <td>1</td>\n",
       "      <td>0</td>\n",
       "      <td>2</td>\n",
       "      <td>3</td>\n",
       "      <td>1</td>\n",
       "      <td>0</td>\n",
       "      <td>62500</td>\n",
       "    </tr>\n",
       "    <tr>\n",
       "      <th>4</th>\n",
       "      <td>1</td>\n",
       "      <td>4</td>\n",
       "      <td>0</td>\n",
       "      <td>2</td>\n",
       "      <td>2</td>\n",
       "      <td>2</td>\n",
       "      <td>0</td>\n",
       "      <td>2</td>\n",
       "      <td>4</td>\n",
       "      <td>2</td>\n",
       "      <td>...</td>\n",
       "      <td>0</td>\n",
       "      <td>1</td>\n",
       "      <td>0</td>\n",
       "      <td>1</td>\n",
       "      <td>0</td>\n",
       "      <td>1</td>\n",
       "      <td>1</td>\n",
       "      <td>1</td>\n",
       "      <td>3</td>\n",
       "      <td>44000</td>\n",
       "    </tr>\n",
       "    <tr>\n",
       "      <th>...</th>\n",
       "      <td>...</td>\n",
       "      <td>...</td>\n",
       "      <td>...</td>\n",
       "      <td>...</td>\n",
       "      <td>...</td>\n",
       "      <td>...</td>\n",
       "      <td>...</td>\n",
       "      <td>...</td>\n",
       "      <td>...</td>\n",
       "      <td>...</td>\n",
       "      <td>...</td>\n",
       "      <td>...</td>\n",
       "      <td>...</td>\n",
       "      <td>...</td>\n",
       "      <td>...</td>\n",
       "      <td>...</td>\n",
       "      <td>...</td>\n",
       "      <td>...</td>\n",
       "      <td>...</td>\n",
       "      <td>...</td>\n",
       "      <td>...</td>\n",
       "    </tr>\n",
       "    <tr>\n",
       "      <th>236</th>\n",
       "      <td>0</td>\n",
       "      <td>2</td>\n",
       "      <td>1</td>\n",
       "      <td>1</td>\n",
       "      <td>2</td>\n",
       "      <td>2</td>\n",
       "      <td>1</td>\n",
       "      <td>1</td>\n",
       "      <td>2</td>\n",
       "      <td>1</td>\n",
       "      <td>...</td>\n",
       "      <td>0</td>\n",
       "      <td>1</td>\n",
       "      <td>1</td>\n",
       "      <td>1</td>\n",
       "      <td>0</td>\n",
       "      <td>2</td>\n",
       "      <td>3</td>\n",
       "      <td>0</td>\n",
       "      <td>5</td>\n",
       "      <td>63000</td>\n",
       "    </tr>\n",
       "    <tr>\n",
       "      <th>237</th>\n",
       "      <td>1</td>\n",
       "      <td>1</td>\n",
       "      <td>0</td>\n",
       "      <td>3</td>\n",
       "      <td>2</td>\n",
       "      <td>3</td>\n",
       "      <td>3</td>\n",
       "      <td>0</td>\n",
       "      <td>2</td>\n",
       "      <td>1</td>\n",
       "      <td>...</td>\n",
       "      <td>1</td>\n",
       "      <td>0</td>\n",
       "      <td>1</td>\n",
       "      <td>0</td>\n",
       "      <td>0</td>\n",
       "      <td>2</td>\n",
       "      <td>3</td>\n",
       "      <td>0</td>\n",
       "      <td>5</td>\n",
       "      <td>25000</td>\n",
       "    </tr>\n",
       "    <tr>\n",
       "      <th>238</th>\n",
       "      <td>1</td>\n",
       "      <td>4</td>\n",
       "      <td>0</td>\n",
       "      <td>2</td>\n",
       "      <td>1</td>\n",
       "      <td>3</td>\n",
       "      <td>0</td>\n",
       "      <td>1</td>\n",
       "      <td>3</td>\n",
       "      <td>2</td>\n",
       "      <td>...</td>\n",
       "      <td>1</td>\n",
       "      <td>0</td>\n",
       "      <td>1</td>\n",
       "      <td>1</td>\n",
       "      <td>0</td>\n",
       "      <td>2</td>\n",
       "      <td>3</td>\n",
       "      <td>1</td>\n",
       "      <td>5</td>\n",
       "      <td>31500</td>\n",
       "    </tr>\n",
       "    <tr>\n",
       "      <th>239</th>\n",
       "      <td>1</td>\n",
       "      <td>4</td>\n",
       "      <td>3</td>\n",
       "      <td>2</td>\n",
       "      <td>1</td>\n",
       "      <td>3</td>\n",
       "      <td>2</td>\n",
       "      <td>1</td>\n",
       "      <td>2</td>\n",
       "      <td>2</td>\n",
       "      <td>...</td>\n",
       "      <td>1</td>\n",
       "      <td>0</td>\n",
       "      <td>1</td>\n",
       "      <td>1</td>\n",
       "      <td>0</td>\n",
       "      <td>2</td>\n",
       "      <td>3</td>\n",
       "      <td>1</td>\n",
       "      <td>3</td>\n",
       "      <td>62500</td>\n",
       "    </tr>\n",
       "    <tr>\n",
       "      <th>240</th>\n",
       "      <td>0</td>\n",
       "      <td>2</td>\n",
       "      <td>0</td>\n",
       "      <td>2</td>\n",
       "      <td>3</td>\n",
       "      <td>2</td>\n",
       "      <td>1</td>\n",
       "      <td>2</td>\n",
       "      <td>2</td>\n",
       "      <td>1</td>\n",
       "      <td>...</td>\n",
       "      <td>1</td>\n",
       "      <td>0</td>\n",
       "      <td>1</td>\n",
       "      <td>1</td>\n",
       "      <td>0</td>\n",
       "      <td>2</td>\n",
       "      <td>3</td>\n",
       "      <td>1</td>\n",
       "      <td>5</td>\n",
       "      <td>22500</td>\n",
       "    </tr>\n",
       "  </tbody>\n",
       "</table>\n",
       "<p>241 rows × 27 columns</p>\n",
       "</div>"
      ],
      "text/plain": [
       "     FINDJOB  YEARSERV  RANK  MILTOCIV  CIVADJ  CIVADJISSc  CIVADJISSe  \\\n",
       "0          1         4     0         2       3           3           0   \n",
       "1          0         4     2         2       2           3           0   \n",
       "2          1         4     1         2       2           2           1   \n",
       "3          1         4     3         2       1           2           2   \n",
       "4          1         4     0         2       2           2           0   \n",
       "..       ...       ...   ...       ...     ...         ...         ...   \n",
       "236        0         2     1         1       2           2           1   \n",
       "237        1         1     0         3       2           3           3   \n",
       "238        1         4     0         2       1           3           0   \n",
       "239        1         4     3         2       1           3           2   \n",
       "240        0         2     0         2       3           2           1   \n",
       "\n",
       "     MILJOBSKILLS  MILHELPJOB  F_AGECAT  ...  LOOKJOB_Yes(right away)  \\\n",
       "0               2           4         3  ...                        1   \n",
       "1               3           3         2  ...                        0   \n",
       "2               3           4         2  ...                        1   \n",
       "3               2           4         2  ...                        1   \n",
       "4               2           4         2  ...                        0   \n",
       "..            ...         ...       ...  ...                      ...   \n",
       "236             1           2         1  ...                        0   \n",
       "237             0           2         1  ...                        1   \n",
       "238             1           3         2  ...                        1   \n",
       "239             1           2         2  ...                        1   \n",
       "240             2           2         1  ...                        1   \n",
       "\n",
       "     SCHOOL_Yes  TRAUMA1_Yes  F_SEX_Male  F_HISP_Yes  INJURED  F_RACETHN  \\\n",
       "0             0            0           1           0        2          3   \n",
       "1             0            1           1           0        2          3   \n",
       "2             0            0           1           0        2          3   \n",
       "3             0            1           1           0        2          3   \n",
       "4             1            0           1           0        1          1   \n",
       "..          ...          ...         ...         ...      ...        ...   \n",
       "236           1            1           1           0        2          3   \n",
       "237           0            1           0           0        2          3   \n",
       "238           0            1           1           0        2          3   \n",
       "239           0            1           1           0        2          3   \n",
       "240           0            1           1           0        2          3   \n",
       "\n",
       "     F_MARITAL  Branch  p_income  \n",
       "0            1       4     31500  \n",
       "1            1       1     75000  \n",
       "2            1       5     31500  \n",
       "3            1       0     62500  \n",
       "4            1       3     44000  \n",
       "..         ...     ...       ...  \n",
       "236          0       5     63000  \n",
       "237          0       5     25000  \n",
       "238          1       5     31500  \n",
       "239          1       3     62500  \n",
       "240          1       5     22500  \n",
       "\n",
       "[241 rows x 27 columns]"
      ]
     },
     "execution_count": 3,
     "metadata": {},
     "output_type": "execute_result"
    }
   ],
   "source": [
    "df"
   ]
  },
  {
   "cell_type": "code",
   "execution_count": 4,
   "metadata": {},
   "outputs": [
    {
     "data": {
      "text/plain": [
       "27"
      ]
     },
     "execution_count": 4,
     "metadata": {},
     "output_type": "execute_result"
    }
   ],
   "source": [
    "len(df.columns)"
   ]
  },
  {
   "cell_type": "code",
   "execution_count": 5,
   "metadata": {},
   "outputs": [],
   "source": [
    "# Split data into X and y\n",
    "X = df.drop('FINDJOB',axis=1)\n",
    "y = df['FINDJOB']"
   ]
  },
  {
   "cell_type": "markdown",
   "metadata": {},
   "source": [
    "## Train | Test Split "
   ]
  },
  {
   "cell_type": "code",
   "execution_count": 6,
   "metadata": {},
   "outputs": [
    {
     "data": {
      "text/plain": [
       "241"
      ]
     },
     "execution_count": 6,
     "metadata": {},
     "output_type": "execute_result"
    }
   ],
   "source": [
    "len(df)"
   ]
  },
  {
   "cell_type": "code",
   "execution_count": 7,
   "metadata": {},
   "outputs": [],
   "source": [
    "# Import train_test_split\n",
    "from sklearn.model_selection import train_test_split"
   ]
  },
  {
   "cell_type": "code",
   "execution_count": 8,
   "metadata": {},
   "outputs": [],
   "source": [
    "# help(train_test_split)\n",
    "# Split the training data and other(validation + test data)\n",
    "X_train, X_test, y_train, y_test = train_test_split(X, y, test_size=0.3, random_state=101)"
   ]
  },
  {
   "cell_type": "code",
   "execution_count": 9,
   "metadata": {},
   "outputs": [
    {
     "data": {
      "text/html": [
       "<div>\n",
       "<style scoped>\n",
       "    .dataframe tbody tr th:only-of-type {\n",
       "        vertical-align: middle;\n",
       "    }\n",
       "\n",
       "    .dataframe tbody tr th {\n",
       "        vertical-align: top;\n",
       "    }\n",
       "\n",
       "    .dataframe thead th {\n",
       "        text-align: right;\n",
       "    }\n",
       "</style>\n",
       "<table border=\"1\" class=\"dataframe\">\n",
       "  <thead>\n",
       "    <tr style=\"text-align: right;\">\n",
       "      <th></th>\n",
       "      <th>YEARSERV</th>\n",
       "      <th>RANK</th>\n",
       "      <th>MILTOCIV</th>\n",
       "      <th>CIVADJ</th>\n",
       "      <th>CIVADJISSc</th>\n",
       "      <th>CIVADJISSe</th>\n",
       "      <th>MILJOBSKILLS</th>\n",
       "      <th>MILHELPJOB</th>\n",
       "      <th>F_AGECAT</th>\n",
       "      <th>F_EDUCCAT2</th>\n",
       "      <th>...</th>\n",
       "      <th>LOOKJOB_Yes(right away)</th>\n",
       "      <th>SCHOOL_Yes</th>\n",
       "      <th>TRAUMA1_Yes</th>\n",
       "      <th>F_SEX_Male</th>\n",
       "      <th>F_HISP_Yes</th>\n",
       "      <th>INJURED</th>\n",
       "      <th>F_RACETHN</th>\n",
       "      <th>F_MARITAL</th>\n",
       "      <th>Branch</th>\n",
       "      <th>p_income</th>\n",
       "    </tr>\n",
       "  </thead>\n",
       "  <tbody>\n",
       "    <tr>\n",
       "      <th>169</th>\n",
       "      <td>2</td>\n",
       "      <td>0</td>\n",
       "      <td>2</td>\n",
       "      <td>1</td>\n",
       "      <td>2</td>\n",
       "      <td>3</td>\n",
       "      <td>3</td>\n",
       "      <td>4</td>\n",
       "      <td>1</td>\n",
       "      <td>1</td>\n",
       "      <td>...</td>\n",
       "      <td>1</td>\n",
       "      <td>0</td>\n",
       "      <td>0</td>\n",
       "      <td>1</td>\n",
       "      <td>0</td>\n",
       "      <td>1</td>\n",
       "      <td>3</td>\n",
       "      <td>0</td>\n",
       "      <td>1</td>\n",
       "      <td>63000</td>\n",
       "    </tr>\n",
       "    <tr>\n",
       "      <th>141</th>\n",
       "      <td>4</td>\n",
       "      <td>1</td>\n",
       "      <td>2</td>\n",
       "      <td>3</td>\n",
       "      <td>2</td>\n",
       "      <td>0</td>\n",
       "      <td>1</td>\n",
       "      <td>2</td>\n",
       "      <td>3</td>\n",
       "      <td>1</td>\n",
       "      <td>...</td>\n",
       "      <td>1</td>\n",
       "      <td>1</td>\n",
       "      <td>0</td>\n",
       "      <td>1</td>\n",
       "      <td>0</td>\n",
       "      <td>2</td>\n",
       "      <td>3</td>\n",
       "      <td>1</td>\n",
       "      <td>0</td>\n",
       "      <td>44000</td>\n",
       "    </tr>\n",
       "    <tr>\n",
       "      <th>237</th>\n",
       "      <td>1</td>\n",
       "      <td>0</td>\n",
       "      <td>3</td>\n",
       "      <td>2</td>\n",
       "      <td>3</td>\n",
       "      <td>3</td>\n",
       "      <td>0</td>\n",
       "      <td>2</td>\n",
       "      <td>1</td>\n",
       "      <td>0</td>\n",
       "      <td>...</td>\n",
       "      <td>1</td>\n",
       "      <td>0</td>\n",
       "      <td>1</td>\n",
       "      <td>0</td>\n",
       "      <td>0</td>\n",
       "      <td>2</td>\n",
       "      <td>3</td>\n",
       "      <td>0</td>\n",
       "      <td>5</td>\n",
       "      <td>25000</td>\n",
       "    </tr>\n",
       "    <tr>\n",
       "      <th>16</th>\n",
       "      <td>2</td>\n",
       "      <td>1</td>\n",
       "      <td>1</td>\n",
       "      <td>1</td>\n",
       "      <td>1</td>\n",
       "      <td>3</td>\n",
       "      <td>1</td>\n",
       "      <td>0</td>\n",
       "      <td>1</td>\n",
       "      <td>0</td>\n",
       "      <td>...</td>\n",
       "      <td>1</td>\n",
       "      <td>0</td>\n",
       "      <td>0</td>\n",
       "      <td>1</td>\n",
       "      <td>1</td>\n",
       "      <td>2</td>\n",
       "      <td>0</td>\n",
       "      <td>0</td>\n",
       "      <td>1</td>\n",
       "      <td>63000</td>\n",
       "    </tr>\n",
       "    <tr>\n",
       "      <th>176</th>\n",
       "      <td>2</td>\n",
       "      <td>3</td>\n",
       "      <td>1</td>\n",
       "      <td>1</td>\n",
       "      <td>2</td>\n",
       "      <td>2</td>\n",
       "      <td>3</td>\n",
       "      <td>3</td>\n",
       "      <td>3</td>\n",
       "      <td>4</td>\n",
       "      <td>...</td>\n",
       "      <td>0</td>\n",
       "      <td>1</td>\n",
       "      <td>1</td>\n",
       "      <td>1</td>\n",
       "      <td>0</td>\n",
       "      <td>2</td>\n",
       "      <td>3</td>\n",
       "      <td>1</td>\n",
       "      <td>1</td>\n",
       "      <td>31500</td>\n",
       "    </tr>\n",
       "    <tr>\n",
       "      <th>...</th>\n",
       "      <td>...</td>\n",
       "      <td>...</td>\n",
       "      <td>...</td>\n",
       "      <td>...</td>\n",
       "      <td>...</td>\n",
       "      <td>...</td>\n",
       "      <td>...</td>\n",
       "      <td>...</td>\n",
       "      <td>...</td>\n",
       "      <td>...</td>\n",
       "      <td>...</td>\n",
       "      <td>...</td>\n",
       "      <td>...</td>\n",
       "      <td>...</td>\n",
       "      <td>...</td>\n",
       "      <td>...</td>\n",
       "      <td>...</td>\n",
       "      <td>...</td>\n",
       "      <td>...</td>\n",
       "      <td>...</td>\n",
       "      <td>...</td>\n",
       "    </tr>\n",
       "    <tr>\n",
       "      <th>63</th>\n",
       "      <td>4</td>\n",
       "      <td>2</td>\n",
       "      <td>2</td>\n",
       "      <td>2</td>\n",
       "      <td>3</td>\n",
       "      <td>1</td>\n",
       "      <td>2</td>\n",
       "      <td>3</td>\n",
       "      <td>2</td>\n",
       "      <td>2</td>\n",
       "      <td>...</td>\n",
       "      <td>1</td>\n",
       "      <td>1</td>\n",
       "      <td>0</td>\n",
       "      <td>1</td>\n",
       "      <td>0</td>\n",
       "      <td>2</td>\n",
       "      <td>3</td>\n",
       "      <td>1</td>\n",
       "      <td>4</td>\n",
       "      <td>75000</td>\n",
       "    </tr>\n",
       "    <tr>\n",
       "      <th>70</th>\n",
       "      <td>2</td>\n",
       "      <td>1</td>\n",
       "      <td>1</td>\n",
       "      <td>2</td>\n",
       "      <td>2</td>\n",
       "      <td>2</td>\n",
       "      <td>2</td>\n",
       "      <td>4</td>\n",
       "      <td>1</td>\n",
       "      <td>4</td>\n",
       "      <td>...</td>\n",
       "      <td>0</td>\n",
       "      <td>1</td>\n",
       "      <td>0</td>\n",
       "      <td>1</td>\n",
       "      <td>0</td>\n",
       "      <td>2</td>\n",
       "      <td>3</td>\n",
       "      <td>1</td>\n",
       "      <td>3</td>\n",
       "      <td>75000</td>\n",
       "    </tr>\n",
       "    <tr>\n",
       "      <th>81</th>\n",
       "      <td>0</td>\n",
       "      <td>0</td>\n",
       "      <td>1</td>\n",
       "      <td>0</td>\n",
       "      <td>0</td>\n",
       "      <td>3</td>\n",
       "      <td>3</td>\n",
       "      <td>0</td>\n",
       "      <td>1</td>\n",
       "      <td>0</td>\n",
       "      <td>...</td>\n",
       "      <td>1</td>\n",
       "      <td>0</td>\n",
       "      <td>1</td>\n",
       "      <td>1</td>\n",
       "      <td>0</td>\n",
       "      <td>1</td>\n",
       "      <td>3</td>\n",
       "      <td>0</td>\n",
       "      <td>5</td>\n",
       "      <td>10000</td>\n",
       "    </tr>\n",
       "    <tr>\n",
       "      <th>11</th>\n",
       "      <td>4</td>\n",
       "      <td>3</td>\n",
       "      <td>2</td>\n",
       "      <td>3</td>\n",
       "      <td>3</td>\n",
       "      <td>0</td>\n",
       "      <td>3</td>\n",
       "      <td>4</td>\n",
       "      <td>3</td>\n",
       "      <td>4</td>\n",
       "      <td>...</td>\n",
       "      <td>0</td>\n",
       "      <td>0</td>\n",
       "      <td>0</td>\n",
       "      <td>1</td>\n",
       "      <td>0</td>\n",
       "      <td>2</td>\n",
       "      <td>3</td>\n",
       "      <td>1</td>\n",
       "      <td>0</td>\n",
       "      <td>62500</td>\n",
       "    </tr>\n",
       "    <tr>\n",
       "      <th>95</th>\n",
       "      <td>4</td>\n",
       "      <td>3</td>\n",
       "      <td>3</td>\n",
       "      <td>1</td>\n",
       "      <td>2</td>\n",
       "      <td>1</td>\n",
       "      <td>3</td>\n",
       "      <td>4</td>\n",
       "      <td>1</td>\n",
       "      <td>3</td>\n",
       "      <td>...</td>\n",
       "      <td>1</td>\n",
       "      <td>0</td>\n",
       "      <td>1</td>\n",
       "      <td>1</td>\n",
       "      <td>0</td>\n",
       "      <td>2</td>\n",
       "      <td>3</td>\n",
       "      <td>0</td>\n",
       "      <td>5</td>\n",
       "      <td>88000</td>\n",
       "    </tr>\n",
       "  </tbody>\n",
       "</table>\n",
       "<p>168 rows × 26 columns</p>\n",
       "</div>"
      ],
      "text/plain": [
       "     YEARSERV  RANK  MILTOCIV  CIVADJ  CIVADJISSc  CIVADJISSe  MILJOBSKILLS  \\\n",
       "169         2     0         2       1           2           3             3   \n",
       "141         4     1         2       3           2           0             1   \n",
       "237         1     0         3       2           3           3             0   \n",
       "16          2     1         1       1           1           3             1   \n",
       "176         2     3         1       1           2           2             3   \n",
       "..        ...   ...       ...     ...         ...         ...           ...   \n",
       "63          4     2         2       2           3           1             2   \n",
       "70          2     1         1       2           2           2             2   \n",
       "81          0     0         1       0           0           3             3   \n",
       "11          4     3         2       3           3           0             3   \n",
       "95          4     3         3       1           2           1             3   \n",
       "\n",
       "     MILHELPJOB  F_AGECAT  F_EDUCCAT2  ...  LOOKJOB_Yes(right away)  \\\n",
       "169           4         1           1  ...                        1   \n",
       "141           2         3           1  ...                        1   \n",
       "237           2         1           0  ...                        1   \n",
       "16            0         1           0  ...                        1   \n",
       "176           3         3           4  ...                        0   \n",
       "..          ...       ...         ...  ...                      ...   \n",
       "63            3         2           2  ...                        1   \n",
       "70            4         1           4  ...                        0   \n",
       "81            0         1           0  ...                        1   \n",
       "11            4         3           4  ...                        0   \n",
       "95            4         1           3  ...                        1   \n",
       "\n",
       "     SCHOOL_Yes  TRAUMA1_Yes  F_SEX_Male  F_HISP_Yes  INJURED  F_RACETHN  \\\n",
       "169           0            0           1           0        1          3   \n",
       "141           1            0           1           0        2          3   \n",
       "237           0            1           0           0        2          3   \n",
       "16            0            0           1           1        2          0   \n",
       "176           1            1           1           0        2          3   \n",
       "..          ...          ...         ...         ...      ...        ...   \n",
       "63            1            0           1           0        2          3   \n",
       "70            1            0           1           0        2          3   \n",
       "81            0            1           1           0        1          3   \n",
       "11            0            0           1           0        2          3   \n",
       "95            0            1           1           0        2          3   \n",
       "\n",
       "     F_MARITAL  Branch  p_income  \n",
       "169          0       1     63000  \n",
       "141          1       0     44000  \n",
       "237          0       5     25000  \n",
       "16           0       1     63000  \n",
       "176          1       1     31500  \n",
       "..         ...     ...       ...  \n",
       "63           1       4     75000  \n",
       "70           1       3     75000  \n",
       "81           0       5     10000  \n",
       "11           1       0     62500  \n",
       "95           0       5     88000  \n",
       "\n",
       "[168 rows x 26 columns]"
      ]
     },
     "execution_count": 9,
     "metadata": {},
     "output_type": "execute_result"
    }
   ],
   "source": [
    "# 168 rows\n",
    "X_train"
   ]
  },
  {
   "cell_type": "code",
   "execution_count": 10,
   "metadata": {},
   "outputs": [
    {
     "name": "stdout",
     "output_type": "stream",
     "text": [
      "Total X: 241 rows\n",
      "X_train: 168 rows\n",
      "X_test: 73 rows\n"
     ]
    }
   ],
   "source": [
    "# Check the number of rows \n",
    "print(f'Total X: {len(df)} rows')\n",
    "print(f'X_train: {len(X_train)} rows')\n",
    "print(f'X_test: {len(X_test)} rows')"
   ]
  },
  {
   "cell_type": "markdown",
   "metadata": {},
   "source": [
    "## Feature Selection\n",
    "**Test data should not be used in this step**\n",
    "\n",
    "\n",
    "Keep in mind that feature selection should be conducted after train test split. The reason is that we should select features based on the information from the training set, not from the whole data set. In this way, the information from the test set would not be seen while conducting feature selection and training the model. In other words, performing feature selection after train test split prevents unnecessary data leakage."
   ]
  },
  {
   "cell_type": "code",
   "execution_count": 11,
   "metadata": {},
   "outputs": [
    {
     "data": {
      "text/plain": [
       "27"
      ]
     },
     "execution_count": 11,
     "metadata": {},
     "output_type": "execute_result"
    }
   ],
   "source": [
    "# We have 27 features currently\n",
    "len(df.columns)"
   ]
  },
  {
   "cell_type": "markdown",
   "metadata": {},
   "source": [
    "### Create a function shows cross validation scores"
   ]
  },
  {
   "cell_type": "code",
   "execution_count": 12,
   "metadata": {},
   "outputs": [],
   "source": [
    "from sklearn.model_selection import KFold\n",
    "from sklearn.model_selection import cross_val_score"
   ]
  },
  {
   "cell_type": "code",
   "execution_count": 13,
   "metadata": {},
   "outputs": [],
   "source": [
    "# Create a function to show cross validation score on accuracy,precision,recall, and f1 \n",
    "def cv_score(model,X_train,y_train,score_type):\n",
    "    kfold = KFold(10)\n",
    "    results=cross_val_score(model,X_train,y_train,cv=kfold,scoring=score_type)\n",
    "    print(f'Results :{results}')\n",
    "    print(f'cv_score: {np.mean(results)}')"
   ]
  },
  {
   "cell_type": "markdown",
   "metadata": {},
   "source": [
    "### Base Model - Logistic with all features \n",
    "cross_val_score :https://scikit-learn.org/stable/modules/generated/sklearn.model_selection.cross_val_score.html\n",
    "\n",
    "F1 score is the harmonic mean of precision and recall. \n",
    "https://arize.com/blog-course/f1-score/#:~:text=F1%20score%20is%20a%20useful,like%20fraud%20prevention%20and%20other\n",
    "\n",
    "Logistic regression :\n",
    "https://medium.com/@madhuri15/ml-algorithm-logistic-regression-for-a-base-model-35ca5f5029e4\n",
    "\n",
    "_ Base model F1 score : "
   ]
  },
  {
   "cell_type": "code",
   "execution_count": 14,
   "metadata": {},
   "outputs": [],
   "source": [
    "from sklearn.linear_model import LogisticRegression"
   ]
  },
  {
   "cell_type": "code",
   "execution_count": 15,
   "metadata": {},
   "outputs": [],
   "source": [
    "base_model = LogisticRegression(random_state=101)"
   ]
  },
  {
   "cell_type": "code",
   "execution_count": 16,
   "metadata": {},
   "outputs": [
    {
     "name": "stdout",
     "output_type": "stream",
     "text": [
      "Results :[0.5        0.69565217 0.57142857 0.86666667 0.78571429 0.86666667\n",
      " 0.69565217 0.78571429 0.66666667 0.72      ]\n",
      "cv_score: 0.715416149068323\n"
     ]
    }
   ],
   "source": [
    "# The mean cross validation score is 0.72\n",
    "# This is just the base model(unscaled data)\n",
    "cv_score(base_model,X_train,y_train,'f1')"
   ]
  },
  {
   "cell_type": "markdown",
   "metadata": {},
   "source": [
    "### Chi-Squared Test and Selected Features\n",
    "For categorical input and categorical output\n",
    "\n",
    "How to perform feature seleciton with categorical data : \n",
    "https://machinelearningmastery.com/feature-selection-with-categorical-data/\n",
    "\n",
    "SelectKBest :\n",
    "https://scikit-learn.org/dev/modules/generated/sklearn.feature_selection.SelectKBest.html\n",
    "\n",
    "Introduction of Chi-Squared Test :\n",
    "https://machinelearningmastery.com/feature-selection-with-categorical-data/"
   ]
  },
  {
   "cell_type": "code",
   "execution_count": 17,
   "metadata": {},
   "outputs": [],
   "source": [
    "from sklearn.feature_selection import SelectKBest\n",
    "from sklearn.feature_selection import chi2"
   ]
  },
  {
   "cell_type": "code",
   "execution_count": 18,
   "metadata": {},
   "outputs": [],
   "source": [
    "# k = Number of top features to select, default=10\n",
    "Chi = SelectKBest(score_func=chi2,k='all')\n",
    "Chi_train = Chi.fit(X_train,y_train)"
   ]
  },
  {
   "cell_type": "code",
   "execution_count": 19,
   "metadata": {},
   "outputs": [
    {
     "data": {
      "text/html": [
       "<div>\n",
       "<style scoped>\n",
       "    .dataframe tbody tr th:only-of-type {\n",
       "        vertical-align: middle;\n",
       "    }\n",
       "\n",
       "    .dataframe tbody tr th {\n",
       "        vertical-align: top;\n",
       "    }\n",
       "\n",
       "    .dataframe thead th {\n",
       "        text-align: right;\n",
       "    }\n",
       "</style>\n",
       "<table border=\"1\" class=\"dataframe\">\n",
       "  <thead>\n",
       "    <tr style=\"text-align: right;\">\n",
       "      <th></th>\n",
       "      <th>Features</th>\n",
       "      <th>Chi-Score</th>\n",
       "      <th>p_values</th>\n",
       "    </tr>\n",
       "  </thead>\n",
       "  <tbody>\n",
       "    <tr>\n",
       "      <th>2</th>\n",
       "      <td>MILTOCIV</td>\n",
       "      <td>8.56</td>\n",
       "      <td>0.00</td>\n",
       "    </tr>\n",
       "    <tr>\n",
       "      <th>3</th>\n",
       "      <td>CIVADJ</td>\n",
       "      <td>6.04</td>\n",
       "      <td>0.01</td>\n",
       "    </tr>\n",
       "    <tr>\n",
       "      <th>7</th>\n",
       "      <td>MILHELPJOB</td>\n",
       "      <td>5.91</td>\n",
       "      <td>0.02</td>\n",
       "    </tr>\n",
       "    <tr>\n",
       "      <th>15</th>\n",
       "      <td>CIVADJPROBb_Yes</td>\n",
       "      <td>5.74</td>\n",
       "      <td>0.02</td>\n",
       "    </tr>\n",
       "    <tr>\n",
       "      <th>14</th>\n",
       "      <td>CIVADJPROBa_Yes</td>\n",
       "      <td>5.48</td>\n",
       "      <td>0.02</td>\n",
       "    </tr>\n",
       "    <tr>\n",
       "      <th>0</th>\n",
       "      <td>YEARSERV</td>\n",
       "      <td>3.82</td>\n",
       "      <td>0.05</td>\n",
       "    </tr>\n",
       "    <tr>\n",
       "      <th>20</th>\n",
       "      <td>F_HISP_Yes</td>\n",
       "      <td>3.18</td>\n",
       "      <td>0.07</td>\n",
       "    </tr>\n",
       "    <tr>\n",
       "      <th>6</th>\n",
       "      <td>MILJOBSKILLS</td>\n",
       "      <td>2.85</td>\n",
       "      <td>0.09</td>\n",
       "    </tr>\n",
       "    <tr>\n",
       "      <th>5</th>\n",
       "      <td>CIVADJISSe</td>\n",
       "      <td>2.43</td>\n",
       "      <td>0.12</td>\n",
       "    </tr>\n",
       "    <tr>\n",
       "      <th>24</th>\n",
       "      <td>Branch</td>\n",
       "      <td>1.64</td>\n",
       "      <td>0.20</td>\n",
       "    </tr>\n",
       "    <tr>\n",
       "      <th>4</th>\n",
       "      <td>CIVADJISSc</td>\n",
       "      <td>1.35</td>\n",
       "      <td>0.25</td>\n",
       "    </tr>\n",
       "    <tr>\n",
       "      <th>1</th>\n",
       "      <td>RANK</td>\n",
       "      <td>0.89</td>\n",
       "      <td>0.35</td>\n",
       "    </tr>\n",
       "    <tr>\n",
       "      <th>18</th>\n",
       "      <td>TRAUMA1_Yes</td>\n",
       "      <td>0.79</td>\n",
       "      <td>0.37</td>\n",
       "    </tr>\n",
       "    <tr>\n",
       "      <th>17</th>\n",
       "      <td>SCHOOL_Yes</td>\n",
       "      <td>0.69</td>\n",
       "      <td>0.41</td>\n",
       "    </tr>\n",
       "    <tr>\n",
       "      <th>22</th>\n",
       "      <td>F_RACETHN</td>\n",
       "      <td>0.62</td>\n",
       "      <td>0.43</td>\n",
       "    </tr>\n",
       "    <tr>\n",
       "      <th>12</th>\n",
       "      <td>COMBAT_Yes</td>\n",
       "      <td>0.57</td>\n",
       "      <td>0.45</td>\n",
       "    </tr>\n",
       "    <tr>\n",
       "      <th>8</th>\n",
       "      <td>F_AGECAT</td>\n",
       "      <td>0.52</td>\n",
       "      <td>0.47</td>\n",
       "    </tr>\n",
       "    <tr>\n",
       "      <th>23</th>\n",
       "      <td>F_MARITAL</td>\n",
       "      <td>0.12</td>\n",
       "      <td>0.73</td>\n",
       "    </tr>\n",
       "    <tr>\n",
       "      <th>21</th>\n",
       "      <td>INJURED</td>\n",
       "      <td>0.11</td>\n",
       "      <td>0.74</td>\n",
       "    </tr>\n",
       "    <tr>\n",
       "      <th>19</th>\n",
       "      <td>F_SEX_Male</td>\n",
       "      <td>0.10</td>\n",
       "      <td>0.75</td>\n",
       "    </tr>\n",
       "    <tr>\n",
       "      <th>10</th>\n",
       "      <td>MARRACTIV_Not Married</td>\n",
       "      <td>0.09</td>\n",
       "      <td>0.77</td>\n",
       "    </tr>\n",
       "    <tr>\n",
       "      <th>16</th>\n",
       "      <td>LOOKJOB_Yes(right away)</td>\n",
       "      <td>0.07</td>\n",
       "      <td>0.80</td>\n",
       "    </tr>\n",
       "    <tr>\n",
       "      <th>11</th>\n",
       "      <td>PARACTIV_Yes</td>\n",
       "      <td>0.05</td>\n",
       "      <td>0.82</td>\n",
       "    </tr>\n",
       "    <tr>\n",
       "      <th>13</th>\n",
       "      <td>VABENEFITS_Yes</td>\n",
       "      <td>0.05</td>\n",
       "      <td>0.83</td>\n",
       "    </tr>\n",
       "    <tr>\n",
       "      <th>9</th>\n",
       "      <td>F_EDUCCAT2</td>\n",
       "      <td>0.01</td>\n",
       "      <td>0.93</td>\n",
       "    </tr>\n",
       "  </tbody>\n",
       "</table>\n",
       "</div>"
      ],
      "text/plain": [
       "                   Features  Chi-Score  p_values\n",
       "2                  MILTOCIV       8.56      0.00\n",
       "3                    CIVADJ       6.04      0.01\n",
       "7                MILHELPJOB       5.91      0.02\n",
       "15          CIVADJPROBb_Yes       5.74      0.02\n",
       "14          CIVADJPROBa_Yes       5.48      0.02\n",
       "0                  YEARSERV       3.82      0.05\n",
       "20               F_HISP_Yes       3.18      0.07\n",
       "6              MILJOBSKILLS       2.85      0.09\n",
       "5                CIVADJISSe       2.43      0.12\n",
       "24                   Branch       1.64      0.20\n",
       "4                CIVADJISSc       1.35      0.25\n",
       "1                      RANK       0.89      0.35\n",
       "18              TRAUMA1_Yes       0.79      0.37\n",
       "17               SCHOOL_Yes       0.69      0.41\n",
       "22                F_RACETHN       0.62      0.43\n",
       "12               COMBAT_Yes       0.57      0.45\n",
       "8                  F_AGECAT       0.52      0.47\n",
       "23                F_MARITAL       0.12      0.73\n",
       "21                  INJURED       0.11      0.74\n",
       "19               F_SEX_Male       0.10      0.75\n",
       "10    MARRACTIV_Not Married       0.09      0.77\n",
       "16  LOOKJOB_Yes(right away)       0.07      0.80\n",
       "11             PARACTIV_Yes       0.05      0.82\n",
       "13           VABENEFITS_Yes       0.05      0.83\n",
       "9                F_EDUCCAT2       0.01      0.93"
      ]
     },
     "execution_count": 19,
     "metadata": {},
     "output_type": "execute_result"
    }
   ],
   "source": [
    "# Visualize Chi-Score and p values from all features\n",
    "dfscores = pd.DataFrame(Chi_train.scores_)\n",
    "dfcolumns = pd.DataFrame(X.columns)\n",
    "dfpvalues=pd.DataFrame(Chi_train.pvalues_)\n",
    "\n",
    "# Combine three dataset into 1\n",
    "featureScores = pd.concat([dfcolumns,dfscores,dfpvalues],axis=1)\n",
    "\n",
    "# Rename the columns\n",
    "featureScores.columns = ['Features','Chi-Score','p_values']\n",
    "featureScores = featureScores.sort_values(by='Chi-Score',ascending=False)\n",
    "\n",
    "# Round up scores\n",
    "featureScores = np.round(featureScores,2)\n",
    "\n",
    "# Drop p_income - index 25(numeric should not use Chi-Squared test)\n",
    "# Should select features with P_values <= 0.05 (top 6 features)\n",
    "featureScores = featureScores.drop(25,axis=0)\n",
    "\n",
    "featureScores"
   ]
  },
  {
   "cell_type": "code",
   "execution_count": 20,
   "metadata": {},
   "outputs": [
    {
     "data": {
      "image/png": "[encoded data removed]",
      "text/plain": [
       "<Figure size 1000x400 with 1 Axes>"
      ]
     },
     "metadata": {
      "needs_background": "light"
     },
     "output_type": "display_data"
    }
   ],
   "source": [
    "plt.figure(figsize=(10,4),dpi=100)\n",
    "# Rotate x labels\n",
    "plt.xticks(rotation=90)\n",
    "\n",
    "sns.barplot(x= 'Features',y='Chi-Score',data=featureScores);"
   ]
  },
  {
   "cell_type": "code",
   "execution_count": 21,
   "metadata": {},
   "outputs": [
    {
     "name": "stdout",
     "output_type": "stream",
     "text": [
      "           Features  Chi-Score  p_values\n",
      "2          MILTOCIV       8.56      0.00\n",
      "3            CIVADJ       6.04      0.01\n",
      "7        MILHELPJOB       5.91      0.02\n",
      "15  CIVADJPROBb_Yes       5.74      0.02\n",
      "14  CIVADJPROBa_Yes       5.48      0.02\n",
      "0          YEARSERV       3.82      0.05\n"
     ]
    }
   ],
   "source": [
    "# Visualize top 6 features\n",
    "print(featureScores.nlargest(6,'Chi-Score'))"
   ]
  },
  {
   "cell_type": "code",
   "execution_count": 22,
   "metadata": {},
   "outputs": [
    {
     "data": {
      "text/plain": [
       "['MILTOCIV',\n",
       " 'CIVADJ',\n",
       " 'MILHELPJOB',\n",
       " 'CIVADJPROBb_Yes',\n",
       " 'CIVADJPROBa_Yes',\n",
       " 'YEARSERV']"
      ]
     },
     "execution_count": 22,
     "metadata": {},
     "output_type": "execute_result"
    }
   ],
   "source": [
    "# Extract only features name and make it a list of top 6 features\n",
    "Chi_features = list(featureScores.nlargest(6,'Chi-Score')['Features'])\n",
    "Chi_features"
   ]
  },
  {
   "cell_type": "code",
   "execution_count": 23,
   "metadata": {},
   "outputs": [
    {
     "data": {
      "text/html": [
       "<div>\n",
       "<style scoped>\n",
       "    .dataframe tbody tr th:only-of-type {\n",
       "        vertical-align: middle;\n",
       "    }\n",
       "\n",
       "    .dataframe tbody tr th {\n",
       "        vertical-align: top;\n",
       "    }\n",
       "\n",
       "    .dataframe thead th {\n",
       "        text-align: right;\n",
       "    }\n",
       "</style>\n",
       "<table border=\"1\" class=\"dataframe\">\n",
       "  <thead>\n",
       "    <tr style=\"text-align: right;\">\n",
       "      <th></th>\n",
       "      <th>MILTOCIV</th>\n",
       "      <th>CIVADJ</th>\n",
       "      <th>MILHELPJOB</th>\n",
       "      <th>CIVADJPROBb_Yes</th>\n",
       "      <th>CIVADJPROBa_Yes</th>\n",
       "      <th>YEARSERV</th>\n",
       "    </tr>\n",
       "  </thead>\n",
       "  <tbody>\n",
       "    <tr>\n",
       "      <th>169</th>\n",
       "      <td>2</td>\n",
       "      <td>1</td>\n",
       "      <td>4</td>\n",
       "      <td>0</td>\n",
       "      <td>1</td>\n",
       "      <td>2</td>\n",
       "    </tr>\n",
       "    <tr>\n",
       "      <th>141</th>\n",
       "      <td>2</td>\n",
       "      <td>3</td>\n",
       "      <td>2</td>\n",
       "      <td>0</td>\n",
       "      <td>0</td>\n",
       "      <td>4</td>\n",
       "    </tr>\n",
       "    <tr>\n",
       "      <th>237</th>\n",
       "      <td>3</td>\n",
       "      <td>2</td>\n",
       "      <td>2</td>\n",
       "      <td>0</td>\n",
       "      <td>0</td>\n",
       "      <td>1</td>\n",
       "    </tr>\n",
       "    <tr>\n",
       "      <th>16</th>\n",
       "      <td>1</td>\n",
       "      <td>1</td>\n",
       "      <td>0</td>\n",
       "      <td>0</td>\n",
       "      <td>1</td>\n",
       "      <td>2</td>\n",
       "    </tr>\n",
       "    <tr>\n",
       "      <th>176</th>\n",
       "      <td>1</td>\n",
       "      <td>1</td>\n",
       "      <td>3</td>\n",
       "      <td>0</td>\n",
       "      <td>0</td>\n",
       "      <td>2</td>\n",
       "    </tr>\n",
       "    <tr>\n",
       "      <th>...</th>\n",
       "      <td>...</td>\n",
       "      <td>...</td>\n",
       "      <td>...</td>\n",
       "      <td>...</td>\n",
       "      <td>...</td>\n",
       "      <td>...</td>\n",
       "    </tr>\n",
       "    <tr>\n",
       "      <th>63</th>\n",
       "      <td>2</td>\n",
       "      <td>2</td>\n",
       "      <td>3</td>\n",
       "      <td>0</td>\n",
       "      <td>0</td>\n",
       "      <td>4</td>\n",
       "    </tr>\n",
       "    <tr>\n",
       "      <th>70</th>\n",
       "      <td>1</td>\n",
       "      <td>2</td>\n",
       "      <td>4</td>\n",
       "      <td>0</td>\n",
       "      <td>0</td>\n",
       "      <td>2</td>\n",
       "    </tr>\n",
       "    <tr>\n",
       "      <th>81</th>\n",
       "      <td>1</td>\n",
       "      <td>0</td>\n",
       "      <td>0</td>\n",
       "      <td>1</td>\n",
       "      <td>1</td>\n",
       "      <td>0</td>\n",
       "    </tr>\n",
       "    <tr>\n",
       "      <th>11</th>\n",
       "      <td>2</td>\n",
       "      <td>3</td>\n",
       "      <td>4</td>\n",
       "      <td>0</td>\n",
       "      <td>0</td>\n",
       "      <td>4</td>\n",
       "    </tr>\n",
       "    <tr>\n",
       "      <th>95</th>\n",
       "      <td>3</td>\n",
       "      <td>1</td>\n",
       "      <td>4</td>\n",
       "      <td>0</td>\n",
       "      <td>0</td>\n",
       "      <td>4</td>\n",
       "    </tr>\n",
       "  </tbody>\n",
       "</table>\n",
       "<p>168 rows × 6 columns</p>\n",
       "</div>"
      ],
      "text/plain": [
       "     MILTOCIV  CIVADJ  MILHELPJOB  CIVADJPROBb_Yes  CIVADJPROBa_Yes  YEARSERV\n",
       "169         2       1           4                0                1         2\n",
       "141         2       3           2                0                0         4\n",
       "237         3       2           2                0                0         1\n",
       "16          1       1           0                0                1         2\n",
       "176         1       1           3                0                0         2\n",
       "..        ...     ...         ...              ...              ...       ...\n",
       "63          2       2           3                0                0         4\n",
       "70          1       2           4                0                0         2\n",
       "81          1       0           0                1                1         0\n",
       "11          2       3           4                0                0         4\n",
       "95          3       1           4                0                0         4\n",
       "\n",
       "[168 rows x 6 columns]"
      ]
     },
     "execution_count": 23,
     "metadata": {},
     "output_type": "execute_result"
    }
   ],
   "source": [
    "Chi_X_train = X_train[Chi_features]\n",
    "Chi_X_train"
   ]
  },
  {
   "cell_type": "code",
   "execution_count": 24,
   "metadata": {},
   "outputs": [
    {
     "name": "stdout",
     "output_type": "stream",
     "text": [
      "Results :[0.52631579 0.70588235 0.7826087  0.8        0.91666667 0.72\n",
      " 0.8        0.63157895 0.75       0.8       ]\n",
      "cv_score: 0.7433052452102122\n"
     ]
    }
   ],
   "source": [
    "# The performance increased from 0.72 to 0.74\n",
    "cv_score(base_model,Chi_X_train,y_train,'f1')"
   ]
  },
  {
   "cell_type": "markdown",
   "metadata": {},
   "source": [
    "### Mutual Information Statistic and Selected Features\n",
    "https://machinelearningmastery.com/information-gain-and-mutual-information/\n",
    "\n",
    "sklearn.feature_selection.mutual_info_classif :\n",
    "https://scikit-learn.org/1.5/modules/generated/sklearn.feature_selection.mutual_info_classif.html"
   ]
  },
  {
   "cell_type": "code",
   "execution_count": 25,
   "metadata": {},
   "outputs": [],
   "source": [
    "from sklearn.feature_selection import mutual_info_classif"
   ]
  },
  {
   "cell_type": "code",
   "execution_count": 26,
   "metadata": {},
   "outputs": [],
   "source": [
    "mi_scores = mutual_info_classif(X_train,y_train,random_state=101)"
   ]
  },
  {
   "cell_type": "code",
   "execution_count": 27,
   "metadata": {},
   "outputs": [
    {
     "data": {
      "text/plain": [
       "array([0.0435347 , 0.        , 0.05490776, 0.05696621, 0.06960943,\n",
       "       0.        , 0.        , 0.06165003, 0.00727083, 0.05002557,\n",
       "       0.        , 0.        , 0.        , 0.        , 0.        ,\n",
       "       0.03027348, 0.        , 0.10056082, 0.        , 0.        ,\n",
       "       0.0425157 , 0.        , 0.00023953, 0.        , 0.01713637,\n",
       "       0.03479933])"
      ]
     },
     "execution_count": 27,
     "metadata": {},
     "output_type": "execute_result"
    }
   ],
   "source": [
    "mi_scores"
   ]
  },
  {
   "cell_type": "code",
   "execution_count": 28,
   "metadata": {},
   "outputs": [
    {
     "data": {
      "text/html": [
       "<div>\n",
       "<style scoped>\n",
       "    .dataframe tbody tr th:only-of-type {\n",
       "        vertical-align: middle;\n",
       "    }\n",
       "\n",
       "    .dataframe tbody tr th {\n",
       "        vertical-align: top;\n",
       "    }\n",
       "\n",
       "    .dataframe thead th {\n",
       "        text-align: right;\n",
       "    }\n",
       "</style>\n",
       "<table border=\"1\" class=\"dataframe\">\n",
       "  <thead>\n",
       "    <tr style=\"text-align: right;\">\n",
       "      <th></th>\n",
       "      <th>Features</th>\n",
       "      <th>mi-Score</th>\n",
       "    </tr>\n",
       "  </thead>\n",
       "  <tbody>\n",
       "    <tr>\n",
       "      <th>17</th>\n",
       "      <td>SCHOOL_Yes</td>\n",
       "      <td>0.10</td>\n",
       "    </tr>\n",
       "    <tr>\n",
       "      <th>4</th>\n",
       "      <td>CIVADJISSc</td>\n",
       "      <td>0.07</td>\n",
       "    </tr>\n",
       "    <tr>\n",
       "      <th>7</th>\n",
       "      <td>MILHELPJOB</td>\n",
       "      <td>0.06</td>\n",
       "    </tr>\n",
       "    <tr>\n",
       "      <th>3</th>\n",
       "      <td>CIVADJ</td>\n",
       "      <td>0.06</td>\n",
       "    </tr>\n",
       "    <tr>\n",
       "      <th>2</th>\n",
       "      <td>MILTOCIV</td>\n",
       "      <td>0.05</td>\n",
       "    </tr>\n",
       "    <tr>\n",
       "      <th>9</th>\n",
       "      <td>F_EDUCCAT2</td>\n",
       "      <td>0.05</td>\n",
       "    </tr>\n",
       "    <tr>\n",
       "      <th>0</th>\n",
       "      <td>YEARSERV</td>\n",
       "      <td>0.04</td>\n",
       "    </tr>\n",
       "    <tr>\n",
       "      <th>20</th>\n",
       "      <td>F_HISP_Yes</td>\n",
       "      <td>0.04</td>\n",
       "    </tr>\n",
       "    <tr>\n",
       "      <th>15</th>\n",
       "      <td>CIVADJPROBb_Yes</td>\n",
       "      <td>0.03</td>\n",
       "    </tr>\n",
       "    <tr>\n",
       "      <th>24</th>\n",
       "      <td>Branch</td>\n",
       "      <td>0.02</td>\n",
       "    </tr>\n",
       "    <tr>\n",
       "      <th>8</th>\n",
       "      <td>F_AGECAT</td>\n",
       "      <td>0.01</td>\n",
       "    </tr>\n",
       "    <tr>\n",
       "      <th>22</th>\n",
       "      <td>F_RACETHN</td>\n",
       "      <td>0.00</td>\n",
       "    </tr>\n",
       "    <tr>\n",
       "      <th>18</th>\n",
       "      <td>TRAUMA1_Yes</td>\n",
       "      <td>0.00</td>\n",
       "    </tr>\n",
       "    <tr>\n",
       "      <th>23</th>\n",
       "      <td>F_MARITAL</td>\n",
       "      <td>0.00</td>\n",
       "    </tr>\n",
       "    <tr>\n",
       "      <th>21</th>\n",
       "      <td>INJURED</td>\n",
       "      <td>0.00</td>\n",
       "    </tr>\n",
       "    <tr>\n",
       "      <th>5</th>\n",
       "      <td>CIVADJISSe</td>\n",
       "      <td>0.00</td>\n",
       "    </tr>\n",
       "    <tr>\n",
       "      <th>19</th>\n",
       "      <td>F_SEX_Male</td>\n",
       "      <td>0.00</td>\n",
       "    </tr>\n",
       "    <tr>\n",
       "      <th>6</th>\n",
       "      <td>MILJOBSKILLS</td>\n",
       "      <td>0.00</td>\n",
       "    </tr>\n",
       "    <tr>\n",
       "      <th>10</th>\n",
       "      <td>MARRACTIV_Not Married</td>\n",
       "      <td>0.00</td>\n",
       "    </tr>\n",
       "    <tr>\n",
       "      <th>16</th>\n",
       "      <td>LOOKJOB_Yes(right away)</td>\n",
       "      <td>0.00</td>\n",
       "    </tr>\n",
       "    <tr>\n",
       "      <th>14</th>\n",
       "      <td>CIVADJPROBa_Yes</td>\n",
       "      <td>0.00</td>\n",
       "    </tr>\n",
       "    <tr>\n",
       "      <th>1</th>\n",
       "      <td>RANK</td>\n",
       "      <td>0.00</td>\n",
       "    </tr>\n",
       "    <tr>\n",
       "      <th>12</th>\n",
       "      <td>COMBAT_Yes</td>\n",
       "      <td>0.00</td>\n",
       "    </tr>\n",
       "    <tr>\n",
       "      <th>11</th>\n",
       "      <td>PARACTIV_Yes</td>\n",
       "      <td>0.00</td>\n",
       "    </tr>\n",
       "    <tr>\n",
       "      <th>13</th>\n",
       "      <td>VABENEFITS_Yes</td>\n",
       "      <td>0.00</td>\n",
       "    </tr>\n",
       "  </tbody>\n",
       "</table>\n",
       "</div>"
      ],
      "text/plain": [
       "                   Features  mi-Score\n",
       "17               SCHOOL_Yes      0.10\n",
       "4                CIVADJISSc      0.07\n",
       "7                MILHELPJOB      0.06\n",
       "3                    CIVADJ      0.06\n",
       "2                  MILTOCIV      0.05\n",
       "9                F_EDUCCAT2      0.05\n",
       "0                  YEARSERV      0.04\n",
       "20               F_HISP_Yes      0.04\n",
       "15          CIVADJPROBb_Yes      0.03\n",
       "24                   Branch      0.02\n",
       "8                  F_AGECAT      0.01\n",
       "22                F_RACETHN      0.00\n",
       "18              TRAUMA1_Yes      0.00\n",
       "23                F_MARITAL      0.00\n",
       "21                  INJURED      0.00\n",
       "5                CIVADJISSe      0.00\n",
       "19               F_SEX_Male      0.00\n",
       "6              MILJOBSKILLS      0.00\n",
       "10    MARRACTIV_Not Married      0.00\n",
       "16  LOOKJOB_Yes(right away)      0.00\n",
       "14          CIVADJPROBa_Yes      0.00\n",
       "1                      RANK      0.00\n",
       "12               COMBAT_Yes      0.00\n",
       "11             PARACTIV_Yes      0.00\n",
       "13           VABENEFITS_Yes      0.00"
      ]
     },
     "execution_count": 28,
     "metadata": {},
     "output_type": "execute_result"
    }
   ],
   "source": [
    "# In overall, all features have low mi-score\n",
    "# Visualize mi-Score from all features\n",
    "dfscores = pd.DataFrame(mi_scores)\n",
    "dfcolumns = pd.DataFrame(X.columns)\n",
    "\n",
    "# Combine two dataset into 1\n",
    "featureScores = pd.concat([dfcolumns,dfscores],axis=1)\n",
    "\n",
    "# Rename the columns\n",
    "featureScores.columns = ['Features','mi-Score']\n",
    "featureScores = featureScores.sort_values(by='mi-Score',ascending=False)\n",
    "\n",
    "# Round up scores\n",
    "featureScores = np.round(featureScores,2)\n",
    "\n",
    "# Drop p_income - index 25(numeric should not use Chi-Squared test)\n",
    "featureScores = featureScores.drop(25,axis=0)\n",
    "\n",
    "featureScores"
   ]
  },
  {
   "cell_type": "code",
   "execution_count": 29,
   "metadata": {},
   "outputs": [
    {
     "data": {
      "image/png": "[encoded data removed]",
      "text/plain": [
       "<Figure size 1000x400 with 1 Axes>"
      ]
     },
     "metadata": {
      "needs_background": "light"
     },
     "output_type": "display_data"
    }
   ],
   "source": [
    "plt.figure(figsize=(10,4),dpi=100)\n",
    "# Rotate x labels\n",
    "plt.xticks(rotation=90)\n",
    "\n",
    "sns.barplot(x= 'Features',y='mi-Score',data=featureScores);"
   ]
  },
  {
   "cell_type": "code",
   "execution_count": 30,
   "metadata": {},
   "outputs": [
    {
     "data": {
      "text/plain": [
       "['SCHOOL_Yes',\n",
       " 'CIVADJISSc',\n",
       " 'MILHELPJOB',\n",
       " 'CIVADJ',\n",
       " 'MILTOCIV',\n",
       " 'F_EDUCCAT2',\n",
       " 'YEARSERV',\n",
       " 'F_HISP_Yes']"
      ]
     },
     "execution_count": 30,
     "metadata": {},
     "output_type": "execute_result"
    }
   ],
   "source": [
    "# Extract only features name and make it a list of top 8 features\n",
    "# Features selected by MI are different from those from Chi-squared test\n",
    "mi_features = list(featureScores.nlargest(8,'mi-Score')['Features'])\n",
    "mi_features"
   ]
  },
  {
   "cell_type": "code",
   "execution_count": 31,
   "metadata": {},
   "outputs": [
    {
     "data": {
      "text/html": [
       "<div>\n",
       "<style scoped>\n",
       "    .dataframe tbody tr th:only-of-type {\n",
       "        vertical-align: middle;\n",
       "    }\n",
       "\n",
       "    .dataframe tbody tr th {\n",
       "        vertical-align: top;\n",
       "    }\n",
       "\n",
       "    .dataframe thead th {\n",
       "        text-align: right;\n",
       "    }\n",
       "</style>\n",
       "<table border=\"1\" class=\"dataframe\">\n",
       "  <thead>\n",
       "    <tr style=\"text-align: right;\">\n",
       "      <th></th>\n",
       "      <th>SCHOOL_Yes</th>\n",
       "      <th>CIVADJISSc</th>\n",
       "      <th>MILHELPJOB</th>\n",
       "      <th>CIVADJ</th>\n",
       "      <th>MILTOCIV</th>\n",
       "      <th>F_EDUCCAT2</th>\n",
       "      <th>YEARSERV</th>\n",
       "      <th>F_HISP_Yes</th>\n",
       "    </tr>\n",
       "  </thead>\n",
       "  <tbody>\n",
       "    <tr>\n",
       "      <th>169</th>\n",
       "      <td>0</td>\n",
       "      <td>2</td>\n",
       "      <td>4</td>\n",
       "      <td>1</td>\n",
       "      <td>2</td>\n",
       "      <td>1</td>\n",
       "      <td>2</td>\n",
       "      <td>0</td>\n",
       "    </tr>\n",
       "    <tr>\n",
       "      <th>141</th>\n",
       "      <td>1</td>\n",
       "      <td>2</td>\n",
       "      <td>2</td>\n",
       "      <td>3</td>\n",
       "      <td>2</td>\n",
       "      <td>1</td>\n",
       "      <td>4</td>\n",
       "      <td>0</td>\n",
       "    </tr>\n",
       "    <tr>\n",
       "      <th>237</th>\n",
       "      <td>0</td>\n",
       "      <td>3</td>\n",
       "      <td>2</td>\n",
       "      <td>2</td>\n",
       "      <td>3</td>\n",
       "      <td>0</td>\n",
       "      <td>1</td>\n",
       "      <td>0</td>\n",
       "    </tr>\n",
       "    <tr>\n",
       "      <th>16</th>\n",
       "      <td>0</td>\n",
       "      <td>1</td>\n",
       "      <td>0</td>\n",
       "      <td>1</td>\n",
       "      <td>1</td>\n",
       "      <td>0</td>\n",
       "      <td>2</td>\n",
       "      <td>1</td>\n",
       "    </tr>\n",
       "    <tr>\n",
       "      <th>176</th>\n",
       "      <td>1</td>\n",
       "      <td>2</td>\n",
       "      <td>3</td>\n",
       "      <td>1</td>\n",
       "      <td>1</td>\n",
       "      <td>4</td>\n",
       "      <td>2</td>\n",
       "      <td>0</td>\n",
       "    </tr>\n",
       "    <tr>\n",
       "      <th>...</th>\n",
       "      <td>...</td>\n",
       "      <td>...</td>\n",
       "      <td>...</td>\n",
       "      <td>...</td>\n",
       "      <td>...</td>\n",
       "      <td>...</td>\n",
       "      <td>...</td>\n",
       "      <td>...</td>\n",
       "    </tr>\n",
       "    <tr>\n",
       "      <th>63</th>\n",
       "      <td>1</td>\n",
       "      <td>3</td>\n",
       "      <td>3</td>\n",
       "      <td>2</td>\n",
       "      <td>2</td>\n",
       "      <td>2</td>\n",
       "      <td>4</td>\n",
       "      <td>0</td>\n",
       "    </tr>\n",
       "    <tr>\n",
       "      <th>70</th>\n",
       "      <td>1</td>\n",
       "      <td>2</td>\n",
       "      <td>4</td>\n",
       "      <td>2</td>\n",
       "      <td>1</td>\n",
       "      <td>4</td>\n",
       "      <td>2</td>\n",
       "      <td>0</td>\n",
       "    </tr>\n",
       "    <tr>\n",
       "      <th>81</th>\n",
       "      <td>0</td>\n",
       "      <td>0</td>\n",
       "      <td>0</td>\n",
       "      <td>0</td>\n",
       "      <td>1</td>\n",
       "      <td>0</td>\n",
       "      <td>0</td>\n",
       "      <td>0</td>\n",
       "    </tr>\n",
       "    <tr>\n",
       "      <th>11</th>\n",
       "      <td>0</td>\n",
       "      <td>3</td>\n",
       "      <td>4</td>\n",
       "      <td>3</td>\n",
       "      <td>2</td>\n",
       "      <td>4</td>\n",
       "      <td>4</td>\n",
       "      <td>0</td>\n",
       "    </tr>\n",
       "    <tr>\n",
       "      <th>95</th>\n",
       "      <td>0</td>\n",
       "      <td>2</td>\n",
       "      <td>4</td>\n",
       "      <td>1</td>\n",
       "      <td>3</td>\n",
       "      <td>3</td>\n",
       "      <td>4</td>\n",
       "      <td>0</td>\n",
       "    </tr>\n",
       "  </tbody>\n",
       "</table>\n",
       "<p>168 rows × 8 columns</p>\n",
       "</div>"
      ],
      "text/plain": [
       "     SCHOOL_Yes  CIVADJISSc  MILHELPJOB  CIVADJ  MILTOCIV  F_EDUCCAT2  \\\n",
       "169           0           2           4       1         2           1   \n",
       "141           1           2           2       3         2           1   \n",
       "237           0           3           2       2         3           0   \n",
       "16            0           1           0       1         1           0   \n",
       "176           1           2           3       1         1           4   \n",
       "..          ...         ...         ...     ...       ...         ...   \n",
       "63            1           3           3       2         2           2   \n",
       "70            1           2           4       2         1           4   \n",
       "81            0           0           0       0         1           0   \n",
       "11            0           3           4       3         2           4   \n",
       "95            0           2           4       1         3           3   \n",
       "\n",
       "     YEARSERV  F_HISP_Yes  \n",
       "169         2           0  \n",
       "141         4           0  \n",
       "237         1           0  \n",
       "16          2           1  \n",
       "176         2           0  \n",
       "..        ...         ...  \n",
       "63          4           0  \n",
       "70          2           0  \n",
       "81          0           0  \n",
       "11          4           0  \n",
       "95          4           0  \n",
       "\n",
       "[168 rows x 8 columns]"
      ]
     },
     "execution_count": 31,
     "metadata": {},
     "output_type": "execute_result"
    }
   ],
   "source": [
    "mi_X_train = X_train[mi_features]\n",
    "mi_X_train"
   ]
  },
  {
   "cell_type": "code",
   "execution_count": 32,
   "metadata": {},
   "outputs": [
    {
     "name": "stdout",
     "output_type": "stream",
     "text": [
      "Results :[0.52631579 0.66666667 0.66666667 0.76923077 0.86956522 0.8\n",
      " 0.7826087  0.7        0.7826087  0.77777778]\n",
      "cv_score: 0.7341440278511216\n"
     ]
    }
   ],
   "source": [
    "# Chi-squared test has higher cv score (should select Chi model)\n",
    "# The performance increased from 0.72(base model) to 0.73\n",
    "cv_score(base_model,mi_X_train,y_train,'f1')"
   ]
  },
  {
   "cell_type": "markdown",
   "metadata": {},
   "source": [
    "## Imbalanced Data Check\n",
    "if we need to do SMOTE : \n",
    "- install code : sudo pip install imbalanced-learn"
   ]
  },
  {
   "cell_type": "code",
   "execution_count": 33,
   "metadata": {},
   "outputs": [
    {
     "data": {
      "text/plain": [
       "169    0\n",
       "141    0\n",
       "237    1\n",
       "16     1\n",
       "176    0\n",
       "      ..\n",
       "63     1\n",
       "70     1\n",
       "81     0\n",
       "11     1\n",
       "95     1\n",
       "Name: FINDJOB, Length: 168, dtype: int64"
      ]
     },
     "execution_count": 33,
     "metadata": {},
     "output_type": "execute_result"
    }
   ],
   "source": [
    "y_train"
   ]
  },
  {
   "cell_type": "code",
   "execution_count": 34,
   "metadata": {},
   "outputs": [
    {
     "data": {
      "text/plain": [
       "1    100\n",
       "0     68\n",
       "Name: FINDJOB, dtype: int64"
      ]
     },
     "execution_count": 34,
     "metadata": {},
     "output_type": "execute_result"
    }
   ],
   "source": [
    "# 1 represent findjob within 6 months\n",
    "# Only check the training data\n",
    "y_train.value_counts()"
   ]
  },
  {
   "cell_type": "code",
   "execution_count": 35,
   "metadata": {},
   "outputs": [
    {
     "data": {
      "text/plain": [
       "1    59.52381\n",
       "0    40.47619\n",
       "Name: FINDJOB, dtype: float64"
      ]
     },
     "execution_count": 35,
     "metadata": {},
     "output_type": "execute_result"
    }
   ],
   "source": [
    "# 1 represent findjob within 6 months\n",
    "# Percentage : <6 months 60% , >6 month 40%\n",
    "# The label is slightly imbalance\n",
    "# This is often not a concern, so we don't resample the data\n",
    "(y_train.value_counts())/len(y_train)*100"
   ]
  },
  {
   "cell_type": "code",
   "execution_count": 36,
   "metadata": {},
   "outputs": [],
   "source": [
    "# These are codes for oversampling (not necessary in this data)\n",
    "# Remember sampling should be applied after feature selection\n",
    "# from imblearn.over_sampling import SMOTE\n",
    "# from collections import Counter"
   ]
  },
  {
   "cell_type": "code",
   "execution_count": 37,
   "metadata": {},
   "outputs": [],
   "source": [
    "#oversample = SMOTE()\n",
    "#X,y = oversample.fit_resample(X,y)"
   ]
  },
  {
   "cell_type": "code",
   "execution_count": 38,
   "metadata": {},
   "outputs": [],
   "source": [
    "#counter = Counter(y)\n",
    "#for k,v in counter.items():\n",
    "    #dist = v/ len(y)*100\n",
    "    #print(f\"Class = {k},n={v}({dist}%)\")"
   ]
  },
  {
   "cell_type": "markdown",
   "metadata": {},
   "source": [
    "## Scaling with MinMaxScaler"
   ]
  },
  {
   "cell_type": "code",
   "execution_count": 39,
   "metadata": {},
   "outputs": [
    {
     "data": {
      "text/plain": [
       "Index(['MILTOCIV', 'CIVADJ', 'MILHELPJOB', 'CIVADJPROBb_Yes',\n",
       "       'CIVADJPROBa_Yes', 'YEARSERV'],\n",
       "      dtype='object')"
      ]
     },
     "execution_count": 39,
     "metadata": {},
     "output_type": "execute_result"
    }
   ],
   "source": [
    "features = Chi_X_train.columns\n",
    "features"
   ]
  },
  {
   "cell_type": "code",
   "execution_count": 40,
   "metadata": {},
   "outputs": [],
   "source": [
    "X_test = X_test[Chi_X_train.columns]"
   ]
  },
  {
   "cell_type": "code",
   "execution_count": 41,
   "metadata": {},
   "outputs": [],
   "source": [
    "from sklearn.preprocessing import MinMaxScaler"
   ]
  },
  {
   "cell_type": "code",
   "execution_count": 42,
   "metadata": {},
   "outputs": [],
   "source": [
    "# Scale the data\n",
    "scaler = MinMaxScaler()\n",
    "# Only fit training data\n",
    "scaler.fit(Chi_X_train)\n",
    "# Scle to all X data\n",
    "X_train = scaler.transform(Chi_X_train)\n",
    "X_test = scaler.transform(X_test)"
   ]
  },
  {
   "cell_type": "code",
   "execution_count": 43,
   "metadata": {},
   "outputs": [
    {
     "data": {
      "text/plain": [
       "array([[0.66666667, 0.33333333, 1.        , 0.        , 1.        ,\n",
       "        0.5       ],\n",
       "       [0.66666667, 1.        , 0.5       , 0.        , 0.        ,\n",
       "        1.        ],\n",
       "       [1.        , 0.66666667, 0.5       , 0.        , 0.        ,\n",
       "        0.25      ],\n",
       "       ...,\n",
       "       [0.33333333, 0.        , 0.        , 1.        , 1.        ,\n",
       "        0.        ],\n",
       "       [0.66666667, 1.        , 1.        , 0.        , 0.        ,\n",
       "        1.        ],\n",
       "       [1.        , 0.33333333, 1.        , 0.        , 0.        ,\n",
       "        1.        ]])"
      ]
     },
     "execution_count": 43,
     "metadata": {},
     "output_type": "execute_result"
    }
   ],
   "source": [
    "X_train"
   ]
  },
  {
   "cell_type": "code",
   "execution_count": 44,
   "metadata": {},
   "outputs": [
    {
     "data": {
      "text/plain": [
       "(168, 6)"
      ]
     },
     "execution_count": 44,
     "metadata": {},
     "output_type": "execute_result"
    }
   ],
   "source": [
    "# 6 features, 168 rows\n",
    "X_train.shape"
   ]
  },
  {
   "cell_type": "code",
   "execution_count": 45,
   "metadata": {},
   "outputs": [
    {
     "data": {
      "text/plain": [
       "(73, 6)"
      ]
     },
     "execution_count": 45,
     "metadata": {},
     "output_type": "execute_result"
    }
   ],
   "source": [
    "X_test.shape"
   ]
  },
  {
   "cell_type": "markdown",
   "metadata": {},
   "source": [
    "# Step 7 : Model Selection with K-Fold Cross-Validation\n",
    "\n",
    "1. Select the best basic model - Logistic Model\n",
    "2. Tuning the parameters\n",
    "3. Model evaluation on test data set"
   ]
  },
  {
   "cell_type": "code",
   "execution_count": 46,
   "metadata": {},
   "outputs": [],
   "source": [
    "from sklearn.model_selection import cross_val_score\n",
    "from sklearn.model_selection import KFold"
   ]
  },
  {
   "cell_type": "code",
   "execution_count": 47,
   "metadata": {},
   "outputs": [],
   "source": [
    "# Create a function to show cross validation score on accuracy\n",
    "def Accuracy_score(model,X_train,y_train):\n",
    "    kfold = KFold(10)\n",
    "    results=cross_val_score(model,X_train,y_train,cv=kfold)\n",
    "    print(f'Results :{results}')\n",
    "    print(f'cv_score: {np.mean(results)}')"
   ]
  },
  {
   "cell_type": "code",
   "execution_count": 48,
   "metadata": {},
   "outputs": [],
   "source": [
    "# Create a function to show cross validation score on accuracy\n",
    "def Precision_score(model,X_train,y_train):\n",
    "    kfold = KFold(10)\n",
    "    results=cross_val_score(model,X_train,y_train,cv=kfold,scoring='precision')\n",
    "    print(f'Results :{results}')\n",
    "    print(f'cv_score: {np.mean(results)}')"
   ]
  },
  {
   "cell_type": "code",
   "execution_count": 49,
   "metadata": {},
   "outputs": [],
   "source": [
    "# Create a function to show cross validation score on accuracy\n",
    "def Recall_score(model,X_train,y_train):\n",
    "    kfold = KFold(10)\n",
    "    results=cross_val_score(model,X_train,y_train,cv=kfold,scoring='recall')\n",
    "    print(f'Results :{results}')\n",
    "    print(f'cv_score: {np.mean(results)}')"
   ]
  },
  {
   "cell_type": "code",
   "execution_count": 50,
   "metadata": {},
   "outputs": [],
   "source": [
    "# Create a function to show cross validation score on f1\n",
    "def f1_score(model,X_train,y_train):\n",
    "    kfold = KFold(10)\n",
    "    results=cross_val_score(model,X_train,y_train,cv=kfold,scoring='f1')\n",
    "    print(f'Results :{results}')\n",
    "    print(f'cv_score: {np.mean(results)}')"
   ]
  },
  {
   "cell_type": "markdown",
   "metadata": {},
   "source": [
    "## Basic Models\n",
    "### Model 1 : Logistic Regression Model (the best performance)\n",
    "- Accuracy : 69%\n",
    "- Precision : 70%\n",
    "- Recall : 84%\n",
    "- F1 score: 75%"
   ]
  },
  {
   "cell_type": "code",
   "execution_count": 51,
   "metadata": {},
   "outputs": [],
   "source": [
    "from sklearn.linear_model import LogisticRegression"
   ]
  },
  {
   "cell_type": "code",
   "execution_count": 52,
   "metadata": {},
   "outputs": [],
   "source": [
    "log_model = LogisticRegression(solver='saga',multi_class ='ovr',max_iter=20000,random_state=101)"
   ]
  },
  {
   "cell_type": "code",
   "execution_count": 53,
   "metadata": {},
   "outputs": [
    {
     "name": "stdout",
     "output_type": "stream",
     "text": [
      "Results :[0.41176471 0.58823529 0.70588235 0.82352941 0.82352941 0.64705882\n",
      " 0.76470588 0.64705882 0.625      0.75      ]\n",
      "cv_score: 0.6786764705882353\n"
     ]
    }
   ],
   "source": [
    "# Mean accuracy score : 0.69\n",
    "Accuracy_score(log_model,X_train,y_train)"
   ]
  },
  {
   "cell_type": "code",
   "execution_count": 54,
   "metadata": {},
   "outputs": [
    {
     "name": "stdout",
     "output_type": "stream",
     "text": [
      "Results :[0.35714286 0.54545455 0.64285714 0.85714286 0.78571429 0.81818182\n",
      " 0.72727273 0.77777778 0.69230769 0.72727273]\n",
      "cv_score: 0.6931124431124431\n"
     ]
    }
   ],
   "source": [
    "# Mean precision score : 0.70\n",
    "Precision_score(log_model,X_train,y_train)"
   ]
  },
  {
   "cell_type": "code",
   "execution_count": 55,
   "metadata": {},
   "outputs": [
    {
     "name": "stdout",
     "output_type": "stream",
     "text": [
      "Results :[0.83333333 0.75       1.         0.92307692 1.         0.69230769\n",
      " 0.88888889 0.63636364 0.81818182 0.88888889]\n",
      "cv_score: 0.8431041181041181\n"
     ]
    }
   ],
   "source": [
    "# Mean recall score : 0.84\n",
    "Recall_score(log_model,X_train,y_train)"
   ]
  },
  {
   "cell_type": "code",
   "execution_count": 56,
   "metadata": {},
   "outputs": [
    {
     "name": "stdout",
     "output_type": "stream",
     "text": [
      "Results :[0.5        0.63157895 0.7826087  0.88888889 0.88       0.75\n",
      " 0.8        0.7        0.75       0.8       ]\n",
      "cv_score: 0.7483076531909483\n"
     ]
    }
   ],
   "source": [
    "# Mean f1 score : 0.75\n",
    "f1_score(log_model,X_train,y_train)"
   ]
  },
  {
   "cell_type": "code",
   "execution_count": 57,
   "metadata": {},
   "outputs": [],
   "source": [
    "lg_score = 0.75"
   ]
  },
  {
   "cell_type": "markdown",
   "metadata": {},
   "source": [
    "### Model 2 : K Nearest Neighbors \n",
    "- Accuracy : 63%\n",
    "- Precision : 68%\n",
    "- Recall : 73%\n",
    "- F1 score: 69%\n",
    "\n",
    "Require scaling of data because KNN uses the Euclidean distance btw two data points to find nearest neighbors. Euclidean distance is sensitive to magnitudes. The features with high magnitudes will weight more than features with low magnitudes. KNN also is not suitable for large dimensional data \n",
    "\n",
    "https://www.datacamp.com/community/tutorials/k-nearest-neighbor-classification-scikit-learn\n",
    "\n"
   ]
  },
  {
   "cell_type": "code",
   "execution_count": 58,
   "metadata": {},
   "outputs": [],
   "source": [
    "from sklearn.neighbors import KNeighborsClassifier"
   ]
  },
  {
   "cell_type": "code",
   "execution_count": 59,
   "metadata": {},
   "outputs": [],
   "source": [
    "# help(KNeighborsClassifier)"
   ]
  },
  {
   "cell_type": "code",
   "execution_count": 60,
   "metadata": {},
   "outputs": [],
   "source": [
    "knn_model = KNeighborsClassifier()"
   ]
  },
  {
   "cell_type": "code",
   "execution_count": 61,
   "metadata": {},
   "outputs": [
    {
     "name": "stdout",
     "output_type": "stream",
     "text": [
      "Results :[0.41176471 0.58823529 0.64705882 0.41176471 0.82352941 0.64705882\n",
      " 0.70588235 0.70588235 0.5        0.8125    ]\n",
      "cv_score: 0.6253676470588235\n"
     ]
    }
   ],
   "source": [
    "# Mean accuracy score : 0.63\n",
    "Accuracy_score(knn_model,X_train,y_train)"
   ]
  },
  {
   "cell_type": "code",
   "execution_count": 62,
   "metadata": {},
   "outputs": [
    {
     "name": "stdout",
     "output_type": "stream",
     "text": [
      "Results :[0.33333333 0.53846154 0.63636364 0.71428571 0.78571429 0.81818182\n",
      " 0.7        0.8        0.66666667 0.8       ]\n",
      "cv_score: 0.6793006993006994\n"
     ]
    }
   ],
   "source": [
    "# Mean precision score : 0.68\n",
    "Precision_score(knn_model,X_train,y_train)"
   ]
  },
  {
   "cell_type": "code",
   "execution_count": 63,
   "metadata": {},
   "outputs": [
    {
     "name": "stdout",
     "output_type": "stream",
     "text": [
      "Results :[0.66666667 0.875      0.77777778 0.38461538 1.         0.69230769\n",
      " 0.77777778 0.72727273 0.54545455 0.88888889]\n",
      "cv_score: 0.7335761460761461\n"
     ]
    }
   ],
   "source": [
    "# Mean recall score : 0.73\n",
    "Recall_score(knn_model,X_train,y_train)"
   ]
  },
  {
   "cell_type": "code",
   "execution_count": 64,
   "metadata": {},
   "outputs": [
    {
     "name": "stdout",
     "output_type": "stream",
     "text": [
      "Results :[0.44444444 0.66666667 0.7        0.5        0.88       0.75\n",
      " 0.73684211 0.76190476 0.6        0.84210526]\n",
      "cv_score: 0.6881963241436926\n"
     ]
    }
   ],
   "source": [
    "# Mean f1 score : 0.69\n",
    "f1_score(knn_model,X_train,y_train)"
   ]
  },
  {
   "cell_type": "code",
   "execution_count": 65,
   "metadata": {},
   "outputs": [],
   "source": [
    "knn_score = 0.69"
   ]
  },
  {
   "cell_type": "markdown",
   "metadata": {},
   "source": [
    "### Model 3 : Support Vector Machines \n",
    "- Accuracy : 68%\n",
    "- Precision : 71%\n",
    "- Recall : 80%\n",
    "- F1 score: 74%\n",
    "\n",
    "\n",
    "https://scikit-learn.org/stable/modules/generated/sklearn.svm.SVC.html"
   ]
  },
  {
   "cell_type": "code",
   "execution_count": 66,
   "metadata": {},
   "outputs": [],
   "source": [
    "# Support Vector Classifier\n",
    "from sklearn.svm import SVC"
   ]
  },
  {
   "cell_type": "code",
   "execution_count": 67,
   "metadata": {},
   "outputs": [],
   "source": [
    "svm_model = SVC(random_state=101)"
   ]
  },
  {
   "cell_type": "code",
   "execution_count": 68,
   "metadata": {},
   "outputs": [
    {
     "name": "stdout",
     "output_type": "stream",
     "text": [
      "Results :[0.47058824 0.64705882 0.76470588 0.64705882 0.88235294 0.58823529\n",
      " 0.70588235 0.70588235 0.625      0.75      ]\n",
      "cv_score: 0.6786764705882353\n"
     ]
    }
   ],
   "source": [
    "# Mean accuracy score : 0.68\n",
    "Accuracy_score(svm_model,X_train,y_train)"
   ]
  },
  {
   "cell_type": "code",
   "execution_count": 69,
   "metadata": {},
   "outputs": [
    {
     "name": "stdout",
     "output_type": "stream",
     "text": [
      "Results :[0.38461538 0.6        0.69230769 0.81818182 0.84615385 0.75\n",
      " 0.7        0.8        0.72727273 0.77777778]\n",
      "cv_score: 0.7096309246309247\n"
     ]
    }
   ],
   "source": [
    "# Mean precision score : 0.71\n",
    "Precision_score(svm_model,X_train,y_train)"
   ]
  },
  {
   "cell_type": "code",
   "execution_count": 70,
   "metadata": {},
   "outputs": [
    {
     "name": "stdout",
     "output_type": "stream",
     "text": [
      "Results :[0.83333333 0.75       1.         0.69230769 1.         0.69230769\n",
      " 0.77777778 0.72727273 0.72727273 0.77777778]\n",
      "cv_score: 0.7978049728049729\n"
     ]
    }
   ],
   "source": [
    "# Mean recall score : 0.8\n",
    "Recall_score(svm_model,X_train,y_train)"
   ]
  },
  {
   "cell_type": "code",
   "execution_count": 71,
   "metadata": {},
   "outputs": [
    {
     "name": "stdout",
     "output_type": "stream",
     "text": [
      "Results :[0.52631579 0.66666667 0.81818182 0.75       0.91666667 0.72\n",
      " 0.73684211 0.76190476 0.72727273 0.77777778]\n",
      "cv_score: 0.740162831320726\n"
     ]
    }
   ],
   "source": [
    "# Mean f1 : 0.74\n",
    "f1_score(svm_model,X_train,y_train)"
   ]
  },
  {
   "cell_type": "code",
   "execution_count": 72,
   "metadata": {},
   "outputs": [],
   "source": [
    "svm_score = 0.74"
   ]
  },
  {
   "cell_type": "markdown",
   "metadata": {},
   "source": [
    "### Model 4 : Decision Tree \n",
    "- Accuracy : 68\n",
    "- Precision : 69\n",
    "- Recall : 84\n",
    "- F1 score: 75"
   ]
  },
  {
   "cell_type": "code",
   "execution_count": 73,
   "metadata": {},
   "outputs": [
    {
     "name": "stdout",
     "output_type": "stream",
     "text": [
      "Results :[0.41176471 0.58823529 0.70588235 0.82352941 0.82352941 0.64705882\n",
      " 0.76470588 0.64705882 0.625      0.75      ]\n",
      "cv_score: 0.6786764705882353\n"
     ]
    }
   ],
   "source": [
    "# Mean accuracy score : 0.68\n",
    "Accuracy_score(base_model,X_train,y_train)"
   ]
  },
  {
   "cell_type": "code",
   "execution_count": 74,
   "metadata": {},
   "outputs": [
    {
     "name": "stdout",
     "output_type": "stream",
     "text": [
      "Results :[0.35714286 0.54545455 0.64285714 0.85714286 0.78571429 0.81818182\n",
      " 0.72727273 0.77777778 0.69230769 0.72727273]\n",
      "cv_score: 0.6931124431124431\n"
     ]
    }
   ],
   "source": [
    "# Mean precision score : 0.69\n",
    "Precision_score(base_model,X_train,y_train)"
   ]
  },
  {
   "cell_type": "code",
   "execution_count": 75,
   "metadata": {},
   "outputs": [
    {
     "name": "stdout",
     "output_type": "stream",
     "text": [
      "Results :[0.83333333 0.75       1.         0.92307692 1.         0.69230769\n",
      " 0.88888889 0.63636364 0.81818182 0.88888889]\n",
      "cv_score: 0.8431041181041181\n"
     ]
    }
   ],
   "source": [
    "# Mean recall score : 0.84\n",
    "Recall_score(base_model,X_train,y_train)"
   ]
  },
  {
   "cell_type": "code",
   "execution_count": 76,
   "metadata": {},
   "outputs": [
    {
     "name": "stdout",
     "output_type": "stream",
     "text": [
      "Results :[0.5        0.63157895 0.7826087  0.88888889 0.88       0.75\n",
      " 0.8        0.7        0.75       0.8       ]\n",
      "cv_score: 0.7483076531909483\n"
     ]
    }
   ],
   "source": [
    "# Mean f1 score : 0.75\n",
    "f1_score(base_model,X_train,y_train)"
   ]
  },
  {
   "cell_type": "code",
   "execution_count": 77,
   "metadata": {},
   "outputs": [],
   "source": [
    "tree_score = 0.75"
   ]
  },
  {
   "cell_type": "markdown",
   "metadata": {},
   "source": [
    "### Model 5 : Random Forest \n",
    "- Accuracy : 65%\n",
    "- Precision : 69%\n",
    "- Recall : 72%\n",
    "- F1 score: 69%"
   ]
  },
  {
   "cell_type": "code",
   "execution_count": 78,
   "metadata": {},
   "outputs": [],
   "source": [
    "from sklearn.ensemble import RandomForestClassifier"
   ]
  },
  {
   "cell_type": "code",
   "execution_count": 79,
   "metadata": {},
   "outputs": [],
   "source": [
    "# help(RandomForestClassifier)"
   ]
  },
  {
   "cell_type": "code",
   "execution_count": 80,
   "metadata": {},
   "outputs": [],
   "source": [
    "rf_model = RandomForestClassifier(random_state=101)"
   ]
  },
  {
   "cell_type": "code",
   "execution_count": 81,
   "metadata": {},
   "outputs": [
    {
     "name": "stdout",
     "output_type": "stream",
     "text": [
      "Results :[0.52941176 0.47058824 0.52941176 0.70588235 0.88235294 0.76470588\n",
      " 0.70588235 0.64705882 0.5        0.75      ]\n",
      "cv_score: 0.6485294117647059\n"
     ]
    }
   ],
   "source": [
    "# Mean accuracy score : 0.65\n",
    "Accuracy_score(rf_model,X_train,y_train)"
   ]
  },
  {
   "cell_type": "code",
   "execution_count": 82,
   "metadata": {},
   "outputs": [
    {
     "name": "stdout",
     "output_type": "stream",
     "text": [
      "Results :[0.41666667 0.4        0.53333333 0.9        0.90909091 0.90909091\n",
      " 0.7        0.77777778 0.66666667 0.72727273]\n",
      "cv_score: 0.693989898989899\n"
     ]
    }
   ],
   "source": [
    "# Mean precision score : 0.69\n",
    "Precision_score(rf_model,X_train,y_train)"
   ]
  },
  {
   "cell_type": "code",
   "execution_count": 83,
   "metadata": {},
   "outputs": [
    {
     "name": "stdout",
     "output_type": "stream",
     "text": [
      "Results :[0.83333333 0.25       0.88888889 0.69230769 0.90909091 0.76923077\n",
      " 0.77777778 0.63636364 0.54545455 0.88888889]\n",
      "cv_score: 0.7191336441336442\n"
     ]
    }
   ],
   "source": [
    "# Mean recall score : 0.72\n",
    "Recall_score(rf_model,X_train,y_train)"
   ]
  },
  {
   "cell_type": "code",
   "execution_count": 84,
   "metadata": {},
   "outputs": [
    {
     "name": "stdout",
     "output_type": "stream",
     "text": [
      "Results :[0.55555556 0.30769231 0.66666667 0.7826087  0.90909091 0.83333333\n",
      " 0.73684211 0.7        0.6        0.8       ]\n",
      "cv_score: 0.6891789573254103\n"
     ]
    }
   ],
   "source": [
    "# Mean f1 score : 0.69\n",
    "f1_score(rf_model,X_train,y_train)"
   ]
  },
  {
   "cell_type": "code",
   "execution_count": 85,
   "metadata": {},
   "outputs": [],
   "source": [
    "rf_score = 0.69"
   ]
  },
  {
   "cell_type": "markdown",
   "metadata": {},
   "source": [
    "### Model 6 : AdaBoost \n",
    "- Accuracy : 60%\n",
    "- Precision : 67%\n",
    "- Recall : 70%\n",
    "- F1 score: 67%"
   ]
  },
  {
   "cell_type": "code",
   "execution_count": 86,
   "metadata": {},
   "outputs": [],
   "source": [
    "from sklearn.ensemble import AdaBoostClassifier"
   ]
  },
  {
   "cell_type": "code",
   "execution_count": 87,
   "metadata": {},
   "outputs": [],
   "source": [
    "ab_model = AdaBoostClassifier(random_state=101)"
   ]
  },
  {
   "cell_type": "code",
   "execution_count": 88,
   "metadata": {},
   "outputs": [
    {
     "name": "stdout",
     "output_type": "stream",
     "text": [
      "Results :[0.29411765 0.41176471 0.52941176 0.70588235 0.82352941 0.58823529\n",
      " 0.58823529 0.58823529 0.6875     0.8125    ]\n",
      "cv_score: 0.6029411764705882\n"
     ]
    }
   ],
   "source": [
    "# Mean accuracy score : 0.6\n",
    "Accuracy_score(ab_model,X_train,y_train)"
   ]
  },
  {
   "cell_type": "code",
   "execution_count": 89,
   "metadata": {},
   "outputs": [
    {
     "name": "stdout",
     "output_type": "stream",
     "text": [
      "Results :[0.25       0.4        0.53333333 0.9        0.83333333 0.75\n",
      " 0.58333333 0.75       0.8        0.875     ]\n",
      "cv_score: 0.6675\n"
     ]
    }
   ],
   "source": [
    "# Mean precision score : 0.67\n",
    "Precision_score(ab_model,X_train,y_train)"
   ]
  },
  {
   "cell_type": "code",
   "execution_count": 90,
   "metadata": {},
   "outputs": [
    {
     "name": "stdout",
     "output_type": "stream",
     "text": [
      "Results :[0.5        0.5        0.88888889 0.69230769 0.90909091 0.69230769\n",
      " 0.77777778 0.54545455 0.72727273 0.77777778]\n",
      "cv_score: 0.701087801087801\n"
     ]
    }
   ],
   "source": [
    "# Mean recall score : 0.7\n",
    "Recall_score(ab_model,X_train,y_train)"
   ]
  },
  {
   "cell_type": "code",
   "execution_count": 91,
   "metadata": {},
   "outputs": [
    {
     "name": "stdout",
     "output_type": "stream",
     "text": [
      "Results :[0.33333333 0.44444444 0.66666667 0.7826087  0.86956522 0.72\n",
      " 0.66666667 0.63157895 0.76190476 0.82352941]\n",
      "cv_score: 0.6700298145192478\n"
     ]
    }
   ],
   "source": [
    "# Mean f1 score : 0.67\n",
    "f1_score(ab_model,X_train,y_train)"
   ]
  },
  {
   "cell_type": "code",
   "execution_count": 92,
   "metadata": {},
   "outputs": [],
   "source": [
    "ada_score = 0.67"
   ]
  },
  {
   "cell_type": "markdown",
   "metadata": {},
   "source": [
    "### Model 7 : Gradient Boosting\n",
    "- Accuracy : 63%\n",
    "- Precision : 68%\n",
    "- Recall : 69%\n",
    "- F1 score: 67%"
   ]
  },
  {
   "cell_type": "code",
   "execution_count": 93,
   "metadata": {},
   "outputs": [],
   "source": [
    "from sklearn.ensemble import GradientBoostingClassifier"
   ]
  },
  {
   "cell_type": "code",
   "execution_count": 94,
   "metadata": {},
   "outputs": [],
   "source": [
    "#help(GradientBoostingClassifier)"
   ]
  },
  {
   "cell_type": "code",
   "execution_count": 95,
   "metadata": {},
   "outputs": [],
   "source": [
    "gb_model =GradientBoostingClassifier(random_state=101)"
   ]
  },
  {
   "cell_type": "code",
   "execution_count": 96,
   "metadata": {},
   "outputs": [
    {
     "name": "stdout",
     "output_type": "stream",
     "text": [
      "Results :[0.47058824 0.41176471 0.70588235 0.70588235 0.82352941 0.70588235\n",
      " 0.70588235 0.64705882 0.5        0.625     ]\n",
      "cv_score: 0.6301470588235294\n"
     ]
    }
   ],
   "source": [
    "# Mean accuracy score : 0.63\n",
    "Accuracy_score(gb_model,X_train,y_train)"
   ]
  },
  {
   "cell_type": "code",
   "execution_count": 97,
   "metadata": {},
   "outputs": [
    {
     "name": "stdout",
     "output_type": "stream",
     "text": [
      "Results :[0.36363636 0.375      0.7        0.9        0.78571429 0.83333333\n",
      " 0.7        0.77777778 0.71428571 0.63636364]\n",
      "cv_score: 0.6786111111111113\n"
     ]
    }
   ],
   "source": [
    "# Mean precision score : 0.68\n",
    "Precision_score(gb_model,X_train,y_train)"
   ]
  },
  {
   "cell_type": "code",
   "execution_count": 98,
   "metadata": {},
   "outputs": [
    {
     "name": "stdout",
     "output_type": "stream",
     "text": [
      "Results :[0.66666667 0.375      0.77777778 0.69230769 1.         0.76923077\n",
      " 0.77777778 0.63636364 0.45454545 0.77777778]\n",
      "cv_score: 0.6927447552447552\n"
     ]
    }
   ],
   "source": [
    "# Mean recall score : 0.69\n",
    "Recall_score(gb_model,X_train,y_train)"
   ]
  },
  {
   "cell_type": "code",
   "execution_count": 99,
   "metadata": {},
   "outputs": [
    {
     "name": "stdout",
     "output_type": "stream",
     "text": [
      "Results :[0.47058824 0.375      0.73684211 0.7826087  0.88       0.8\n",
      " 0.73684211 0.7        0.55555556 0.7       ]\n",
      "cv_score: 0.6737436697028163\n"
     ]
    }
   ],
   "source": [
    "# Mean f1 score : 0.67\n",
    "f1_score(gb_model,X_train,y_train)"
   ]
  },
  {
   "cell_type": "code",
   "execution_count": 100,
   "metadata": {},
   "outputs": [],
   "source": [
    "gb_score=0.67"
   ]
  },
  {
   "cell_type": "code",
   "execution_count": 101,
   "metadata": {
    "scrolled": true
   },
   "outputs": [
    {
     "data": {
      "text/html": [
       "<div>\n",
       "<style scoped>\n",
       "    .dataframe tbody tr th:only-of-type {\n",
       "        vertical-align: middle;\n",
       "    }\n",
       "\n",
       "    .dataframe tbody tr th {\n",
       "        vertical-align: top;\n",
       "    }\n",
       "\n",
       "    .dataframe thead th {\n",
       "        text-align: right;\n",
       "    }\n",
       "</style>\n",
       "<table border=\"1\" class=\"dataframe\">\n",
       "  <thead>\n",
       "    <tr style=\"text-align: right;\">\n",
       "      <th></th>\n",
       "      <th>Model</th>\n",
       "      <th>F1 score</th>\n",
       "    </tr>\n",
       "  </thead>\n",
       "  <tbody>\n",
       "    <tr>\n",
       "      <th>0</th>\n",
       "      <td>Logistic regression</td>\n",
       "      <td>0.75</td>\n",
       "    </tr>\n",
       "    <tr>\n",
       "      <th>3</th>\n",
       "      <td>Decision tree</td>\n",
       "      <td>0.75</td>\n",
       "    </tr>\n",
       "    <tr>\n",
       "      <th>2</th>\n",
       "      <td>Support vector machine</td>\n",
       "      <td>0.74</td>\n",
       "    </tr>\n",
       "    <tr>\n",
       "      <th>1</th>\n",
       "      <td>K nearest neighbors</td>\n",
       "      <td>0.69</td>\n",
       "    </tr>\n",
       "    <tr>\n",
       "      <th>4</th>\n",
       "      <td>Random forest</td>\n",
       "      <td>0.69</td>\n",
       "    </tr>\n",
       "    <tr>\n",
       "      <th>5</th>\n",
       "      <td>AdaBoost</td>\n",
       "      <td>0.67</td>\n",
       "    </tr>\n",
       "    <tr>\n",
       "      <th>6</th>\n",
       "      <td>Gradient Boosting</td>\n",
       "      <td>0.67</td>\n",
       "    </tr>\n",
       "  </tbody>\n",
       "</table>\n",
       "</div>"
      ],
      "text/plain": [
       "                    Model  F1 score\n",
       "0     Logistic regression      0.75\n",
       "3           Decision tree      0.75\n",
       "2  Support vector machine      0.74\n",
       "1     K nearest neighbors      0.69\n",
       "4           Random forest      0.69\n",
       "5                AdaBoost      0.67\n",
       "6       Gradient Boosting      0.67"
      ]
     },
     "execution_count": 101,
     "metadata": {},
     "output_type": "execute_result"
    }
   ],
   "source": [
    "all_scores = (lg_score,knn_score,svm_score,tree_score,rf_score, ada_score, gb_score)\n",
    "all_scores =list(all_scores)\n",
    "\n",
    "model=['Logistic regression','K nearest neighbors','Support vector machine','Decision tree'\n",
    "                        ,'Random forest', 'AdaBoost', 'Gradient Boosting']\n",
    "\n",
    "compare_scores = pd.DataFrame({'Model':model,'F1 score':all_scores})\n",
    "compare_scores.sort_values(by='F1 score',ascending=False)\n"
   ]
  },
  {
   "cell_type": "markdown",
   "metadata": {},
   "source": [
    "## Tuning Parameters for the Best Basic Model : Logistic Model"
   ]
  },
  {
   "cell_type": "markdown",
   "metadata": {},
   "source": [
    "Before vs After :\n",
    "- Accuracy :  69% | 69%\n",
    "- Precision : 70% | 70%\n",
    "- Recall :    84% | 84%\n",
    "- F1 score:   75% | 75%\n",
    "\n",
    "The scores are the same since the parameters used in the previous legistic model are the best performing parameters. \n",
    "\n",
    "Logistic regression :\n",
    "\n",
    "https://scikit-learn.org/1.5/modules/generated/sklearn.linear_model.LogisticRegression.html\n"
   ]
  },
  {
   "cell_type": "code",
   "execution_count": 102,
   "metadata": {},
   "outputs": [],
   "source": [
    "from sklearn.model_selection import GridSearchCV\n",
    "import warnings\n",
    "warnings.filterwarnings('ignore')"
   ]
  },
  {
   "cell_type": "code",
   "execution_count": 103,
   "metadata": {},
   "outputs": [],
   "source": [
    "final_model = log_model = LogisticRegression(solver='saga',multi_class ='ovr',max_iter=20000,random_state=101)"
   ]
  },
  {
   "cell_type": "code",
   "execution_count": 104,
   "metadata": {},
   "outputs": [
    {
     "data": {
      "text/plain": [
       "dict_keys(['C', 'class_weight', 'dual', 'fit_intercept', 'intercept_scaling', 'l1_ratio', 'max_iter', 'multi_class', 'n_jobs', 'penalty', 'random_state', 'solver', 'tol', 'verbose', 'warm_start'])"
      ]
     },
     "execution_count": 104,
     "metadata": {},
     "output_type": "execute_result"
    }
   ],
   "source": [
    "# Check the parameters\n",
    "final_model.get_params().keys()"
   ]
  },
  {
   "cell_type": "code",
   "execution_count": 105,
   "metadata": {},
   "outputs": [],
   "source": [
    "# Parameters Settings\n",
    "\n",
    "# Penalty type\n",
    "penalty = ['l1','l2']\n",
    "\n",
    "\n",
    "# Use logarithmically spaced C values\n",
    "# np.logspace(start,stop,num)\n",
    "C = np.logspace(0,10,20)\n",
    "\n",
    "\n",
    "param_grid = {'penalty':penalty,\n",
    "              'C':C}"
   ]
  },
  {
   "cell_type": "code",
   "execution_count": 106,
   "metadata": {},
   "outputs": [],
   "source": [
    "# Create a grid model and pass in the parameters above to do a grid search\n",
    "# Remember to state the scoring type\n",
    "grid_model = GridSearchCV(final_model,param_grid = param_grid,scoring='f1')"
   ]
  },
  {
   "cell_type": "code",
   "execution_count": 107,
   "metadata": {
    "scrolled": false
   },
   "outputs": [
    {
     "data": {
      "text/plain": [
       "GridSearchCV(estimator=LogisticRegression(max_iter=20000, multi_class='ovr',\n",
       "                                          random_state=101, solver='saga'),\n",
       "             param_grid={'C': array([1.00000000e+00, 3.35981829e+00, 1.12883789e+01, 3.79269019e+01,\n",
       "       1.27427499e+02, 4.28133240e+02, 1.43844989e+03, 4.83293024e+03,\n",
       "       1.62377674e+04, 5.45559478e+04, 1.83298071e+05, 6.15848211e+05,\n",
       "       2.06913808e+06, 6.95192796e+06, 2.33572147e+07, 7.84759970e+07,\n",
       "       2.63665090e+08, 8.85866790e+08, 2.97635144e+09, 1.00000000e+10]),\n",
       "                         'penalty': ['l1', 'l2']},\n",
       "             scoring='f1')"
      ]
     },
     "execution_count": 107,
     "metadata": {},
     "output_type": "execute_result"
    }
   ],
   "source": [
    "# Fit the model\n",
    "grid_model.fit(X_train,y_train)"
   ]
  },
  {
   "cell_type": "code",
   "execution_count": 108,
   "metadata": {},
   "outputs": [
    {
     "data": {
      "text/plain": [
       "LogisticRegression(max_iter=20000, multi_class='ovr', random_state=101,\n",
       "                   solver='saga')"
      ]
     },
     "execution_count": 108,
     "metadata": {},
     "output_type": "execute_result"
    }
   ],
   "source": [
    "grid_model.best_estimator_"
   ]
  },
  {
   "cell_type": "code",
   "execution_count": 109,
   "metadata": {},
   "outputs": [
    {
     "data": {
      "text/plain": [
       "{'C': 1.0, 'penalty': 'l2'}"
      ]
     },
     "execution_count": 109,
     "metadata": {},
     "output_type": "execute_result"
    }
   ],
   "source": [
    "# Show the best parameters for f1 scores\n",
    "grid_model.best_params_"
   ]
  },
  {
   "cell_type": "code",
   "execution_count": 110,
   "metadata": {},
   "outputs": [],
   "source": [
    "# Create a model and set the parameters as above\n",
    "best_model = LogisticRegression(solver='saga',multi_class ='ovr',max_iter=20000\n",
    "                                ,C= 1,penalty = 'l2',random_state=101)"
   ]
  },
  {
   "cell_type": "code",
   "execution_count": 111,
   "metadata": {},
   "outputs": [
    {
     "name": "stdout",
     "output_type": "stream",
     "text": [
      "Results :[0.41176471 0.58823529 0.70588235 0.82352941 0.82352941 0.64705882\n",
      " 0.76470588 0.64705882 0.625      0.75      ]\n",
      "cv_score: 0.6786764705882353\n"
     ]
    }
   ],
   "source": [
    "# Mean accuracy score : 0.68\n",
    "Accuracy_score(best_model,X_train,y_train)"
   ]
  },
  {
   "cell_type": "code",
   "execution_count": 112,
   "metadata": {},
   "outputs": [
    {
     "name": "stdout",
     "output_type": "stream",
     "text": [
      "Results :[0.35714286 0.54545455 0.64285714 0.85714286 0.78571429 0.81818182\n",
      " 0.72727273 0.77777778 0.69230769 0.72727273]\n",
      "cv_score: 0.6931124431124431\n"
     ]
    }
   ],
   "source": [
    "# Mean precision score : 0.69\n",
    "Precision_score(best_model,X_train,y_train)"
   ]
  },
  {
   "cell_type": "code",
   "execution_count": 113,
   "metadata": {},
   "outputs": [
    {
     "name": "stdout",
     "output_type": "stream",
     "text": [
      "Results :[0.83333333 0.75       1.         0.92307692 1.         0.69230769\n",
      " 0.88888889 0.63636364 0.81818182 0.88888889]\n",
      "cv_score: 0.8431041181041181\n"
     ]
    }
   ],
   "source": [
    "# Mean recall score : 0.84\n",
    "Recall_score(best_model,X_train,y_train)"
   ]
  },
  {
   "cell_type": "code",
   "execution_count": 114,
   "metadata": {},
   "outputs": [
    {
     "name": "stdout",
     "output_type": "stream",
     "text": [
      "Results :[0.5        0.63157895 0.7826087  0.88888889 0.88       0.75\n",
      " 0.8        0.7        0.75       0.8       ]\n",
      "cv_score: 0.7483076531909483\n"
     ]
    }
   ],
   "source": [
    "# Mean f1 score : 0.75\n",
    "f1_score(best_model,X_train,y_train)"
   ]
  },
  {
   "cell_type": "markdown",
   "metadata": {},
   "source": [
    "## Model Evaluation on Test Data (Hold-out set)"
   ]
  },
  {
   "cell_type": "markdown",
   "metadata": {},
   "source": [
    "### Confusion Matrix"
   ]
  },
  {
   "cell_type": "code",
   "execution_count": 115,
   "metadata": {},
   "outputs": [],
   "source": [
    "from sklearn.metrics import confusion_matrix,classification_report,ConfusionMatrixDisplay"
   ]
  },
  {
   "cell_type": "code",
   "execution_count": 116,
   "metadata": {},
   "outputs": [],
   "source": [
    "# Create a function that print out the final test result\n",
    "def report_model(model):\n",
    "    model.fit(X_train,y_train)\n",
    "    pred = model.predict(X_test)\n",
    "    cm = confusion_matrix(y_test,pred,labels=model.classes_)\n",
    "    disp = ConfusionMatrixDisplay(confusion_matrix = cm,display_labels = model.classes_)\n",
    "    disp.plot()\n",
    "    print(classification_report(y_test,pred))"
   ]
  },
  {
   "cell_type": "code",
   "execution_count": 119,
   "metadata": {},
   "outputs": [
    {
     "name": "stdout",
     "output_type": "stream",
     "text": [
      "              precision    recall  f1-score   support\n",
      "\n",
      "           0       0.48      0.41      0.44        29\n",
      "           1       0.65      0.70      0.67        44\n",
      "\n",
      "    accuracy                           0.59        73\n",
      "   macro avg       0.56      0.56      0.56        73\n",
      "weighted avg       0.58      0.59      0.58        73\n",
      "\n"
     ]
    },
    {
     "data": {
      "image/png": "[encoded data removed]",
      "text/plain": [
       "<Figure size 432x288 with 2 Axes>"
      ]
     },
     "metadata": {
      "needs_background": "light"
     },
     "output_type": "display_data"
    }
   ],
   "source": [
    "# This is the final test result\n",
    "report_model(best_model)"
   ]
  },
  {
   "cell_type": "markdown",
   "metadata": {},
   "source": [
    "### Feature Importance"
   ]
  },
  {
   "cell_type": "code",
   "execution_count": 120,
   "metadata": {},
   "outputs": [
    {
     "data": {
      "text/plain": [
       "Index(['MILTOCIV', 'CIVADJ', 'MILHELPJOB', 'CIVADJPROBb_Yes',\n",
       "       'CIVADJPROBa_Yes', 'YEARSERV'],\n",
       "      dtype='object')"
      ]
     },
     "execution_count": 120,
     "metadata": {},
     "output_type": "execute_result"
    }
   ],
   "source": [
    "# Check the feature names\n",
    "features"
   ]
  },
  {
   "cell_type": "code",
   "execution_count": 121,
   "metadata": {},
   "outputs": [
    {
     "data": {
      "text/plain": [
       "array([[ 0.81771099,  0.77467317,  1.24944306, -0.83604668, -0.24687666,\n",
       "         0.25948577]])"
      ]
     },
     "execution_count": 121,
     "metadata": {},
     "output_type": "execute_result"
    }
   ],
   "source": [
    "# Check feature coefficients from the best model\n",
    "coef = best_model.coef_\n",
    "coef"
   ]
  },
  {
   "cell_type": "code",
   "execution_count": 122,
   "metadata": {},
   "outputs": [
    {
     "data": {
      "text/plain": [
       "pandas.core.indexes.base.Index"
      ]
     },
     "execution_count": 122,
     "metadata": {},
     "output_type": "execute_result"
    }
   ],
   "source": [
    "# Check data type of features and coef\n",
    "type(features)"
   ]
  },
  {
   "cell_type": "code",
   "execution_count": 123,
   "metadata": {},
   "outputs": [
    {
     "data": {
      "text/plain": [
       "numpy.ndarray"
      ]
     },
     "execution_count": 123,
     "metadata": {},
     "output_type": "execute_result"
    }
   ],
   "source": [
    "type(coef)"
   ]
  },
  {
   "cell_type": "code",
   "execution_count": 124,
   "metadata": {},
   "outputs": [
    {
     "data": {
      "text/plain": [
       "(6,)"
      ]
     },
     "execution_count": 124,
     "metadata": {},
     "output_type": "execute_result"
    }
   ],
   "source": [
    "# Check the shape of features and coef\n",
    "# the output is a tuple representing the dimensions of the array\n",
    "# (A,B) : A rows and B columns\n",
    "# (6,) means 6 rows 1 column\n",
    "features.shape"
   ]
  },
  {
   "cell_type": "code",
   "execution_count": 125,
   "metadata": {},
   "outputs": [
    {
     "data": {
      "text/plain": [
       "(1, 6)"
      ]
     },
     "execution_count": 125,
     "metadata": {},
     "output_type": "execute_result"
    }
   ],
   "source": [
    "# 1 ros 6 columns\n",
    "coef.shape"
   ]
  },
  {
   "cell_type": "code",
   "execution_count": 126,
   "metadata": {},
   "outputs": [
    {
     "data": {
      "text/plain": [
       "array([ 0.81771099,  0.77467317,  1.24944306, -0.83604668, -0.24687666,\n",
       "        0.25948577])"
      ]
     },
     "execution_count": 126,
     "metadata": {},
     "output_type": "execute_result"
    }
   ],
   "source": [
    "# To put features and coefficients together, they need to be the same shape\n",
    "# Reshape coef to be all rows\n",
    "coef = coef.reshape(6,)\n",
    "coef"
   ]
  },
  {
   "cell_type": "code",
   "execution_count": 127,
   "metadata": {},
   "outputs": [
    {
     "data": {
      "text/plain": [
       "(6,)"
      ]
     },
     "execution_count": 127,
     "metadata": {},
     "output_type": "execute_result"
    }
   ],
   "source": [
    "coef.shape"
   ]
  },
  {
   "cell_type": "code",
   "execution_count": 128,
   "metadata": {},
   "outputs": [
    {
     "data": {
      "text/html": [
       "<div>\n",
       "<style scoped>\n",
       "    .dataframe tbody tr th:only-of-type {\n",
       "        vertical-align: middle;\n",
       "    }\n",
       "\n",
       "    .dataframe tbody tr th {\n",
       "        vertical-align: top;\n",
       "    }\n",
       "\n",
       "    .dataframe thead th {\n",
       "        text-align: right;\n",
       "    }\n",
       "</style>\n",
       "<table border=\"1\" class=\"dataframe\">\n",
       "  <thead>\n",
       "    <tr style=\"text-align: right;\">\n",
       "      <th></th>\n",
       "      <th>Features</th>\n",
       "      <th>coefficients</th>\n",
       "    </tr>\n",
       "  </thead>\n",
       "  <tbody>\n",
       "    <tr>\n",
       "      <th>2</th>\n",
       "      <td>MILHELPJOB</td>\n",
       "      <td>1.249443</td>\n",
       "    </tr>\n",
       "    <tr>\n",
       "      <th>0</th>\n",
       "      <td>MILTOCIV</td>\n",
       "      <td>0.817711</td>\n",
       "    </tr>\n",
       "    <tr>\n",
       "      <th>1</th>\n",
       "      <td>CIVADJ</td>\n",
       "      <td>0.774673</td>\n",
       "    </tr>\n",
       "    <tr>\n",
       "      <th>5</th>\n",
       "      <td>YEARSERV</td>\n",
       "      <td>0.259486</td>\n",
       "    </tr>\n",
       "    <tr>\n",
       "      <th>4</th>\n",
       "      <td>CIVADJPROBa_Yes</td>\n",
       "      <td>-0.246877</td>\n",
       "    </tr>\n",
       "    <tr>\n",
       "      <th>3</th>\n",
       "      <td>CIVADJPROBb_Yes</td>\n",
       "      <td>-0.836047</td>\n",
       "    </tr>\n",
       "  </tbody>\n",
       "</table>\n",
       "</div>"
      ],
      "text/plain": [
       "          Features coefficients\n",
       "2       MILHELPJOB     1.249443\n",
       "0         MILTOCIV     0.817711\n",
       "1           CIVADJ     0.774673\n",
       "5         YEARSERV     0.259486\n",
       "4  CIVADJPROBa_Yes    -0.246877\n",
       "3  CIVADJPROBb_Yes    -0.836047"
      ]
     },
     "execution_count": 128,
     "metadata": {},
     "output_type": "execute_result"
    }
   ],
   "source": [
    "# Combine feature names and its coefficient to a dataframe\n",
    "fc = pd.DataFrame(np.column_stack([features,coef]),columns=['Features','coefficients'])\n",
    "fc.sort_values(by='coefficients',ascending=False)"
   ]
  },
  {
   "cell_type": "code",
   "execution_count": 129,
   "metadata": {},
   "outputs": [
    {
     "data": {
      "text/html": [
       "<div>\n",
       "<style scoped>\n",
       "    .dataframe tbody tr th:only-of-type {\n",
       "        vertical-align: middle;\n",
       "    }\n",
       "\n",
       "    .dataframe tbody tr th {\n",
       "        vertical-align: top;\n",
       "    }\n",
       "\n",
       "    .dataframe thead th {\n",
       "        text-align: right;\n",
       "    }\n",
       "</style>\n",
       "<table border=\"1\" class=\"dataframe\">\n",
       "  <thead>\n",
       "    <tr style=\"text-align: right;\">\n",
       "      <th></th>\n",
       "      <th>Features</th>\n",
       "      <th>coefficients</th>\n",
       "    </tr>\n",
       "  </thead>\n",
       "  <tbody>\n",
       "    <tr>\n",
       "      <th>3</th>\n",
       "      <td>CIVADJPROBb_Yes</td>\n",
       "      <td>-0.836047</td>\n",
       "    </tr>\n",
       "    <tr>\n",
       "      <th>4</th>\n",
       "      <td>CIVADJPROBa_Yes</td>\n",
       "      <td>-0.246877</td>\n",
       "    </tr>\n",
       "  </tbody>\n",
       "</table>\n",
       "</div>"
      ],
      "text/plain": [
       "          Features coefficients\n",
       "3  CIVADJPROBb_Yes    -0.836047\n",
       "4  CIVADJPROBa_Yes    -0.246877"
      ]
     },
     "execution_count": 129,
     "metadata": {},
     "output_type": "execute_result"
    }
   ],
   "source": [
    "# Seperate negative features and positive features\n",
    "# We can see that CIVADJPROBb(receive food benefits) affact FINDJOB negatively the most\n",
    "negative_features = fc[fc['coefficients']<0]\n",
    "negative_features= negative_features.sort_values('coefficients',ascending=True)\n",
    "negative_features"
   ]
  },
  {
   "cell_type": "code",
   "execution_count": 130,
   "metadata": {},
   "outputs": [
    {
     "data": {
      "text/html": [
       "<div>\n",
       "<style scoped>\n",
       "    .dataframe tbody tr th:only-of-type {\n",
       "        vertical-align: middle;\n",
       "    }\n",
       "\n",
       "    .dataframe tbody tr th {\n",
       "        vertical-align: top;\n",
       "    }\n",
       "\n",
       "    .dataframe thead th {\n",
       "        text-align: right;\n",
       "    }\n",
       "</style>\n",
       "<table border=\"1\" class=\"dataframe\">\n",
       "  <thead>\n",
       "    <tr style=\"text-align: right;\">\n",
       "      <th></th>\n",
       "      <th>Features</th>\n",
       "      <th>coefficients</th>\n",
       "    </tr>\n",
       "  </thead>\n",
       "  <tbody>\n",
       "    <tr>\n",
       "      <th>2</th>\n",
       "      <td>MILHELPJOB</td>\n",
       "      <td>1.249443</td>\n",
       "    </tr>\n",
       "    <tr>\n",
       "      <th>0</th>\n",
       "      <td>MILTOCIV</td>\n",
       "      <td>0.817711</td>\n",
       "    </tr>\n",
       "    <tr>\n",
       "      <th>1</th>\n",
       "      <td>CIVADJ</td>\n",
       "      <td>0.774673</td>\n",
       "    </tr>\n",
       "    <tr>\n",
       "      <th>5</th>\n",
       "      <td>YEARSERV</td>\n",
       "      <td>0.259486</td>\n",
       "    </tr>\n",
       "  </tbody>\n",
       "</table>\n",
       "</div>"
      ],
      "text/plain": [
       "     Features coefficients\n",
       "2  MILHELPJOB     1.249443\n",
       "0    MILTOCIV     0.817711\n",
       "1      CIVADJ     0.774673\n",
       "5    YEARSERV     0.259486"
      ]
     },
     "execution_count": 130,
     "metadata": {},
     "output_type": "execute_result"
    }
   ],
   "source": [
    "# How veterans adjust to civilian life seems to be an important factor\n",
    "positive_features = fc[fc['coefficients']>0]\n",
    "positive_features = positive_features.sort_values('coefficients',ascending=False)\n",
    "positive_features"
   ]
  },
  {
   "cell_type": "markdown",
   "metadata": {},
   "source": [
    "### Precision-Recall Curve and ROC Curve"
   ]
  },
  {
   "cell_type": "code",
   "execution_count": 131,
   "metadata": {},
   "outputs": [],
   "source": [
    "from sklearn.metrics import plot_precision_recall_curve,plot_roc_curve"
   ]
  },
  {
   "cell_type": "code",
   "execution_count": 132,
   "metadata": {},
   "outputs": [
    {
     "data": {
      "image/png": "[encoded data removed]",
      "text/plain": [
       "<Figure size 432x288 with 1 Axes>"
      ]
     },
     "metadata": {
      "needs_background": "light"
     },
     "output_type": "display_data"
    }
   ],
   "source": [
    "plot_precision_recall_curve(best_model,X_test,y_test);"
   ]
  },
  {
   "cell_type": "code",
   "execution_count": 133,
   "metadata": {
    "scrolled": false
   },
   "outputs": [
    {
     "data": {
      "image/png": "[encoded data removed]",
      "text/plain": [
       "<Figure size 432x288 with 1 Axes>"
      ]
     },
     "metadata": {
      "needs_background": "light"
     },
     "output_type": "display_data"
    }
   ],
   "source": [
    "# AUC: 0.66\n",
    "plot_roc_curve(best_model,X_test,y_test);"
   ]
  },
  {
   "cell_type": "markdown",
   "metadata": {},
   "source": [
    "# Conclusion"
   ]
  },
  {
   "cell_type": "markdown",
   "metadata": {},
   "source": [
    "## Potential causes of non ideal performance\n",
    "- Training sample is not large enough : increase sample size\n",
    "- empirical test to check whether your features separates your classes: extract the first two or three principal components and display them on a 2D or 3D scatter plot (use a different marker for each class). That will also help you see whether there are outliers that may affect the results.\n",
    "- One of the explanation is that your data does not support accuracy higher than 70%. Maybe your features doesn't fit enough to get better classification\n",
    "- High dimensionality : Perform feature selection to reduce features(dimensionality)"
   ]
  }
 ],
 "metadata": {
  "kernelspec": {
   "display_name": "Python 3 (ipykernel)",
   "language": "python",
   "name": "python3"
  },
  "language_info": {
   "codemirror_mode": {
    "name": "ipython",
    "version": 3
   },
   "file_extension": ".py",
   "mimetype": "text/x-python",
   "name": "python",
   "nbconvert_exporter": "python",
   "pygments_lexer": "ipython3",
   "version": "3.9.18"
  }
 },
 "nbformat": 4,
 "nbformat_minor": 4
}
