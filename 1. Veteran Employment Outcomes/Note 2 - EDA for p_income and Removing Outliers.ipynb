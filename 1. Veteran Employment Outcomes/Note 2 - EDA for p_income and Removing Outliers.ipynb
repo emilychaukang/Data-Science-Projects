{
 "cells": [
  {
   "cell_type": "markdown",
   "metadata": {},
   "source": [
    "# Step 3 : Exploratory Data Analysis (EDA) for Veterans earings(p_income)\n",
    "\n",
    "In this section, we identify the existing patterns between original categorical variables and p_income in two datasets(smdf and bdf) that were seperated from the original data. We will do another EDA on transformed/encoded data with FINDJOB later. This is because most relationship between variables and FINDJOB are categorical-categorical relationship. This kind of relationship can only be shown in graphs after variable transformation(categorical variables encoding). Technically, we can do EDA(both p_income and FINDJOB) all together after variable transformation. However, it is easier to interpret the results with text labels rather then encoded labels. This is why we do EDA for p_income first. \n",
    "\n",
    "\n",
    "1. EDA with the speed to find a job : FINDJOB \n",
    "2. EDA with veteran earnings : p_income"
   ]
  },
  {
   "cell_type": "markdown",
   "metadata": {},
   "source": [
    "### Import Data and double check for missing data"
   ]
  },
  {
   "cell_type": "code",
   "execution_count": 1,
   "metadata": {},
   "outputs": [],
   "source": [
    "# Imports\n",
    "import numpy as np\n",
    "import pandas as pd\n",
    "import matplotlib.pyplot as plt\n",
    "import seaborn as sns"
   ]
  },
  {
   "cell_type": "code",
   "execution_count": 2,
   "metadata": {},
   "outputs": [],
   "source": [
    "# Read the csv file\n",
    "smdf = pd.read_csv(\"Findjob_clean.csv\")"
   ]
  },
  {
   "cell_type": "code",
   "execution_count": 3,
   "metadata": {},
   "outputs": [],
   "source": [
    "bdf = pd.read_csv(\"Satilife_clean.csv\")"
   ]
  },
  {
   "cell_type": "code",
   "execution_count": 4,
   "metadata": {
    "scrolled": true
   },
   "outputs": [
    {
     "data": {
      "text/html": [
       "<div>\n",
       "<style scoped>\n",
       "    .dataframe tbody tr th:only-of-type {\n",
       "        vertical-align: middle;\n",
       "    }\n",
       "\n",
       "    .dataframe tbody tr th {\n",
       "        vertical-align: top;\n",
       "    }\n",
       "\n",
       "    .dataframe thead th {\n",
       "        text-align: right;\n",
       "    }\n",
       "</style>\n",
       "<table border=\"1\" class=\"dataframe\">\n",
       "  <thead>\n",
       "    <tr style=\"text-align: right;\">\n",
       "      <th></th>\n",
       "      <th>SATLIFEb</th>\n",
       "      <th>YEARSERV</th>\n",
       "      <th>RANK</th>\n",
       "      <th>MARRACTIV</th>\n",
       "      <th>PARACTIV</th>\n",
       "      <th>COMBAT</th>\n",
       "      <th>INJURED</th>\n",
       "      <th>MILTOCIV</th>\n",
       "      <th>CIVADJ</th>\n",
       "      <th>VABENEFITS</th>\n",
       "      <th>...</th>\n",
       "      <th>MILHELPJOB</th>\n",
       "      <th>TRAUMA1</th>\n",
       "      <th>F_AGECAT</th>\n",
       "      <th>F_SEX</th>\n",
       "      <th>F_EDUCCAT2</th>\n",
       "      <th>F_HISP</th>\n",
       "      <th>F_RACETHN</th>\n",
       "      <th>F_MARITAL</th>\n",
       "      <th>Branch</th>\n",
       "      <th>p_income</th>\n",
       "    </tr>\n",
       "  </thead>\n",
       "  <tbody>\n",
       "    <tr>\n",
       "      <th>0</th>\n",
       "      <td>Very Satisfied</td>\n",
       "      <td>&gt;20 years</td>\n",
       "      <td>E1-E6</td>\n",
       "      <td>Married</td>\n",
       "      <td>Yes</td>\n",
       "      <td>Yes</td>\n",
       "      <td>Not injured</td>\n",
       "      <td>Somewhat well</td>\n",
       "      <td>Very Easy</td>\n",
       "      <td>Yes</td>\n",
       "      <td>...</td>\n",
       "      <td>Helped a lot</td>\n",
       "      <td>No</td>\n",
       "      <td>65+</td>\n",
       "      <td>Male</td>\n",
       "      <td>High school degree</td>\n",
       "      <td>No</td>\n",
       "      <td>White</td>\n",
       "      <td>Married/Live with a partner</td>\n",
       "      <td>Muti-Branch</td>\n",
       "      <td>31500</td>\n",
       "    </tr>\n",
       "    <tr>\n",
       "      <th>1</th>\n",
       "      <td>Very Satisfied</td>\n",
       "      <td>&gt;20 years</td>\n",
       "      <td>WO1-WO5</td>\n",
       "      <td>Married</td>\n",
       "      <td>Yes</td>\n",
       "      <td>No</td>\n",
       "      <td>Not injured</td>\n",
       "      <td>Somewhat well</td>\n",
       "      <td>Somewhat Easy</td>\n",
       "      <td>Yes</td>\n",
       "      <td>...</td>\n",
       "      <td>Helped a bit</td>\n",
       "      <td>Yes</td>\n",
       "      <td>50-64</td>\n",
       "      <td>Male</td>\n",
       "      <td>MS/PHD degree</td>\n",
       "      <td>No</td>\n",
       "      <td>White</td>\n",
       "      <td>Married/Live with a partner</td>\n",
       "      <td>Army</td>\n",
       "      <td>75000</td>\n",
       "    </tr>\n",
       "    <tr>\n",
       "      <th>2</th>\n",
       "      <td>Somewhat Satisfied</td>\n",
       "      <td>&gt;20 years</td>\n",
       "      <td>E7-E9</td>\n",
       "      <td>Married</td>\n",
       "      <td>Yes</td>\n",
       "      <td>No</td>\n",
       "      <td>Not injured</td>\n",
       "      <td>Somewhat well</td>\n",
       "      <td>Somewhat Easy</td>\n",
       "      <td>Yes</td>\n",
       "      <td>...</td>\n",
       "      <td>Helped a lot</td>\n",
       "      <td>No</td>\n",
       "      <td>50-64</td>\n",
       "      <td>Male</td>\n",
       "      <td>Associate degree</td>\n",
       "      <td>No</td>\n",
       "      <td>White</td>\n",
       "      <td>Married/Live with a partner</td>\n",
       "      <td>Navy</td>\n",
       "      <td>31500</td>\n",
       "    </tr>\n",
       "    <tr>\n",
       "      <th>3</th>\n",
       "      <td>Very Satisfied</td>\n",
       "      <td>&gt;20 years</td>\n",
       "      <td>O1-O10</td>\n",
       "      <td>Married</td>\n",
       "      <td>No</td>\n",
       "      <td>Yes</td>\n",
       "      <td>Not injured</td>\n",
       "      <td>Somewhat well</td>\n",
       "      <td>Somewhat difficult</td>\n",
       "      <td>Yes</td>\n",
       "      <td>...</td>\n",
       "      <td>Helped a lot</td>\n",
       "      <td>Yes</td>\n",
       "      <td>50-64</td>\n",
       "      <td>Male</td>\n",
       "      <td>MS/PHD degree</td>\n",
       "      <td>No</td>\n",
       "      <td>White</td>\n",
       "      <td>Married/Live with a partner</td>\n",
       "      <td>Air_Force</td>\n",
       "      <td>62500</td>\n",
       "    </tr>\n",
       "    <tr>\n",
       "      <th>4</th>\n",
       "      <td>Somewhat Satisfied</td>\n",
       "      <td>&gt;20 years</td>\n",
       "      <td>E1-E6</td>\n",
       "      <td>Married</td>\n",
       "      <td>Yes</td>\n",
       "      <td>Yes</td>\n",
       "      <td>Injured out of combat</td>\n",
       "      <td>Somewhat well</td>\n",
       "      <td>Somewhat Easy</td>\n",
       "      <td>No</td>\n",
       "      <td>...</td>\n",
       "      <td>Helped a lot</td>\n",
       "      <td>No</td>\n",
       "      <td>50-64</td>\n",
       "      <td>Male</td>\n",
       "      <td>Some college(no degree)</td>\n",
       "      <td>No</td>\n",
       "      <td>Black</td>\n",
       "      <td>Married/Live with a partner</td>\n",
       "      <td>Marines</td>\n",
       "      <td>44000</td>\n",
       "    </tr>\n",
       "    <tr>\n",
       "      <th>...</th>\n",
       "      <td>...</td>\n",
       "      <td>...</td>\n",
       "      <td>...</td>\n",
       "      <td>...</td>\n",
       "      <td>...</td>\n",
       "      <td>...</td>\n",
       "      <td>...</td>\n",
       "      <td>...</td>\n",
       "      <td>...</td>\n",
       "      <td>...</td>\n",
       "      <td>...</td>\n",
       "      <td>...</td>\n",
       "      <td>...</td>\n",
       "      <td>...</td>\n",
       "      <td>...</td>\n",
       "      <td>...</td>\n",
       "      <td>...</td>\n",
       "      <td>...</td>\n",
       "      <td>...</td>\n",
       "      <td>...</td>\n",
       "      <td>...</td>\n",
       "    </tr>\n",
       "    <tr>\n",
       "      <th>244</th>\n",
       "      <td>Somewhat Dissatisfied</td>\n",
       "      <td>5-9 years</td>\n",
       "      <td>E7-E9</td>\n",
       "      <td>Married</td>\n",
       "      <td>No</td>\n",
       "      <td>No</td>\n",
       "      <td>Not injured</td>\n",
       "      <td>Not too well</td>\n",
       "      <td>Somewhat Easy</td>\n",
       "      <td>Yes</td>\n",
       "      <td>...</td>\n",
       "      <td>Neither</td>\n",
       "      <td>Yes</td>\n",
       "      <td>30-49</td>\n",
       "      <td>Male</td>\n",
       "      <td>Bachelors degree</td>\n",
       "      <td>No</td>\n",
       "      <td>White</td>\n",
       "      <td>Divorced/Seperated/Widowed</td>\n",
       "      <td>Navy</td>\n",
       "      <td>63000</td>\n",
       "    </tr>\n",
       "    <tr>\n",
       "      <th>245</th>\n",
       "      <td>Very Satisfied</td>\n",
       "      <td>3-4 years</td>\n",
       "      <td>E1-E6</td>\n",
       "      <td>Not Married</td>\n",
       "      <td>No</td>\n",
       "      <td>Yes</td>\n",
       "      <td>Not injured</td>\n",
       "      <td>Very well</td>\n",
       "      <td>Somewhat Easy</td>\n",
       "      <td>Yes</td>\n",
       "      <td>...</td>\n",
       "      <td>Neither</td>\n",
       "      <td>Yes</td>\n",
       "      <td>30-49</td>\n",
       "      <td>Female</td>\n",
       "      <td>High school degree</td>\n",
       "      <td>No</td>\n",
       "      <td>White</td>\n",
       "      <td>Divorced/Seperated/Widowed</td>\n",
       "      <td>Navy</td>\n",
       "      <td>25000</td>\n",
       "    </tr>\n",
       "    <tr>\n",
       "      <th>246</th>\n",
       "      <td>Somewhat Satisfied</td>\n",
       "      <td>&gt;20 years</td>\n",
       "      <td>E1-E6</td>\n",
       "      <td>Not Married</td>\n",
       "      <td>No</td>\n",
       "      <td>Yes</td>\n",
       "      <td>Not injured</td>\n",
       "      <td>Somewhat well</td>\n",
       "      <td>Somewhat difficult</td>\n",
       "      <td>Yes</td>\n",
       "      <td>...</td>\n",
       "      <td>Helped a bit</td>\n",
       "      <td>Yes</td>\n",
       "      <td>50-64</td>\n",
       "      <td>Male</td>\n",
       "      <td>Some college(no degree)</td>\n",
       "      <td>No</td>\n",
       "      <td>White</td>\n",
       "      <td>Married/Live with a partner</td>\n",
       "      <td>Navy</td>\n",
       "      <td>31500</td>\n",
       "    </tr>\n",
       "    <tr>\n",
       "      <th>247</th>\n",
       "      <td>Very Satisfied</td>\n",
       "      <td>&gt;20 years</td>\n",
       "      <td>O1-O10</td>\n",
       "      <td>Married</td>\n",
       "      <td>Yes</td>\n",
       "      <td>Yes</td>\n",
       "      <td>Not injured</td>\n",
       "      <td>Somewhat well</td>\n",
       "      <td>Somewhat difficult</td>\n",
       "      <td>Yes</td>\n",
       "      <td>...</td>\n",
       "      <td>Neither</td>\n",
       "      <td>Yes</td>\n",
       "      <td>50-64</td>\n",
       "      <td>Male</td>\n",
       "      <td>Bachelors degree</td>\n",
       "      <td>No</td>\n",
       "      <td>White</td>\n",
       "      <td>Married/Live with a partner</td>\n",
       "      <td>Marines</td>\n",
       "      <td>62500</td>\n",
       "    </tr>\n",
       "    <tr>\n",
       "      <th>248</th>\n",
       "      <td>Somewhat Satisfied</td>\n",
       "      <td>5-9 years</td>\n",
       "      <td>E1-E6</td>\n",
       "      <td>Married</td>\n",
       "      <td>Yes</td>\n",
       "      <td>Yes</td>\n",
       "      <td>Not injured</td>\n",
       "      <td>Somewhat well</td>\n",
       "      <td>Very Easy</td>\n",
       "      <td>No</td>\n",
       "      <td>...</td>\n",
       "      <td>Neither</td>\n",
       "      <td>Yes</td>\n",
       "      <td>30-49</td>\n",
       "      <td>Male</td>\n",
       "      <td>Some college(no degree)</td>\n",
       "      <td>No</td>\n",
       "      <td>White</td>\n",
       "      <td>Married/Live with a partner</td>\n",
       "      <td>Navy</td>\n",
       "      <td>22500</td>\n",
       "    </tr>\n",
       "  </tbody>\n",
       "</table>\n",
       "<p>249 rows × 30 columns</p>\n",
       "</div>"
      ],
      "text/plain": [
       "                  SATLIFEb   YEARSERV     RANK    MARRACTIV PARACTIV COMBAT  \\\n",
       "0           Very Satisfied  >20 years    E1-E6      Married      Yes    Yes   \n",
       "1           Very Satisfied  >20 years  WO1-WO5      Married      Yes     No   \n",
       "2       Somewhat Satisfied  >20 years    E7-E9      Married      Yes     No   \n",
       "3           Very Satisfied  >20 years   O1-O10      Married       No    Yes   \n",
       "4       Somewhat Satisfied  >20 years    E1-E6      Married      Yes    Yes   \n",
       "..                     ...        ...      ...          ...      ...    ...   \n",
       "244  Somewhat Dissatisfied  5-9 years    E7-E9      Married       No     No   \n",
       "245         Very Satisfied  3-4 years    E1-E6  Not Married       No    Yes   \n",
       "246     Somewhat Satisfied  >20 years    E1-E6  Not Married       No    Yes   \n",
       "247         Very Satisfied  >20 years   O1-O10      Married      Yes    Yes   \n",
       "248     Somewhat Satisfied  5-9 years    E1-E6      Married      Yes    Yes   \n",
       "\n",
       "                   INJURED       MILTOCIV              CIVADJ VABENEFITS  ...  \\\n",
       "0              Not injured  Somewhat well           Very Easy        Yes  ...   \n",
       "1              Not injured  Somewhat well       Somewhat Easy        Yes  ...   \n",
       "2              Not injured  Somewhat well       Somewhat Easy        Yes  ...   \n",
       "3              Not injured  Somewhat well  Somewhat difficult        Yes  ...   \n",
       "4    Injured out of combat  Somewhat well       Somewhat Easy         No  ...   \n",
       "..                     ...            ...                 ...        ...  ...   \n",
       "244            Not injured   Not too well       Somewhat Easy        Yes  ...   \n",
       "245            Not injured      Very well       Somewhat Easy        Yes  ...   \n",
       "246            Not injured  Somewhat well  Somewhat difficult        Yes  ...   \n",
       "247            Not injured  Somewhat well  Somewhat difficult        Yes  ...   \n",
       "248            Not injured  Somewhat well           Very Easy         No  ...   \n",
       "\n",
       "       MILHELPJOB TRAUMA1 F_AGECAT   F_SEX               F_EDUCCAT2 F_HISP  \\\n",
       "0    Helped a lot      No      65+    Male       High school degree     No   \n",
       "1    Helped a bit     Yes    50-64    Male            MS/PHD degree     No   \n",
       "2    Helped a lot      No    50-64    Male         Associate degree     No   \n",
       "3    Helped a lot     Yes    50-64    Male            MS/PHD degree     No   \n",
       "4    Helped a lot      No    50-64    Male  Some college(no degree)     No   \n",
       "..            ...     ...      ...     ...                      ...    ...   \n",
       "244       Neither     Yes    30-49    Male         Bachelors degree     No   \n",
       "245       Neither     Yes    30-49  Female       High school degree     No   \n",
       "246  Helped a bit     Yes    50-64    Male  Some college(no degree)     No   \n",
       "247       Neither     Yes    50-64    Male         Bachelors degree     No   \n",
       "248       Neither     Yes    30-49    Male  Some college(no degree)     No   \n",
       "\n",
       "    F_RACETHN                    F_MARITAL       Branch p_income  \n",
       "0       White  Married/Live with a partner  Muti-Branch    31500  \n",
       "1       White  Married/Live with a partner         Army    75000  \n",
       "2       White  Married/Live with a partner         Navy    31500  \n",
       "3       White  Married/Live with a partner    Air_Force    62500  \n",
       "4       Black  Married/Live with a partner      Marines    44000  \n",
       "..        ...                          ...          ...      ...  \n",
       "244     White   Divorced/Seperated/Widowed         Navy    63000  \n",
       "245     White   Divorced/Seperated/Widowed         Navy    25000  \n",
       "246     White  Married/Live with a partner         Navy    31500  \n",
       "247     White  Married/Live with a partner      Marines    62500  \n",
       "248     White  Married/Live with a partner         Navy    22500  \n",
       "\n",
       "[249 rows x 30 columns]"
      ]
     },
     "execution_count": 4,
     "metadata": {},
     "output_type": "execute_result"
    }
   ],
   "source": [
    "smdf"
   ]
  },
  {
   "cell_type": "code",
   "execution_count": 5,
   "metadata": {},
   "outputs": [
    {
     "data": {
      "text/plain": [
       "Index(['SATLIFEb', 'YEARSERV', 'RANK', 'MARRACTIV', 'PARACTIV', 'COMBAT',\n",
       "       'INJURED', 'MILTOCIV', 'CIVADJ', 'VABENEFITS', 'CIVADJPROBa',\n",
       "       'CIVADJPROBb', 'CIVADJISSc', 'CIVADJISSe', 'LOOKJOB', 'SCHOOL',\n",
       "       'MILJOBSKILLS', 'FINDJOB', 'JOBQUAL', 'FIRSTJOB', 'MILHELPJOB',\n",
       "       'TRAUMA1', 'F_AGECAT', 'F_SEX', 'F_EDUCCAT2', 'F_HISP', 'F_RACETHN',\n",
       "       'F_MARITAL', 'Branch', 'p_income'],\n",
       "      dtype='object')"
      ]
     },
     "execution_count": 5,
     "metadata": {},
     "output_type": "execute_result"
    }
   ],
   "source": [
    "smdf.columns"
   ]
  },
  {
   "cell_type": "code",
   "execution_count": 6,
   "metadata": {},
   "outputs": [
    {
     "data": {
      "text/html": [
       "<div>\n",
       "<style scoped>\n",
       "    .dataframe tbody tr th:only-of-type {\n",
       "        vertical-align: middle;\n",
       "    }\n",
       "\n",
       "    .dataframe tbody tr th {\n",
       "        vertical-align: top;\n",
       "    }\n",
       "\n",
       "    .dataframe thead th {\n",
       "        text-align: right;\n",
       "    }\n",
       "</style>\n",
       "<table border=\"1\" class=\"dataframe\">\n",
       "  <thead>\n",
       "    <tr style=\"text-align: right;\">\n",
       "      <th></th>\n",
       "      <th>SATLIFEb</th>\n",
       "      <th>YEARSERV</th>\n",
       "      <th>RANK</th>\n",
       "      <th>MARRACTIV</th>\n",
       "      <th>PARACTIV</th>\n",
       "      <th>COMBAT</th>\n",
       "      <th>INJURED</th>\n",
       "      <th>MILTOCIV</th>\n",
       "      <th>CIVADJ</th>\n",
       "      <th>VABENEFITS</th>\n",
       "      <th>...</th>\n",
       "      <th>TRAUMA1</th>\n",
       "      <th>F_AGECAT</th>\n",
       "      <th>F_SEX</th>\n",
       "      <th>F_EDUCCAT2</th>\n",
       "      <th>F_HISP</th>\n",
       "      <th>F_RACETHN</th>\n",
       "      <th>F_MARITAL</th>\n",
       "      <th>Group</th>\n",
       "      <th>Branch</th>\n",
       "      <th>p_income</th>\n",
       "    </tr>\n",
       "  </thead>\n",
       "  <tbody>\n",
       "    <tr>\n",
       "      <th>0</th>\n",
       "      <td>Somewhat Satisfied</td>\n",
       "      <td>&gt;20 years</td>\n",
       "      <td>E7-E9</td>\n",
       "      <td>Married</td>\n",
       "      <td>Yes</td>\n",
       "      <td>No</td>\n",
       "      <td>Injured out of combat</td>\n",
       "      <td>Not too well</td>\n",
       "      <td>Somewhat difficult</td>\n",
       "      <td>Yes</td>\n",
       "      <td>...</td>\n",
       "      <td>Yes</td>\n",
       "      <td>50-64</td>\n",
       "      <td>Male</td>\n",
       "      <td>MS/PHD degree</td>\n",
       "      <td>No</td>\n",
       "      <td>White</td>\n",
       "      <td>Married/Live with a partner</td>\n",
       "      <td>post_911</td>\n",
       "      <td>Army</td>\n",
       "      <td>44000</td>\n",
       "    </tr>\n",
       "    <tr>\n",
       "      <th>1</th>\n",
       "      <td>Somewhat Satisfied</td>\n",
       "      <td>10-19 years</td>\n",
       "      <td>E7-E9</td>\n",
       "      <td>Married</td>\n",
       "      <td>Yes</td>\n",
       "      <td>No</td>\n",
       "      <td>Injured out of combat</td>\n",
       "      <td>Not too well</td>\n",
       "      <td>Somewhat difficult</td>\n",
       "      <td>Yes</td>\n",
       "      <td>...</td>\n",
       "      <td>No</td>\n",
       "      <td>50-64</td>\n",
       "      <td>Male</td>\n",
       "      <td>Some college(no degree)</td>\n",
       "      <td>No</td>\n",
       "      <td>White</td>\n",
       "      <td>Divorced/Seperated/Widowed</td>\n",
       "      <td>post_911</td>\n",
       "      <td>Army</td>\n",
       "      <td>125000</td>\n",
       "    </tr>\n",
       "    <tr>\n",
       "      <th>2</th>\n",
       "      <td>Somewhat Satisfied</td>\n",
       "      <td>10-19 years</td>\n",
       "      <td>E1-E6</td>\n",
       "      <td>Married</td>\n",
       "      <td>Yes</td>\n",
       "      <td>No</td>\n",
       "      <td>Not injured</td>\n",
       "      <td>Not too well</td>\n",
       "      <td>Somewhat Easy</td>\n",
       "      <td>Yes</td>\n",
       "      <td>...</td>\n",
       "      <td>No</td>\n",
       "      <td>30-49</td>\n",
       "      <td>Male</td>\n",
       "      <td>MS/PHD degree</td>\n",
       "      <td>No</td>\n",
       "      <td>White</td>\n",
       "      <td>Married/Live with a partner</td>\n",
       "      <td>post_911</td>\n",
       "      <td>Marines</td>\n",
       "      <td>62500</td>\n",
       "    </tr>\n",
       "    <tr>\n",
       "      <th>3</th>\n",
       "      <td>Somewhat Satisfied</td>\n",
       "      <td>10-19 years</td>\n",
       "      <td>E7-E9</td>\n",
       "      <td>Married</td>\n",
       "      <td>No</td>\n",
       "      <td>Yes</td>\n",
       "      <td>Injured out of combat</td>\n",
       "      <td>Not too well</td>\n",
       "      <td>Very difficult</td>\n",
       "      <td>Yes</td>\n",
       "      <td>...</td>\n",
       "      <td>Yes</td>\n",
       "      <td>50-64</td>\n",
       "      <td>Male</td>\n",
       "      <td>Some college(no degree)</td>\n",
       "      <td>No</td>\n",
       "      <td>Mixed race</td>\n",
       "      <td>Married/Live with a partner</td>\n",
       "      <td>post_911</td>\n",
       "      <td>Army</td>\n",
       "      <td>22500</td>\n",
       "    </tr>\n",
       "    <tr>\n",
       "      <th>4</th>\n",
       "      <td>Very Satisfied</td>\n",
       "      <td>&gt;20 years</td>\n",
       "      <td>E1-E6</td>\n",
       "      <td>Married</td>\n",
       "      <td>Yes</td>\n",
       "      <td>Yes</td>\n",
       "      <td>Not injured</td>\n",
       "      <td>Somewhat well</td>\n",
       "      <td>Very Easy</td>\n",
       "      <td>Yes</td>\n",
       "      <td>...</td>\n",
       "      <td>No</td>\n",
       "      <td>65+</td>\n",
       "      <td>Male</td>\n",
       "      <td>High school degree</td>\n",
       "      <td>No</td>\n",
       "      <td>White</td>\n",
       "      <td>Married/Live with a partner</td>\n",
       "      <td>post_911</td>\n",
       "      <td>Muti-Branch</td>\n",
       "      <td>31500</td>\n",
       "    </tr>\n",
       "    <tr>\n",
       "      <th>...</th>\n",
       "      <td>...</td>\n",
       "      <td>...</td>\n",
       "      <td>...</td>\n",
       "      <td>...</td>\n",
       "      <td>...</td>\n",
       "      <td>...</td>\n",
       "      <td>...</td>\n",
       "      <td>...</td>\n",
       "      <td>...</td>\n",
       "      <td>...</td>\n",
       "      <td>...</td>\n",
       "      <td>...</td>\n",
       "      <td>...</td>\n",
       "      <td>...</td>\n",
       "      <td>...</td>\n",
       "      <td>...</td>\n",
       "      <td>...</td>\n",
       "      <td>...</td>\n",
       "      <td>...</td>\n",
       "      <td>...</td>\n",
       "      <td>...</td>\n",
       "    </tr>\n",
       "    <tr>\n",
       "      <th>1272</th>\n",
       "      <td>Somewhat Satisfied</td>\n",
       "      <td>5-9 years</td>\n",
       "      <td>E1-E6</td>\n",
       "      <td>Married</td>\n",
       "      <td>Yes</td>\n",
       "      <td>No</td>\n",
       "      <td>Not injured</td>\n",
       "      <td>Not too well</td>\n",
       "      <td>Very Easy</td>\n",
       "      <td>Yes</td>\n",
       "      <td>...</td>\n",
       "      <td>No</td>\n",
       "      <td>65+</td>\n",
       "      <td>Male</td>\n",
       "      <td>Some college(no degree)</td>\n",
       "      <td>No</td>\n",
       "      <td>White</td>\n",
       "      <td>Divorced/Seperated/Widowed</td>\n",
       "      <td>pre_911</td>\n",
       "      <td>Navy</td>\n",
       "      <td>25000</td>\n",
       "    </tr>\n",
       "    <tr>\n",
       "      <th>1273</th>\n",
       "      <td>Somewhat Dissatisfied</td>\n",
       "      <td>&gt;20 years</td>\n",
       "      <td>E7-E9</td>\n",
       "      <td>Married</td>\n",
       "      <td>Yes</td>\n",
       "      <td>No</td>\n",
       "      <td>Not injured</td>\n",
       "      <td>Somewhat well</td>\n",
       "      <td>Very Easy</td>\n",
       "      <td>Yes</td>\n",
       "      <td>...</td>\n",
       "      <td>No</td>\n",
       "      <td>50-64</td>\n",
       "      <td>Male</td>\n",
       "      <td>Bachelors degree</td>\n",
       "      <td>No</td>\n",
       "      <td>White</td>\n",
       "      <td>Married/Live with a partner</td>\n",
       "      <td>post_911</td>\n",
       "      <td>Air_Force</td>\n",
       "      <td>75000</td>\n",
       "    </tr>\n",
       "    <tr>\n",
       "      <th>1274</th>\n",
       "      <td>Very Satisfied</td>\n",
       "      <td>3-4 years</td>\n",
       "      <td>O1-O10</td>\n",
       "      <td>Married</td>\n",
       "      <td>Yes</td>\n",
       "      <td>No</td>\n",
       "      <td>Not injured</td>\n",
       "      <td>Somewhat well</td>\n",
       "      <td>Very Easy</td>\n",
       "      <td>No</td>\n",
       "      <td>...</td>\n",
       "      <td>No</td>\n",
       "      <td>65+</td>\n",
       "      <td>Male</td>\n",
       "      <td>Bachelors degree</td>\n",
       "      <td>No</td>\n",
       "      <td>White</td>\n",
       "      <td>Married/Live with a partner</td>\n",
       "      <td>pre_911</td>\n",
       "      <td>Navy</td>\n",
       "      <td>44000</td>\n",
       "    </tr>\n",
       "    <tr>\n",
       "      <th>1275</th>\n",
       "      <td>Somewhat Satisfied</td>\n",
       "      <td>3-4 years</td>\n",
       "      <td>O1-O10</td>\n",
       "      <td>Married</td>\n",
       "      <td>Yes</td>\n",
       "      <td>Yes</td>\n",
       "      <td>Not injured</td>\n",
       "      <td>Somewhat well</td>\n",
       "      <td>Very Easy</td>\n",
       "      <td>Yes</td>\n",
       "      <td>...</td>\n",
       "      <td>No</td>\n",
       "      <td>65+</td>\n",
       "      <td>Male</td>\n",
       "      <td>Bachelors degree</td>\n",
       "      <td>No</td>\n",
       "      <td>White</td>\n",
       "      <td>Married/Live with a partner</td>\n",
       "      <td>pre_911</td>\n",
       "      <td>Army</td>\n",
       "      <td>31500</td>\n",
       "    </tr>\n",
       "    <tr>\n",
       "      <th>1276</th>\n",
       "      <td>Very Satisfied</td>\n",
       "      <td>5-9 years</td>\n",
       "      <td>E1-E6</td>\n",
       "      <td>Married</td>\n",
       "      <td>Yes</td>\n",
       "      <td>No</td>\n",
       "      <td>Not injured</td>\n",
       "      <td>Very well</td>\n",
       "      <td>Very Easy</td>\n",
       "      <td>Yes</td>\n",
       "      <td>...</td>\n",
       "      <td>No</td>\n",
       "      <td>50-64</td>\n",
       "      <td>Female</td>\n",
       "      <td>Some college(no degree)</td>\n",
       "      <td>No</td>\n",
       "      <td>White</td>\n",
       "      <td>Married/Live with a partner</td>\n",
       "      <td>pre_911</td>\n",
       "      <td>Air_Force</td>\n",
       "      <td>44000</td>\n",
       "    </tr>\n",
       "  </tbody>\n",
       "</table>\n",
       "<p>1277 rows × 25 columns</p>\n",
       "</div>"
      ],
      "text/plain": [
       "                   SATLIFEb     YEARSERV    RANK MARRACTIV PARACTIV COMBAT  \\\n",
       "0        Somewhat Satisfied    >20 years   E7-E9   Married      Yes     No   \n",
       "1        Somewhat Satisfied  10-19 years   E7-E9   Married      Yes     No   \n",
       "2        Somewhat Satisfied  10-19 years   E1-E6   Married      Yes     No   \n",
       "3        Somewhat Satisfied  10-19 years   E7-E9   Married       No    Yes   \n",
       "4            Very Satisfied    >20 years   E1-E6   Married      Yes    Yes   \n",
       "...                     ...          ...     ...       ...      ...    ...   \n",
       "1272     Somewhat Satisfied    5-9 years   E1-E6   Married      Yes     No   \n",
       "1273  Somewhat Dissatisfied    >20 years   E7-E9   Married      Yes     No   \n",
       "1274         Very Satisfied    3-4 years  O1-O10   Married      Yes     No   \n",
       "1275     Somewhat Satisfied    3-4 years  O1-O10   Married      Yes    Yes   \n",
       "1276         Very Satisfied    5-9 years   E1-E6   Married      Yes     No   \n",
       "\n",
       "                    INJURED       MILTOCIV              CIVADJ VABENEFITS  \\\n",
       "0     Injured out of combat   Not too well  Somewhat difficult        Yes   \n",
       "1     Injured out of combat   Not too well  Somewhat difficult        Yes   \n",
       "2               Not injured   Not too well       Somewhat Easy        Yes   \n",
       "3     Injured out of combat   Not too well      Very difficult        Yes   \n",
       "4               Not injured  Somewhat well           Very Easy        Yes   \n",
       "...                     ...            ...                 ...        ...   \n",
       "1272            Not injured   Not too well           Very Easy        Yes   \n",
       "1273            Not injured  Somewhat well           Very Easy        Yes   \n",
       "1274            Not injured  Somewhat well           Very Easy         No   \n",
       "1275            Not injured  Somewhat well           Very Easy        Yes   \n",
       "1276            Not injured      Very well           Very Easy        Yes   \n",
       "\n",
       "      ... TRAUMA1 F_AGECAT   F_SEX               F_EDUCCAT2 F_HISP  \\\n",
       "0     ...     Yes    50-64    Male            MS/PHD degree     No   \n",
       "1     ...      No    50-64    Male  Some college(no degree)     No   \n",
       "2     ...      No    30-49    Male            MS/PHD degree     No   \n",
       "3     ...     Yes    50-64    Male  Some college(no degree)     No   \n",
       "4     ...      No      65+    Male       High school degree     No   \n",
       "...   ...     ...      ...     ...                      ...    ...   \n",
       "1272  ...      No      65+    Male  Some college(no degree)     No   \n",
       "1273  ...      No    50-64    Male         Bachelors degree     No   \n",
       "1274  ...      No      65+    Male         Bachelors degree     No   \n",
       "1275  ...      No      65+    Male         Bachelors degree     No   \n",
       "1276  ...      No    50-64  Female  Some college(no degree)     No   \n",
       "\n",
       "       F_RACETHN                    F_MARITAL     Group       Branch p_income  \n",
       "0          White  Married/Live with a partner  post_911         Army    44000  \n",
       "1          White   Divorced/Seperated/Widowed  post_911         Army   125000  \n",
       "2          White  Married/Live with a partner  post_911      Marines    62500  \n",
       "3     Mixed race  Married/Live with a partner  post_911         Army    22500  \n",
       "4          White  Married/Live with a partner  post_911  Muti-Branch    31500  \n",
       "...          ...                          ...       ...          ...      ...  \n",
       "1272       White   Divorced/Seperated/Widowed   pre_911         Navy    25000  \n",
       "1273       White  Married/Live with a partner  post_911    Air_Force    75000  \n",
       "1274       White  Married/Live with a partner   pre_911         Navy    44000  \n",
       "1275       White  Married/Live with a partner   pre_911         Army    31500  \n",
       "1276       White  Married/Live with a partner   pre_911    Air_Force    44000  \n",
       "\n",
       "[1277 rows x 25 columns]"
      ]
     },
     "execution_count": 6,
     "metadata": {},
     "output_type": "execute_result"
    }
   ],
   "source": [
    "bdf"
   ]
  },
  {
   "cell_type": "code",
   "execution_count": 7,
   "metadata": {},
   "outputs": [
    {
     "data": {
      "text/plain": [
       "0"
      ]
     },
     "execution_count": 7,
     "metadata": {},
     "output_type": "execute_result"
    }
   ],
   "source": [
    "# Check missing rows\n",
    "smdf.isnull().sum().sum()"
   ]
  },
  {
   "cell_type": "code",
   "execution_count": 8,
   "metadata": {
    "scrolled": true
   },
   "outputs": [
    {
     "data": {
      "text/plain": [
       "0"
      ]
     },
     "execution_count": 8,
     "metadata": {},
     "output_type": "execute_result"
    }
   ],
   "source": [
    "bdf.isnull().sum().sum()"
   ]
  },
  {
   "cell_type": "code",
   "execution_count": 9,
   "metadata": {},
   "outputs": [
    {
     "data": {
      "text/plain": [
       "30"
      ]
     },
     "execution_count": 9,
     "metadata": {},
     "output_type": "execute_result"
    }
   ],
   "source": [
    "len(smdf.columns)"
   ]
  },
  {
   "cell_type": "code",
   "execution_count": 10,
   "metadata": {},
   "outputs": [
    {
     "data": {
      "text/plain": [
       "1277"
      ]
     },
     "execution_count": 10,
     "metadata": {},
     "output_type": "execute_result"
    }
   ],
   "source": [
    "# EDA stage start with 1277 respondents\n",
    "len(bdf)"
   ]
  },
  {
   "cell_type": "code",
   "execution_count": 11,
   "metadata": {},
   "outputs": [
    {
     "data": {
      "text/plain": [
       "249"
      ]
     },
     "execution_count": 11,
     "metadata": {},
     "output_type": "execute_result"
    }
   ],
   "source": [
    "len(smdf)"
   ]
  },
  {
   "cell_type": "code",
   "execution_count": 12,
   "metadata": {},
   "outputs": [
    {
     "data": {
      "text/plain": [
       "Index(['SATLIFEb', 'YEARSERV', 'RANK', 'MARRACTIV', 'PARACTIV', 'COMBAT',\n",
       "       'INJURED', 'MILTOCIV', 'CIVADJ', 'VABENEFITS', 'CIVADJPROBa',\n",
       "       'CIVADJPROBb', 'CIVADJISSc', 'CIVADJISSe', 'LOOKJOB', 'SCHOOL',\n",
       "       'MILJOBSKILLS', 'FINDJOB', 'JOBQUAL', 'FIRSTJOB', 'MILHELPJOB',\n",
       "       'TRAUMA1', 'F_AGECAT', 'F_SEX', 'F_EDUCCAT2', 'F_HISP', 'F_RACETHN',\n",
       "       'F_MARITAL', 'Branch', 'p_income'],\n",
       "      dtype='object')"
      ]
     },
     "execution_count": 12,
     "metadata": {},
     "output_type": "execute_result"
    }
   ],
   "source": [
    "smdf.columns"
   ]
  },
  {
   "cell_type": "code",
   "execution_count": 13,
   "metadata": {},
   "outputs": [
    {
     "data": {
      "text/plain": [
       "25"
      ]
     },
     "execution_count": 13,
     "metadata": {},
     "output_type": "execute_result"
    }
   ],
   "source": [
    "len(bdf.columns)"
   ]
  },
  {
   "cell_type": "markdown",
   "metadata": {},
   "source": [
    "## EDA with veteran earnings : p_income\n",
    "In this section, we compare results from bdf and smdf to see whether the trends are consistent. Since smdf has fewer data points, some of the results shown from smdf can be biased or skewed. "
   ]
  },
  {
   "cell_type": "code",
   "execution_count": 14,
   "metadata": {},
   "outputs": [
    {
     "data": {
      "text/plain": [
       "<AxesSubplot:ylabel='p_income'>"
      ]
     },
     "execution_count": 14,
     "metadata": {},
     "output_type": "execute_result"
    },
    {
     "data": {
      "image/png": "[encoded data removed]",
      "text/plain": [
       "<Figure size 320x320 with 1 Axes>"
      ]
     },
     "metadata": {
      "needs_background": "light"
     },
     "output_type": "display_data"
    }
   ],
   "source": [
    "# We can see there are some outliers at the top of the boxplot\n",
    "plt.figure(figsize = (4,4),dpi=80)\n",
    "sns.boxplot(data= smdf, y='p_income')"
   ]
  },
  {
   "cell_type": "code",
   "execution_count": 15,
   "metadata": {},
   "outputs": [
    {
     "data": {
      "text/plain": [
       "count       249.000000\n",
       "mean      48495.983936\n",
       "std       26996.975337\n",
       "min        7500.000000\n",
       "25%       31500.000000\n",
       "50%       44000.000000\n",
       "75%       62500.000000\n",
       "max      150000.000000\n",
       "Name: p_income, dtype: float64"
      ]
     },
     "execution_count": 15,
     "metadata": {},
     "output_type": "execute_result"
    }
   ],
   "source": [
    "# p_income : mean > median (slightly)\n",
    "smdf['p_income'].describe()"
   ]
  },
  {
   "cell_type": "code",
   "execution_count": 16,
   "metadata": {},
   "outputs": [
    {
     "data": {
      "text/plain": [
       "<AxesSubplot:ylabel='p_income'>"
      ]
     },
     "execution_count": 16,
     "metadata": {},
     "output_type": "execute_result"
    },
    {
     "data": {
      "image/png": "[encoded data removed]",
      "text/plain": [
       "<Figure size 320x320 with 1 Axes>"
      ]
     },
     "metadata": {
      "needs_background": "light"
     },
     "output_type": "display_data"
    }
   ],
   "source": [
    "# In bdf, the trend and distribution is similar\n",
    "plt.figure(figsize = (4,4),dpi=80)\n",
    "sns.boxplot(data= bdf, y='p_income')"
   ]
  },
  {
   "cell_type": "code",
   "execution_count": 17,
   "metadata": {},
   "outputs": [
    {
     "data": {
      "text/plain": [
       "count      1277.000000\n",
       "mean      49131.558340\n",
       "std       27810.816864\n",
       "min        5000.000000\n",
       "25%       31500.000000\n",
       "50%       44000.000000\n",
       "75%       63000.000000\n",
       "max      150000.000000\n",
       "Name: p_income, dtype: float64"
      ]
     },
     "execution_count": 17,
     "metadata": {},
     "output_type": "execute_result"
    }
   ],
   "source": [
    "bdf['p_income'].describe()"
   ]
  },
  {
   "cell_type": "code",
   "execution_count": 18,
   "metadata": {},
   "outputs": [
    {
     "data": {
      "image/png": "[encoded data removed]",
      "text/plain": [
       "<Figure size 432x288 with 1 Axes>"
      ]
     },
     "metadata": {
      "needs_background": "light"
     },
     "output_type": "display_data"
    }
   ],
   "source": [
    "# The distribution of p_income\n",
    "sns.countplot(data=smdf,x='p_income')\n",
    "plt.xticks(rotation=90);"
   ]
  },
  {
   "cell_type": "markdown",
   "metadata": {},
   "source": [
    "### FINDJOB vs p_income\n",
    "Whether find a civilian job within 6 months"
   ]
  },
  {
   "cell_type": "code",
   "execution_count": 19,
   "metadata": {},
   "outputs": [
    {
     "data": {
      "text/plain": [
       "<AxesSubplot:xlabel='FINDJOB', ylabel='p_income'>"
      ]
     },
     "execution_count": 19,
     "metadata": {},
     "output_type": "execute_result"
    },
    {
     "data": {
      "image/png": "[encoded data removed]",
      "text/plain": [
       "<Figure size 640x320 with 1 Axes>"
      ]
     },
     "metadata": {
      "needs_background": "light"
     },
     "output_type": "display_data"
    }
   ],
   "source": [
    "# The median of p_income matches with what we found on Census Brueau \n",
    "# \"Veteran Employment Outcomes\"\n",
    "# Median income is $44k\n",
    "# Although two groups of people have the same median\n",
    "# We can see people who find jobs > 6 months have lower min value \n",
    "# There are some outliers above both box plots (who earn 6 figures)\n",
    "# We will remove them later\n",
    "plt.figure(figsize = (8,4),dpi=80)\n",
    "sns.boxplot(data= smdf,x='FINDJOB', y='p_income')"
   ]
  },
  {
   "cell_type": "code",
   "execution_count": 20,
   "metadata": {
    "scrolled": true
   },
   "outputs": [
    {
     "data": {
      "text/plain": [
       "(0.0, 90000.0)"
      ]
     },
     "execution_count": 20,
     "metadata": {},
     "output_type": "execute_result"
    },
    {
     "data": {
      "image/png": "[encoded data removed]",
      "text/plain": [
       "<Figure size 640x320 with 1 Axes>"
      ]
     },
     "metadata": {
      "needs_background": "light"
     },
     "output_type": "display_data"
    }
   ],
   "source": [
    "plt.figure(figsize = (8,4),dpi=80)\n",
    "sns.boxplot(data= smdf,x='FINDJOB', y='p_income')\n",
    "plt.ylim(0,90000)"
   ]
  },
  {
   "cell_type": "code",
   "execution_count": 21,
   "metadata": {},
   "outputs": [
    {
     "data": {
      "text/plain": [
       "count       149.000000\n",
       "mean      50167.785235\n",
       "std       26943.422375\n",
       "min        7500.000000\n",
       "25%       31500.000000\n",
       "50%       44000.000000\n",
       "75%       62500.000000\n",
       "max      150000.000000\n",
       "Name: p_income, dtype: float64"
      ]
     },
     "execution_count": 21,
     "metadata": {},
     "output_type": "execute_result"
    }
   ],
   "source": [
    "# Compare group mean vs median\n",
    "# We can see veterans who find a job faster have slightly higher mean income(+$4K)\n",
    "# However, both groups have the same median income of $44k\n",
    "smdf[smdf['FINDJOB']=='<6 months']['p_income'].describe()"
   ]
  },
  {
   "cell_type": "code",
   "execution_count": 22,
   "metadata": {},
   "outputs": [
    {
     "data": {
      "text/plain": [
       "count       100.000000\n",
       "mean      46005.000000\n",
       "std       27019.306135\n",
       "min        7500.000000\n",
       "25%       25000.000000\n",
       "50%       44000.000000\n",
       "75%       62500.000000\n",
       "max      150000.000000\n",
       "Name: p_income, dtype: float64"
      ]
     },
     "execution_count": 22,
     "metadata": {},
     "output_type": "execute_result"
    }
   ],
   "source": [
    "smdf[smdf['FINDJOB']=='>6 months']['p_income'].describe()"
   ]
  },
  {
   "cell_type": "markdown",
   "metadata": {},
   "source": [
    "### SCHOOL vs p_income\n",
    "Whether enroll in school after leaving the military"
   ]
  },
  {
   "cell_type": "code",
   "execution_count": 23,
   "metadata": {},
   "outputs": [
    {
     "data": {
      "text/plain": [
       "Yes    134\n",
       "No     115\n",
       "Name: SCHOOL, dtype: int64"
      ]
     },
     "execution_count": 23,
     "metadata": {},
     "output_type": "execute_result"
    }
   ],
   "source": [
    "# SCHOOL\n",
    "smdf['SCHOOL'].value_counts()"
   ]
  },
  {
   "cell_type": "code",
   "execution_count": 24,
   "metadata": {},
   "outputs": [
    {
     "data": {
      "text/plain": [
       "<AxesSubplot:xlabel='SCHOOL', ylabel='p_income'>"
      ]
     },
     "execution_count": 24,
     "metadata": {},
     "output_type": "execute_result"
    },
    {
     "data": {
      "image/png": "[encoded data removed]",
      "text/plain": [
       "<Figure size 640x320 with 1 Axes>"
      ]
     },
     "metadata": {
      "needs_background": "light"
     },
     "output_type": "display_data"
    }
   ],
   "source": [
    "# We can see there's no difference in median income for two groups\n",
    "plt.figure(figsize = (8,4),dpi=80)\n",
    "sns.boxplot(data= smdf,x='SCHOOL', y='p_income')"
   ]
  },
  {
   "cell_type": "code",
   "execution_count": 25,
   "metadata": {},
   "outputs": [
    {
     "data": {
      "text/plain": [
       "<AxesSubplot:xlabel='SCHOOL', ylabel='p_income'>"
      ]
     },
     "execution_count": 25,
     "metadata": {},
     "output_type": "execute_result"
    },
    {
     "data": {
      "image/png": "[encoded data removed]",
      "text/plain": [
       "<Figure size 640x320 with 1 Axes>"
      ]
     },
     "metadata": {
      "needs_background": "light"
     },
     "output_type": "display_data"
    }
   ],
   "source": [
    "# The result from smdf is consistent with bdf\n",
    "plt.figure(figsize = (8,4),dpi=80)\n",
    "sns.boxplot(data= bdf,x='SCHOOL', y='p_income')"
   ]
  },
  {
   "cell_type": "markdown",
   "metadata": {},
   "source": [
    "### F_EDUCCAT2 vs p_income\n",
    "Education level"
   ]
  },
  {
   "cell_type": "code",
   "execution_count": 26,
   "metadata": {},
   "outputs": [
    {
     "data": {
      "text/plain": [
       "Bachelors degree           75\n",
       "MS/PHD degree              58\n",
       "Some college(no degree)    55\n",
       "Associate degree           38\n",
       "High school degree         23\n",
       "Name: F_EDUCCAT2, dtype: int64"
      ]
     },
     "execution_count": 26,
     "metadata": {},
     "output_type": "execute_result"
    }
   ],
   "source": [
    "# The school result above is not expected\n",
    "# However,if we adjust the assumption of going to school to the following \n",
    "# Assumption 1: going to school doesn't mean they have a degree\n",
    "# Assumption 2: Also doesn't specify what type of school they went and what degree they earn\n",
    "# Thus, we should look into education for more info\n",
    "smdf['F_EDUCCAT2'].value_counts()"
   ]
  },
  {
   "cell_type": "code",
   "execution_count": 27,
   "metadata": {},
   "outputs": [
    {
     "data": {
      "text/plain": [
       "<AxesSubplot:xlabel='F_EDUCCAT2', ylabel='p_income'>"
      ]
     },
     "execution_count": 27,
     "metadata": {},
     "output_type": "execute_result"
    },
    {
     "data": {
      "image/png": "[encoded data removed]",
      "text/plain": [
       "<Figure size 1500x600 with 1 Axes>"
      ]
     },
     "metadata": {
      "needs_background": "light"
     },
     "output_type": "display_data"
    }
   ],
   "source": [
    "# Veterans who have college degree or higher have higher personal income\n",
    "# High school has fewer data points, it's probably inaccurate or skewed \n",
    "plt.figure(figsize = (10,4),dpi=150)\n",
    "sns.boxplot(data= smdf,x='F_EDUCCAT2', y='p_income')"
   ]
  },
  {
   "cell_type": "code",
   "execution_count": 28,
   "metadata": {},
   "outputs": [
    {
     "data": {
      "image/png": "[encoded data removed]",
      "text/plain": [
       "<Figure size 1500x600 with 1 Axes>"
      ]
     },
     "metadata": {
      "needs_background": "light"
     },
     "output_type": "display_data"
    }
   ],
   "source": [
    "# For bdf, we can see a better trend that people who have higher degrees earn more\n",
    "plt.figure(figsize = (10,4),dpi=150)\n",
    "sns.boxplot(data= bdf,x='F_EDUCCAT2', y='p_income')\n",
    "plt.xticks(rotation=90)\n",
    "plt.ylim(0,90000);"
   ]
  },
  {
   "cell_type": "markdown",
   "metadata": {},
   "source": [
    "### SATLIFEb with p_income\n",
    "Whether satisfied with personal financial situation"
   ]
  },
  {
   "cell_type": "code",
   "execution_count": 29,
   "metadata": {},
   "outputs": [
    {
     "data": {
      "text/plain": [
       "Somewhat Satisfied       0.449799\n",
       "Very Satisfied           0.297189\n",
       "Somewhat Dissatisfied    0.168675\n",
       "Very Dissatisfied        0.084337\n",
       "Name: SATLIFEb, dtype: float64"
      ]
     },
     "execution_count": 29,
     "metadata": {},
     "output_type": "execute_result"
    }
   ],
   "source": [
    "# Most people are somewhat satisfied with their life currently (74%)\n",
    "smdf['SATLIFEb'].value_counts()/len(smdf)"
   ]
  },
  {
   "cell_type": "code",
   "execution_count": 30,
   "metadata": {},
   "outputs": [
    {
     "data": {
      "text/plain": [
       "<AxesSubplot:xlabel='SATLIFEb', ylabel='count'>"
      ]
     },
     "execution_count": 30,
     "metadata": {},
     "output_type": "execute_result"
    },
    {
     "data": {
      "image/png": "[encoded data removed]",
      "text/plain": [
       "<Figure size 640x320 with 1 Axes>"
      ]
     },
     "metadata": {
      "needs_background": "light"
     },
     "output_type": "display_data"
    }
   ],
   "source": [
    "plt.figure(figsize = (8,4),dpi=80)\n",
    "sns.countplot(data= smdf,x='SATLIFEb')"
   ]
  },
  {
   "cell_type": "code",
   "execution_count": 31,
   "metadata": {},
   "outputs": [
    {
     "data": {
      "text/plain": [
       "Somewhat Satisfied       0.440877\n",
       "Very Satisfied           0.331245\n",
       "Somewhat Dissatisfied    0.162099\n",
       "Very Dissatisfied        0.065779\n",
       "Name: SATLIFEb, dtype: float64"
      ]
     },
     "execution_count": 31,
     "metadata": {},
     "output_type": "execute_result"
    }
   ],
   "source": [
    "# bdf shows similar results (77%)\n",
    "bdf['SATLIFEb'].value_counts()/len(bdf)"
   ]
  },
  {
   "cell_type": "code",
   "execution_count": 32,
   "metadata": {
    "scrolled": true
   },
   "outputs": [
    {
     "data": {
      "text/plain": [
       "<AxesSubplot:xlabel='SATLIFEb', ylabel='p_income'>"
      ]
     },
     "execution_count": 32,
     "metadata": {},
     "output_type": "execute_result"
    },
    {
     "data": {
      "image/png": "[encoded data removed]",
      "text/plain": [
       "<Figure size 640x320 with 1 Axes>"
      ]
     },
     "metadata": {
      "needs_background": "light"
     },
     "output_type": "display_data"
    }
   ],
   "source": [
    "# We can see veterans who answered \"somewhat dissatisfied\" or \"Very Dissatisfied\" \n",
    "# have lower median income of $35k\n",
    "\n",
    "# Data from Wage Statistics : \n",
    "# 1. $40K-$50k is  at 60-65 percentile  \n",
    "# 2. $35K is the median income all across USA : \n",
    "\n",
    "# when comparing our result with Wage Statistics, we found:\n",
    "# 1. The median income of general population, $35k,is an unsatisfied level for veterans\n",
    "# 2. Veterans earn more median income of $45k\n",
    "plt.figure(figsize = (8,4),dpi=80)\n",
    "sns.boxplot(data= smdf,x='SATLIFEb', y='p_income',order=['Very Dissatisfied','Somewhat Dissatisfied','Somewhat Satisfied','Very Satisfied'])"
   ]
  },
  {
   "cell_type": "code",
   "execution_count": 33,
   "metadata": {},
   "outputs": [
    {
     "data": {
      "text/plain": [
       "<AxesSubplot:xlabel='SATLIFEb', ylabel='p_income'>"
      ]
     },
     "execution_count": 33,
     "metadata": {},
     "output_type": "execute_result"
    },
    {
     "data": {
      "image/png": "[encoded data removed]",
      "text/plain": [
       "<Figure size 640x320 with 1 Axes>"
      ]
     },
     "metadata": {
      "needs_background": "light"
     },
     "output_type": "display_data"
    }
   ],
   "source": [
    "# Let's check whether there's a similar trend in bdf\n",
    "# The range of boxplot is too wide due to outliers\n",
    "plt.figure(figsize = (8,4),dpi=80)\n",
    "sns.boxplot(data= bdf,x='SATLIFEb', y='p_income',order=['Very Dissatisfied','Somewhat Dissatisfied','Somewhat Satisfied','Very Satisfied'])"
   ]
  },
  {
   "cell_type": "code",
   "execution_count": 34,
   "metadata": {
    "scrolled": true
   },
   "outputs": [
    {
     "data": {
      "image/png": "[encoded data removed]",
      "text/plain": [
       "<Figure size 640x320 with 1 Axes>"
      ]
     },
     "metadata": {
      "needs_background": "light"
     },
     "output_type": "display_data"
    }
   ],
   "source": [
    "# Let's limit y to 90000\n",
    "# Veterans who already have a job line up(included in bdf) have similar trend\n",
    "# Veterans have to earn >45 to be satisfied with their life \n",
    "# Veterans who are very satisfied earn around $65 (probably who had a job lined up)\n",
    "# $65K is 78 percentile in general population\n",
    "plt.figure(figsize = (8,4),dpi=80)\n",
    "graph =sns.boxplot(data= bdf,x='SATLIFEb', y='p_income',order=['Very Dissatisfied','Somewhat Dissatisfied','Somewhat Satisfied','Very Satisfied'])\n",
    "graph.axhline(44000,color='yellow',ls='--')\n",
    "plt.ylim(0,90000);"
   ]
  },
  {
   "cell_type": "markdown",
   "metadata": {},
   "source": [
    "### RANK vs p_income\n",
    "Rank in military"
   ]
  },
  {
   "cell_type": "code",
   "execution_count": 35,
   "metadata": {},
   "outputs": [
    {
     "data": {
      "text/plain": [
       "E1-E6      103\n",
       "E7-E9       97\n",
       "O1-O10      43\n",
       "WO1-WO5      6\n",
       "Name: RANK, dtype: int64"
      ]
     },
     "execution_count": 35,
     "metadata": {},
     "output_type": "execute_result"
    }
   ],
   "source": [
    "smdf['RANK'].value_counts()"
   ]
  },
  {
   "cell_type": "code",
   "execution_count": 36,
   "metadata": {
    "scrolled": true
   },
   "outputs": [
    {
     "data": {
      "text/plain": [
       "<AxesSubplot:xlabel='RANK', ylabel='p_income'>"
      ]
     },
     "execution_count": 36,
     "metadata": {},
     "output_type": "execute_result"
    },
    {
     "data": {
      "image/png": "[encoded data removed]",
      "text/plain": [
       "<Figure size 640x320 with 1 Axes>"
      ]
     },
     "metadata": {
      "needs_background": "light"
     },
     "output_type": "display_data"
    }
   ],
   "source": [
    "# We can see higher the rank is, higher the p_income\n",
    "# Veterans who earn lower than $45k(satisfied level): \n",
    "# E1-E6:75%, WO1-WO5: 30%, E7-E9: 50%, O1-O10 : 25%\n",
    "# Officers and Warrent officers' results can be skewed due to few data points\n",
    "plt.figure(figsize = (8,4),dpi=80)\n",
    "sns.boxplot(data= smdf,x='RANK', y='p_income')"
   ]
  },
  {
   "cell_type": "code",
   "execution_count": 37,
   "metadata": {},
   "outputs": [
    {
     "data": {
      "text/plain": [
       "E1-E6      558\n",
       "E7-E9      455\n",
       "O1-O10     247\n",
       "WO1-WO5     17\n",
       "Name: RANK, dtype: int64"
      ]
     },
     "execution_count": 37,
     "metadata": {},
     "output_type": "execute_result"
    }
   ],
   "source": [
    "# Let's check the relationship in bdf(larger dataset)\n",
    "bdf['RANK'].value_counts()"
   ]
  },
  {
   "cell_type": "code",
   "execution_count": 38,
   "metadata": {
    "scrolled": true
   },
   "outputs": [
    {
     "data": {
      "text/plain": [
       "(0.0, 90000.0)"
      ]
     },
     "execution_count": 38,
     "metadata": {},
     "output_type": "execute_result"
    },
    {
     "data": {
      "image/png": "[encoded data removed]",
      "text/plain": [
       "<Figure size 640x320 with 1 Axes>"
      ]
     },
     "metadata": {
      "needs_background": "light"
     },
     "output_type": "display_data"
    }
   ],
   "source": [
    "# bdf has higher median for E1-E6(include people who had a job lined up) : $45k\n",
    "# Veterans who earn lower than $45k(satisfied level): \n",
    "# E1-E6:50%, WO1-WO5: 30%, E7-E9: 30%, officer : 25%\n",
    "# Apparently, veterans who had a job lined up make more\n",
    "# Especially affect enlisted veterans(E1-E6 and E7-E9)\n",
    "plt.figure(figsize = (8,4),dpi=80)\n",
    "sns.boxplot(data= bdf,x='RANK', y='p_income')\n",
    "plt.ylim(0,90000)"
   ]
  },
  {
   "cell_type": "markdown",
   "metadata": {},
   "source": [
    "### Branch vs p_income\n",
    "Branch served on active duty"
   ]
  },
  {
   "cell_type": "code",
   "execution_count": 39,
   "metadata": {},
   "outputs": [
    {
     "data": {
      "text/plain": [
       "Army           99\n",
       "Navy           56\n",
       "Air_Force      53\n",
       "Marines        27\n",
       "Muti-Branch     9\n",
       "Coast_Guard     5\n",
       "Name: Branch, dtype: int64"
      ]
     },
     "execution_count": 39,
     "metadata": {},
     "output_type": "execute_result"
    }
   ],
   "source": [
    "smdf['Branch'].value_counts()"
   ]
  },
  {
   "cell_type": "code",
   "execution_count": 40,
   "metadata": {},
   "outputs": [
    {
     "data": {
      "text/plain": [
       "Army           0.397590\n",
       "Navy           0.224900\n",
       "Air_Force      0.212851\n",
       "Marines        0.108434\n",
       "Muti-Branch    0.036145\n",
       "Coast_Guard    0.020080\n",
       "Name: Branch, dtype: float64"
      ]
     },
     "execution_count": 40,
     "metadata": {},
     "output_type": "execute_result"
    }
   ],
   "source": [
    "# The composition of branches is consistent with the population of veterans\n",
    "# Check here: https://www.cfr.org/backgrounder/demographics-us-military\n",
    "smdf['Branch'].value_counts()/len(smdf)"
   ]
  },
  {
   "cell_type": "code",
   "execution_count": 41,
   "metadata": {
    "scrolled": true
   },
   "outputs": [
    {
     "data": {
      "text/plain": [
       "<AxesSubplot:xlabel='Branch', ylabel='p_income'>"
      ]
     },
     "execution_count": 41,
     "metadata": {},
     "output_type": "execute_result"
    },
    {
     "data": {
      "image/png": "[encoded data removed]",
      "text/plain": [
       "<Figure size 640x320 with 1 Axes>"
      ]
     },
     "metadata": {
      "needs_background": "light"
     },
     "output_type": "display_data"
    }
   ],
   "source": [
    "# We can see Navy have the lowest income and Air_Force and Coast_Guard have higher income\n",
    "# However, there are very few veterans are in Coast_Guard \n",
    "# The difference in salary might be related to what skills are transferable \n",
    "# we do see people on reddit says Air_Force has the most transferable skills \n",
    "# Since Air_Force provides more technical jobs \n",
    "# and its culture is more realistic and closer to cilvilian life\n",
    "plt.figure(figsize = (8,4),dpi=80)\n",
    "sns.boxplot(data= smdf,x='Branch', y='p_income')"
   ]
  },
  {
   "cell_type": "code",
   "execution_count": 42,
   "metadata": {},
   "outputs": [
    {
     "data": {
      "text/plain": [
       "Army           506\n",
       "Air_Force      306\n",
       "Navy           278\n",
       "Marines        125\n",
       "Muti-Branch     49\n",
       "Coast_Guard     13\n",
       "Name: Branch, dtype: int64"
      ]
     },
     "execution_count": 42,
     "metadata": {},
     "output_type": "execute_result"
    }
   ],
   "source": [
    "# Let's check whether there's similar trends in bdf\n",
    "bdf['Branch'].value_counts()"
   ]
  },
  {
   "cell_type": "code",
   "execution_count": 43,
   "metadata": {},
   "outputs": [
    {
     "data": {
      "text/plain": [
       "Army           0.396241\n",
       "Air_Force      0.239624\n",
       "Navy           0.217698\n",
       "Marines        0.097886\n",
       "Muti-Branch    0.038371\n",
       "Coast_Guard    0.010180\n",
       "Name: Branch, dtype: float64"
      ]
     },
     "execution_count": 43,
     "metadata": {},
     "output_type": "execute_result"
    }
   ],
   "source": [
    "bdf['Branch'].value_counts()/len(bdf)"
   ]
  },
  {
   "cell_type": "code",
   "execution_count": 44,
   "metadata": {},
   "outputs": [
    {
     "data": {
      "text/plain": [
       "(0.0, 90000.0)"
      ]
     },
     "execution_count": 44,
     "metadata": {},
     "output_type": "execute_result"
    },
    {
     "data": {
      "image/png": "[encoded data removed]",
      "text/plain": [
       "<Figure size 640x320 with 1 Axes>"
      ]
     },
     "metadata": {
      "needs_background": "light"
     },
     "output_type": "display_data"
    }
   ],
   "source": [
    "# In bdf, all branches veterans earn the same median salary : $45k after leaving the military\n",
    "# However, Air_Force still have larger range and max\n",
    "# Coast_Guard result might still be skewed\n",
    "plt.figure(figsize = (8,4),dpi=80)\n",
    "sns.boxplot(data= bdf,x='Branch', y='p_income')\n",
    "plt.ylim(0,90000)"
   ]
  },
  {
   "cell_type": "markdown",
   "metadata": {},
   "source": [
    "### CIVADJ vs p_income\n",
    "Re-adjustment experience to civilian life"
   ]
  },
  {
   "cell_type": "code",
   "execution_count": 45,
   "metadata": {},
   "outputs": [
    {
     "data": {
      "text/plain": [
       "Somewhat Easy         0.337349\n",
       "Somewhat difficult    0.337349\n",
       "Very Easy             0.184739\n",
       "Very difficult        0.140562\n",
       "Name: CIVADJ, dtype: float64"
      ]
     },
     "execution_count": 45,
     "metadata": {},
     "output_type": "execute_result"
    }
   ],
   "source": [
    "# Somewhat easy(68%) vs somewhat difficult(32%)\n",
    "smdf['CIVADJ'].value_counts()/len(smdf)"
   ]
  },
  {
   "cell_type": "code",
   "execution_count": 46,
   "metadata": {
    "scrolled": true
   },
   "outputs": [
    {
     "data": {
      "text/plain": [
       "Somewhat Easy         0.370399\n",
       "Very Easy             0.332811\n",
       "Somewhat difficult    0.230227\n",
       "Very difficult        0.066562\n",
       "Name: CIVADJ, dtype: float64"
      ]
     },
     "execution_count": 46,
     "metadata": {},
     "output_type": "execute_result"
    }
   ],
   "source": [
    "# Somewhat easy(70%) vs somewhat difficult(30%)\n",
    "bdf['CIVADJ'].value_counts()/len(bdf)"
   ]
  },
  {
   "cell_type": "code",
   "execution_count": 47,
   "metadata": {},
   "outputs": [
    {
     "data": {
      "text/plain": [
       "array(['post_911', 'pre_911'], dtype=object)"
      ]
     },
     "execution_count": 47,
     "metadata": {},
     "output_type": "execute_result"
    }
   ],
   "source": [
    "bdf['Group'].unique()"
   ]
  },
  {
   "cell_type": "code",
   "execution_count": 48,
   "metadata": {},
   "outputs": [
    {
     "data": {
      "text/plain": [
       "Very Easy             0.401009\n",
       "Somewhat Easy         0.382093\n",
       "Somewhat difficult    0.179067\n",
       "Very difficult        0.037831\n",
       "Name: CIVADJ, dtype: float64"
      ]
     },
     "execution_count": 48,
     "metadata": {},
     "output_type": "execute_result"
    }
   ],
   "source": [
    "# Let's check whether there is a difference for pre-911 and post-911\n",
    "# pre-911 : Somewhat easy(78%) vs somewhat difficult(22%)\n",
    "bdf[bdf['Group'] == 'pre_911']['CIVADJ'].value_counts()/len(bdf[bdf['Group'] == 'pre_911'])"
   ]
  },
  {
   "cell_type": "code",
   "execution_count": 49,
   "metadata": {},
   "outputs": [
    {
     "data": {
      "text/plain": [
       "Somewhat Easy         0.351240\n",
       "Somewhat difficult    0.314050\n",
       "Very Easy             0.221074\n",
       "Very difficult        0.113636\n",
       "Name: CIVADJ, dtype: float64"
      ]
     },
     "execution_count": 49,
     "metadata": {},
     "output_type": "execute_result"
    }
   ],
   "source": [
    "# Let's check whether there is a difference for pre-911 and post-911\n",
    "# post-911 : Somewhat easy(67%) vs somewhat difficult(33%)\n",
    "# Obviously, post-911 veterans struggle more than pre-911 veterans in adjusting\n",
    "bdf[bdf['Group'] == 'post_911']['CIVADJ'].value_counts()/len(bdf[bdf['Group'] == 'post_911'])"
   ]
  },
  {
   "cell_type": "code",
   "execution_count": 50,
   "metadata": {},
   "outputs": [
    {
     "data": {
      "text/plain": [
       "<AxesSubplot:xlabel='CIVADJ', ylabel='p_income'>"
      ]
     },
     "execution_count": 50,
     "metadata": {},
     "output_type": "execute_result"
    },
    {
     "data": {
      "image/png": "[encoded data removed]",
      "text/plain": [
       "<Figure size 640x320 with 1 Axes>"
      ]
     },
     "metadata": {
      "needs_background": "light"
     },
     "output_type": "display_data"
    }
   ],
   "source": [
    "# Veterans who say they have very difficult time to adjust to civilian life\n",
    "# Earned a median salary of $30k, it's lower than $45(satisfied level)\n",
    "plt.figure(figsize = (8,4),dpi=80)\n",
    "sns.boxplot(data= smdf,x='CIVADJ', y='p_income')"
   ]
  },
  {
   "cell_type": "code",
   "execution_count": 51,
   "metadata": {
    "scrolled": true
   },
   "outputs": [
    {
     "data": {
      "text/plain": [
       "(0.0, 90000.0)"
      ]
     },
     "execution_count": 51,
     "metadata": {},
     "output_type": "execute_result"
    },
    {
     "data": {
      "image/png": "[encoded data removed]",
      "text/plain": [
       "<Figure size 640x320 with 1 Axes>"
      ]
     },
     "metadata": {
      "needs_background": "light"
     },
     "output_type": "display_data"
    }
   ],
   "source": [
    "# Check this in bdf\n",
    "# Similar result to smdf\n",
    "# People who say they have very difficult time to adjust to civilian life\n",
    "# Earn a median salary of $35k, it's lower than $45\n",
    "plt.figure(figsize = (8,4),dpi=80)\n",
    "sns.boxplot(data= bdf,x='CIVADJ', y='p_income')\n",
    "plt.ylim(0,90000)"
   ]
  },
  {
   "cell_type": "code",
   "execution_count": 52,
   "metadata": {},
   "outputs": [
    {
     "data": {
      "image/png": "[encoded data removed]",
      "text/plain": [
       "<Figure size 640x320 with 1 Axes>"
      ]
     },
     "metadata": {
      "needs_background": "light"
     },
     "output_type": "display_data"
    }
   ],
   "source": [
    "plt.figure(figsize = (8,4),dpi=80)\n",
    "sns.boxplot(data= bdf,x='CIVADJ', y='p_income',hue='Group',\n",
    "            order=['Very difficult','Somewhat difficult','Somewhat Easy','Very Easy'])\n",
    "plt.ylim(0,90000)\n",
    "plt.legend(loc=(1.1,0.5));"
   ]
  },
  {
   "cell_type": "markdown",
   "metadata": {},
   "source": [
    "### YEARSERV vs p_income\n",
    "How many years served on active duty"
   ]
  },
  {
   "cell_type": "code",
   "execution_count": 53,
   "metadata": {},
   "outputs": [
    {
     "data": {
      "text/plain": [
       "<AxesSubplot:xlabel='YEARSERV', ylabel='p_income'>"
      ]
     },
     "execution_count": 53,
     "metadata": {},
     "output_type": "execute_result"
    },
    {
     "data": {
      "image/png": "[encoded data removed]",
      "text/plain": [
       "<Figure size 640x320 with 1 Axes>"
      ]
     },
     "metadata": {
      "needs_background": "light"
     },
     "output_type": "display_data"
    }
   ],
   "source": [
    "# 1 enlistment is 4-6 years (mostly 4 years)\n",
    "\n",
    "# For short serving period (<5 years):\n",
    "# 3-4 years and <2 years people are very likely to struggle with $35k median income\n",
    "\n",
    "# For moderate serving period(5-19 years):\n",
    "# 5-19 years median income stay the same as $45k\n",
    "# We can see similar results here : chrome-extension://efaidnbmnnnibpcajpcglclefindmkaj/viewer.html?pdfurl=https%3A%2F%2Fmilitarypay.defense.gov%2FPortals%2F3%2FDocuments%2F2022%2520Basic%2520Pay%2520Table%2520-%25201%2520Drill%2520Pay.pdf&clen=32463&chunk=true\n",
    "\n",
    "# For long serving period(>20 years):\n",
    "# Higher median income of $65k\n",
    "# This is because they are more experienced \n",
    "# and probably have more connections(Higher rank, leadership)\n",
    "\n",
    "plt.figure(figsize = (8,4),dpi=80)\n",
    "sns.boxplot(data= smdf,x='YEARSERV', y='p_income')"
   ]
  },
  {
   "cell_type": "code",
   "execution_count": 54,
   "metadata": {},
   "outputs": [
    {
     "data": {
      "image/png": "[encoded data removed]",
      "text/plain": [
       "<Figure size 640x320 with 1 Axes>"
      ]
     },
     "metadata": {
      "needs_background": "light"
     },
     "output_type": "display_data"
    }
   ],
   "source": [
    "# Let's see whether there's difference btw groups of pre 9/11 and post 9/11\n",
    "# Pre-911 group has the same median all across differernt year served : $45k\n",
    "# Post-911 group tend to have lower income for people who served less than 10 years\n",
    "# and higher income for people who served more than 10 years\n",
    "# This means,post-911 veterans face more uncertainty on their income \n",
    "plt.figure(figsize = (8,4),dpi=80)\n",
    "sns.boxplot(data= bdf,x='YEARSERV', y='p_income',hue='Group',\n",
    "            order=['< 2 years','3-4 years','5-9 years','10-19 years','>20 years'])\n",
    "plt.ylim(0,90000)\n",
    "plt.legend(loc=(1.1,0.5));"
   ]
  },
  {
   "cell_type": "markdown",
   "metadata": {},
   "source": [
    "### INJURED vs p_income\n",
    "whether injured when active"
   ]
  },
  {
   "cell_type": "code",
   "execution_count": 55,
   "metadata": {},
   "outputs": [
    {
     "data": {
      "text/plain": [
       "count       249.000000\n",
       "mean      48495.983936\n",
       "std       26996.975337\n",
       "min        7500.000000\n",
       "25%       31500.000000\n",
       "50%       44000.000000\n",
       "75%       62500.000000\n",
       "max      150000.000000\n",
       "Name: p_income, dtype: float64"
      ]
     },
     "execution_count": 55,
     "metadata": {},
     "output_type": "execute_result"
    }
   ],
   "source": [
    "smdf['p_income'].describe()"
   ]
  },
  {
   "cell_type": "code",
   "execution_count": 56,
   "metadata": {
    "scrolled": true
   },
   "outputs": [
    {
     "data": {
      "text/plain": [
       "<AxesSubplot:xlabel='INJURED', ylabel='p_income'>"
      ]
     },
     "execution_count": 56,
     "metadata": {},
     "output_type": "execute_result"
    },
    {
     "data": {
      "image/png": "[encoded data removed]",
      "text/plain": [
       "<Figure size 640x320 with 1 Axes>"
      ]
     },
     "metadata": {
      "needs_background": "light"
     },
     "output_type": "display_data"
    }
   ],
   "source": [
    "# Being injured has lower pay($5k in difference)\n",
    "# There's no difference where veterans got injured(in or out of combat)\n",
    "plt.figure(figsize = (8,4),dpi=80)\n",
    "sns.boxplot(data= smdf,x='INJURED', y='p_income')"
   ]
  },
  {
   "cell_type": "code",
   "execution_count": 57,
   "metadata": {},
   "outputs": [
    {
     "data": {
      "text/plain": [
       "count      1277.000000\n",
       "mean      49131.558340\n",
       "std       27810.816864\n",
       "min        5000.000000\n",
       "25%       31500.000000\n",
       "50%       44000.000000\n",
       "75%       63000.000000\n",
       "max      150000.000000\n",
       "Name: p_income, dtype: float64"
      ]
     },
     "execution_count": 57,
     "metadata": {},
     "output_type": "execute_result"
    }
   ],
   "source": [
    "bdf['p_income'].describe()"
   ]
  },
  {
   "cell_type": "code",
   "execution_count": 58,
   "metadata": {},
   "outputs": [
    {
     "data": {
      "text/plain": [
       "<AxesSubplot:xlabel='INJURED', ylabel='p_income'>"
      ]
     },
     "execution_count": 58,
     "metadata": {},
     "output_type": "execute_result"
    },
    {
     "data": {
      "image/png": "[encoded data removed]",
      "text/plain": [
       "<Figure size 640x320 with 1 Axes>"
      ]
     },
     "metadata": {
      "needs_background": "light"
     },
     "output_type": "display_data"
    }
   ],
   "source": [
    "# In bdf, there's no difference in median income among groups\n",
    "plt.figure(figsize = (8,4),dpi=80)\n",
    "sns.boxplot(data= bdf,x='INJURED', y='p_income')"
   ]
  },
  {
   "cell_type": "markdown",
   "metadata": {},
   "source": [
    "### TRAUMA1 vs p_income\n",
    "Whether have trauma due to the military"
   ]
  },
  {
   "cell_type": "code",
   "execution_count": 59,
   "metadata": {},
   "outputs": [
    {
     "data": {
      "text/plain": [
       "No     125\n",
       "Yes    124\n",
       "Name: TRAUMA1, dtype: int64"
      ]
     },
     "execution_count": 59,
     "metadata": {},
     "output_type": "execute_result"
    }
   ],
   "source": [
    "# Half of the post-911 veterans who don't have job lined up have trauma\n",
    "smdf['TRAUMA1'].value_counts()"
   ]
  },
  {
   "cell_type": "code",
   "execution_count": 61,
   "metadata": {
    "scrolled": true
   },
   "outputs": [
    {
     "data": {
      "text/plain": [
       "<AxesSubplot:xlabel='TRAUMA1', ylabel='p_income'>"
      ]
     },
     "execution_count": 61,
     "metadata": {},
     "output_type": "execute_result"
    },
    {
     "data": {
      "image/png": "[encoded data removed]",
      "text/plain": [
       "<Figure size 640x320 with 1 Axes>"
      ]
     },
     "metadata": {
      "needs_background": "light"
     },
     "output_type": "display_data"
    }
   ],
   "source": [
    "# People who have Trauma has lower pay ($10k difference)\n",
    "plt.figure(figsize = (8,4),dpi=80)\n",
    "sns.boxplot(data= smdf,x='TRAUMA1', y='p_income')"
   ]
  },
  {
   "cell_type": "code",
   "execution_count": 62,
   "metadata": {},
   "outputs": [
    {
     "data": {
      "text/plain": [
       "(0.0, 100000.0)"
      ]
     },
     "execution_count": 62,
     "metadata": {},
     "output_type": "execute_result"
    },
    {
     "data": {
      "image/png": "[encoded data removed]",
      "text/plain": [
       "<Figure size 640x320 with 1 Axes>"
      ]
     },
     "metadata": {
      "needs_background": "light"
     },
     "output_type": "display_data"
    }
   ],
   "source": [
    "# When including veterans who have job lined up, there's no difference in p_income\n",
    "plt.figure(figsize = (8,4),dpi=80)\n",
    "sns.boxplot(data= bdf,x='TRAUMA1', y='p_income')\n",
    "plt.ylim(0,100000)"
   ]
  },
  {
   "cell_type": "code",
   "execution_count": 63,
   "metadata": {},
   "outputs": [
    {
     "data": {
      "text/plain": [
       "(0.0, 100000.0)"
      ]
     },
     "execution_count": 63,
     "metadata": {},
     "output_type": "execute_result"
    },
    {
     "data": {
      "image/png": "[encoded data removed]",
      "text/plain": [
       "<Figure size 640x320 with 1 Axes>"
      ]
     },
     "metadata": {
      "needs_background": "light"
     },
     "output_type": "display_data"
    }
   ],
   "source": [
    "# Almost no difference in two groups\n",
    "plt.figure(figsize = (8,4),dpi=80)\n",
    "sns.boxplot(data= bdf,x='TRAUMA1', y='p_income',hue='Group')\n",
    "plt.ylim(0,100000)"
   ]
  },
  {
   "cell_type": "markdown",
   "metadata": {},
   "source": [
    "### F_AGECAT vs p_income\n",
    "Age categories"
   ]
  },
  {
   "cell_type": "code",
   "execution_count": 64,
   "metadata": {},
   "outputs": [
    {
     "data": {
      "text/plain": [
       "30-49    142\n",
       "50-64     73\n",
       "65+       21\n",
       "18-29     13\n",
       "Name: F_AGECAT, dtype: int64"
      ]
     },
     "execution_count": 64,
     "metadata": {},
     "output_type": "execute_result"
    }
   ],
   "source": [
    "smdf['F_AGECAT'].value_counts()"
   ]
  },
  {
   "cell_type": "code",
   "execution_count": 65,
   "metadata": {},
   "outputs": [
    {
     "data": {
      "text/plain": [
       "65+      530\n",
       "50-64    387\n",
       "30-49    331\n",
       "18-29     29\n",
       "Name: F_AGECAT, dtype: int64"
      ]
     },
     "execution_count": 65,
     "metadata": {},
     "output_type": "execute_result"
    }
   ],
   "source": [
    "bdf['F_AGECAT'].value_counts()"
   ]
  },
  {
   "cell_type": "code",
   "execution_count": 66,
   "metadata": {
    "scrolled": true
   },
   "outputs": [
    {
     "data": {
      "text/plain": [
       "<AxesSubplot:xlabel='F_AGECAT', ylabel='p_income'>"
      ]
     },
     "execution_count": 66,
     "metadata": {},
     "output_type": "execute_result"
    },
    {
     "data": {
      "image/png": "[encoded data removed]",
      "text/plain": [
       "<Figure size 640x320 with 1 Axes>"
      ]
     },
     "metadata": {
      "needs_background": "light"
     },
     "output_type": "display_data"
    }
   ],
   "source": [
    "# Young people struggle a lot\n",
    "plt.figure(figsize = (8,4),dpi=80)\n",
    "sns.boxplot(data= smdf,x='F_AGECAT', y='p_income')"
   ]
  },
  {
   "cell_type": "code",
   "execution_count": 67,
   "metadata": {},
   "outputs": [
    {
     "data": {
      "text/plain": [
       "(0.0, 130000.0)"
      ]
     },
     "execution_count": 67,
     "metadata": {},
     "output_type": "execute_result"
    },
    {
     "data": {
      "image/png": "[encoded data removed]",
      "text/plain": [
       "<Figure size 640x320 with 1 Axes>"
      ]
     },
     "metadata": {
      "needs_background": "light"
     },
     "output_type": "display_data"
    }
   ],
   "source": [
    "# Seems age affect post_911 veterans more\n",
    "plt.figure(figsize = (8,4),dpi=80)\n",
    "sns.boxplot(data= bdf,x='F_AGECAT', y='p_income',hue='Group',order=['18-29','30-49','50-64','65+'])\n",
    "plt.legend(loc=(1.1,0.5))\n",
    "plt.ylim(0,130000)"
   ]
  },
  {
   "cell_type": "markdown",
   "metadata": {},
   "source": [
    "### LOOKJOB vs p_income\n",
    "Whether look for a civilian job right away or not right away"
   ]
  },
  {
   "cell_type": "code",
   "execution_count": 68,
   "metadata": {
    "scrolled": true
   },
   "outputs": [
    {
     "data": {
      "text/plain": [
       "<AxesSubplot:xlabel='LOOKJOB', ylabel='p_income'>"
      ]
     },
     "execution_count": 68,
     "metadata": {},
     "output_type": "execute_result"
    },
    {
     "data": {
      "image/png": "[encoded data removed]",
      "text/plain": [
       "<Figure size 640x320 with 1 Axes>"
      ]
     },
     "metadata": {
      "needs_background": "light"
     },
     "output_type": "display_data"
    }
   ],
   "source": [
    "# People who look for job right away or later doesn't have difference in salary\n",
    "plt.figure(figsize = (8,4),dpi=80)\n",
    "sns.boxplot(data= smdf,x='LOOKJOB', y='p_income')"
   ]
  },
  {
   "cell_type": "markdown",
   "metadata": {},
   "source": [
    "### VABENEFITS vs p_income\n",
    "Whether received VA benefits after leaving the military, including disability compensation, pension, education and training, health care, home loans, insurance, Veteran Readiness and Employment, and burial"
   ]
  },
  {
   "cell_type": "code",
   "execution_count": 69,
   "metadata": {},
   "outputs": [
    {
     "data": {
      "text/plain": [
       "Yes    211\n",
       "No      38\n",
       "Name: VABENEFITS, dtype: int64"
      ]
     },
     "execution_count": 69,
     "metadata": {},
     "output_type": "execute_result"
    }
   ],
   "source": [
    "# Most people receive VA benefits (85%)\n",
    "smdf['VABENEFITS'].value_counts()"
   ]
  },
  {
   "cell_type": "code",
   "execution_count": 70,
   "metadata": {},
   "outputs": [
    {
     "data": {
      "text/plain": [
       "Yes    0.84739\n",
       "No     0.15261\n",
       "Name: VABENEFITS, dtype: float64"
      ]
     },
     "execution_count": 70,
     "metadata": {},
     "output_type": "execute_result"
    }
   ],
   "source": [
    "smdf['VABENEFITS'].value_counts()/len(smdf)"
   ]
  },
  {
   "cell_type": "code",
   "execution_count": 71,
   "metadata": {},
   "outputs": [
    {
     "data": {
      "text/plain": [
       "Yes    0.769773\n",
       "No     0.230227\n",
       "Name: VABENEFITS, dtype: float64"
      ]
     },
     "execution_count": 71,
     "metadata": {},
     "output_type": "execute_result"
    }
   ],
   "source": [
    "bdf['VABENEFITS'].value_counts()/len(bdf)"
   ]
  },
  {
   "cell_type": "code",
   "execution_count": 72,
   "metadata": {},
   "outputs": [
    {
     "data": {
      "text/plain": [
       "<AxesSubplot:xlabel='VABENEFITS', ylabel='p_income'>"
      ]
     },
     "execution_count": 72,
     "metadata": {},
     "output_type": "execute_result"
    },
    {
     "data": {
      "image/png": "[encoded data removed]",
      "text/plain": [
       "<Figure size 640x320 with 1 Axes>"
      ]
     },
     "metadata": {
      "needs_background": "light"
     },
     "output_type": "display_data"
    }
   ],
   "source": [
    "# Veterans who received VA benefits have higher potential on p_income\n",
    "# Although the median salary is the same for the two groups, \n",
    "# top 25% of people who don't use VA benefits doesn't make much more than the median\n",
    "# No: Q1,Q3, and max are lower\n",
    "plt.figure(figsize = (8,4),dpi=80)\n",
    "sns.boxplot(data= smdf,x='VABENEFITS', y='p_income')"
   ]
  },
  {
   "cell_type": "code",
   "execution_count": 73,
   "metadata": {
    "scrolled": true
   },
   "outputs": [
    {
     "data": {
      "text/plain": [
       "<matplotlib.legend.Legend at 0x7f97d90c1af0>"
      ]
     },
     "execution_count": 73,
     "metadata": {},
     "output_type": "execute_result"
    },
    {
     "data": {
      "image/png": "[encoded data removed]",
      "text/plain": [
       "<Figure size 640x320 with 1 Axes>"
      ]
     },
     "metadata": {
      "needs_background": "light"
     },
     "output_type": "display_data"
    }
   ],
   "source": [
    "# For bdf, receive VA benefits makes no difference in median p_income\n",
    "# However, we can see it's better for post-911 group to get  VA benefits l\n",
    "# This leads to higher salary potential(wider range and max)\n",
    "plt.figure(figsize = (8,4),dpi=80)\n",
    "sns.boxplot(data= bdf,x='VABENEFITS', y='p_income',hue='Group')\n",
    "plt.legend(loc=(1.1,0.5))"
   ]
  },
  {
   "cell_type": "markdown",
   "metadata": {},
   "source": [
    "### MILHELPJOB vs p_income\n",
    "whether serving in the military help or hurt(perceived subjectively) a veteran's ability to get a civilian job"
   ]
  },
  {
   "cell_type": "code",
   "execution_count": 74,
   "metadata": {},
   "outputs": [
    {
     "data": {
      "text/plain": [
       "Neither         88\n",
       "Helped a lot    86\n",
       "Helped a bit    60\n",
       "hurt a bit       9\n",
       "hurt a lot       6\n",
       "Name: MILHELPJOB, dtype: int64"
      ]
     },
     "execution_count": 74,
     "metadata": {},
     "output_type": "execute_result"
    }
   ],
   "source": [
    "smdf['MILHELPJOB'].value_counts()"
   ]
  },
  {
   "cell_type": "code",
   "execution_count": 75,
   "metadata": {},
   "outputs": [
    {
     "data": {
      "text/plain": [
       "Neither         0.353414\n",
       "Helped a lot    0.345382\n",
       "Helped a bit    0.240964\n",
       "hurt a bit      0.036145\n",
       "hurt a lot      0.024096\n",
       "Name: MILHELPJOB, dtype: float64"
      ]
     },
     "execution_count": 75,
     "metadata": {},
     "output_type": "execute_result"
    }
   ],
   "source": [
    "# 59% of post-911 veterans think it helped\n",
    "# 41% of them think it didn't help\n",
    "smdf['MILHELPJOB'].value_counts()/len(smdf)"
   ]
  },
  {
   "cell_type": "code",
   "execution_count": 76,
   "metadata": {
    "scrolled": false
   },
   "outputs": [
    {
     "data": {
      "text/plain": [
       "<AxesSubplot:xlabel='MILHELPJOB', ylabel='p_income'>"
      ]
     },
     "execution_count": 76,
     "metadata": {},
     "output_type": "execute_result"
    },
    {
     "data": {
      "image/png": "[encoded data removed]",
      "text/plain": [
       "<Figure size 640x320 with 1 Axes>"
      ]
     },
     "metadata": {
      "needs_background": "light"
     },
     "output_type": "display_data"
    }
   ],
   "source": [
    "# Only veterans who earn more than $45k think military experience helped them to find civilian jobs\n",
    "# People who earn less than $45k think \n",
    "# their military skills dont' help them to get a civilian job\n",
    "plt.figure(figsize = (8,4),dpi=80)\n",
    "sns.boxplot(data= smdf,x='MILHELPJOB', y='p_income',\n",
    "            order=['hurt a lot','hurt a bit','Neither','Helped a bit','Helped a lot'])"
   ]
  },
  {
   "cell_type": "code",
   "execution_count": 77,
   "metadata": {},
   "outputs": [
    {
     "data": {
      "image/png": "[encoded data removed]",
      "text/plain": [
       "<Figure size 640x320 with 1 Axes>"
      ]
     },
     "metadata": {
      "needs_background": "light"
     },
     "output_type": "display_data"
    }
   ],
   "source": [
    "plt.figure(figsize = (8,4),dpi=80)\n",
    "sns.boxplot(data= smdf,x='MILHELPJOB', y='p_income',\n",
    "            order=['hurt a lot','hurt a bit','Neither','Helped a bit','Helped a lot'])\n",
    "plt.ylim(0,100000);"
   ]
  },
  {
   "cell_type": "markdown",
   "metadata": {},
   "source": [
    "### JOBQUAL vs p_income\n",
    "Whether the first civilian job made a veteran feel like he/she was overqualified"
   ]
  },
  {
   "cell_type": "code",
   "execution_count": 78,
   "metadata": {},
   "outputs": [
    {
     "data": {
      "text/plain": [
       "Overqualified     126\n",
       "Just right         93\n",
       "Underqualified     30\n",
       "Name: JOBQUAL, dtype: int64"
      ]
     },
     "execution_count": 78,
     "metadata": {},
     "output_type": "execute_result"
    }
   ],
   "source": [
    "# Most veterans think they're overqualified for the first civilian job(51%)\n",
    "smdf['JOBQUAL'].value_counts()"
   ]
  },
  {
   "cell_type": "code",
   "execution_count": 79,
   "metadata": {},
   "outputs": [
    {
     "data": {
      "text/plain": [
       "Overqualified     0.506024\n",
       "Just right        0.373494\n",
       "Underqualified    0.120482\n",
       "Name: JOBQUAL, dtype: float64"
      ]
     },
     "execution_count": 79,
     "metadata": {},
     "output_type": "execute_result"
    }
   ],
   "source": [
    "smdf['JOBQUAL'].value_counts()/len(smdf)"
   ]
  },
  {
   "cell_type": "code",
   "execution_count": 80,
   "metadata": {},
   "outputs": [
    {
     "data": {
      "image/png": "[encoded data removed]",
      "text/plain": [
       "<Figure size 640x320 with 1 Axes>"
      ]
     },
     "metadata": {
      "needs_background": "light"
     },
     "output_type": "display_data"
    }
   ],
   "source": [
    "plt.figure(figsize = (8,4),dpi=80)\n",
    "sns.boxplot(data= smdf,x='JOBQUAL', y='p_income');"
   ]
  },
  {
   "cell_type": "markdown",
   "metadata": {},
   "source": [
    "### FIRSTJOB vs p_income\n",
    "How long did veterans stay at the first job"
   ]
  },
  {
   "cell_type": "code",
   "execution_count": 81,
   "metadata": {},
   "outputs": [
    {
     "data": {
      "text/plain": [
       "> 1 yr           133\n",
       "6 months- 1yr     60\n",
       "< 6 months        56\n",
       "Name: FIRSTJOB, dtype: int64"
      ]
     },
     "execution_count": 81,
     "metadata": {},
     "output_type": "execute_result"
    }
   ],
   "source": [
    "# Half of veterans left their first job after a year(54%)\n",
    "# Almost Half of veterans left their first job within a year\n",
    "smdf['FIRSTJOB'].value_counts()"
   ]
  },
  {
   "cell_type": "code",
   "execution_count": 82,
   "metadata": {},
   "outputs": [
    {
     "data": {
      "text/plain": [
       "> 1 yr           0.534137\n",
       "6 months- 1yr    0.240964\n",
       "< 6 months       0.224900\n",
       "Name: FIRSTJOB, dtype: float64"
      ]
     },
     "execution_count": 82,
     "metadata": {},
     "output_type": "execute_result"
    }
   ],
   "source": [
    "smdf['FIRSTJOB'].value_counts()/len(smdf)"
   ]
  },
  {
   "cell_type": "code",
   "execution_count": 83,
   "metadata": {},
   "outputs": [
    {
     "data": {
      "text/plain": [
       "<AxesSubplot:xlabel='FIRSTJOB', ylabel='p_income'>"
      ]
     },
     "execution_count": 83,
     "metadata": {},
     "output_type": "execute_result"
    },
    {
     "data": {
      "image/png": "[encoded data removed]",
      "text/plain": [
       "<Figure size 640x320 with 1 Axes>"
      ]
     },
     "metadata": {
      "needs_background": "light"
     },
     "output_type": "display_data"
    }
   ],
   "source": [
    "# Veterans who left their first jobs < 6 months have lower median pay (<$45k)\n",
    "plt.figure(figsize = (8,4),dpi=80)\n",
    "sns.boxplot(data= smdf,x='FIRSTJOB', y='p_income')"
   ]
  },
  {
   "cell_type": "code",
   "execution_count": 84,
   "metadata": {
    "scrolled": true
   },
   "outputs": [
    {
     "data": {
      "text/plain": [
       "(0.0, 80000.0)"
      ]
     },
     "execution_count": 84,
     "metadata": {},
     "output_type": "execute_result"
    },
    {
     "data": {
      "image/png": "[encoded data removed]",
      "text/plain": [
       "<Figure size 640x320 with 1 Axes>"
      ]
     },
     "metadata": {
      "needs_background": "light"
     },
     "output_type": "display_data"
    }
   ],
   "source": [
    "plt.figure(figsize = (8,4),dpi=80)\n",
    "sns.boxplot(data= smdf,x='FIRSTJOB', y='p_income')\n",
    "plt.ylim(0,80000)"
   ]
  },
  {
   "cell_type": "code",
   "execution_count": 85,
   "metadata": {},
   "outputs": [
    {
     "data": {
      "text/plain": [
       "Index(['SATLIFEb', 'YEARSERV', 'RANK', 'MARRACTIV', 'PARACTIV', 'COMBAT',\n",
       "       'INJURED', 'MILTOCIV', 'CIVADJ', 'VABENEFITS', 'CIVADJPROBa',\n",
       "       'CIVADJPROBb', 'CIVADJISSc', 'CIVADJISSe', 'LOOKJOB', 'SCHOOL',\n",
       "       'MILJOBSKILLS', 'FINDJOB', 'JOBQUAL', 'FIRSTJOB', 'MILHELPJOB',\n",
       "       'TRAUMA1', 'F_AGECAT', 'F_SEX', 'F_EDUCCAT2', 'F_HISP', 'F_RACETHN',\n",
       "       'F_MARITAL', 'Branch', 'p_income'],\n",
       "      dtype='object')"
      ]
     },
     "execution_count": 85,
     "metadata": {},
     "output_type": "execute_result"
    }
   ],
   "source": [
    "smdf.columns"
   ]
  },
  {
   "cell_type": "markdown",
   "metadata": {},
   "source": [
    "### F_RACETHN vs p_income\n",
    "Race"
   ]
  },
  {
   "cell_type": "code",
   "execution_count": 86,
   "metadata": {},
   "outputs": [
    {
     "data": {
      "text/plain": [
       "White         167\n",
       "Asian          44\n",
       "Black          23\n",
       "Mixed race     15\n",
       "Name: F_RACETHN, dtype: int64"
      ]
     },
     "execution_count": 86,
     "metadata": {},
     "output_type": "execute_result"
    }
   ],
   "source": [
    "smdf['F_RACETHN'].value_counts()"
   ]
  },
  {
   "cell_type": "code",
   "execution_count": 87,
   "metadata": {},
   "outputs": [
    {
     "data": {
      "text/plain": [
       "<AxesSubplot:xlabel='F_RACETHN', ylabel='p_income'>"
      ]
     },
     "execution_count": 87,
     "metadata": {},
     "output_type": "execute_result"
    },
    {
     "data": {
      "image/png": "[encoded data removed]",
      "text/plain": [
       "<Figure size 640x320 with 1 Axes>"
      ]
     },
     "metadata": {
      "needs_background": "light"
     },
     "output_type": "display_data"
    }
   ],
   "source": [
    "# Mixed race data could be distorted since it only has few data points\n",
    "plt.figure(figsize = (8,4),dpi=80)\n",
    "sns.boxplot(data= smdf,x='F_RACETHN', y='p_income')"
   ]
  },
  {
   "cell_type": "markdown",
   "metadata": {},
   "source": [
    "# Step 4 : Preprocessing for ML : Stage 1\n",
    "This section is divided into 2 parts : \n",
    "- Remove outliers and unwanted columns\n",
    "- Data transformation"
   ]
  },
  {
   "cell_type": "markdown",
   "metadata": {},
   "source": [
    "## 1. Removing Outliers and Unwanted Columns from smdf \n",
    "\n",
    "In this section, Our goal is to prepare data for machine learning models. We will only use data from smdf since these are veterans who answered FINDJOB. Respondants started with 249 and decreased to 241 after outliers were removed. We used boxplots to detect outliers in our data and removed data points which are below (Q1-1.5IQR) or above (Q3+1.5IQR).\n",
    "\n",
    "The methods of detecting outliers are listed below:\n",
    "https://towardsdatascience.com/ways-to-detect-and-remove-the-outliers-404d16608dba\n",
    "https://towardsdatascience.com/5-ways-to-detect-outliers-that-every-data-scientist-should-know-python-code-70a54335a623"
   ]
  },
  {
   "cell_type": "code",
   "execution_count": 88,
   "metadata": {},
   "outputs": [
    {
     "data": {
      "text/plain": [
       "Index(['SATLIFEb', 'YEARSERV', 'RANK', 'MARRACTIV', 'PARACTIV', 'COMBAT',\n",
       "       'INJURED', 'MILTOCIV', 'CIVADJ', 'VABENEFITS', 'CIVADJPROBa',\n",
       "       'CIVADJPROBb', 'CIVADJISSc', 'CIVADJISSe', 'LOOKJOB', 'SCHOOL',\n",
       "       'MILJOBSKILLS', 'FINDJOB', 'JOBQUAL', 'FIRSTJOB', 'MILHELPJOB',\n",
       "       'TRAUMA1', 'F_AGECAT', 'F_SEX', 'F_EDUCCAT2', 'F_HISP', 'F_RACETHN',\n",
       "       'F_MARITAL', 'Branch', 'p_income'],\n",
       "      dtype='object')"
      ]
     },
     "execution_count": 88,
     "metadata": {},
     "output_type": "execute_result"
    }
   ],
   "source": [
    "smdf.columns"
   ]
  },
  {
   "cell_type": "code",
   "execution_count": 89,
   "metadata": {},
   "outputs": [
    {
     "data": {
      "text/plain": [
       "30"
      ]
     },
     "execution_count": 89,
     "metadata": {},
     "output_type": "execute_result"
    }
   ],
   "source": [
    "# Number of columns\n",
    "len(smdf.columns)"
   ]
  },
  {
   "cell_type": "code",
   "execution_count": 90,
   "metadata": {},
   "outputs": [],
   "source": [
    "# Need to remove \"SATLIFEb\",\"JOBQUAL\",\"FIRSTJOB\"\n",
    "# These don't predict \"FINDJOB\"\n",
    "smdf= smdf.drop([\"SATLIFEb\",\"JOBQUAL\",\"FIRSTJOB\"],axis=1)"
   ]
  },
  {
   "cell_type": "code",
   "execution_count": 91,
   "metadata": {},
   "outputs": [
    {
     "data": {
      "text/plain": [
       "27"
      ]
     },
     "execution_count": 91,
     "metadata": {},
     "output_type": "execute_result"
    }
   ],
   "source": [
    "len(smdf.columns)"
   ]
  },
  {
   "cell_type": "code",
   "execution_count": 92,
   "metadata": {},
   "outputs": [
    {
     "data": {
      "text/plain": [
       "249"
      ]
     },
     "execution_count": 92,
     "metadata": {},
     "output_type": "execute_result"
    }
   ],
   "source": [
    "# Number of rows\n",
    "len(smdf)"
   ]
  },
  {
   "cell_type": "code",
   "execution_count": 93,
   "metadata": {},
   "outputs": [
    {
     "data": {
      "text/plain": [
       "<AxesSubplot:xlabel='FINDJOB', ylabel='p_income'>"
      ]
     },
     "execution_count": 93,
     "metadata": {},
     "output_type": "execute_result"
    },
    {
     "data": {
      "image/png": "[encoded data removed]",
      "text/plain": [
       "<Figure size 640x320 with 1 Axes>"
      ]
     },
     "metadata": {
      "needs_background": "light"
     },
     "output_type": "display_data"
    }
   ],
   "source": [
    "plt.figure(figsize = (8,4),dpi=80)\n",
    "sns.boxplot(data= smdf,x='FINDJOB', y='p_income')"
   ]
  },
  {
   "cell_type": "code",
   "execution_count": 94,
   "metadata": {},
   "outputs": [
    {
     "data": {
      "text/plain": [
       "0.0321285140562249"
      ]
     },
     "execution_count": 94,
     "metadata": {},
     "output_type": "execute_result"
    }
   ],
   "source": [
    "# We can on the box plot above, outliers are probably 6 figures earners\n",
    "# 4% of veterans in bdf earned 6 figures\n",
    "len(smdf[smdf['p_income']>100000])/len(smdf)"
   ]
  },
  {
   "cell_type": "code",
   "execution_count": 95,
   "metadata": {},
   "outputs": [
    {
     "name": "stdout",
     "output_type": "stream",
     "text": [
      "31000.0\n"
     ]
    }
   ],
   "source": [
    "# Detect outliers with IQR score on p_income\n",
    "Q1 = smdf['p_income'].quantile(0.25)\n",
    "Q3 = smdf['p_income'].quantile(0.75)\n",
    "IQR = Q3-Q1\n",
    "print(IQR)"
   ]
  },
  {
   "cell_type": "code",
   "execution_count": 96,
   "metadata": {},
   "outputs": [
    {
     "data": {
      "text/html": [
       "<div>\n",
       "<style scoped>\n",
       "    .dataframe tbody tr th:only-of-type {\n",
       "        vertical-align: middle;\n",
       "    }\n",
       "\n",
       "    .dataframe tbody tr th {\n",
       "        vertical-align: top;\n",
       "    }\n",
       "\n",
       "    .dataframe thead th {\n",
       "        text-align: right;\n",
       "    }\n",
       "</style>\n",
       "<table border=\"1\" class=\"dataframe\">\n",
       "  <thead>\n",
       "    <tr style=\"text-align: right;\">\n",
       "      <th></th>\n",
       "      <th>YEARSERV</th>\n",
       "      <th>RANK</th>\n",
       "      <th>MARRACTIV</th>\n",
       "      <th>PARACTIV</th>\n",
       "      <th>COMBAT</th>\n",
       "      <th>INJURED</th>\n",
       "      <th>MILTOCIV</th>\n",
       "      <th>CIVADJ</th>\n",
       "      <th>VABENEFITS</th>\n",
       "      <th>CIVADJPROBa</th>\n",
       "      <th>...</th>\n",
       "      <th>MILHELPJOB</th>\n",
       "      <th>TRAUMA1</th>\n",
       "      <th>F_AGECAT</th>\n",
       "      <th>F_SEX</th>\n",
       "      <th>F_EDUCCAT2</th>\n",
       "      <th>F_HISP</th>\n",
       "      <th>F_RACETHN</th>\n",
       "      <th>F_MARITAL</th>\n",
       "      <th>Branch</th>\n",
       "      <th>p_income</th>\n",
       "    </tr>\n",
       "  </thead>\n",
       "  <tbody>\n",
       "  </tbody>\n",
       "</table>\n",
       "<p>0 rows × 27 columns</p>\n",
       "</div>"
      ],
      "text/plain": [
       "Empty DataFrame\n",
       "Columns: [YEARSERV, RANK, MARRACTIV, PARACTIV, COMBAT, INJURED, MILTOCIV, CIVADJ, VABENEFITS, CIVADJPROBa, CIVADJPROBb, CIVADJISSc, CIVADJISSe, LOOKJOB, SCHOOL, MILJOBSKILLS, FINDJOB, MILHELPJOB, TRAUMA1, F_AGECAT, F_SEX, F_EDUCCAT2, F_HISP, F_RACETHN, F_MARITAL, Branch, p_income]\n",
       "Index: []\n",
       "\n",
       "[0 rows x 27 columns]"
      ]
     },
     "execution_count": 96,
     "metadata": {},
     "output_type": "execute_result"
    }
   ],
   "source": [
    "# There are no outliers on the lower end of p_income\n",
    "smdf[smdf['p_income']<(Q1-1.5*IQR)]"
   ]
  },
  {
   "cell_type": "code",
   "execution_count": 97,
   "metadata": {},
   "outputs": [
    {
     "data": {
      "text/html": [
       "<div>\n",
       "<style scoped>\n",
       "    .dataframe tbody tr th:only-of-type {\n",
       "        vertical-align: middle;\n",
       "    }\n",
       "\n",
       "    .dataframe tbody tr th {\n",
       "        vertical-align: top;\n",
       "    }\n",
       "\n",
       "    .dataframe thead th {\n",
       "        text-align: right;\n",
       "    }\n",
       "</style>\n",
       "<table border=\"1\" class=\"dataframe\">\n",
       "  <thead>\n",
       "    <tr style=\"text-align: right;\">\n",
       "      <th></th>\n",
       "      <th>YEARSERV</th>\n",
       "      <th>RANK</th>\n",
       "      <th>MARRACTIV</th>\n",
       "      <th>PARACTIV</th>\n",
       "      <th>COMBAT</th>\n",
       "      <th>INJURED</th>\n",
       "      <th>MILTOCIV</th>\n",
       "      <th>CIVADJ</th>\n",
       "      <th>VABENEFITS</th>\n",
       "      <th>CIVADJPROBa</th>\n",
       "      <th>...</th>\n",
       "      <th>MILHELPJOB</th>\n",
       "      <th>TRAUMA1</th>\n",
       "      <th>F_AGECAT</th>\n",
       "      <th>F_SEX</th>\n",
       "      <th>F_EDUCCAT2</th>\n",
       "      <th>F_HISP</th>\n",
       "      <th>F_RACETHN</th>\n",
       "      <th>F_MARITAL</th>\n",
       "      <th>Branch</th>\n",
       "      <th>p_income</th>\n",
       "    </tr>\n",
       "  </thead>\n",
       "  <tbody>\n",
       "    <tr>\n",
       "      <th>51</th>\n",
       "      <td>&gt;20 years</td>\n",
       "      <td>E1-E6</td>\n",
       "      <td>Married</td>\n",
       "      <td>No</td>\n",
       "      <td>Yes</td>\n",
       "      <td>Not injured</td>\n",
       "      <td>Somewhat well</td>\n",
       "      <td>Somewhat difficult</td>\n",
       "      <td>Yes</td>\n",
       "      <td>No</td>\n",
       "      <td>...</td>\n",
       "      <td>Helped a lot</td>\n",
       "      <td>No</td>\n",
       "      <td>50-64</td>\n",
       "      <td>Male</td>\n",
       "      <td>MS/PHD degree</td>\n",
       "      <td>No</td>\n",
       "      <td>White</td>\n",
       "      <td>Divorced/Seperated/Widowed</td>\n",
       "      <td>Air_Force</td>\n",
       "      <td>125000</td>\n",
       "    </tr>\n",
       "    <tr>\n",
       "      <th>89</th>\n",
       "      <td>5-9 years</td>\n",
       "      <td>O1-O10</td>\n",
       "      <td>Not Married</td>\n",
       "      <td>No</td>\n",
       "      <td>Yes</td>\n",
       "      <td>Not injured</td>\n",
       "      <td>Somewhat well</td>\n",
       "      <td>Very Easy</td>\n",
       "      <td>No</td>\n",
       "      <td>No</td>\n",
       "      <td>...</td>\n",
       "      <td>Helped a lot</td>\n",
       "      <td>No</td>\n",
       "      <td>30-49</td>\n",
       "      <td>Male</td>\n",
       "      <td>Bachelors degree</td>\n",
       "      <td>No</td>\n",
       "      <td>White</td>\n",
       "      <td>Never Married</td>\n",
       "      <td>Army</td>\n",
       "      <td>150000</td>\n",
       "    </tr>\n",
       "    <tr>\n",
       "      <th>115</th>\n",
       "      <td>&gt;20 years</td>\n",
       "      <td>O1-O10</td>\n",
       "      <td>Married</td>\n",
       "      <td>Yes</td>\n",
       "      <td>Yes</td>\n",
       "      <td>Injured out of combat</td>\n",
       "      <td>Very well</td>\n",
       "      <td>Very Easy</td>\n",
       "      <td>Yes</td>\n",
       "      <td>No</td>\n",
       "      <td>...</td>\n",
       "      <td>Helped a lot</td>\n",
       "      <td>No</td>\n",
       "      <td>30-49</td>\n",
       "      <td>Male</td>\n",
       "      <td>MS/PHD degree</td>\n",
       "      <td>No</td>\n",
       "      <td>White</td>\n",
       "      <td>Divorced/Seperated/Widowed</td>\n",
       "      <td>Air_Force</td>\n",
       "      <td>150000</td>\n",
       "    </tr>\n",
       "    <tr>\n",
       "      <th>138</th>\n",
       "      <td>5-9 years</td>\n",
       "      <td>E1-E6</td>\n",
       "      <td>Married</td>\n",
       "      <td>No</td>\n",
       "      <td>Yes</td>\n",
       "      <td>Injured in combat</td>\n",
       "      <td>Somewhat well</td>\n",
       "      <td>Very Easy</td>\n",
       "      <td>Yes</td>\n",
       "      <td>Yes</td>\n",
       "      <td>...</td>\n",
       "      <td>Neither</td>\n",
       "      <td>Yes</td>\n",
       "      <td>30-49</td>\n",
       "      <td>Male</td>\n",
       "      <td>MS/PHD degree</td>\n",
       "      <td>No</td>\n",
       "      <td>Black</td>\n",
       "      <td>Divorced/Seperated/Widowed</td>\n",
       "      <td>Muti-Branch</td>\n",
       "      <td>150000</td>\n",
       "    </tr>\n",
       "    <tr>\n",
       "      <th>160</th>\n",
       "      <td>&gt;20 years</td>\n",
       "      <td>E7-E9</td>\n",
       "      <td>Married</td>\n",
       "      <td>Yes</td>\n",
       "      <td>Yes</td>\n",
       "      <td>Injured in combat</td>\n",
       "      <td>Not too well</td>\n",
       "      <td>Somewhat difficult</td>\n",
       "      <td>Yes</td>\n",
       "      <td>No</td>\n",
       "      <td>...</td>\n",
       "      <td>Neither</td>\n",
       "      <td>Yes</td>\n",
       "      <td>50-64</td>\n",
       "      <td>Male</td>\n",
       "      <td>MS/PHD degree</td>\n",
       "      <td>No</td>\n",
       "      <td>White</td>\n",
       "      <td>Divorced/Seperated/Widowed</td>\n",
       "      <td>Army</td>\n",
       "      <td>125000</td>\n",
       "    </tr>\n",
       "    <tr>\n",
       "      <th>203</th>\n",
       "      <td>5-9 years</td>\n",
       "      <td>E7-E9</td>\n",
       "      <td>Not Married</td>\n",
       "      <td>No</td>\n",
       "      <td>Yes</td>\n",
       "      <td>Not injured</td>\n",
       "      <td>Somewhat well</td>\n",
       "      <td>Somewhat Easy</td>\n",
       "      <td>Yes</td>\n",
       "      <td>No</td>\n",
       "      <td>...</td>\n",
       "      <td>Helped a lot</td>\n",
       "      <td>Yes</td>\n",
       "      <td>30-49</td>\n",
       "      <td>Male</td>\n",
       "      <td>MS/PHD degree</td>\n",
       "      <td>No</td>\n",
       "      <td>White</td>\n",
       "      <td>Never Married</td>\n",
       "      <td>Army</td>\n",
       "      <td>125000</td>\n",
       "    </tr>\n",
       "    <tr>\n",
       "      <th>210</th>\n",
       "      <td>5-9 years</td>\n",
       "      <td>E7-E9</td>\n",
       "      <td>Not Married</td>\n",
       "      <td>No</td>\n",
       "      <td>Yes</td>\n",
       "      <td>Injured out of combat</td>\n",
       "      <td>Not too well</td>\n",
       "      <td>Somewhat difficult</td>\n",
       "      <td>Yes</td>\n",
       "      <td>Yes</td>\n",
       "      <td>...</td>\n",
       "      <td>Helped a bit</td>\n",
       "      <td>Yes</td>\n",
       "      <td>30-49</td>\n",
       "      <td>Male</td>\n",
       "      <td>Bachelors degree</td>\n",
       "      <td>No</td>\n",
       "      <td>Mixed race</td>\n",
       "      <td>Divorced/Seperated/Widowed</td>\n",
       "      <td>Navy</td>\n",
       "      <td>150000</td>\n",
       "    </tr>\n",
       "    <tr>\n",
       "      <th>221</th>\n",
       "      <td>&gt;20 years</td>\n",
       "      <td>E1-E6</td>\n",
       "      <td>Married</td>\n",
       "      <td>Yes</td>\n",
       "      <td>Yes</td>\n",
       "      <td>Not injured</td>\n",
       "      <td>Very well</td>\n",
       "      <td>Somewhat Easy</td>\n",
       "      <td>Yes</td>\n",
       "      <td>No</td>\n",
       "      <td>...</td>\n",
       "      <td>Neither</td>\n",
       "      <td>No</td>\n",
       "      <td>50-64</td>\n",
       "      <td>Female</td>\n",
       "      <td>MS/PHD degree</td>\n",
       "      <td>No</td>\n",
       "      <td>White</td>\n",
       "      <td>Divorced/Seperated/Widowed</td>\n",
       "      <td>Air_Force</td>\n",
       "      <td>125000</td>\n",
       "    </tr>\n",
       "  </tbody>\n",
       "</table>\n",
       "<p>8 rows × 27 columns</p>\n",
       "</div>"
      ],
      "text/plain": [
       "      YEARSERV    RANK    MARRACTIV PARACTIV COMBAT                INJURED  \\\n",
       "51   >20 years   E1-E6      Married       No    Yes            Not injured   \n",
       "89   5-9 years  O1-O10  Not Married       No    Yes            Not injured   \n",
       "115  >20 years  O1-O10      Married      Yes    Yes  Injured out of combat   \n",
       "138  5-9 years   E1-E6      Married       No    Yes      Injured in combat   \n",
       "160  >20 years   E7-E9      Married      Yes    Yes      Injured in combat   \n",
       "203  5-9 years   E7-E9  Not Married       No    Yes            Not injured   \n",
       "210  5-9 years   E7-E9  Not Married       No    Yes  Injured out of combat   \n",
       "221  >20 years   E1-E6      Married      Yes    Yes            Not injured   \n",
       "\n",
       "          MILTOCIV              CIVADJ VABENEFITS CIVADJPROBa  ...  \\\n",
       "51   Somewhat well  Somewhat difficult        Yes          No  ...   \n",
       "89   Somewhat well           Very Easy         No          No  ...   \n",
       "115      Very well           Very Easy        Yes          No  ...   \n",
       "138  Somewhat well           Very Easy        Yes         Yes  ...   \n",
       "160   Not too well  Somewhat difficult        Yes          No  ...   \n",
       "203  Somewhat well       Somewhat Easy        Yes          No  ...   \n",
       "210   Not too well  Somewhat difficult        Yes         Yes  ...   \n",
       "221      Very well       Somewhat Easy        Yes          No  ...   \n",
       "\n",
       "       MILHELPJOB TRAUMA1 F_AGECAT   F_SEX        F_EDUCCAT2 F_HISP  \\\n",
       "51   Helped a lot      No    50-64    Male     MS/PHD degree     No   \n",
       "89   Helped a lot      No    30-49    Male  Bachelors degree     No   \n",
       "115  Helped a lot      No    30-49    Male     MS/PHD degree     No   \n",
       "138       Neither     Yes    30-49    Male     MS/PHD degree     No   \n",
       "160       Neither     Yes    50-64    Male     MS/PHD degree     No   \n",
       "203  Helped a lot     Yes    30-49    Male     MS/PHD degree     No   \n",
       "210  Helped a bit     Yes    30-49    Male  Bachelors degree     No   \n",
       "221       Neither      No    50-64  Female     MS/PHD degree     No   \n",
       "\n",
       "      F_RACETHN                   F_MARITAL       Branch p_income  \n",
       "51        White  Divorced/Seperated/Widowed    Air_Force   125000  \n",
       "89        White               Never Married         Army   150000  \n",
       "115       White  Divorced/Seperated/Widowed    Air_Force   150000  \n",
       "138       Black  Divorced/Seperated/Widowed  Muti-Branch   150000  \n",
       "160       White  Divorced/Seperated/Widowed         Army   125000  \n",
       "203       White               Never Married         Army   125000  \n",
       "210  Mixed race  Divorced/Seperated/Widowed         Navy   150000  \n",
       "221       White  Divorced/Seperated/Widowed    Air_Force   125000  \n",
       "\n",
       "[8 rows x 27 columns]"
      ]
     },
     "execution_count": 97,
     "metadata": {},
     "output_type": "execute_result"
    }
   ],
   "source": [
    "# There are 8 outliers on the higher end of p_income\n",
    "Prob_outliers = smdf[smdf['p_income']>(Q3+1.5*IQR)]\n",
    "Prob_outliers"
   ]
  },
  {
   "cell_type": "code",
   "execution_count": 98,
   "metadata": {},
   "outputs": [],
   "source": [
    "# Remove outliers from smdf\n",
    "smdf = smdf.drop(Prob_outliers.index,axis=0)"
   ]
  },
  {
   "cell_type": "code",
   "execution_count": 99,
   "metadata": {},
   "outputs": [
    {
     "data": {
      "text/plain": [
       "241"
      ]
     },
     "execution_count": 99,
     "metadata": {},
     "output_type": "execute_result"
    }
   ],
   "source": [
    "len(smdf)"
   ]
  },
  {
   "cell_type": "code",
   "execution_count": 100,
   "metadata": {
    "scrolled": true
   },
   "outputs": [
    {
     "data": {
      "text/plain": [
       "(0.0, 90000.0)"
      ]
     },
     "execution_count": 100,
     "metadata": {},
     "output_type": "execute_result"
    },
    {
     "data": {
      "image/png": "[encoded data removed]",
      "text/plain": [
       "<Figure size 640x320 with 1 Axes>"
      ]
     },
     "metadata": {
      "needs_background": "light"
     },
     "output_type": "display_data"
    }
   ],
   "source": [
    "# After dropping outliers, we can see the median for >6 months became lower as $35k\n",
    "plt.figure(figsize = (8,4),dpi=80)\n",
    "sns.boxplot(data= smdf,x='FINDJOB', y='p_income')\n",
    "plt.ylim(0,90000)"
   ]
  },
  {
   "cell_type": "markdown",
   "metadata": {},
   "source": [
    "### Save files"
   ]
  },
  {
   "cell_type": "code",
   "execution_count": 101,
   "metadata": {},
   "outputs": [],
   "source": [
    "smdf.to_csv(\"Findjob_no_outliers.csv\",index=False)"
   ]
  }
 ],
 "metadata": {
  "kernelspec": {
   "display_name": "Python 3 (ipykernel)",
   "language": "python",
   "name": "python3"
  },
  "language_info": {
   "codemirror_mode": {
    "name": "ipython",
    "version": 3
   },
   "file_extension": ".py",
   "mimetype": "text/x-python",
   "name": "python",
   "nbconvert_exporter": "python",
   "pygments_lexer": "ipython3",
   "version": "3.9.18"
  }
 },
 "nbformat": 4,
 "nbformat_minor": 4
}
