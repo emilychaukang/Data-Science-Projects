{
 "cells": [
  {
   "cell_type": "markdown",
   "metadata": {},
   "source": [
    "# Step 6 : Pre-processing for ML : Stage 2\n",
    "\n",
    "1. Split the data into features(X) and the target label(y)\n",
    "\n",
    "\n",
    "2. Train | Test Split\n",
    "   - We seperate the training data and test data(hold-out)\n",
    "\n",
    "\n",
    "3. Feature Selection : \n",
    "   - Since the input variables are mostly categorical and the output variable(FINDJOB) is also categorical, Chi-Squared test was adopted to select top 10 features for ML models.\n",
    "\n",
    "\n",
    "4. Imbalanced Data Check : Check whether our data needs to be resampled\n",
    "   - Our target label FINDJOB is slightly imbalanced (4:6). This is often not a concern, so we didn't resample the data. \n",
    "\n",
    "\n",
    "5. Scale the data with MinMaxScaler\n",
    "   We chose MinMax Scaler to normalize our data because :\n",
    "      - Our data are mostly categorical data within the bounded intervals with little outliers(standardization will be better for data with a lot of outliers). Normalization will be useful for this data. \n",
    "      - It doesn't distort the shape of the data\n",
    "  "
   ]
  },
  {
   "cell_type": "markdown",
   "metadata": {},
   "source": [
    "## Split Data into Features(Xs) and Target(y) "
   ]
  },
  {
   "cell_type": "markdown",
   "metadata": {},
   "source": [
    "### Import Data"
   ]
  },
  {
   "cell_type": "code",
   "execution_count": 1,
   "metadata": {},
   "outputs": [],
   "source": [
    "# Imports\n",
    "import numpy as np\n",
    "import pandas as pd\n",
    "import matplotlib.pyplot as plt\n",
    "import seaborn as sns"
   ]
  },
  {
   "cell_type": "code",
   "execution_count": 2,
   "metadata": {},
   "outputs": [],
   "source": [
    "# Read the csv file\n",
    "df = pd.read_csv(\"Findjob_encoded.csv\")"
   ]
  },
  {
   "cell_type": "code",
   "execution_count": 3,
   "metadata": {},
   "outputs": [
    {
     "data": {
      "text/html": [
       "<div>\n",
       "<style scoped>\n",
       "    .dataframe tbody tr th:only-of-type {\n",
       "        vertical-align: middle;\n",
       "    }\n",
       "\n",
       "    .dataframe tbody tr th {\n",
       "        vertical-align: top;\n",
       "    }\n",
       "\n",
       "    .dataframe thead th {\n",
       "        text-align: right;\n",
       "    }\n",
       "</style>\n",
       "<table border=\"1\" class=\"dataframe\">\n",
       "  <thead>\n",
       "    <tr style=\"text-align: right;\">\n",
       "      <th></th>\n",
       "      <th>FINDJOB</th>\n",
       "      <th>YEARSERV</th>\n",
       "      <th>RANK</th>\n",
       "      <th>MILTOCIV</th>\n",
       "      <th>CIVADJ</th>\n",
       "      <th>CIVADJISSc</th>\n",
       "      <th>CIVADJISSe</th>\n",
       "      <th>MILJOBSKILLS</th>\n",
       "      <th>MILHELPJOB</th>\n",
       "      <th>F_AGECAT</th>\n",
       "      <th>...</th>\n",
       "      <th>F_RACETHN_Mixed race</th>\n",
       "      <th>F_RACETHN_White</th>\n",
       "      <th>F_MARITAL_Married/Live with a partner</th>\n",
       "      <th>F_MARITAL_Never Married</th>\n",
       "      <th>Branch_Army</th>\n",
       "      <th>Branch_Coast_Guard</th>\n",
       "      <th>Branch_Marines</th>\n",
       "      <th>Branch_Muti-Branch</th>\n",
       "      <th>Branch_Navy</th>\n",
       "      <th>p_income</th>\n",
       "    </tr>\n",
       "  </thead>\n",
       "  <tbody>\n",
       "    <tr>\n",
       "      <th>0</th>\n",
       "      <td>1</td>\n",
       "      <td>4</td>\n",
       "      <td>0</td>\n",
       "      <td>2</td>\n",
       "      <td>3</td>\n",
       "      <td>3</td>\n",
       "      <td>0</td>\n",
       "      <td>2</td>\n",
       "      <td>4</td>\n",
       "      <td>3</td>\n",
       "      <td>...</td>\n",
       "      <td>0</td>\n",
       "      <td>1</td>\n",
       "      <td>1</td>\n",
       "      <td>0</td>\n",
       "      <td>0</td>\n",
       "      <td>0</td>\n",
       "      <td>0</td>\n",
       "      <td>1</td>\n",
       "      <td>0</td>\n",
       "      <td>31500</td>\n",
       "    </tr>\n",
       "    <tr>\n",
       "      <th>1</th>\n",
       "      <td>0</td>\n",
       "      <td>4</td>\n",
       "      <td>2</td>\n",
       "      <td>2</td>\n",
       "      <td>2</td>\n",
       "      <td>3</td>\n",
       "      <td>0</td>\n",
       "      <td>3</td>\n",
       "      <td>3</td>\n",
       "      <td>2</td>\n",
       "      <td>...</td>\n",
       "      <td>0</td>\n",
       "      <td>1</td>\n",
       "      <td>1</td>\n",
       "      <td>0</td>\n",
       "      <td>1</td>\n",
       "      <td>0</td>\n",
       "      <td>0</td>\n",
       "      <td>0</td>\n",
       "      <td>0</td>\n",
       "      <td>75000</td>\n",
       "    </tr>\n",
       "    <tr>\n",
       "      <th>2</th>\n",
       "      <td>1</td>\n",
       "      <td>4</td>\n",
       "      <td>1</td>\n",
       "      <td>2</td>\n",
       "      <td>2</td>\n",
       "      <td>2</td>\n",
       "      <td>1</td>\n",
       "      <td>3</td>\n",
       "      <td>4</td>\n",
       "      <td>2</td>\n",
       "      <td>...</td>\n",
       "      <td>0</td>\n",
       "      <td>1</td>\n",
       "      <td>1</td>\n",
       "      <td>0</td>\n",
       "      <td>0</td>\n",
       "      <td>0</td>\n",
       "      <td>0</td>\n",
       "      <td>0</td>\n",
       "      <td>1</td>\n",
       "      <td>31500</td>\n",
       "    </tr>\n",
       "    <tr>\n",
       "      <th>3</th>\n",
       "      <td>1</td>\n",
       "      <td>4</td>\n",
       "      <td>3</td>\n",
       "      <td>2</td>\n",
       "      <td>1</td>\n",
       "      <td>2</td>\n",
       "      <td>2</td>\n",
       "      <td>2</td>\n",
       "      <td>4</td>\n",
       "      <td>2</td>\n",
       "      <td>...</td>\n",
       "      <td>0</td>\n",
       "      <td>1</td>\n",
       "      <td>1</td>\n",
       "      <td>0</td>\n",
       "      <td>0</td>\n",
       "      <td>0</td>\n",
       "      <td>0</td>\n",
       "      <td>0</td>\n",
       "      <td>0</td>\n",
       "      <td>62500</td>\n",
       "    </tr>\n",
       "    <tr>\n",
       "      <th>4</th>\n",
       "      <td>1</td>\n",
       "      <td>4</td>\n",
       "      <td>0</td>\n",
       "      <td>2</td>\n",
       "      <td>2</td>\n",
       "      <td>2</td>\n",
       "      <td>0</td>\n",
       "      <td>2</td>\n",
       "      <td>4</td>\n",
       "      <td>2</td>\n",
       "      <td>...</td>\n",
       "      <td>0</td>\n",
       "      <td>0</td>\n",
       "      <td>1</td>\n",
       "      <td>0</td>\n",
       "      <td>0</td>\n",
       "      <td>0</td>\n",
       "      <td>1</td>\n",
       "      <td>0</td>\n",
       "      <td>0</td>\n",
       "      <td>44000</td>\n",
       "    </tr>\n",
       "    <tr>\n",
       "      <th>...</th>\n",
       "      <td>...</td>\n",
       "      <td>...</td>\n",
       "      <td>...</td>\n",
       "      <td>...</td>\n",
       "      <td>...</td>\n",
       "      <td>...</td>\n",
       "      <td>...</td>\n",
       "      <td>...</td>\n",
       "      <td>...</td>\n",
       "      <td>...</td>\n",
       "      <td>...</td>\n",
       "      <td>...</td>\n",
       "      <td>...</td>\n",
       "      <td>...</td>\n",
       "      <td>...</td>\n",
       "      <td>...</td>\n",
       "      <td>...</td>\n",
       "      <td>...</td>\n",
       "      <td>...</td>\n",
       "      <td>...</td>\n",
       "      <td>...</td>\n",
       "    </tr>\n",
       "    <tr>\n",
       "      <th>236</th>\n",
       "      <td>0</td>\n",
       "      <td>2</td>\n",
       "      <td>1</td>\n",
       "      <td>1</td>\n",
       "      <td>2</td>\n",
       "      <td>2</td>\n",
       "      <td>1</td>\n",
       "      <td>1</td>\n",
       "      <td>2</td>\n",
       "      <td>1</td>\n",
       "      <td>...</td>\n",
       "      <td>0</td>\n",
       "      <td>1</td>\n",
       "      <td>0</td>\n",
       "      <td>0</td>\n",
       "      <td>0</td>\n",
       "      <td>0</td>\n",
       "      <td>0</td>\n",
       "      <td>0</td>\n",
       "      <td>1</td>\n",
       "      <td>63000</td>\n",
       "    </tr>\n",
       "    <tr>\n",
       "      <th>237</th>\n",
       "      <td>1</td>\n",
       "      <td>1</td>\n",
       "      <td>0</td>\n",
       "      <td>3</td>\n",
       "      <td>2</td>\n",
       "      <td>3</td>\n",
       "      <td>3</td>\n",
       "      <td>0</td>\n",
       "      <td>2</td>\n",
       "      <td>1</td>\n",
       "      <td>...</td>\n",
       "      <td>0</td>\n",
       "      <td>1</td>\n",
       "      <td>0</td>\n",
       "      <td>0</td>\n",
       "      <td>0</td>\n",
       "      <td>0</td>\n",
       "      <td>0</td>\n",
       "      <td>0</td>\n",
       "      <td>1</td>\n",
       "      <td>25000</td>\n",
       "    </tr>\n",
       "    <tr>\n",
       "      <th>238</th>\n",
       "      <td>1</td>\n",
       "      <td>4</td>\n",
       "      <td>0</td>\n",
       "      <td>2</td>\n",
       "      <td>1</td>\n",
       "      <td>3</td>\n",
       "      <td>0</td>\n",
       "      <td>1</td>\n",
       "      <td>3</td>\n",
       "      <td>2</td>\n",
       "      <td>...</td>\n",
       "      <td>0</td>\n",
       "      <td>1</td>\n",
       "      <td>1</td>\n",
       "      <td>0</td>\n",
       "      <td>0</td>\n",
       "      <td>0</td>\n",
       "      <td>0</td>\n",
       "      <td>0</td>\n",
       "      <td>1</td>\n",
       "      <td>31500</td>\n",
       "    </tr>\n",
       "    <tr>\n",
       "      <th>239</th>\n",
       "      <td>1</td>\n",
       "      <td>4</td>\n",
       "      <td>3</td>\n",
       "      <td>2</td>\n",
       "      <td>1</td>\n",
       "      <td>3</td>\n",
       "      <td>2</td>\n",
       "      <td>1</td>\n",
       "      <td>2</td>\n",
       "      <td>2</td>\n",
       "      <td>...</td>\n",
       "      <td>0</td>\n",
       "      <td>1</td>\n",
       "      <td>1</td>\n",
       "      <td>0</td>\n",
       "      <td>0</td>\n",
       "      <td>0</td>\n",
       "      <td>1</td>\n",
       "      <td>0</td>\n",
       "      <td>0</td>\n",
       "      <td>62500</td>\n",
       "    </tr>\n",
       "    <tr>\n",
       "      <th>240</th>\n",
       "      <td>0</td>\n",
       "      <td>2</td>\n",
       "      <td>0</td>\n",
       "      <td>2</td>\n",
       "      <td>3</td>\n",
       "      <td>2</td>\n",
       "      <td>1</td>\n",
       "      <td>2</td>\n",
       "      <td>2</td>\n",
       "      <td>1</td>\n",
       "      <td>...</td>\n",
       "      <td>0</td>\n",
       "      <td>1</td>\n",
       "      <td>1</td>\n",
       "      <td>0</td>\n",
       "      <td>0</td>\n",
       "      <td>0</td>\n",
       "      <td>0</td>\n",
       "      <td>0</td>\n",
       "      <td>1</td>\n",
       "      <td>22500</td>\n",
       "    </tr>\n",
       "  </tbody>\n",
       "</table>\n",
       "<p>241 rows × 35 columns</p>\n",
       "</div>"
      ],
      "text/plain": [
       "     FINDJOB  YEARSERV  RANK  MILTOCIV  CIVADJ  CIVADJISSc  CIVADJISSe  \\\n",
       "0          1         4     0         2       3           3           0   \n",
       "1          0         4     2         2       2           3           0   \n",
       "2          1         4     1         2       2           2           1   \n",
       "3          1         4     3         2       1           2           2   \n",
       "4          1         4     0         2       2           2           0   \n",
       "..       ...       ...   ...       ...     ...         ...         ...   \n",
       "236        0         2     1         1       2           2           1   \n",
       "237        1         1     0         3       2           3           3   \n",
       "238        1         4     0         2       1           3           0   \n",
       "239        1         4     3         2       1           3           2   \n",
       "240        0         2     0         2       3           2           1   \n",
       "\n",
       "     MILJOBSKILLS  MILHELPJOB  F_AGECAT  ...  F_RACETHN_Mixed race  \\\n",
       "0               2           4         3  ...                     0   \n",
       "1               3           3         2  ...                     0   \n",
       "2               3           4         2  ...                     0   \n",
       "3               2           4         2  ...                     0   \n",
       "4               2           4         2  ...                     0   \n",
       "..            ...         ...       ...  ...                   ...   \n",
       "236             1           2         1  ...                     0   \n",
       "237             0           2         1  ...                     0   \n",
       "238             1           3         2  ...                     0   \n",
       "239             1           2         2  ...                     0   \n",
       "240             2           2         1  ...                     0   \n",
       "\n",
       "     F_RACETHN_White  F_MARITAL_Married/Live with a partner  \\\n",
       "0                  1                                      1   \n",
       "1                  1                                      1   \n",
       "2                  1                                      1   \n",
       "3                  1                                      1   \n",
       "4                  0                                      1   \n",
       "..               ...                                    ...   \n",
       "236                1                                      0   \n",
       "237                1                                      0   \n",
       "238                1                                      1   \n",
       "239                1                                      1   \n",
       "240                1                                      1   \n",
       "\n",
       "     F_MARITAL_Never Married  Branch_Army  Branch_Coast_Guard  Branch_Marines  \\\n",
       "0                          0            0                   0               0   \n",
       "1                          0            1                   0               0   \n",
       "2                          0            0                   0               0   \n",
       "3                          0            0                   0               0   \n",
       "4                          0            0                   0               1   \n",
       "..                       ...          ...                 ...             ...   \n",
       "236                        0            0                   0               0   \n",
       "237                        0            0                   0               0   \n",
       "238                        0            0                   0               0   \n",
       "239                        0            0                   0               1   \n",
       "240                        0            0                   0               0   \n",
       "\n",
       "     Branch_Muti-Branch  Branch_Navy  p_income  \n",
       "0                     1            0     31500  \n",
       "1                     0            0     75000  \n",
       "2                     0            1     31500  \n",
       "3                     0            0     62500  \n",
       "4                     0            0     44000  \n",
       "..                  ...          ...       ...  \n",
       "236                   0            1     63000  \n",
       "237                   0            1     25000  \n",
       "238                   0            1     31500  \n",
       "239                   0            0     62500  \n",
       "240                   0            1     22500  \n",
       "\n",
       "[241 rows x 35 columns]"
      ]
     },
     "execution_count": 3,
     "metadata": {},
     "output_type": "execute_result"
    }
   ],
   "source": [
    "df"
   ]
  },
  {
   "cell_type": "code",
   "execution_count": 4,
   "metadata": {},
   "outputs": [
    {
     "data": {
      "text/plain": [
       "35"
      ]
     },
     "execution_count": 4,
     "metadata": {},
     "output_type": "execute_result"
    }
   ],
   "source": [
    "len(df.columns)"
   ]
  },
  {
   "cell_type": "code",
   "execution_count": 5,
   "metadata": {},
   "outputs": [],
   "source": [
    "# Split data into X and y\n",
    "X = df.drop('FINDJOB',axis=1)\n",
    "y = df['FINDJOB']"
   ]
  },
  {
   "cell_type": "markdown",
   "metadata": {},
   "source": [
    "## Train | Test Split "
   ]
  },
  {
   "cell_type": "code",
   "execution_count": 6,
   "metadata": {},
   "outputs": [
    {
     "data": {
      "text/plain": [
       "241"
      ]
     },
     "execution_count": 6,
     "metadata": {},
     "output_type": "execute_result"
    }
   ],
   "source": [
    "len(df)"
   ]
  },
  {
   "cell_type": "code",
   "execution_count": 7,
   "metadata": {},
   "outputs": [],
   "source": [
    "# Import train_test_split\n",
    "from sklearn.model_selection import train_test_split"
   ]
  },
  {
   "cell_type": "code",
   "execution_count": 8,
   "metadata": {},
   "outputs": [],
   "source": [
    "# help(train_test_split)\n",
    "# Split the training data and other(validation + test data)\n",
    "X_train, X_test, y_train, y_test = train_test_split(X, y, test_size=0.3, random_state=101)"
   ]
  },
  {
   "cell_type": "code",
   "execution_count": 9,
   "metadata": {},
   "outputs": [
    {
     "data": {
      "text/html": [
       "<div>\n",
       "<style scoped>\n",
       "    .dataframe tbody tr th:only-of-type {\n",
       "        vertical-align: middle;\n",
       "    }\n",
       "\n",
       "    .dataframe tbody tr th {\n",
       "        vertical-align: top;\n",
       "    }\n",
       "\n",
       "    .dataframe thead th {\n",
       "        text-align: right;\n",
       "    }\n",
       "</style>\n",
       "<table border=\"1\" class=\"dataframe\">\n",
       "  <thead>\n",
       "    <tr style=\"text-align: right;\">\n",
       "      <th></th>\n",
       "      <th>YEARSERV</th>\n",
       "      <th>RANK</th>\n",
       "      <th>MILTOCIV</th>\n",
       "      <th>CIVADJ</th>\n",
       "      <th>CIVADJISSc</th>\n",
       "      <th>CIVADJISSe</th>\n",
       "      <th>MILJOBSKILLS</th>\n",
       "      <th>MILHELPJOB</th>\n",
       "      <th>F_AGECAT</th>\n",
       "      <th>F_EDUCCAT2</th>\n",
       "      <th>...</th>\n",
       "      <th>F_RACETHN_Mixed race</th>\n",
       "      <th>F_RACETHN_White</th>\n",
       "      <th>F_MARITAL_Married/Live with a partner</th>\n",
       "      <th>F_MARITAL_Never Married</th>\n",
       "      <th>Branch_Army</th>\n",
       "      <th>Branch_Coast_Guard</th>\n",
       "      <th>Branch_Marines</th>\n",
       "      <th>Branch_Muti-Branch</th>\n",
       "      <th>Branch_Navy</th>\n",
       "      <th>p_income</th>\n",
       "    </tr>\n",
       "  </thead>\n",
       "  <tbody>\n",
       "    <tr>\n",
       "      <th>169</th>\n",
       "      <td>2</td>\n",
       "      <td>0</td>\n",
       "      <td>2</td>\n",
       "      <td>1</td>\n",
       "      <td>2</td>\n",
       "      <td>3</td>\n",
       "      <td>3</td>\n",
       "      <td>4</td>\n",
       "      <td>1</td>\n",
       "      <td>1</td>\n",
       "      <td>...</td>\n",
       "      <td>0</td>\n",
       "      <td>1</td>\n",
       "      <td>0</td>\n",
       "      <td>0</td>\n",
       "      <td>1</td>\n",
       "      <td>0</td>\n",
       "      <td>0</td>\n",
       "      <td>0</td>\n",
       "      <td>0</td>\n",
       "      <td>63000</td>\n",
       "    </tr>\n",
       "    <tr>\n",
       "      <th>141</th>\n",
       "      <td>4</td>\n",
       "      <td>1</td>\n",
       "      <td>2</td>\n",
       "      <td>3</td>\n",
       "      <td>2</td>\n",
       "      <td>0</td>\n",
       "      <td>1</td>\n",
       "      <td>2</td>\n",
       "      <td>3</td>\n",
       "      <td>1</td>\n",
       "      <td>...</td>\n",
       "      <td>0</td>\n",
       "      <td>1</td>\n",
       "      <td>1</td>\n",
       "      <td>0</td>\n",
       "      <td>0</td>\n",
       "      <td>0</td>\n",
       "      <td>0</td>\n",
       "      <td>0</td>\n",
       "      <td>0</td>\n",
       "      <td>44000</td>\n",
       "    </tr>\n",
       "    <tr>\n",
       "      <th>237</th>\n",
       "      <td>1</td>\n",
       "      <td>0</td>\n",
       "      <td>3</td>\n",
       "      <td>2</td>\n",
       "      <td>3</td>\n",
       "      <td>3</td>\n",
       "      <td>0</td>\n",
       "      <td>2</td>\n",
       "      <td>1</td>\n",
       "      <td>0</td>\n",
       "      <td>...</td>\n",
       "      <td>0</td>\n",
       "      <td>1</td>\n",
       "      <td>0</td>\n",
       "      <td>0</td>\n",
       "      <td>0</td>\n",
       "      <td>0</td>\n",
       "      <td>0</td>\n",
       "      <td>0</td>\n",
       "      <td>1</td>\n",
       "      <td>25000</td>\n",
       "    </tr>\n",
       "    <tr>\n",
       "      <th>16</th>\n",
       "      <td>2</td>\n",
       "      <td>1</td>\n",
       "      <td>1</td>\n",
       "      <td>1</td>\n",
       "      <td>1</td>\n",
       "      <td>3</td>\n",
       "      <td>1</td>\n",
       "      <td>0</td>\n",
       "      <td>1</td>\n",
       "      <td>0</td>\n",
       "      <td>...</td>\n",
       "      <td>0</td>\n",
       "      <td>0</td>\n",
       "      <td>0</td>\n",
       "      <td>0</td>\n",
       "      <td>1</td>\n",
       "      <td>0</td>\n",
       "      <td>0</td>\n",
       "      <td>0</td>\n",
       "      <td>0</td>\n",
       "      <td>63000</td>\n",
       "    </tr>\n",
       "    <tr>\n",
       "      <th>176</th>\n",
       "      <td>2</td>\n",
       "      <td>3</td>\n",
       "      <td>1</td>\n",
       "      <td>1</td>\n",
       "      <td>2</td>\n",
       "      <td>2</td>\n",
       "      <td>3</td>\n",
       "      <td>3</td>\n",
       "      <td>3</td>\n",
       "      <td>4</td>\n",
       "      <td>...</td>\n",
       "      <td>0</td>\n",
       "      <td>1</td>\n",
       "      <td>1</td>\n",
       "      <td>0</td>\n",
       "      <td>1</td>\n",
       "      <td>0</td>\n",
       "      <td>0</td>\n",
       "      <td>0</td>\n",
       "      <td>0</td>\n",
       "      <td>31500</td>\n",
       "    </tr>\n",
       "    <tr>\n",
       "      <th>...</th>\n",
       "      <td>...</td>\n",
       "      <td>...</td>\n",
       "      <td>...</td>\n",
       "      <td>...</td>\n",
       "      <td>...</td>\n",
       "      <td>...</td>\n",
       "      <td>...</td>\n",
       "      <td>...</td>\n",
       "      <td>...</td>\n",
       "      <td>...</td>\n",
       "      <td>...</td>\n",
       "      <td>...</td>\n",
       "      <td>...</td>\n",
       "      <td>...</td>\n",
       "      <td>...</td>\n",
       "      <td>...</td>\n",
       "      <td>...</td>\n",
       "      <td>...</td>\n",
       "      <td>...</td>\n",
       "      <td>...</td>\n",
       "      <td>...</td>\n",
       "    </tr>\n",
       "    <tr>\n",
       "      <th>63</th>\n",
       "      <td>4</td>\n",
       "      <td>2</td>\n",
       "      <td>2</td>\n",
       "      <td>2</td>\n",
       "      <td>3</td>\n",
       "      <td>1</td>\n",
       "      <td>2</td>\n",
       "      <td>3</td>\n",
       "      <td>2</td>\n",
       "      <td>2</td>\n",
       "      <td>...</td>\n",
       "      <td>0</td>\n",
       "      <td>1</td>\n",
       "      <td>1</td>\n",
       "      <td>0</td>\n",
       "      <td>0</td>\n",
       "      <td>0</td>\n",
       "      <td>0</td>\n",
       "      <td>1</td>\n",
       "      <td>0</td>\n",
       "      <td>75000</td>\n",
       "    </tr>\n",
       "    <tr>\n",
       "      <th>70</th>\n",
       "      <td>2</td>\n",
       "      <td>1</td>\n",
       "      <td>1</td>\n",
       "      <td>2</td>\n",
       "      <td>2</td>\n",
       "      <td>2</td>\n",
       "      <td>2</td>\n",
       "      <td>4</td>\n",
       "      <td>1</td>\n",
       "      <td>4</td>\n",
       "      <td>...</td>\n",
       "      <td>0</td>\n",
       "      <td>1</td>\n",
       "      <td>1</td>\n",
       "      <td>0</td>\n",
       "      <td>0</td>\n",
       "      <td>0</td>\n",
       "      <td>1</td>\n",
       "      <td>0</td>\n",
       "      <td>0</td>\n",
       "      <td>75000</td>\n",
       "    </tr>\n",
       "    <tr>\n",
       "      <th>81</th>\n",
       "      <td>0</td>\n",
       "      <td>0</td>\n",
       "      <td>1</td>\n",
       "      <td>0</td>\n",
       "      <td>0</td>\n",
       "      <td>3</td>\n",
       "      <td>3</td>\n",
       "      <td>0</td>\n",
       "      <td>1</td>\n",
       "      <td>0</td>\n",
       "      <td>...</td>\n",
       "      <td>0</td>\n",
       "      <td>1</td>\n",
       "      <td>0</td>\n",
       "      <td>0</td>\n",
       "      <td>0</td>\n",
       "      <td>0</td>\n",
       "      <td>0</td>\n",
       "      <td>0</td>\n",
       "      <td>1</td>\n",
       "      <td>10000</td>\n",
       "    </tr>\n",
       "    <tr>\n",
       "      <th>11</th>\n",
       "      <td>4</td>\n",
       "      <td>3</td>\n",
       "      <td>2</td>\n",
       "      <td>3</td>\n",
       "      <td>3</td>\n",
       "      <td>0</td>\n",
       "      <td>3</td>\n",
       "      <td>4</td>\n",
       "      <td>3</td>\n",
       "      <td>4</td>\n",
       "      <td>...</td>\n",
       "      <td>0</td>\n",
       "      <td>1</td>\n",
       "      <td>1</td>\n",
       "      <td>0</td>\n",
       "      <td>0</td>\n",
       "      <td>0</td>\n",
       "      <td>0</td>\n",
       "      <td>0</td>\n",
       "      <td>0</td>\n",
       "      <td>62500</td>\n",
       "    </tr>\n",
       "    <tr>\n",
       "      <th>95</th>\n",
       "      <td>4</td>\n",
       "      <td>3</td>\n",
       "      <td>3</td>\n",
       "      <td>1</td>\n",
       "      <td>2</td>\n",
       "      <td>1</td>\n",
       "      <td>3</td>\n",
       "      <td>4</td>\n",
       "      <td>1</td>\n",
       "      <td>3</td>\n",
       "      <td>...</td>\n",
       "      <td>0</td>\n",
       "      <td>1</td>\n",
       "      <td>0</td>\n",
       "      <td>0</td>\n",
       "      <td>0</td>\n",
       "      <td>0</td>\n",
       "      <td>0</td>\n",
       "      <td>0</td>\n",
       "      <td>1</td>\n",
       "      <td>88000</td>\n",
       "    </tr>\n",
       "  </tbody>\n",
       "</table>\n",
       "<p>168 rows × 34 columns</p>\n",
       "</div>"
      ],
      "text/plain": [
       "     YEARSERV  RANK  MILTOCIV  CIVADJ  CIVADJISSc  CIVADJISSe  MILJOBSKILLS  \\\n",
       "169         2     0         2       1           2           3             3   \n",
       "141         4     1         2       3           2           0             1   \n",
       "237         1     0         3       2           3           3             0   \n",
       "16          2     1         1       1           1           3             1   \n",
       "176         2     3         1       1           2           2             3   \n",
       "..        ...   ...       ...     ...         ...         ...           ...   \n",
       "63          4     2         2       2           3           1             2   \n",
       "70          2     1         1       2           2           2             2   \n",
       "81          0     0         1       0           0           3             3   \n",
       "11          4     3         2       3           3           0             3   \n",
       "95          4     3         3       1           2           1             3   \n",
       "\n",
       "     MILHELPJOB  F_AGECAT  F_EDUCCAT2  ...  F_RACETHN_Mixed race  \\\n",
       "169           4         1           1  ...                     0   \n",
       "141           2         3           1  ...                     0   \n",
       "237           2         1           0  ...                     0   \n",
       "16            0         1           0  ...                     0   \n",
       "176           3         3           4  ...                     0   \n",
       "..          ...       ...         ...  ...                   ...   \n",
       "63            3         2           2  ...                     0   \n",
       "70            4         1           4  ...                     0   \n",
       "81            0         1           0  ...                     0   \n",
       "11            4         3           4  ...                     0   \n",
       "95            4         1           3  ...                     0   \n",
       "\n",
       "     F_RACETHN_White  F_MARITAL_Married/Live with a partner  \\\n",
       "169                1                                      0   \n",
       "141                1                                      1   \n",
       "237                1                                      0   \n",
       "16                 0                                      0   \n",
       "176                1                                      1   \n",
       "..               ...                                    ...   \n",
       "63                 1                                      1   \n",
       "70                 1                                      1   \n",
       "81                 1                                      0   \n",
       "11                 1                                      1   \n",
       "95                 1                                      0   \n",
       "\n",
       "     F_MARITAL_Never Married  Branch_Army  Branch_Coast_Guard  Branch_Marines  \\\n",
       "169                        0            1                   0               0   \n",
       "141                        0            0                   0               0   \n",
       "237                        0            0                   0               0   \n",
       "16                         0            1                   0               0   \n",
       "176                        0            1                   0               0   \n",
       "..                       ...          ...                 ...             ...   \n",
       "63                         0            0                   0               0   \n",
       "70                         0            0                   0               1   \n",
       "81                         0            0                   0               0   \n",
       "11                         0            0                   0               0   \n",
       "95                         0            0                   0               0   \n",
       "\n",
       "     Branch_Muti-Branch  Branch_Navy  p_income  \n",
       "169                   0            0     63000  \n",
       "141                   0            0     44000  \n",
       "237                   0            1     25000  \n",
       "16                    0            0     63000  \n",
       "176                   0            0     31500  \n",
       "..                  ...          ...       ...  \n",
       "63                    1            0     75000  \n",
       "70                    0            0     75000  \n",
       "81                    0            1     10000  \n",
       "11                    0            0     62500  \n",
       "95                    0            1     88000  \n",
       "\n",
       "[168 rows x 34 columns]"
      ]
     },
     "execution_count": 9,
     "metadata": {},
     "output_type": "execute_result"
    }
   ],
   "source": [
    "# 168 rows\n",
    "X_train"
   ]
  },
  {
   "cell_type": "code",
   "execution_count": 10,
   "metadata": {},
   "outputs": [
    {
     "name": "stdout",
     "output_type": "stream",
     "text": [
      "Total X: 241 rows\n",
      "X_train: 168 rows\n",
      "X_test: 73 rows\n"
     ]
    }
   ],
   "source": [
    "# Check the number of rows \n",
    "print(f'Total X: {len(df)} rows')\n",
    "print(f'X_train: {len(X_train)} rows')\n",
    "print(f'X_test: {len(X_test)} rows')"
   ]
  },
  {
   "cell_type": "markdown",
   "metadata": {},
   "source": [
    "## Feature Selection\n",
    "Feature Selection should be conducted after train_test_split. Then, after feature selection, we can do feature scaling. "
   ]
  },
  {
   "cell_type": "code",
   "execution_count": 11,
   "metadata": {},
   "outputs": [
    {
     "data": {
      "text/plain": [
       "35"
      ]
     },
     "execution_count": 11,
     "metadata": {},
     "output_type": "execute_result"
    }
   ],
   "source": [
    "# We have 35 features currently\n",
    "len(df.columns)"
   ]
  },
  {
   "cell_type": "markdown",
   "metadata": {},
   "source": [
    "### Base Model : Tree Method "
   ]
  },
  {
   "cell_type": "code",
   "execution_count": 12,
   "metadata": {},
   "outputs": [],
   "source": [
    "from sklearn.tree import DecisionTreeClassifier\n",
    "from sklearn.metrics import confusion_matrix,classification_report,ConfusionMatrixDisplay\n",
    "from sklearn.model_selection import cross_val_score\n",
    "from sklearn.model_selection import KFold"
   ]
  },
  {
   "cell_type": "code",
   "execution_count": 13,
   "metadata": {},
   "outputs": [],
   "source": [
    "# Remember to specify random_state\n",
    "# Otherwise classification will change for every iteration\n",
    "base_model = DecisionTreeClassifier(random_state=101)"
   ]
  },
  {
   "cell_type": "code",
   "execution_count": 14,
   "metadata": {},
   "outputs": [],
   "source": [
    "# Create a function to show cross validation score on accuracy\n",
    "def cv_score(model,X_train,y_train):\n",
    "    kfold = KFold(10)\n",
    "    results=cross_val_score(model,X_train,y_train,cv=kfold)\n",
    "    print(f'Results :{results}')\n",
    "    print(f'cv_score: {np.mean(results)}')"
   ]
  },
  {
   "cell_type": "code",
   "execution_count": 15,
   "metadata": {},
   "outputs": [
    {
     "name": "stdout",
     "output_type": "stream",
     "text": [
      "Results :[0.47058824 0.47058824 0.58823529 0.41176471 0.82352941 0.64705882\n",
      " 0.47058824 0.47058824 0.4375     0.375     ]\n",
      "cv_score: 0.5165441176470589\n"
     ]
    }
   ],
   "source": [
    "# This is just the base model(unscaled data)\n",
    "cv_score(base_model,X_train,y_train)"
   ]
  },
  {
   "cell_type": "markdown",
   "metadata": {},
   "source": [
    "### Feature Selection : Chi-Squared Test\n",
    "For categorical input and categorical output\n",
    "\n",
    "How to perform feature seleciton with categorical data : \n",
    "https://machinelearningmastery.com/feature-selection-with-categorical-data/"
   ]
  },
  {
   "cell_type": "code",
   "execution_count": 16,
   "metadata": {},
   "outputs": [],
   "source": [
    "from sklearn.feature_selection import SelectKBest\n",
    "from sklearn.feature_selection import chi2"
   ]
  },
  {
   "cell_type": "code",
   "execution_count": 17,
   "metadata": {},
   "outputs": [],
   "source": [
    "topfeatures = SelectKBest(score_func=chi2,k=10)\n",
    "selected_feature = topfeatures.fit(X_train,y_train)"
   ]
  },
  {
   "cell_type": "code",
   "execution_count": 18,
   "metadata": {},
   "outputs": [],
   "source": [
    "# Visualize top features\n",
    "dfscores = pd.DataFrame(selected_feature.scores_)\n",
    "dfcolumns = pd.DataFrame(X.columns)\n",
    "featureScores = pd.concat([dfcolumns,dfscores],axis=1)\n",
    "featureScores.columns = ['Features','Chi-Score']"
   ]
  },
  {
   "cell_type": "code",
   "execution_count": 19,
   "metadata": {},
   "outputs": [
    {
     "data": {
      "text/html": [
       "<div>\n",
       "<style scoped>\n",
       "    .dataframe tbody tr th:only-of-type {\n",
       "        vertical-align: middle;\n",
       "    }\n",
       "\n",
       "    .dataframe tbody tr th {\n",
       "        vertical-align: top;\n",
       "    }\n",
       "\n",
       "    .dataframe thead th {\n",
       "        text-align: right;\n",
       "    }\n",
       "</style>\n",
       "<table border=\"1\" class=\"dataframe\">\n",
       "  <thead>\n",
       "    <tr style=\"text-align: right;\">\n",
       "      <th></th>\n",
       "      <th>Features</th>\n",
       "      <th>Chi-Score</th>\n",
       "    </tr>\n",
       "  </thead>\n",
       "  <tbody>\n",
       "    <tr>\n",
       "      <th>0</th>\n",
       "      <td>YEARSERV</td>\n",
       "      <td>3.821176</td>\n",
       "    </tr>\n",
       "    <tr>\n",
       "      <th>1</th>\n",
       "      <td>RANK</td>\n",
       "      <td>0.702961</td>\n",
       "    </tr>\n",
       "    <tr>\n",
       "      <th>2</th>\n",
       "      <td>MILTOCIV</td>\n",
       "      <td>8.561126</td>\n",
       "    </tr>\n",
       "    <tr>\n",
       "      <th>3</th>\n",
       "      <td>CIVADJ</td>\n",
       "      <td>6.035170</td>\n",
       "    </tr>\n",
       "    <tr>\n",
       "      <th>4</th>\n",
       "      <td>CIVADJISSc</td>\n",
       "      <td>1.349271</td>\n",
       "    </tr>\n",
       "    <tr>\n",
       "      <th>5</th>\n",
       "      <td>CIVADJISSe</td>\n",
       "      <td>2.428316</td>\n",
       "    </tr>\n",
       "    <tr>\n",
       "      <th>6</th>\n",
       "      <td>MILJOBSKILLS</td>\n",
       "      <td>2.846510</td>\n",
       "    </tr>\n",
       "    <tr>\n",
       "      <th>7</th>\n",
       "      <td>MILHELPJOB</td>\n",
       "      <td>5.906058</td>\n",
       "    </tr>\n",
       "    <tr>\n",
       "      <th>8</th>\n",
       "      <td>F_AGECAT</td>\n",
       "      <td>0.523730</td>\n",
       "    </tr>\n",
       "    <tr>\n",
       "      <th>9</th>\n",
       "      <td>F_EDUCCAT2</td>\n",
       "      <td>0.007993</td>\n",
       "    </tr>\n",
       "    <tr>\n",
       "      <th>10</th>\n",
       "      <td>MARRACTIV_Not Married</td>\n",
       "      <td>0.088096</td>\n",
       "    </tr>\n",
       "    <tr>\n",
       "      <th>11</th>\n",
       "      <td>PARACTIV_Yes</td>\n",
       "      <td>0.050874</td>\n",
       "    </tr>\n",
       "    <tr>\n",
       "      <th>12</th>\n",
       "      <td>COMBAT_Yes</td>\n",
       "      <td>0.455282</td>\n",
       "    </tr>\n",
       "    <tr>\n",
       "      <th>13</th>\n",
       "      <td>VABENEFITS_Yes</td>\n",
       "      <td>0.022526</td>\n",
       "    </tr>\n",
       "    <tr>\n",
       "      <th>14</th>\n",
       "      <td>CIVADJPROBa_Yes</td>\n",
       "      <td>5.481107</td>\n",
       "    </tr>\n",
       "    <tr>\n",
       "      <th>15</th>\n",
       "      <td>CIVADJPROBb_Yes</td>\n",
       "      <td>5.742024</td>\n",
       "    </tr>\n",
       "    <tr>\n",
       "      <th>16</th>\n",
       "      <td>LOOKJOB_Yes(right away)</td>\n",
       "      <td>0.067266</td>\n",
       "    </tr>\n",
       "    <tr>\n",
       "      <th>17</th>\n",
       "      <td>SCHOOL_Yes</td>\n",
       "      <td>0.689762</td>\n",
       "    </tr>\n",
       "    <tr>\n",
       "      <th>18</th>\n",
       "      <td>TRAUMA1_Yes</td>\n",
       "      <td>0.790588</td>\n",
       "    </tr>\n",
       "    <tr>\n",
       "      <th>19</th>\n",
       "      <td>F_SEX_Male</td>\n",
       "      <td>0.104892</td>\n",
       "    </tr>\n",
       "    <tr>\n",
       "      <th>20</th>\n",
       "      <td>F_HISP_Yes</td>\n",
       "      <td>3.181176</td>\n",
       "    </tr>\n",
       "    <tr>\n",
       "      <th>21</th>\n",
       "      <td>INJURED_Injured out of combat</td>\n",
       "      <td>1.129412</td>\n",
       "    </tr>\n",
       "    <tr>\n",
       "      <th>22</th>\n",
       "      <td>INJURED_Not injured</td>\n",
       "      <td>0.255956</td>\n",
       "    </tr>\n",
       "    <tr>\n",
       "      <th>23</th>\n",
       "      <td>F_RACETHN_Black</td>\n",
       "      <td>2.393665</td>\n",
       "    </tr>\n",
       "    <tr>\n",
       "      <th>24</th>\n",
       "      <td>F_RACETHN_Mixed race</td>\n",
       "      <td>1.582118</td>\n",
       "    </tr>\n",
       "    <tr>\n",
       "      <th>25</th>\n",
       "      <td>F_RACETHN_White</td>\n",
       "      <td>0.002520</td>\n",
       "    </tr>\n",
       "    <tr>\n",
       "      <th>26</th>\n",
       "      <td>F_MARITAL_Married/Live with a partner</td>\n",
       "      <td>0.133962</td>\n",
       "    </tr>\n",
       "    <tr>\n",
       "      <th>27</th>\n",
       "      <td>F_MARITAL_Never Married</td>\n",
       "      <td>0.001882</td>\n",
       "    </tr>\n",
       "    <tr>\n",
       "      <th>28</th>\n",
       "      <td>Branch_Army</td>\n",
       "      <td>0.003096</td>\n",
       "    </tr>\n",
       "    <tr>\n",
       "      <th>29</th>\n",
       "      <td>Branch_Coast_Guard</td>\n",
       "      <td>0.150588</td>\n",
       "    </tr>\n",
       "    <tr>\n",
       "      <th>30</th>\n",
       "      <td>Branch_Marines</td>\n",
       "      <td>0.058824</td>\n",
       "    </tr>\n",
       "    <tr>\n",
       "      <th>31</th>\n",
       "      <td>Branch_Muti-Branch</td>\n",
       "      <td>0.000471</td>\n",
       "    </tr>\n",
       "    <tr>\n",
       "      <th>32</th>\n",
       "      <td>Branch_Navy</td>\n",
       "      <td>0.556706</td>\n",
       "    </tr>\n",
       "    <tr>\n",
       "      <th>33</th>\n",
       "      <td>p_income</td>\n",
       "      <td>46312.909726</td>\n",
       "    </tr>\n",
       "  </tbody>\n",
       "</table>\n",
       "</div>"
      ],
      "text/plain": [
       "                                 Features     Chi-Score\n",
       "0                                YEARSERV      3.821176\n",
       "1                                    RANK      0.702961\n",
       "2                                MILTOCIV      8.561126\n",
       "3                                  CIVADJ      6.035170\n",
       "4                              CIVADJISSc      1.349271\n",
       "5                              CIVADJISSe      2.428316\n",
       "6                            MILJOBSKILLS      2.846510\n",
       "7                              MILHELPJOB      5.906058\n",
       "8                                F_AGECAT      0.523730\n",
       "9                              F_EDUCCAT2      0.007993\n",
       "10                  MARRACTIV_Not Married      0.088096\n",
       "11                           PARACTIV_Yes      0.050874\n",
       "12                             COMBAT_Yes      0.455282\n",
       "13                         VABENEFITS_Yes      0.022526\n",
       "14                        CIVADJPROBa_Yes      5.481107\n",
       "15                        CIVADJPROBb_Yes      5.742024\n",
       "16                LOOKJOB_Yes(right away)      0.067266\n",
       "17                             SCHOOL_Yes      0.689762\n",
       "18                            TRAUMA1_Yes      0.790588\n",
       "19                             F_SEX_Male      0.104892\n",
       "20                             F_HISP_Yes      3.181176\n",
       "21          INJURED_Injured out of combat      1.129412\n",
       "22                    INJURED_Not injured      0.255956\n",
       "23                        F_RACETHN_Black      2.393665\n",
       "24                   F_RACETHN_Mixed race      1.582118\n",
       "25                        F_RACETHN_White      0.002520\n",
       "26  F_MARITAL_Married/Live with a partner      0.133962\n",
       "27                F_MARITAL_Never Married      0.001882\n",
       "28                            Branch_Army      0.003096\n",
       "29                     Branch_Coast_Guard      0.150588\n",
       "30                         Branch_Marines      0.058824\n",
       "31                     Branch_Muti-Branch      0.000471\n",
       "32                            Branch_Navy      0.556706\n",
       "33                               p_income  46312.909726"
      ]
     },
     "execution_count": 19,
     "metadata": {},
     "output_type": "execute_result"
    }
   ],
   "source": [
    "featureScores"
   ]
  },
  {
   "cell_type": "code",
   "execution_count": 20,
   "metadata": {},
   "outputs": [
    {
     "name": "stdout",
     "output_type": "stream",
     "text": [
      "           Features     Chi-Score\n",
      "33         p_income  46312.909726\n",
      "2          MILTOCIV      8.561126\n",
      "3            CIVADJ      6.035170\n",
      "7        MILHELPJOB      5.906058\n",
      "15  CIVADJPROBb_Yes      5.742024\n",
      "14  CIVADJPROBa_Yes      5.481107\n",
      "0          YEARSERV      3.821176\n",
      "20       F_HISP_Yes      3.181176\n",
      "6      MILJOBSKILLS      2.846510\n",
      "5        CIVADJISSe      2.428316\n",
      "23  F_RACETHN_Black      2.393665\n"
     ]
    }
   ],
   "source": [
    "# Visualize top 10 features\n",
    "# Although p_income is numeric(should not be evaluated by chi-square test)\n",
    "# We will get rid of it later (it should not predict FINDJOB anyway)\n",
    "print(featureScores.nlargest(11,'Chi-Score'))"
   ]
  },
  {
   "cell_type": "code",
   "execution_count": 21,
   "metadata": {},
   "outputs": [
    {
     "data": {
      "text/plain": [
       "2            MILTOCIV\n",
       "3              CIVADJ\n",
       "7          MILHELPJOB\n",
       "15    CIVADJPROBb_Yes\n",
       "14    CIVADJPROBa_Yes\n",
       "0            YEARSERV\n",
       "20         F_HISP_Yes\n",
       "6        MILJOBSKILLS\n",
       "5          CIVADJISSe\n",
       "23    F_RACETHN_Black\n",
       "Name: Features, dtype: object"
      ]
     },
     "execution_count": 21,
     "metadata": {},
     "output_type": "execute_result"
    }
   ],
   "source": [
    "# Extract only features name\n",
    "uni_features = featureScores.nlargest(11,'Chi-Score')['Features']\n",
    "uni_features = uni_features[1:11]\n",
    "uni_features"
   ]
  },
  {
   "cell_type": "code",
   "execution_count": 22,
   "metadata": {},
   "outputs": [
    {
     "data": {
      "text/plain": [
       "['MILTOCIV',\n",
       " 'CIVADJ',\n",
       " 'MILHELPJOB',\n",
       " 'CIVADJPROBb_Yes',\n",
       " 'CIVADJPROBa_Yes',\n",
       " 'YEARSERV',\n",
       " 'F_HISP_Yes',\n",
       " 'MILJOBSKILLS',\n",
       " 'CIVADJISSe',\n",
       " 'F_RACETHN_Black']"
      ]
     },
     "execution_count": 22,
     "metadata": {},
     "output_type": "execute_result"
    }
   ],
   "source": [
    "# Create a list of top 10 features\n",
    "uni_features = list(uni_features)\n",
    "uni_features"
   ]
  },
  {
   "cell_type": "code",
   "execution_count": 23,
   "metadata": {},
   "outputs": [
    {
     "data": {
      "text/plain": [
       "['MILTOCIV',\n",
       " 'CIVADJ',\n",
       " 'MILHELPJOB',\n",
       " 'CIVADJPROBb_Yes',\n",
       " 'CIVADJPROBa_Yes',\n",
       " 'YEARSERV',\n",
       " 'F_HISP_Yes',\n",
       " 'MILJOBSKILLS',\n",
       " 'CIVADJISSe',\n",
       " 'F_RACETHN_Black',\n",
       " 'FINDJOB']"
      ]
     },
     "execution_count": 23,
     "metadata": {},
     "output_type": "execute_result"
    }
   ],
   "source": [
    "selected_columns = uni_features + [\"FINDJOB\"] \n",
    "selected_columns"
   ]
  },
  {
   "cell_type": "code",
   "execution_count": 24,
   "metadata": {},
   "outputs": [
    {
     "data": {
      "text/html": [
       "<div>\n",
       "<style scoped>\n",
       "    .dataframe tbody tr th:only-of-type {\n",
       "        vertical-align: middle;\n",
       "    }\n",
       "\n",
       "    .dataframe tbody tr th {\n",
       "        vertical-align: top;\n",
       "    }\n",
       "\n",
       "    .dataframe thead th {\n",
       "        text-align: right;\n",
       "    }\n",
       "</style>\n",
       "<table border=\"1\" class=\"dataframe\">\n",
       "  <thead>\n",
       "    <tr style=\"text-align: right;\">\n",
       "      <th></th>\n",
       "      <th>MILTOCIV</th>\n",
       "      <th>CIVADJ</th>\n",
       "      <th>MILHELPJOB</th>\n",
       "      <th>CIVADJPROBb_Yes</th>\n",
       "      <th>CIVADJPROBa_Yes</th>\n",
       "      <th>YEARSERV</th>\n",
       "      <th>F_HISP_Yes</th>\n",
       "      <th>MILJOBSKILLS</th>\n",
       "      <th>CIVADJISSe</th>\n",
       "      <th>F_RACETHN_Black</th>\n",
       "      <th>FINDJOB</th>\n",
       "    </tr>\n",
       "  </thead>\n",
       "  <tbody>\n",
       "    <tr>\n",
       "      <th>0</th>\n",
       "      <td>2</td>\n",
       "      <td>3</td>\n",
       "      <td>4</td>\n",
       "      <td>0</td>\n",
       "      <td>1</td>\n",
       "      <td>4</td>\n",
       "      <td>0</td>\n",
       "      <td>2</td>\n",
       "      <td>0</td>\n",
       "      <td>0</td>\n",
       "      <td>1</td>\n",
       "    </tr>\n",
       "    <tr>\n",
       "      <th>1</th>\n",
       "      <td>2</td>\n",
       "      <td>2</td>\n",
       "      <td>3</td>\n",
       "      <td>0</td>\n",
       "      <td>0</td>\n",
       "      <td>4</td>\n",
       "      <td>0</td>\n",
       "      <td>3</td>\n",
       "      <td>0</td>\n",
       "      <td>0</td>\n",
       "      <td>0</td>\n",
       "    </tr>\n",
       "    <tr>\n",
       "      <th>2</th>\n",
       "      <td>2</td>\n",
       "      <td>2</td>\n",
       "      <td>4</td>\n",
       "      <td>0</td>\n",
       "      <td>0</td>\n",
       "      <td>4</td>\n",
       "      <td>0</td>\n",
       "      <td>3</td>\n",
       "      <td>1</td>\n",
       "      <td>0</td>\n",
       "      <td>1</td>\n",
       "    </tr>\n",
       "    <tr>\n",
       "      <th>3</th>\n",
       "      <td>2</td>\n",
       "      <td>1</td>\n",
       "      <td>4</td>\n",
       "      <td>0</td>\n",
       "      <td>0</td>\n",
       "      <td>4</td>\n",
       "      <td>0</td>\n",
       "      <td>2</td>\n",
       "      <td>2</td>\n",
       "      <td>0</td>\n",
       "      <td>1</td>\n",
       "    </tr>\n",
       "    <tr>\n",
       "      <th>4</th>\n",
       "      <td>2</td>\n",
       "      <td>2</td>\n",
       "      <td>4</td>\n",
       "      <td>0</td>\n",
       "      <td>0</td>\n",
       "      <td>4</td>\n",
       "      <td>0</td>\n",
       "      <td>2</td>\n",
       "      <td>0</td>\n",
       "      <td>1</td>\n",
       "      <td>1</td>\n",
       "    </tr>\n",
       "    <tr>\n",
       "      <th>...</th>\n",
       "      <td>...</td>\n",
       "      <td>...</td>\n",
       "      <td>...</td>\n",
       "      <td>...</td>\n",
       "      <td>...</td>\n",
       "      <td>...</td>\n",
       "      <td>...</td>\n",
       "      <td>...</td>\n",
       "      <td>...</td>\n",
       "      <td>...</td>\n",
       "      <td>...</td>\n",
       "    </tr>\n",
       "    <tr>\n",
       "      <th>236</th>\n",
       "      <td>1</td>\n",
       "      <td>2</td>\n",
       "      <td>2</td>\n",
       "      <td>1</td>\n",
       "      <td>1</td>\n",
       "      <td>2</td>\n",
       "      <td>0</td>\n",
       "      <td>1</td>\n",
       "      <td>1</td>\n",
       "      <td>0</td>\n",
       "      <td>0</td>\n",
       "    </tr>\n",
       "    <tr>\n",
       "      <th>237</th>\n",
       "      <td>3</td>\n",
       "      <td>2</td>\n",
       "      <td>2</td>\n",
       "      <td>0</td>\n",
       "      <td>0</td>\n",
       "      <td>1</td>\n",
       "      <td>0</td>\n",
       "      <td>0</td>\n",
       "      <td>3</td>\n",
       "      <td>0</td>\n",
       "      <td>1</td>\n",
       "    </tr>\n",
       "    <tr>\n",
       "      <th>238</th>\n",
       "      <td>2</td>\n",
       "      <td>1</td>\n",
       "      <td>3</td>\n",
       "      <td>0</td>\n",
       "      <td>1</td>\n",
       "      <td>4</td>\n",
       "      <td>0</td>\n",
       "      <td>1</td>\n",
       "      <td>0</td>\n",
       "      <td>0</td>\n",
       "      <td>1</td>\n",
       "    </tr>\n",
       "    <tr>\n",
       "      <th>239</th>\n",
       "      <td>2</td>\n",
       "      <td>1</td>\n",
       "      <td>2</td>\n",
       "      <td>0</td>\n",
       "      <td>0</td>\n",
       "      <td>4</td>\n",
       "      <td>0</td>\n",
       "      <td>1</td>\n",
       "      <td>2</td>\n",
       "      <td>0</td>\n",
       "      <td>1</td>\n",
       "    </tr>\n",
       "    <tr>\n",
       "      <th>240</th>\n",
       "      <td>2</td>\n",
       "      <td>3</td>\n",
       "      <td>2</td>\n",
       "      <td>1</td>\n",
       "      <td>0</td>\n",
       "      <td>2</td>\n",
       "      <td>0</td>\n",
       "      <td>2</td>\n",
       "      <td>1</td>\n",
       "      <td>0</td>\n",
       "      <td>0</td>\n",
       "    </tr>\n",
       "  </tbody>\n",
       "</table>\n",
       "<p>241 rows × 11 columns</p>\n",
       "</div>"
      ],
      "text/plain": [
       "     MILTOCIV  CIVADJ  MILHELPJOB  CIVADJPROBb_Yes  CIVADJPROBa_Yes  YEARSERV  \\\n",
       "0           2       3           4                0                1         4   \n",
       "1           2       2           3                0                0         4   \n",
       "2           2       2           4                0                0         4   \n",
       "3           2       1           4                0                0         4   \n",
       "4           2       2           4                0                0         4   \n",
       "..        ...     ...         ...              ...              ...       ...   \n",
       "236         1       2           2                1                1         2   \n",
       "237         3       2           2                0                0         1   \n",
       "238         2       1           3                0                1         4   \n",
       "239         2       1           2                0                0         4   \n",
       "240         2       3           2                1                0         2   \n",
       "\n",
       "     F_HISP_Yes  MILJOBSKILLS  CIVADJISSe  F_RACETHN_Black  FINDJOB  \n",
       "0             0             2           0                0        1  \n",
       "1             0             3           0                0        0  \n",
       "2             0             3           1                0        1  \n",
       "3             0             2           2                0        1  \n",
       "4             0             2           0                1        1  \n",
       "..          ...           ...         ...              ...      ...  \n",
       "236           0             1           1                0        0  \n",
       "237           0             0           3                0        1  \n",
       "238           0             1           0                0        1  \n",
       "239           0             1           2                0        1  \n",
       "240           0             2           1                0        0  \n",
       "\n",
       "[241 rows x 11 columns]"
      ]
     },
     "execution_count": 24,
     "metadata": {},
     "output_type": "execute_result"
    }
   ],
   "source": [
    "df[selected_columns]"
   ]
  },
  {
   "cell_type": "code",
   "execution_count": 25,
   "metadata": {},
   "outputs": [
    {
     "data": {
      "text/html": [
       "<div>\n",
       "<style scoped>\n",
       "    .dataframe tbody tr th:only-of-type {\n",
       "        vertical-align: middle;\n",
       "    }\n",
       "\n",
       "    .dataframe tbody tr th {\n",
       "        vertical-align: top;\n",
       "    }\n",
       "\n",
       "    .dataframe thead th {\n",
       "        text-align: right;\n",
       "    }\n",
       "</style>\n",
       "<table border=\"1\" class=\"dataframe\">\n",
       "  <thead>\n",
       "    <tr style=\"text-align: right;\">\n",
       "      <th></th>\n",
       "      <th>MILTOCIV</th>\n",
       "      <th>CIVADJ</th>\n",
       "      <th>MILHELPJOB</th>\n",
       "      <th>CIVADJPROBb_Yes</th>\n",
       "      <th>CIVADJPROBa_Yes</th>\n",
       "      <th>YEARSERV</th>\n",
       "      <th>F_HISP_Yes</th>\n",
       "      <th>MILJOBSKILLS</th>\n",
       "      <th>CIVADJISSe</th>\n",
       "      <th>F_RACETHN_Black</th>\n",
       "    </tr>\n",
       "  </thead>\n",
       "  <tbody>\n",
       "    <tr>\n",
       "      <th>169</th>\n",
       "      <td>2</td>\n",
       "      <td>1</td>\n",
       "      <td>4</td>\n",
       "      <td>0</td>\n",
       "      <td>1</td>\n",
       "      <td>2</td>\n",
       "      <td>0</td>\n",
       "      <td>3</td>\n",
       "      <td>3</td>\n",
       "      <td>0</td>\n",
       "    </tr>\n",
       "    <tr>\n",
       "      <th>141</th>\n",
       "      <td>2</td>\n",
       "      <td>3</td>\n",
       "      <td>2</td>\n",
       "      <td>0</td>\n",
       "      <td>0</td>\n",
       "      <td>4</td>\n",
       "      <td>0</td>\n",
       "      <td>1</td>\n",
       "      <td>0</td>\n",
       "      <td>0</td>\n",
       "    </tr>\n",
       "    <tr>\n",
       "      <th>237</th>\n",
       "      <td>3</td>\n",
       "      <td>2</td>\n",
       "      <td>2</td>\n",
       "      <td>0</td>\n",
       "      <td>0</td>\n",
       "      <td>1</td>\n",
       "      <td>0</td>\n",
       "      <td>0</td>\n",
       "      <td>3</td>\n",
       "      <td>0</td>\n",
       "    </tr>\n",
       "    <tr>\n",
       "      <th>16</th>\n",
       "      <td>1</td>\n",
       "      <td>1</td>\n",
       "      <td>0</td>\n",
       "      <td>0</td>\n",
       "      <td>1</td>\n",
       "      <td>2</td>\n",
       "      <td>1</td>\n",
       "      <td>1</td>\n",
       "      <td>3</td>\n",
       "      <td>0</td>\n",
       "    </tr>\n",
       "    <tr>\n",
       "      <th>176</th>\n",
       "      <td>1</td>\n",
       "      <td>1</td>\n",
       "      <td>3</td>\n",
       "      <td>0</td>\n",
       "      <td>0</td>\n",
       "      <td>2</td>\n",
       "      <td>0</td>\n",
       "      <td>3</td>\n",
       "      <td>2</td>\n",
       "      <td>0</td>\n",
       "    </tr>\n",
       "    <tr>\n",
       "      <th>...</th>\n",
       "      <td>...</td>\n",
       "      <td>...</td>\n",
       "      <td>...</td>\n",
       "      <td>...</td>\n",
       "      <td>...</td>\n",
       "      <td>...</td>\n",
       "      <td>...</td>\n",
       "      <td>...</td>\n",
       "      <td>...</td>\n",
       "      <td>...</td>\n",
       "    </tr>\n",
       "    <tr>\n",
       "      <th>63</th>\n",
       "      <td>2</td>\n",
       "      <td>2</td>\n",
       "      <td>3</td>\n",
       "      <td>0</td>\n",
       "      <td>0</td>\n",
       "      <td>4</td>\n",
       "      <td>0</td>\n",
       "      <td>2</td>\n",
       "      <td>1</td>\n",
       "      <td>0</td>\n",
       "    </tr>\n",
       "    <tr>\n",
       "      <th>70</th>\n",
       "      <td>1</td>\n",
       "      <td>2</td>\n",
       "      <td>4</td>\n",
       "      <td>0</td>\n",
       "      <td>0</td>\n",
       "      <td>2</td>\n",
       "      <td>0</td>\n",
       "      <td>2</td>\n",
       "      <td>2</td>\n",
       "      <td>0</td>\n",
       "    </tr>\n",
       "    <tr>\n",
       "      <th>81</th>\n",
       "      <td>1</td>\n",
       "      <td>0</td>\n",
       "      <td>0</td>\n",
       "      <td>1</td>\n",
       "      <td>1</td>\n",
       "      <td>0</td>\n",
       "      <td>0</td>\n",
       "      <td>3</td>\n",
       "      <td>3</td>\n",
       "      <td>0</td>\n",
       "    </tr>\n",
       "    <tr>\n",
       "      <th>11</th>\n",
       "      <td>2</td>\n",
       "      <td>3</td>\n",
       "      <td>4</td>\n",
       "      <td>0</td>\n",
       "      <td>0</td>\n",
       "      <td>4</td>\n",
       "      <td>0</td>\n",
       "      <td>3</td>\n",
       "      <td>0</td>\n",
       "      <td>0</td>\n",
       "    </tr>\n",
       "    <tr>\n",
       "      <th>95</th>\n",
       "      <td>3</td>\n",
       "      <td>1</td>\n",
       "      <td>4</td>\n",
       "      <td>0</td>\n",
       "      <td>0</td>\n",
       "      <td>4</td>\n",
       "      <td>0</td>\n",
       "      <td>3</td>\n",
       "      <td>1</td>\n",
       "      <td>0</td>\n",
       "    </tr>\n",
       "  </tbody>\n",
       "</table>\n",
       "<p>168 rows × 10 columns</p>\n",
       "</div>"
      ],
      "text/plain": [
       "     MILTOCIV  CIVADJ  MILHELPJOB  CIVADJPROBb_Yes  CIVADJPROBa_Yes  YEARSERV  \\\n",
       "169         2       1           4                0                1         2   \n",
       "141         2       3           2                0                0         4   \n",
       "237         3       2           2                0                0         1   \n",
       "16          1       1           0                0                1         2   \n",
       "176         1       1           3                0                0         2   \n",
       "..        ...     ...         ...              ...              ...       ...   \n",
       "63          2       2           3                0                0         4   \n",
       "70          1       2           4                0                0         2   \n",
       "81          1       0           0                1                1         0   \n",
       "11          2       3           4                0                0         4   \n",
       "95          3       1           4                0                0         4   \n",
       "\n",
       "     F_HISP_Yes  MILJOBSKILLS  CIVADJISSe  F_RACETHN_Black  \n",
       "169           0             3           3                0  \n",
       "141           0             1           0                0  \n",
       "237           0             0           3                0  \n",
       "16            1             1           3                0  \n",
       "176           0             3           2                0  \n",
       "..          ...           ...         ...              ...  \n",
       "63            0             2           1                0  \n",
       "70            0             2           2                0  \n",
       "81            0             3           3                0  \n",
       "11            0             3           0                0  \n",
       "95            0             3           1                0  \n",
       "\n",
       "[168 rows x 10 columns]"
      ]
     },
     "execution_count": 25,
     "metadata": {},
     "output_type": "execute_result"
    }
   ],
   "source": [
    "X_train =X_train[uni_features]\n",
    "X_train"
   ]
  },
  {
   "cell_type": "code",
   "execution_count": 26,
   "metadata": {},
   "outputs": [
    {
     "name": "stdout",
     "output_type": "stream",
     "text": [
      "73\n",
      "10\n"
     ]
    }
   ],
   "source": [
    "X_test =X_test[uni_features]\n",
    "print(len(X_test))\n",
    "print(len(X_test.columns))"
   ]
  },
  {
   "cell_type": "code",
   "execution_count": 27,
   "metadata": {},
   "outputs": [
    {
     "name": "stdout",
     "output_type": "stream",
     "text": [
      "Results :[0.47058824 0.47058824 0.64705882 0.52941176 0.52941176 0.58823529\n",
      " 0.70588235 0.82352941 0.5        0.4375    ]\n",
      "cv_score: 0.5702205882352941\n"
     ]
    }
   ],
   "source": [
    "# The performance increased slightly from 0.51 to 0.57\n",
    "cv_score(base_model,X_train,y_train)"
   ]
  },
  {
   "cell_type": "markdown",
   "metadata": {},
   "source": [
    "## Imbalanced Data Check\n",
    "if we need to do SMOTE : \n",
    "- install code : sudo pip install imbalanced-learn"
   ]
  },
  {
   "cell_type": "code",
   "execution_count": 28,
   "metadata": {},
   "outputs": [
    {
     "data": {
      "text/plain": [
       "1    144\n",
       "0     97\n",
       "Name: FINDJOB, dtype: int64"
      ]
     },
     "execution_count": 28,
     "metadata": {},
     "output_type": "execute_result"
    }
   ],
   "source": [
    "# 1 represent findjob within 6 months\n",
    "df['FINDJOB'].value_counts()"
   ]
  },
  {
   "cell_type": "code",
   "execution_count": 29,
   "metadata": {},
   "outputs": [
    {
     "data": {
      "text/plain": [
       "1    59.751037\n",
       "0    40.248963\n",
       "Name: FINDJOB, dtype: float64"
      ]
     },
     "execution_count": 29,
     "metadata": {},
     "output_type": "execute_result"
    }
   ],
   "source": [
    "# Percentage\n",
    "(df['FINDJOB'].value_counts()/len(df))*100"
   ]
  },
  {
   "cell_type": "code",
   "execution_count": 30,
   "metadata": {},
   "outputs": [
    {
     "data": {
      "text/plain": [
       "<AxesSubplot:xlabel='FINDJOB', ylabel='count'>"
      ]
     },
     "execution_count": 30,
     "metadata": {},
     "output_type": "execute_result"
    },
    {
     "data": {
      "image/png": "[encoded data removed]",
      "text/plain": [
       "<Figure size 432x288 with 1 Axes>"
      ]
     },
     "metadata": {
      "needs_background": "light"
     },
     "output_type": "display_data"
    }
   ],
   "source": [
    "# The label is slightly imbalance\n",
    "# This is often not a concern, so we don't resample the data\n",
    "sns.countplot(x='FINDJOB',data=df)"
   ]
  },
  {
   "cell_type": "code",
   "execution_count": 31,
   "metadata": {},
   "outputs": [],
   "source": [
    "# These are codes for oversampling (not necessary in this data)\n",
    "# Remember sampling should be applied after feature selection\n",
    "# from imblearn.over_sampling import SMOTE\n",
    "# from collections import Counter"
   ]
  },
  {
   "cell_type": "code",
   "execution_count": 32,
   "metadata": {},
   "outputs": [],
   "source": [
    "#oversample = SMOTE()\n",
    "#X,y = oversample.fit_resample(X,y)"
   ]
  },
  {
   "cell_type": "code",
   "execution_count": 33,
   "metadata": {},
   "outputs": [],
   "source": [
    "#counter = Counter(y)\n",
    "#for k,v in counter.items():\n",
    "    #dist = v/ len(y)*100\n",
    "    #print(f\"Class = {k},n={v}({dist}%)\")"
   ]
  },
  {
   "cell_type": "markdown",
   "metadata": {},
   "source": [
    "## Scale the Data"
   ]
  },
  {
   "cell_type": "code",
   "execution_count": 34,
   "metadata": {},
   "outputs": [
    {
     "data": {
      "text/plain": [
       "Index(['MILTOCIV', 'CIVADJ', 'MILHELPJOB', 'CIVADJPROBb_Yes',\n",
       "       'CIVADJPROBa_Yes', 'YEARSERV', 'F_HISP_Yes', 'MILJOBSKILLS',\n",
       "       'CIVADJISSe', 'F_RACETHN_Black'],\n",
       "      dtype='object')"
      ]
     },
     "execution_count": 34,
     "metadata": {},
     "output_type": "execute_result"
    }
   ],
   "source": [
    "features = X_train.columns\n",
    "features"
   ]
  },
  {
   "cell_type": "code",
   "execution_count": 35,
   "metadata": {},
   "outputs": [],
   "source": [
    "from sklearn.preprocessing import MinMaxScaler"
   ]
  },
  {
   "cell_type": "code",
   "execution_count": 36,
   "metadata": {},
   "outputs": [],
   "source": [
    "# Scale the data\n",
    "scaler = MinMaxScaler()\n",
    "# Only fit training data\n",
    "scaler.fit(X_train)\n",
    "# Scle to all X data\n",
    "X_train = scaler.transform(X_train)\n",
    "X_test = scaler.transform(X_test)"
   ]
  },
  {
   "cell_type": "code",
   "execution_count": 37,
   "metadata": {},
   "outputs": [
    {
     "data": {
      "text/plain": [
       "array([[0.66666667, 0.33333333, 1.        , ..., 1.        , 1.        ,\n",
       "        0.        ],\n",
       "       [0.66666667, 1.        , 0.5       , ..., 0.33333333, 0.        ,\n",
       "        0.        ],\n",
       "       [1.        , 0.66666667, 0.5       , ..., 0.        , 1.        ,\n",
       "        0.        ],\n",
       "       ...,\n",
       "       [0.33333333, 0.        , 0.        , ..., 1.        , 1.        ,\n",
       "        0.        ],\n",
       "       [0.66666667, 1.        , 1.        , ..., 1.        , 0.        ,\n",
       "        0.        ],\n",
       "       [1.        , 0.33333333, 1.        , ..., 1.        , 0.33333333,\n",
       "        0.        ]])"
      ]
     },
     "execution_count": 37,
     "metadata": {},
     "output_type": "execute_result"
    }
   ],
   "source": [
    "X_train"
   ]
  },
  {
   "cell_type": "code",
   "execution_count": 38,
   "metadata": {},
   "outputs": [
    {
     "data": {
      "text/plain": [
       "(168, 10)"
      ]
     },
     "execution_count": 38,
     "metadata": {},
     "output_type": "execute_result"
    }
   ],
   "source": [
    "# 10 features, 168 rows\n",
    "X_train.shape"
   ]
  },
  {
   "cell_type": "markdown",
   "metadata": {},
   "source": [
    "# Step 7 : Model Selection with K-Fold Cross-Validation\n",
    "\n",
    "1. Select the best basic model - Logistic Model\n",
    "2. Tuning the parameters\n",
    "3. Model evaluation on test data set"
   ]
  },
  {
   "cell_type": "code",
   "execution_count": 39,
   "metadata": {},
   "outputs": [],
   "source": [
    "from sklearn.model_selection import cross_val_score\n",
    "from sklearn.model_selection import KFold"
   ]
  },
  {
   "cell_type": "code",
   "execution_count": 40,
   "metadata": {},
   "outputs": [],
   "source": [
    "# Create a function to show cross validation score on accuracy\n",
    "def Accuracy_score(model,X_train,y_train):\n",
    "    kfold = KFold(10)\n",
    "    results=cross_val_score(model,X_train,y_train,cv=kfold)\n",
    "    print(f'Results :{results}')\n",
    "    print(f'cv_score: {np.mean(results)}')"
   ]
  },
  {
   "cell_type": "code",
   "execution_count": 41,
   "metadata": {},
   "outputs": [],
   "source": [
    "# Create a function to show cross validation score on accuracy\n",
    "def Precision_score(model,X_train,y_train):\n",
    "    kfold = KFold(10)\n",
    "    results=cross_val_score(model,X_train,y_train,cv=kfold,scoring='precision')\n",
    "    print(f'Results :{results}')\n",
    "    print(f'cv_score: {np.mean(results)}')"
   ]
  },
  {
   "cell_type": "code",
   "execution_count": 42,
   "metadata": {},
   "outputs": [],
   "source": [
    "# Create a function to show cross validation score on accuracy\n",
    "def Recall_score(model,X_train,y_train):\n",
    "    kfold = KFold(10)\n",
    "    results=cross_val_score(model,X_train,y_train,cv=kfold,scoring='recall')\n",
    "    print(f'Results :{results}')\n",
    "    print(f'cv_score: {np.mean(results)}')"
   ]
  },
  {
   "cell_type": "code",
   "execution_count": 43,
   "metadata": {},
   "outputs": [],
   "source": [
    "# Create a function to show cross validation score on f1\n",
    "def f1_score(model,X_train,y_train):\n",
    "    kfold = KFold(10)\n",
    "    results=cross_val_score(model,X_train,y_train,cv=kfold,scoring='f1')\n",
    "    print(f'Results :{results}')\n",
    "    print(f'cv_score: {np.mean(results)}')"
   ]
  },
  {
   "cell_type": "markdown",
   "metadata": {},
   "source": [
    "## Basic Models\n",
    "### Model 1 : Logistic Regression Model \n",
    "- Accuracy : 66.1\n",
    "- Precision : 68\n",
    "- Recall : 80\n",
    "- F1 score: 73"
   ]
  },
  {
   "cell_type": "code",
   "execution_count": 44,
   "metadata": {},
   "outputs": [],
   "source": [
    "from sklearn.linear_model import LogisticRegression"
   ]
  },
  {
   "cell_type": "code",
   "execution_count": 45,
   "metadata": {},
   "outputs": [],
   "source": [
    "log_model = LogisticRegression(solver='saga',multi_class ='ovr',max_iter=20000,random_state=101)"
   ]
  },
  {
   "cell_type": "code",
   "execution_count": 46,
   "metadata": {},
   "outputs": [
    {
     "name": "stdout",
     "output_type": "stream",
     "text": [
      "Results :[0.29411765 0.64705882 0.64705882 0.76470588 0.76470588 0.70588235\n",
      " 0.76470588 0.64705882 0.625      0.75      ]\n",
      "cv_score: 0.6610294117647058\n"
     ]
    }
   ],
   "source": [
    "Accuracy_score(log_model,X_train,y_train)"
   ]
  },
  {
   "cell_type": "code",
   "execution_count": 47,
   "metadata": {},
   "outputs": [
    {
     "name": "stdout",
     "output_type": "stream",
     "text": [
      "Results :[0.25       0.6        0.61538462 0.8        0.76923077 0.83333333\n",
      " 0.72727273 0.77777778 0.69230769 0.72727273]\n",
      "cv_score: 0.6792579642579643\n"
     ]
    }
   ],
   "source": [
    "Precision_score(log_model,X_train,y_train)"
   ]
  },
  {
   "cell_type": "code",
   "execution_count": 48,
   "metadata": {},
   "outputs": [
    {
     "name": "stdout",
     "output_type": "stream",
     "text": [
      "Results :[0.5        0.75       0.88888889 0.92307692 0.90909091 0.76923077\n",
      " 0.88888889 0.63636364 0.81818182 0.88888889]\n",
      "cv_score: 0.7972610722610722\n"
     ]
    }
   ],
   "source": [
    "Recall_score(log_model,X_train,y_train)"
   ]
  },
  {
   "cell_type": "code",
   "execution_count": 49,
   "metadata": {},
   "outputs": [
    {
     "name": "stdout",
     "output_type": "stream",
     "text": [
      "Results :[0.33333333 0.66666667 0.72727273 0.85714286 0.83333333 0.8\n",
      " 0.8        0.7        0.75       0.8       ]\n",
      "cv_score: 0.7267748917748917\n"
     ]
    }
   ],
   "source": [
    "f1_score(log_model,X_train,y_train)"
   ]
  },
  {
   "cell_type": "markdown",
   "metadata": {},
   "source": [
    "### Model 2 : K Nearest Neighbors \n",
    "- Accuracy : 60.1\n",
    "- Precision : 65.2\n",
    "- Recall : 72.7\n",
    "- F1 score: 76.2\n",
    "\n",
    "Require scaling of data because KNN uses the Euclidean distance btw two data points to find nearest neighbors. Euclidean distance is sensitive to magnitudes. The features with high magnitudes will weight more than features with low magnitudes. KNN also is not suitable for large dimensional data \n",
    "\n",
    "https://www.datacamp.com/community/tutorials/k-nearest-neighbor-classification-scikit-learn\n",
    "\n"
   ]
  },
  {
   "cell_type": "code",
   "execution_count": 50,
   "metadata": {},
   "outputs": [],
   "source": [
    "from sklearn.neighbors import KNeighborsClassifier"
   ]
  },
  {
   "cell_type": "code",
   "execution_count": 51,
   "metadata": {},
   "outputs": [],
   "source": [
    "# help(KNeighborsClassifier)"
   ]
  },
  {
   "cell_type": "code",
   "execution_count": 52,
   "metadata": {},
   "outputs": [],
   "source": [
    "knn_model = KNeighborsClassifier()"
   ]
  },
  {
   "cell_type": "code",
   "execution_count": 53,
   "metadata": {},
   "outputs": [
    {
     "name": "stdout",
     "output_type": "stream",
     "text": [
      "Results :[0.47058824 0.58823529 0.52941176 0.58823529 0.76470588 0.52941176\n",
      " 0.64705882 0.70588235 0.5        0.6875    ]\n",
      "cv_score: 0.6011029411764707\n"
     ]
    }
   ],
   "source": [
    "Accuracy_score(knn_model,X_train,y_train)"
   ]
  },
  {
   "cell_type": "code",
   "execution_count": 54,
   "metadata": {},
   "outputs": [
    {
     "name": "stdout",
     "output_type": "stream",
     "text": [
      "Results :[0.38461538 0.55555556 0.54545455 0.75       0.81818182 0.69230769\n",
      " 0.63636364 0.8        0.66666667 0.66666667]\n",
      "cv_score: 0.6515811965811966\n"
     ]
    }
   ],
   "source": [
    "Precision_score(knn_model,X_train,y_train)"
   ]
  },
  {
   "cell_type": "code",
   "execution_count": 55,
   "metadata": {},
   "outputs": [
    {
     "name": "stdout",
     "output_type": "stream",
     "text": [
      "Results :[0.83333333 0.625      0.66666667 0.69230769 0.81818182 0.69230769\n",
      " 0.77777778 0.72727273 0.54545455 0.88888889]\n",
      "cv_score: 0.7267191142191143\n"
     ]
    }
   ],
   "source": [
    "Recall_score(knn_model,X_train,y_train)"
   ]
  },
  {
   "cell_type": "code",
   "execution_count": 56,
   "metadata": {},
   "outputs": [
    {
     "name": "stdout",
     "output_type": "stream",
     "text": [
      "Results :[0.52631579 0.58823529 0.6        0.72       0.81818182 0.69230769\n",
      " 0.7        0.76190476 0.6        0.76190476]\n",
      "cv_score: 0.6768850117890366\n"
     ]
    }
   ],
   "source": [
    "f1_score(knn_model,X_train,y_train)"
   ]
  },
  {
   "cell_type": "markdown",
   "metadata": {},
   "source": [
    "### Model 3 : Support Vector Machines (the best performance)\n",
    "- Accuracy : 68\n",
    "- Precision : 72\n",
    "- Recall : 80\n",
    "- F1 score: 74.4\n",
    "\n",
    "\n",
    "https://scikit-learn.org/stable/modules/generated/sklearn.svm.SVC.html"
   ]
  },
  {
   "cell_type": "code",
   "execution_count": 57,
   "metadata": {},
   "outputs": [],
   "source": [
    "# Support Vector Classifier\n",
    "from sklearn.svm import SVC"
   ]
  },
  {
   "cell_type": "code",
   "execution_count": 58,
   "metadata": {},
   "outputs": [],
   "source": [
    "svm_model = SVC(random_state=101)"
   ]
  },
  {
   "cell_type": "code",
   "execution_count": 59,
   "metadata": {},
   "outputs": [
    {
     "name": "stdout",
     "output_type": "stream",
     "text": [
      "Results :[0.52941176 0.64705882 0.52941176 0.64705882 0.76470588 0.70588235\n",
      " 0.64705882 0.76470588 0.625      0.9375    ]\n",
      "cv_score: 0.6797794117647059\n"
     ]
    }
   ],
   "source": [
    "Accuracy_score(svm_model,X_train,y_train)"
   ]
  },
  {
   "cell_type": "code",
   "execution_count": 60,
   "metadata": {},
   "outputs": [
    {
     "name": "stdout",
     "output_type": "stream",
     "text": [
      "Results :[0.42857143 0.6        0.54545455 0.76923077 0.76923077 0.83333333\n",
      " 0.63636364 0.88888889 0.72727273 1.        ]\n",
      "cv_score: 0.7198346098346098\n"
     ]
    }
   ],
   "source": [
    "Precision_score(svm_model,X_train,y_train)"
   ]
  },
  {
   "cell_type": "code",
   "execution_count": 61,
   "metadata": {},
   "outputs": [
    {
     "name": "stdout",
     "output_type": "stream",
     "text": [
      "Results :[1.         0.75       0.66666667 0.76923077 0.90909091 0.76923077\n",
      " 0.77777778 0.72727273 0.72727273 0.88888889]\n",
      "cv_score: 0.7985431235431235\n"
     ]
    }
   ],
   "source": [
    "Recall_score(svm_model,X_train,y_train)"
   ]
  },
  {
   "cell_type": "code",
   "execution_count": 62,
   "metadata": {},
   "outputs": [
    {
     "name": "stdout",
     "output_type": "stream",
     "text": [
      "Results :[0.6        0.66666667 0.6        0.76923077 0.83333333 0.8\n",
      " 0.7        0.8        0.72727273 0.94117647]\n",
      "cv_score: 0.7437679967091733\n"
     ]
    }
   ],
   "source": [
    "f1_score(svm_model,X_train,y_train)"
   ]
  },
  {
   "cell_type": "markdown",
   "metadata": {},
   "source": [
    "### Model 4 : Decision Tree \n",
    "- Accuracy : 57\n",
    "- Precision : 64.4\n",
    "- Recall : 67\n",
    "- F1 score: 63"
   ]
  },
  {
   "cell_type": "code",
   "execution_count": 63,
   "metadata": {},
   "outputs": [
    {
     "name": "stdout",
     "output_type": "stream",
     "text": [
      "Results :[0.47058824 0.47058824 0.64705882 0.52941176 0.52941176 0.58823529\n",
      " 0.70588235 0.82352941 0.5        0.4375    ]\n",
      "cv_score: 0.5702205882352941\n"
     ]
    }
   ],
   "source": [
    "Accuracy_score(base_model,X_train,y_train)"
   ]
  },
  {
   "cell_type": "code",
   "execution_count": 64,
   "metadata": {},
   "outputs": [
    {
     "name": "stdout",
     "output_type": "stream",
     "text": [
      "Results :[0.38461538 0.4        0.6        0.85714286 0.63636364 0.75\n",
      " 0.7        0.9        0.71428571 0.5       ]\n",
      "cv_score: 0.6442407592407593\n"
     ]
    }
   ],
   "source": [
    "Precision_score(base_model,X_train,y_train)"
   ]
  },
  {
   "cell_type": "code",
   "execution_count": 65,
   "metadata": {},
   "outputs": [
    {
     "name": "stdout",
     "output_type": "stream",
     "text": [
      "Results :[0.83333333 0.25       1.         0.46153846 0.63636364 0.69230769\n",
      " 0.77777778 0.81818182 0.45454545 0.77777778]\n",
      "cv_score: 0.6701825951825952\n"
     ]
    }
   ],
   "source": [
    "Recall_score(base_model,X_train,y_train)"
   ]
  },
  {
   "cell_type": "code",
   "execution_count": 66,
   "metadata": {},
   "outputs": [
    {
     "name": "stdout",
     "output_type": "stream",
     "text": [
      "Results :[0.52631579 0.30769231 0.75       0.6        0.63636364 0.72\n",
      " 0.73684211 0.85714286 0.55555556 0.60869565]\n",
      "cv_score: 0.6298607903665111\n"
     ]
    }
   ],
   "source": [
    "f1_score(base_model,X_train,y_train)"
   ]
  },
  {
   "cell_type": "markdown",
   "metadata": {},
   "source": [
    "### Model 5 : Random Forest \n",
    "- Accuracy : 62.4\n",
    "- Precision : 66.4\n",
    "- Recall : 73.5\n",
    "- F1 score: 69"
   ]
  },
  {
   "cell_type": "code",
   "execution_count": 67,
   "metadata": {},
   "outputs": [],
   "source": [
    "from sklearn.ensemble import RandomForestClassifier"
   ]
  },
  {
   "cell_type": "code",
   "execution_count": 68,
   "metadata": {},
   "outputs": [],
   "source": [
    "# help(RandomForestClassifier)"
   ]
  },
  {
   "cell_type": "code",
   "execution_count": 69,
   "metadata": {},
   "outputs": [],
   "source": [
    "rf_model = RandomForestClassifier(random_state=101)"
   ]
  },
  {
   "cell_type": "code",
   "execution_count": 70,
   "metadata": {},
   "outputs": [
    {
     "name": "stdout",
     "output_type": "stream",
     "text": [
      "Results :[0.41176471 0.41176471 0.70588235 0.58823529 0.82352941 0.70588235\n",
      " 0.70588235 0.82352941 0.4375     0.625     ]\n",
      "cv_score: 0.6238970588235293\n"
     ]
    }
   ],
   "source": [
    "Accuracy_score(rf_model,X_train,y_train)"
   ]
  },
  {
   "cell_type": "code",
   "execution_count": 71,
   "metadata": {},
   "outputs": [
    {
     "name": "stdout",
     "output_type": "stream",
     "text": [
      "Results :[0.33333333 0.375      0.64285714 0.8        0.83333333 0.83333333\n",
      " 0.7        0.9        0.58333333 0.63636364]\n",
      "cv_score: 0.6637554112554113\n"
     ]
    }
   ],
   "source": [
    "Precision_score(rf_model,X_train,y_train)"
   ]
  },
  {
   "cell_type": "code",
   "execution_count": 72,
   "metadata": {},
   "outputs": [
    {
     "name": "stdout",
     "output_type": "stream",
     "text": [
      "Results :[0.66666667 0.375      1.         0.61538462 0.90909091 0.76923077\n",
      " 0.77777778 0.81818182 0.63636364 0.77777778]\n",
      "cv_score: 0.734547397047397\n"
     ]
    }
   ],
   "source": [
    "Recall_score(rf_model,X_train,y_train)"
   ]
  },
  {
   "cell_type": "code",
   "execution_count": 73,
   "metadata": {},
   "outputs": [
    {
     "name": "stdout",
     "output_type": "stream",
     "text": [
      "Results :[0.44444444 0.375      0.7826087  0.69565217 0.86956522 0.8\n",
      " 0.73684211 0.85714286 0.60869565 0.7       ]\n",
      "cv_score: 0.6869951145980895\n"
     ]
    }
   ],
   "source": [
    "f1_score(rf_model,X_train,y_train)"
   ]
  },
  {
   "cell_type": "markdown",
   "metadata": {},
   "source": [
    "### Model 6 : AdaBoost \n",
    "- Accuracy : 63.1\n",
    "- Precision : 69\n",
    "- Recall : 71.2\n",
    "- F1 score: 67.6"
   ]
  },
  {
   "cell_type": "code",
   "execution_count": 74,
   "metadata": {},
   "outputs": [],
   "source": [
    "from sklearn.ensemble import AdaBoostClassifier"
   ]
  },
  {
   "cell_type": "code",
   "execution_count": 75,
   "metadata": {},
   "outputs": [],
   "source": [
    "ab_model = AdaBoostClassifier(random_state=101)"
   ]
  },
  {
   "cell_type": "code",
   "execution_count": 76,
   "metadata": {},
   "outputs": [
    {
     "name": "stdout",
     "output_type": "stream",
     "text": [
      "Results :[0.47058824 0.52941176 0.64705882 0.64705882 0.76470588 0.70588235\n",
      " 0.70588235 0.64705882 0.5625     0.625     ]\n",
      "cv_score: 0.6305147058823529\n"
     ]
    }
   ],
   "source": [
    "Accuracy_score(ab_model,X_train,y_train)"
   ]
  },
  {
   "cell_type": "code",
   "execution_count": 77,
   "metadata": {},
   "outputs": [
    {
     "name": "stdout",
     "output_type": "stream",
     "text": [
      "Results :[0.4        0.5        0.61538462 0.76923077 0.81818182 0.83333333\n",
      " 0.7        0.85714286 0.7        0.66666667]\n",
      "cv_score: 0.685994005994006\n"
     ]
    }
   ],
   "source": [
    "Precision_score(ab_model,X_train,y_train)"
   ]
  },
  {
   "cell_type": "code",
   "execution_count": 78,
   "metadata": {},
   "outputs": [
    {
     "name": "stdout",
     "output_type": "stream",
     "text": [
      "Results :[1.         0.25       0.88888889 0.76923077 0.81818182 0.76923077\n",
      " 0.77777778 0.54545455 0.63636364 0.66666667]\n",
      "cv_score: 0.7121794871794872\n"
     ]
    }
   ],
   "source": [
    "Recall_score(ab_model,X_train,y_train)"
   ]
  },
  {
   "cell_type": "code",
   "execution_count": 79,
   "metadata": {},
   "outputs": [
    {
     "name": "stdout",
     "output_type": "stream",
     "text": [
      "Results :[0.57142857 0.33333333 0.72727273 0.76923077 0.81818182 0.8\n",
      " 0.73684211 0.66666667 0.66666667 0.66666667]\n",
      "cv_score: 0.6756289324710378\n"
     ]
    }
   ],
   "source": [
    "f1_score(ab_model,X_train,y_train)"
   ]
  },
  {
   "cell_type": "markdown",
   "metadata": {},
   "source": [
    "### Model 7 : Gradient Boosting\n",
    "- Accuracy : 59.5\n",
    "- Precision : 65.1\n",
    "- Recall : 66.3\n",
    "- F1 score: 64.2"
   ]
  },
  {
   "cell_type": "code",
   "execution_count": 80,
   "metadata": {},
   "outputs": [],
   "source": [
    "from sklearn.ensemble import GradientBoostingClassifier"
   ]
  },
  {
   "cell_type": "code",
   "execution_count": 81,
   "metadata": {},
   "outputs": [],
   "source": [
    "#help(GradientBoostingClassifier)"
   ]
  },
  {
   "cell_type": "code",
   "execution_count": 82,
   "metadata": {},
   "outputs": [],
   "source": [
    "gb_model =GradientBoostingClassifier(random_state=101)"
   ]
  },
  {
   "cell_type": "code",
   "execution_count": 83,
   "metadata": {},
   "outputs": [
    {
     "name": "stdout",
     "output_type": "stream",
     "text": [
      "Results :[0.64705882 0.47058824 0.52941176 0.64705882 0.64705882 0.58823529\n",
      " 0.64705882 0.64705882 0.5        0.625     ]\n",
      "cv_score: 0.5948529411764706\n"
     ]
    }
   ],
   "source": [
    "Accuracy_score(gb_model,X_train,y_train)"
   ]
  },
  {
   "cell_type": "code",
   "execution_count": 84,
   "metadata": {},
   "outputs": [
    {
     "name": "stdout",
     "output_type": "stream",
     "text": [
      "Results :[0.5        0.4        0.53846154 0.81818182 0.69230769 0.8\n",
      " 0.63636364 0.77777778 0.71428571 0.63636364]\n",
      "cv_score: 0.6513741813741813\n"
     ]
    }
   ],
   "source": [
    "Precision_score(gb_model,X_train,y_train)"
   ]
  },
  {
   "cell_type": "code",
   "execution_count": 85,
   "metadata": {},
   "outputs": [
    {
     "name": "stdout",
     "output_type": "stream",
     "text": [
      "Results :[0.83333333 0.25       0.77777778 0.69230769 0.81818182 0.61538462\n",
      " 0.77777778 0.63636364 0.45454545 0.77777778]\n",
      "cv_score: 0.6633449883449882\n"
     ]
    }
   ],
   "source": [
    "Recall_score(gb_model,X_train,y_train)"
   ]
  },
  {
   "cell_type": "code",
   "execution_count": 86,
   "metadata": {},
   "outputs": [
    {
     "name": "stdout",
     "output_type": "stream",
     "text": [
      "Results :[0.625      0.30769231 0.63636364 0.75       0.75       0.69565217\n",
      " 0.7        0.7        0.55555556 0.7       ]\n",
      "cv_score: 0.6420263673524543\n"
     ]
    }
   ],
   "source": [
    "f1_score(gb_model,X_train,y_train)"
   ]
  },
  {
   "cell_type": "markdown",
   "metadata": {},
   "source": [
    "## Tuning Parameters for the Best Basic Model : SVM Model \n",
    "\n",
    "https://scikit-learn.org/stable/modules/generated/sklearn.svm.SVC.html\n",
    "Accuracy and recall score slightly improved. \n",
    "\n",
    "Before vs After :\n",
    "- Accuracy : 68 | 68.6\n",
    "- Precision : 72 | 70.2 \n",
    "- Recall : 80 | 80.6\n",
    "- F1 score: 74.4 | 74.3"
   ]
  },
  {
   "cell_type": "code",
   "execution_count": 87,
   "metadata": {},
   "outputs": [],
   "source": [
    "from sklearn.model_selection import GridSearchCV"
   ]
  },
  {
   "cell_type": "code",
   "execution_count": 88,
   "metadata": {},
   "outputs": [],
   "source": [
    "# Liblinear is better for small datasets\n",
    "final_model = SVC()"
   ]
  },
  {
   "cell_type": "code",
   "execution_count": 89,
   "metadata": {},
   "outputs": [
    {
     "data": {
      "text/plain": [
       "dict_keys(['C', 'break_ties', 'cache_size', 'class_weight', 'coef0', 'decision_function_shape', 'degree', 'gamma', 'kernel', 'max_iter', 'probability', 'random_state', 'shrinking', 'tol', 'verbose'])"
      ]
     },
     "execution_count": 89,
     "metadata": {},
     "output_type": "execute_result"
    }
   ],
   "source": [
    "# Check the parameters\n",
    "final_model.get_params().keys()"
   ]
  },
  {
   "cell_type": "code",
   "execution_count": 90,
   "metadata": {},
   "outputs": [],
   "source": [
    "# Parameters Settings\n",
    "\n",
    "kernel = ['linear','rbf','sigmoid']\n",
    "# Use logarithmically spaced C values\n",
    "C = [0.01,0.1,1.0,10,100,1000]\n",
    "gamma = ['scale','auto']\n",
    "\n",
    "param_grid = {'kernel':kernel,\n",
    "              'C':C,\n",
    "              'gamma':gamma}"
   ]
  },
  {
   "cell_type": "code",
   "execution_count": 91,
   "metadata": {},
   "outputs": [],
   "source": [
    "# Create a grid model and pass in the parameters above to do a grid search\n",
    "grid_model = GridSearchCV(final_model,param_grid = param_grid)"
   ]
  },
  {
   "cell_type": "code",
   "execution_count": 92,
   "metadata": {
    "scrolled": false
   },
   "outputs": [
    {
     "data": {
      "text/plain": [
       "GridSearchCV(estimator=SVC(),\n",
       "             param_grid={'C': [0.01, 0.1, 1.0, 10, 100, 1000],\n",
       "                         'gamma': ['scale', 'auto'],\n",
       "                         'kernel': ['linear', 'rbf', 'sigmoid']})"
      ]
     },
     "execution_count": 92,
     "metadata": {},
     "output_type": "execute_result"
    }
   ],
   "source": [
    "# Fit the model\n",
    "grid_model.fit(X_train,y_train)"
   ]
  },
  {
   "cell_type": "code",
   "execution_count": 93,
   "metadata": {},
   "outputs": [
    {
     "data": {
      "text/plain": [
       "SVC(C=100, gamma='auto')"
      ]
     },
     "execution_count": 93,
     "metadata": {},
     "output_type": "execute_result"
    }
   ],
   "source": [
    "grid_model.best_estimator_"
   ]
  },
  {
   "cell_type": "code",
   "execution_count": 94,
   "metadata": {},
   "outputs": [
    {
     "data": {
      "text/plain": [
       "{'C': 100, 'gamma': 'auto', 'kernel': 'rbf'}"
      ]
     },
     "execution_count": 94,
     "metadata": {},
     "output_type": "execute_result"
    }
   ],
   "source": [
    "# Show the best parameters\n",
    "grid_model.best_params_"
   ]
  },
  {
   "cell_type": "code",
   "execution_count": 95,
   "metadata": {},
   "outputs": [],
   "source": [
    "# Create a model and set the parameters as above\n",
    "best_model = SVC(C= 100, kernel= 'linear',gamma = 'scale')"
   ]
  },
  {
   "cell_type": "code",
   "execution_count": 96,
   "metadata": {},
   "outputs": [
    {
     "name": "stdout",
     "output_type": "stream",
     "text": [
      "Results :[0.29411765 0.70588235 0.64705882 0.76470588 0.76470588 0.70588235\n",
      " 0.76470588 0.64705882 0.75       0.8125    ]\n",
      "cv_score: 0.6856617647058824\n"
     ]
    }
   ],
   "source": [
    "Accuracy_score(best_model,X_train,y_train)"
   ]
  },
  {
   "cell_type": "code",
   "execution_count": 97,
   "metadata": {},
   "outputs": [
    {
     "name": "stdout",
     "output_type": "stream",
     "text": [
      "Results :[0.25       0.66666667 0.61538462 0.8        0.73333333 0.83333333\n",
      " 0.72727273 0.77777778 0.81818182 0.8       ]\n",
      "cv_score: 0.7021950271950271\n"
     ]
    }
   ],
   "source": [
    "Precision_score(best_model,X_train,y_train)"
   ]
  },
  {
   "cell_type": "code",
   "execution_count": 98,
   "metadata": {},
   "outputs": [
    {
     "name": "stdout",
     "output_type": "stream",
     "text": [
      "Results :[0.5        0.75       0.88888889 0.92307692 1.         0.76923077\n",
      " 0.88888889 0.63636364 0.81818182 0.88888889]\n",
      "cv_score: 0.8063519813519813\n"
     ]
    }
   ],
   "source": [
    "Recall_score(best_model,X_train,y_train)"
   ]
  },
  {
   "cell_type": "code",
   "execution_count": 99,
   "metadata": {},
   "outputs": [
    {
     "name": "stdout",
     "output_type": "stream",
     "text": [
      "Results :[0.33333333 0.70588235 0.72727273 0.85714286 0.84615385 0.8\n",
      " 0.8        0.7        0.81818182 0.84210526]\n",
      "cv_score: 0.7430072198183654\n"
     ]
    }
   ],
   "source": [
    "f1_score(best_model,X_train,y_train)"
   ]
  },
  {
   "cell_type": "markdown",
   "metadata": {},
   "source": [
    "## Model Evaluation on Test Data (Hold-out set)"
   ]
  },
  {
   "cell_type": "code",
   "execution_count": 100,
   "metadata": {},
   "outputs": [],
   "source": [
    "def report_model(model):\n",
    "    model.fit(X_train,y_train)\n",
    "    pred = model.predict(X_test)\n",
    "    cm = confusion_matrix(y_test,pred,labels=model.classes_)\n",
    "    disp = ConfusionMatrixDisplay(confusion_matrix = cm,display_labels = model.classes_)\n",
    "    disp.plot()\n",
    "    print(classification_report(y_test,pred))"
   ]
  },
  {
   "cell_type": "code",
   "execution_count": 101,
   "metadata": {},
   "outputs": [
    {
     "data": {
      "text/plain": [
       "SVC(C=100, kernel='linear')"
      ]
     },
     "execution_count": 101,
     "metadata": {},
     "output_type": "execute_result"
    }
   ],
   "source": [
    "best_model.fit(X_train,y_train)"
   ]
  },
  {
   "cell_type": "code",
   "execution_count": 102,
   "metadata": {},
   "outputs": [
    {
     "data": {
      "text/plain": [
       "array([0, 1, 1, 1, 0, 0, 0, 1, 1, 0, 1, 1, 1, 1, 0, 1, 1, 1, 1, 1, 1, 0,\n",
       "       1, 1, 1, 1, 0, 1, 1, 1, 0, 0, 1, 0, 1, 0, 0, 1, 0, 0, 0, 1, 0, 1,\n",
       "       0, 1, 0, 0, 1, 1, 1, 1, 0, 0, 1, 1, 1, 1, 0, 0, 0, 1, 1, 1, 1, 1,\n",
       "       1, 0, 1, 0, 1, 1, 0])"
      ]
     },
     "execution_count": 102,
     "metadata": {},
     "output_type": "execute_result"
    }
   ],
   "source": [
    "predictions = best_model.predict(X_test)\n",
    "predictions"
   ]
  },
  {
   "cell_type": "markdown",
   "metadata": {},
   "source": [
    "### Confusion Matrix"
   ]
  },
  {
   "cell_type": "code",
   "execution_count": 103,
   "metadata": {},
   "outputs": [
    {
     "name": "stdout",
     "output_type": "stream",
     "text": [
      "              precision    recall  f1-score   support\n",
      "\n",
      "           0       0.54      0.52      0.53        29\n",
      "           1       0.69      0.70      0.70        44\n",
      "\n",
      "    accuracy                           0.63        73\n",
      "   macro avg       0.61      0.61      0.61        73\n",
      "weighted avg       0.63      0.63      0.63        73\n",
      "\n"
     ]
    },
    {
     "data": {
      "image/png": "[encoded data removed]",
      "text/plain": [
       "<Figure size 432x288 with 2 Axes>"
      ]
     },
     "metadata": {
      "needs_background": "light"
     },
     "output_type": "display_data"
    }
   ],
   "source": [
    "# This is the final test result\n",
    "report_model(best_model)"
   ]
  },
  {
   "cell_type": "markdown",
   "metadata": {},
   "source": [
    "### Feature Importance"
   ]
  },
  {
   "cell_type": "code",
   "execution_count": 104,
   "metadata": {},
   "outputs": [
    {
     "data": {
      "text/plain": [
       "Index(['MILTOCIV', 'CIVADJ', 'MILHELPJOB', 'CIVADJPROBb_Yes',\n",
       "       'CIVADJPROBa_Yes', 'YEARSERV', 'F_HISP_Yes', 'MILJOBSKILLS',\n",
       "       'CIVADJISSe', 'F_RACETHN_Black'],\n",
       "      dtype='object')"
      ]
     },
     "execution_count": 104,
     "metadata": {},
     "output_type": "execute_result"
    }
   ],
   "source": [
    "# Check the feature names\n",
    "features"
   ]
  },
  {
   "cell_type": "code",
   "execution_count": 105,
   "metadata": {},
   "outputs": [
    {
     "data": {
      "text/plain": [
       "array([[ 1.19878680e+00,  1.20125028e+00,  1.59969400e+00,\n",
       "        -1.19957088e+00, -9.49230731e-04,  8.31813073e-04,\n",
       "         7.99774923e-01,  2.02749759e-04,  7.51810771e-04,\n",
       "        -3.99758185e-01]])"
      ]
     },
     "execution_count": 105,
     "metadata": {},
     "output_type": "execute_result"
    }
   ],
   "source": [
    "# Check feature coefficients\n",
    "coef = best_model.coef_\n",
    "coef"
   ]
  },
  {
   "cell_type": "code",
   "execution_count": 106,
   "metadata": {},
   "outputs": [
    {
     "data": {
      "text/plain": [
       "pandas.core.indexes.base.Index"
      ]
     },
     "execution_count": 106,
     "metadata": {},
     "output_type": "execute_result"
    }
   ],
   "source": [
    "# Check data type of features and coef\n",
    "type(features)"
   ]
  },
  {
   "cell_type": "code",
   "execution_count": 107,
   "metadata": {},
   "outputs": [
    {
     "data": {
      "text/plain": [
       "numpy.ndarray"
      ]
     },
     "execution_count": 107,
     "metadata": {},
     "output_type": "execute_result"
    }
   ],
   "source": [
    "type(coef)"
   ]
  },
  {
   "cell_type": "code",
   "execution_count": 108,
   "metadata": {},
   "outputs": [
    {
     "data": {
      "text/plain": [
       "(10,)"
      ]
     },
     "execution_count": 108,
     "metadata": {},
     "output_type": "execute_result"
    }
   ],
   "source": [
    "# Check the shape of features and coef\n",
    "features.shape"
   ]
  },
  {
   "cell_type": "code",
   "execution_count": 109,
   "metadata": {},
   "outputs": [
    {
     "data": {
      "text/plain": [
       "(1, 10)"
      ]
     },
     "execution_count": 109,
     "metadata": {},
     "output_type": "execute_result"
    }
   ],
   "source": [
    "coef.shape"
   ]
  },
  {
   "cell_type": "code",
   "execution_count": 110,
   "metadata": {},
   "outputs": [
    {
     "data": {
      "text/plain": [
       "array([ 1.19878680e+00,  1.20125028e+00,  1.59969400e+00, -1.19957088e+00,\n",
       "       -9.49230731e-04,  8.31813073e-04,  7.99774923e-01,  2.02749759e-04,\n",
       "        7.51810771e-04, -3.99758185e-01])"
      ]
     },
     "execution_count": 110,
     "metadata": {},
     "output_type": "execute_result"
    }
   ],
   "source": [
    "# Reshape data\n",
    "coef = coef.reshape(10,)\n",
    "coef"
   ]
  },
  {
   "cell_type": "code",
   "execution_count": 111,
   "metadata": {},
   "outputs": [
    {
     "data": {
      "text/plain": [
       "(10,)"
      ]
     },
     "execution_count": 111,
     "metadata": {},
     "output_type": "execute_result"
    }
   ],
   "source": [
    "coef.shape"
   ]
  },
  {
   "cell_type": "code",
   "execution_count": 112,
   "metadata": {},
   "outputs": [
    {
     "data": {
      "text/html": [
       "<div>\n",
       "<style scoped>\n",
       "    .dataframe tbody tr th:only-of-type {\n",
       "        vertical-align: middle;\n",
       "    }\n",
       "\n",
       "    .dataframe tbody tr th {\n",
       "        vertical-align: top;\n",
       "    }\n",
       "\n",
       "    .dataframe thead th {\n",
       "        text-align: right;\n",
       "    }\n",
       "</style>\n",
       "<table border=\"1\" class=\"dataframe\">\n",
       "  <thead>\n",
       "    <tr style=\"text-align: right;\">\n",
       "      <th></th>\n",
       "      <th>Features</th>\n",
       "      <th>coefficients</th>\n",
       "    </tr>\n",
       "  </thead>\n",
       "  <tbody>\n",
       "    <tr>\n",
       "      <th>0</th>\n",
       "      <td>MILTOCIV</td>\n",
       "      <td>1.198787</td>\n",
       "    </tr>\n",
       "    <tr>\n",
       "      <th>1</th>\n",
       "      <td>CIVADJ</td>\n",
       "      <td>1.20125</td>\n",
       "    </tr>\n",
       "    <tr>\n",
       "      <th>2</th>\n",
       "      <td>MILHELPJOB</td>\n",
       "      <td>1.599694</td>\n",
       "    </tr>\n",
       "    <tr>\n",
       "      <th>3</th>\n",
       "      <td>CIVADJPROBb_Yes</td>\n",
       "      <td>-1.199571</td>\n",
       "    </tr>\n",
       "    <tr>\n",
       "      <th>4</th>\n",
       "      <td>CIVADJPROBa_Yes</td>\n",
       "      <td>-0.000949</td>\n",
       "    </tr>\n",
       "    <tr>\n",
       "      <th>5</th>\n",
       "      <td>YEARSERV</td>\n",
       "      <td>0.000832</td>\n",
       "    </tr>\n",
       "    <tr>\n",
       "      <th>6</th>\n",
       "      <td>F_HISP_Yes</td>\n",
       "      <td>0.799775</td>\n",
       "    </tr>\n",
       "    <tr>\n",
       "      <th>7</th>\n",
       "      <td>MILJOBSKILLS</td>\n",
       "      <td>0.000203</td>\n",
       "    </tr>\n",
       "    <tr>\n",
       "      <th>8</th>\n",
       "      <td>CIVADJISSe</td>\n",
       "      <td>0.000752</td>\n",
       "    </tr>\n",
       "    <tr>\n",
       "      <th>9</th>\n",
       "      <td>F_RACETHN_Black</td>\n",
       "      <td>-0.399758</td>\n",
       "    </tr>\n",
       "  </tbody>\n",
       "</table>\n",
       "</div>"
      ],
      "text/plain": [
       "          Features coefficients\n",
       "0         MILTOCIV     1.198787\n",
       "1           CIVADJ      1.20125\n",
       "2       MILHELPJOB     1.599694\n",
       "3  CIVADJPROBb_Yes    -1.199571\n",
       "4  CIVADJPROBa_Yes    -0.000949\n",
       "5         YEARSERV     0.000832\n",
       "6       F_HISP_Yes     0.799775\n",
       "7     MILJOBSKILLS     0.000203\n",
       "8       CIVADJISSe     0.000752\n",
       "9  F_RACETHN_Black    -0.399758"
      ]
     },
     "execution_count": 112,
     "metadata": {},
     "output_type": "execute_result"
    }
   ],
   "source": [
    "# Combine feature names and its coefficient to a dataframe\n",
    "fc = pd.DataFrame(np.column_stack([features,coef]),columns=['Features','coefficients'])\n",
    "fc"
   ]
  },
  {
   "cell_type": "code",
   "execution_count": 113,
   "metadata": {},
   "outputs": [
    {
     "data": {
      "text/html": [
       "<div>\n",
       "<style scoped>\n",
       "    .dataframe tbody tr th:only-of-type {\n",
       "        vertical-align: middle;\n",
       "    }\n",
       "\n",
       "    .dataframe tbody tr th {\n",
       "        vertical-align: top;\n",
       "    }\n",
       "\n",
       "    .dataframe thead th {\n",
       "        text-align: right;\n",
       "    }\n",
       "</style>\n",
       "<table border=\"1\" class=\"dataframe\">\n",
       "  <thead>\n",
       "    <tr style=\"text-align: right;\">\n",
       "      <th></th>\n",
       "      <th>Features</th>\n",
       "      <th>coefficients</th>\n",
       "    </tr>\n",
       "  </thead>\n",
       "  <tbody>\n",
       "    <tr>\n",
       "      <th>3</th>\n",
       "      <td>CIVADJPROBb_Yes</td>\n",
       "      <td>-1.199571</td>\n",
       "    </tr>\n",
       "    <tr>\n",
       "      <th>9</th>\n",
       "      <td>F_RACETHN_Black</td>\n",
       "      <td>-0.399758</td>\n",
       "    </tr>\n",
       "    <tr>\n",
       "      <th>4</th>\n",
       "      <td>CIVADJPROBa_Yes</td>\n",
       "      <td>-0.000949</td>\n",
       "    </tr>\n",
       "  </tbody>\n",
       "</table>\n",
       "</div>"
      ],
      "text/plain": [
       "          Features coefficients\n",
       "3  CIVADJPROBb_Yes    -1.199571\n",
       "9  F_RACETHN_Black    -0.399758\n",
       "4  CIVADJPROBa_Yes    -0.000949"
      ]
     },
     "execution_count": 113,
     "metadata": {},
     "output_type": "execute_result"
    }
   ],
   "source": [
    "# Seperate negative features and positive features\n",
    "# We can see that CIVADJPROBb(receive food benefits) affact FINDJOB negatively the most\n",
    "negative_features = fc[fc['coefficients']<0]\n",
    "negative_features= negative_features.sort_values('coefficients',ascending=True)\n",
    "negative_features"
   ]
  },
  {
   "cell_type": "code",
   "execution_count": 114,
   "metadata": {},
   "outputs": [
    {
     "data": {
      "text/html": [
       "<div>\n",
       "<style scoped>\n",
       "    .dataframe tbody tr th:only-of-type {\n",
       "        vertical-align: middle;\n",
       "    }\n",
       "\n",
       "    .dataframe tbody tr th {\n",
       "        vertical-align: top;\n",
       "    }\n",
       "\n",
       "    .dataframe thead th {\n",
       "        text-align: right;\n",
       "    }\n",
       "</style>\n",
       "<table border=\"1\" class=\"dataframe\">\n",
       "  <thead>\n",
       "    <tr style=\"text-align: right;\">\n",
       "      <th></th>\n",
       "      <th>Features</th>\n",
       "      <th>coefficients</th>\n",
       "    </tr>\n",
       "  </thead>\n",
       "  <tbody>\n",
       "    <tr>\n",
       "      <th>2</th>\n",
       "      <td>MILHELPJOB</td>\n",
       "      <td>1.599694</td>\n",
       "    </tr>\n",
       "    <tr>\n",
       "      <th>1</th>\n",
       "      <td>CIVADJ</td>\n",
       "      <td>1.20125</td>\n",
       "    </tr>\n",
       "    <tr>\n",
       "      <th>0</th>\n",
       "      <td>MILTOCIV</td>\n",
       "      <td>1.198787</td>\n",
       "    </tr>\n",
       "    <tr>\n",
       "      <th>6</th>\n",
       "      <td>F_HISP_Yes</td>\n",
       "      <td>0.799775</td>\n",
       "    </tr>\n",
       "    <tr>\n",
       "      <th>5</th>\n",
       "      <td>YEARSERV</td>\n",
       "      <td>0.000832</td>\n",
       "    </tr>\n",
       "    <tr>\n",
       "      <th>8</th>\n",
       "      <td>CIVADJISSe</td>\n",
       "      <td>0.000752</td>\n",
       "    </tr>\n",
       "    <tr>\n",
       "      <th>7</th>\n",
       "      <td>MILJOBSKILLS</td>\n",
       "      <td>0.000203</td>\n",
       "    </tr>\n",
       "  </tbody>\n",
       "</table>\n",
       "</div>"
      ],
      "text/plain": [
       "       Features coefficients\n",
       "2    MILHELPJOB     1.599694\n",
       "1        CIVADJ      1.20125\n",
       "0      MILTOCIV     1.198787\n",
       "6    F_HISP_Yes     0.799775\n",
       "5      YEARSERV     0.000832\n",
       "8    CIVADJISSe     0.000752\n",
       "7  MILJOBSKILLS     0.000203"
      ]
     },
     "execution_count": 114,
     "metadata": {},
     "output_type": "execute_result"
    }
   ],
   "source": [
    "# How veterans adjust to civilian life seems to be an important factor\n",
    "positive_features = fc[fc['coefficients']>0]\n",
    "positive_features = positive_features.sort_values('coefficients',ascending=False)\n",
    "positive_features"
   ]
  },
  {
   "cell_type": "markdown",
   "metadata": {},
   "source": [
    "### Precision-Recall Curve and ROC Curve"
   ]
  },
  {
   "cell_type": "code",
   "execution_count": 115,
   "metadata": {},
   "outputs": [],
   "source": [
    "from sklearn.metrics import plot_precision_recall_curve,plot_roc_curve"
   ]
  },
  {
   "cell_type": "code",
   "execution_count": 116,
   "metadata": {},
   "outputs": [
    {
     "name": "stderr",
     "output_type": "stream",
     "text": [
      "/Users/emilychaukang/opt/anaconda3/lib/python3.9/site-packages/sklearn/utils/deprecation.py:87: FutureWarning: Function plot_precision_recall_curve is deprecated; Function `plot_precision_recall_curve` is deprecated in 1.0 and will be removed in 1.2. Use one of the class methods: PrecisionRecallDisplay.from_predictions or PrecisionRecallDisplay.from_estimator.\n",
      "  warnings.warn(msg, category=FutureWarning)\n"
     ]
    },
    {
     "data": {
      "text/plain": [
       "<sklearn.metrics._plot.precision_recall_curve.PrecisionRecallDisplay at 0x7fe3d153dfa0>"
      ]
     },
     "execution_count": 116,
     "metadata": {},
     "output_type": "execute_result"
    },
    {
     "data": {
      "image/png": "[encoded data removed]",
      "text/plain": [
       "<Figure size 432x288 with 1 Axes>"
      ]
     },
     "metadata": {
      "needs_background": "light"
     },
     "output_type": "display_data"
    }
   ],
   "source": [
    "plot_precision_recall_curve(best_model,X_test,y_test)"
   ]
  },
  {
   "cell_type": "code",
   "execution_count": 117,
   "metadata": {
    "scrolled": false
   },
   "outputs": [
    {
     "name": "stderr",
     "output_type": "stream",
     "text": [
      "/Users/emilychaukang/opt/anaconda3/lib/python3.9/site-packages/sklearn/utils/deprecation.py:87: FutureWarning: Function plot_roc_curve is deprecated; Function :func:`plot_roc_curve` is deprecated in 1.0 and will be removed in 1.2. Use one of the class methods: :meth:`sklearn.metric.RocCurveDisplay.from_predictions` or :meth:`sklearn.metric.RocCurveDisplay.from_estimator`.\n",
      "  warnings.warn(msg, category=FutureWarning)\n"
     ]
    },
    {
     "data": {
      "text/plain": [
       "<sklearn.metrics._plot.roc_curve.RocCurveDisplay at 0x7fe3d1555850>"
      ]
     },
     "execution_count": 117,
     "metadata": {},
     "output_type": "execute_result"
    },
    {
     "data": {
      "image/png": "[encoded data removed]",
      "text/plain": [
       "<Figure size 432x288 with 1 Axes>"
      ]
     },
     "metadata": {
      "needs_background": "light"
     },
     "output_type": "display_data"
    }
   ],
   "source": [
    "# AUC: 0.66\n",
    "plot_roc_curve(best_model,X_test,y_test)"
   ]
  },
  {
   "cell_type": "markdown",
   "metadata": {},
   "source": [
    "# Conclusion"
   ]
  },
  {
   "cell_type": "markdown",
   "metadata": {},
   "source": [
    "## Potential Causes of Bad Performance\n",
    "- Training sample is not large enough : increase sample size\n",
    "- empirical test to check whether your features separates your classes: extract the first two or three principal components and display them on a 2D or 3D scatter plot (use a different marker for each class). That will also help you see whether there are outliers that may affect the results.\n",
    "- One of the explanation is that your data does not support accuracy higher than 70%. Maybe your features doesn't fit enough to get better classification\n",
    "- High dimensionality : Perform feature selection to reduce features(dimensionality)"
   ]
  }
 ],
 "metadata": {
  "kernelspec": {
   "display_name": "Python 3 (ipykernel)",
   "language": "python",
   "name": "python3"
  },
  "language_info": {
   "codemirror_mode": {
    "name": "ipython",
    "version": 3
   },
   "file_extension": ".py",
   "mimetype": "text/x-python",
   "name": "python",
   "nbconvert_exporter": "python",
   "pygments_lexer": "ipython3",
   "version": "3.9.18"
  }
 },
 "nbformat": 4,
 "nbformat_minor": 4
}
