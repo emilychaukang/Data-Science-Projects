{
 "cells": [
  {
   "cell_type": "markdown",
   "metadata": {},
   "source": [
    "# Step 5 : Exploratory Data Analysis (EDA) for the speed to find a civilian job (FINDJOB)\n",
    "\n",
    "variable FINDJOB has 2 labels : find a job within 6 months vs find a job after 6 months. "
   ]
  },
  {
   "cell_type": "markdown",
   "metadata": {},
   "source": [
    "## Import Data"
   ]
  },
  {
   "cell_type": "code",
   "execution_count": 1,
   "metadata": {},
   "outputs": [],
   "source": [
    "# Imports\n",
    "import numpy as np\n",
    "import pandas as pd\n",
    "import matplotlib.pyplot as plt\n",
    "import seaborn as sns"
   ]
  },
  {
   "cell_type": "code",
   "execution_count": 2,
   "metadata": {},
   "outputs": [],
   "source": [
    "# Read the csv file\n",
    "df = pd.read_csv(\"Findjob_encoded.csv\")"
   ]
  },
  {
   "cell_type": "code",
   "execution_count": 3,
   "metadata": {
    "scrolled": true
   },
   "outputs": [
    {
     "data": {
      "text/html": [
       "<div>\n",
       "<style scoped>\n",
       "    .dataframe tbody tr th:only-of-type {\n",
       "        vertical-align: middle;\n",
       "    }\n",
       "\n",
       "    .dataframe tbody tr th {\n",
       "        vertical-align: top;\n",
       "    }\n",
       "\n",
       "    .dataframe thead th {\n",
       "        text-align: right;\n",
       "    }\n",
       "</style>\n",
       "<table border=\"1\" class=\"dataframe\">\n",
       "  <thead>\n",
       "    <tr style=\"text-align: right;\">\n",
       "      <th></th>\n",
       "      <th>FINDJOB</th>\n",
       "      <th>YEARSERV</th>\n",
       "      <th>RANK</th>\n",
       "      <th>MILTOCIV</th>\n",
       "      <th>CIVADJ</th>\n",
       "      <th>CIVADJISSc</th>\n",
       "      <th>CIVADJISSe</th>\n",
       "      <th>MILJOBSKILLS</th>\n",
       "      <th>MILHELPJOB</th>\n",
       "      <th>F_AGECAT</th>\n",
       "      <th>...</th>\n",
       "      <th>LOOKJOB_Yes(right away)</th>\n",
       "      <th>SCHOOL_Yes</th>\n",
       "      <th>TRAUMA1_Yes</th>\n",
       "      <th>F_SEX_Male</th>\n",
       "      <th>F_HISP_Yes</th>\n",
       "      <th>INJURED</th>\n",
       "      <th>F_RACETHN</th>\n",
       "      <th>F_MARITAL</th>\n",
       "      <th>Branch</th>\n",
       "      <th>p_income</th>\n",
       "    </tr>\n",
       "  </thead>\n",
       "  <tbody>\n",
       "    <tr>\n",
       "      <th>0</th>\n",
       "      <td>1</td>\n",
       "      <td>4</td>\n",
       "      <td>0</td>\n",
       "      <td>2</td>\n",
       "      <td>3</td>\n",
       "      <td>3</td>\n",
       "      <td>0</td>\n",
       "      <td>2</td>\n",
       "      <td>4</td>\n",
       "      <td>3</td>\n",
       "      <td>...</td>\n",
       "      <td>1</td>\n",
       "      <td>0</td>\n",
       "      <td>0</td>\n",
       "      <td>1</td>\n",
       "      <td>0</td>\n",
       "      <td>2</td>\n",
       "      <td>3</td>\n",
       "      <td>1</td>\n",
       "      <td>4</td>\n",
       "      <td>31500</td>\n",
       "    </tr>\n",
       "    <tr>\n",
       "      <th>1</th>\n",
       "      <td>0</td>\n",
       "      <td>4</td>\n",
       "      <td>2</td>\n",
       "      <td>2</td>\n",
       "      <td>2</td>\n",
       "      <td>3</td>\n",
       "      <td>0</td>\n",
       "      <td>3</td>\n",
       "      <td>3</td>\n",
       "      <td>2</td>\n",
       "      <td>...</td>\n",
       "      <td>0</td>\n",
       "      <td>0</td>\n",
       "      <td>1</td>\n",
       "      <td>1</td>\n",
       "      <td>0</td>\n",
       "      <td>2</td>\n",
       "      <td>3</td>\n",
       "      <td>1</td>\n",
       "      <td>1</td>\n",
       "      <td>75000</td>\n",
       "    </tr>\n",
       "    <tr>\n",
       "      <th>2</th>\n",
       "      <td>1</td>\n",
       "      <td>4</td>\n",
       "      <td>1</td>\n",
       "      <td>2</td>\n",
       "      <td>2</td>\n",
       "      <td>2</td>\n",
       "      <td>1</td>\n",
       "      <td>3</td>\n",
       "      <td>4</td>\n",
       "      <td>2</td>\n",
       "      <td>...</td>\n",
       "      <td>1</td>\n",
       "      <td>0</td>\n",
       "      <td>0</td>\n",
       "      <td>1</td>\n",
       "      <td>0</td>\n",
       "      <td>2</td>\n",
       "      <td>3</td>\n",
       "      <td>1</td>\n",
       "      <td>5</td>\n",
       "      <td>31500</td>\n",
       "    </tr>\n",
       "    <tr>\n",
       "      <th>3</th>\n",
       "      <td>1</td>\n",
       "      <td>4</td>\n",
       "      <td>3</td>\n",
       "      <td>2</td>\n",
       "      <td>1</td>\n",
       "      <td>2</td>\n",
       "      <td>2</td>\n",
       "      <td>2</td>\n",
       "      <td>4</td>\n",
       "      <td>2</td>\n",
       "      <td>...</td>\n",
       "      <td>1</td>\n",
       "      <td>0</td>\n",
       "      <td>1</td>\n",
       "      <td>1</td>\n",
       "      <td>0</td>\n",
       "      <td>2</td>\n",
       "      <td>3</td>\n",
       "      <td>1</td>\n",
       "      <td>0</td>\n",
       "      <td>62500</td>\n",
       "    </tr>\n",
       "    <tr>\n",
       "      <th>4</th>\n",
       "      <td>1</td>\n",
       "      <td>4</td>\n",
       "      <td>0</td>\n",
       "      <td>2</td>\n",
       "      <td>2</td>\n",
       "      <td>2</td>\n",
       "      <td>0</td>\n",
       "      <td>2</td>\n",
       "      <td>4</td>\n",
       "      <td>2</td>\n",
       "      <td>...</td>\n",
       "      <td>0</td>\n",
       "      <td>1</td>\n",
       "      <td>0</td>\n",
       "      <td>1</td>\n",
       "      <td>0</td>\n",
       "      <td>1</td>\n",
       "      <td>1</td>\n",
       "      <td>1</td>\n",
       "      <td>3</td>\n",
       "      <td>44000</td>\n",
       "    </tr>\n",
       "    <tr>\n",
       "      <th>...</th>\n",
       "      <td>...</td>\n",
       "      <td>...</td>\n",
       "      <td>...</td>\n",
       "      <td>...</td>\n",
       "      <td>...</td>\n",
       "      <td>...</td>\n",
       "      <td>...</td>\n",
       "      <td>...</td>\n",
       "      <td>...</td>\n",
       "      <td>...</td>\n",
       "      <td>...</td>\n",
       "      <td>...</td>\n",
       "      <td>...</td>\n",
       "      <td>...</td>\n",
       "      <td>...</td>\n",
       "      <td>...</td>\n",
       "      <td>...</td>\n",
       "      <td>...</td>\n",
       "      <td>...</td>\n",
       "      <td>...</td>\n",
       "      <td>...</td>\n",
       "    </tr>\n",
       "    <tr>\n",
       "      <th>236</th>\n",
       "      <td>0</td>\n",
       "      <td>2</td>\n",
       "      <td>1</td>\n",
       "      <td>1</td>\n",
       "      <td>2</td>\n",
       "      <td>2</td>\n",
       "      <td>1</td>\n",
       "      <td>1</td>\n",
       "      <td>2</td>\n",
       "      <td>1</td>\n",
       "      <td>...</td>\n",
       "      <td>0</td>\n",
       "      <td>1</td>\n",
       "      <td>1</td>\n",
       "      <td>1</td>\n",
       "      <td>0</td>\n",
       "      <td>2</td>\n",
       "      <td>3</td>\n",
       "      <td>0</td>\n",
       "      <td>5</td>\n",
       "      <td>63000</td>\n",
       "    </tr>\n",
       "    <tr>\n",
       "      <th>237</th>\n",
       "      <td>1</td>\n",
       "      <td>1</td>\n",
       "      <td>0</td>\n",
       "      <td>3</td>\n",
       "      <td>2</td>\n",
       "      <td>3</td>\n",
       "      <td>3</td>\n",
       "      <td>0</td>\n",
       "      <td>2</td>\n",
       "      <td>1</td>\n",
       "      <td>...</td>\n",
       "      <td>1</td>\n",
       "      <td>0</td>\n",
       "      <td>1</td>\n",
       "      <td>0</td>\n",
       "      <td>0</td>\n",
       "      <td>2</td>\n",
       "      <td>3</td>\n",
       "      <td>0</td>\n",
       "      <td>5</td>\n",
       "      <td>25000</td>\n",
       "    </tr>\n",
       "    <tr>\n",
       "      <th>238</th>\n",
       "      <td>1</td>\n",
       "      <td>4</td>\n",
       "      <td>0</td>\n",
       "      <td>2</td>\n",
       "      <td>1</td>\n",
       "      <td>3</td>\n",
       "      <td>0</td>\n",
       "      <td>1</td>\n",
       "      <td>3</td>\n",
       "      <td>2</td>\n",
       "      <td>...</td>\n",
       "      <td>1</td>\n",
       "      <td>0</td>\n",
       "      <td>1</td>\n",
       "      <td>1</td>\n",
       "      <td>0</td>\n",
       "      <td>2</td>\n",
       "      <td>3</td>\n",
       "      <td>1</td>\n",
       "      <td>5</td>\n",
       "      <td>31500</td>\n",
       "    </tr>\n",
       "    <tr>\n",
       "      <th>239</th>\n",
       "      <td>1</td>\n",
       "      <td>4</td>\n",
       "      <td>3</td>\n",
       "      <td>2</td>\n",
       "      <td>1</td>\n",
       "      <td>3</td>\n",
       "      <td>2</td>\n",
       "      <td>1</td>\n",
       "      <td>2</td>\n",
       "      <td>2</td>\n",
       "      <td>...</td>\n",
       "      <td>1</td>\n",
       "      <td>0</td>\n",
       "      <td>1</td>\n",
       "      <td>1</td>\n",
       "      <td>0</td>\n",
       "      <td>2</td>\n",
       "      <td>3</td>\n",
       "      <td>1</td>\n",
       "      <td>3</td>\n",
       "      <td>62500</td>\n",
       "    </tr>\n",
       "    <tr>\n",
       "      <th>240</th>\n",
       "      <td>0</td>\n",
       "      <td>2</td>\n",
       "      <td>0</td>\n",
       "      <td>2</td>\n",
       "      <td>3</td>\n",
       "      <td>2</td>\n",
       "      <td>1</td>\n",
       "      <td>2</td>\n",
       "      <td>2</td>\n",
       "      <td>1</td>\n",
       "      <td>...</td>\n",
       "      <td>1</td>\n",
       "      <td>0</td>\n",
       "      <td>1</td>\n",
       "      <td>1</td>\n",
       "      <td>0</td>\n",
       "      <td>2</td>\n",
       "      <td>3</td>\n",
       "      <td>1</td>\n",
       "      <td>5</td>\n",
       "      <td>22500</td>\n",
       "    </tr>\n",
       "  </tbody>\n",
       "</table>\n",
       "<p>241 rows × 27 columns</p>\n",
       "</div>"
      ],
      "text/plain": [
       "     FINDJOB  YEARSERV  RANK  MILTOCIV  CIVADJ  CIVADJISSc  CIVADJISSe  \\\n",
       "0          1         4     0         2       3           3           0   \n",
       "1          0         4     2         2       2           3           0   \n",
       "2          1         4     1         2       2           2           1   \n",
       "3          1         4     3         2       1           2           2   \n",
       "4          1         4     0         2       2           2           0   \n",
       "..       ...       ...   ...       ...     ...         ...         ...   \n",
       "236        0         2     1         1       2           2           1   \n",
       "237        1         1     0         3       2           3           3   \n",
       "238        1         4     0         2       1           3           0   \n",
       "239        1         4     3         2       1           3           2   \n",
       "240        0         2     0         2       3           2           1   \n",
       "\n",
       "     MILJOBSKILLS  MILHELPJOB  F_AGECAT  ...  LOOKJOB_Yes(right away)  \\\n",
       "0               2           4         3  ...                        1   \n",
       "1               3           3         2  ...                        0   \n",
       "2               3           4         2  ...                        1   \n",
       "3               2           4         2  ...                        1   \n",
       "4               2           4         2  ...                        0   \n",
       "..            ...         ...       ...  ...                      ...   \n",
       "236             1           2         1  ...                        0   \n",
       "237             0           2         1  ...                        1   \n",
       "238             1           3         2  ...                        1   \n",
       "239             1           2         2  ...                        1   \n",
       "240             2           2         1  ...                        1   \n",
       "\n",
       "     SCHOOL_Yes  TRAUMA1_Yes  F_SEX_Male  F_HISP_Yes  INJURED  F_RACETHN  \\\n",
       "0             0            0           1           0        2          3   \n",
       "1             0            1           1           0        2          3   \n",
       "2             0            0           1           0        2          3   \n",
       "3             0            1           1           0        2          3   \n",
       "4             1            0           1           0        1          1   \n",
       "..          ...          ...         ...         ...      ...        ...   \n",
       "236           1            1           1           0        2          3   \n",
       "237           0            1           0           0        2          3   \n",
       "238           0            1           1           0        2          3   \n",
       "239           0            1           1           0        2          3   \n",
       "240           0            1           1           0        2          3   \n",
       "\n",
       "     F_MARITAL  Branch  p_income  \n",
       "0            1       4     31500  \n",
       "1            1       1     75000  \n",
       "2            1       5     31500  \n",
       "3            1       0     62500  \n",
       "4            1       3     44000  \n",
       "..         ...     ...       ...  \n",
       "236          0       5     63000  \n",
       "237          0       5     25000  \n",
       "238          1       5     31500  \n",
       "239          1       3     62500  \n",
       "240          1       5     22500  \n",
       "\n",
       "[241 rows x 27 columns]"
      ]
     },
     "execution_count": 3,
     "metadata": {},
     "output_type": "execute_result"
    }
   ],
   "source": [
    "df"
   ]
  },
  {
   "cell_type": "code",
   "execution_count": 4,
   "metadata": {
    "scrolled": true
   },
   "outputs": [
    {
     "data": {
      "text/plain": [
       "Index(['FINDJOB', 'YEARSERV', 'RANK', 'MILTOCIV', 'CIVADJ', 'CIVADJISSc',\n",
       "       'CIVADJISSe', 'MILJOBSKILLS', 'MILHELPJOB', 'F_AGECAT', 'F_EDUCCAT2',\n",
       "       'MARRACTIV_Not Married', 'PARACTIV_Yes', 'COMBAT_Yes', 'VABENEFITS_Yes',\n",
       "       'CIVADJPROBa_Yes', 'CIVADJPROBb_Yes', 'LOOKJOB_Yes(right away)',\n",
       "       'SCHOOL_Yes', 'TRAUMA1_Yes', 'F_SEX_Male', 'F_HISP_Yes', 'INJURED',\n",
       "       'F_RACETHN', 'F_MARITAL', 'Branch', 'p_income'],\n",
       "      dtype='object')"
      ]
     },
     "execution_count": 4,
     "metadata": {},
     "output_type": "execute_result"
    }
   ],
   "source": [
    "df.columns"
   ]
  },
  {
   "cell_type": "code",
   "execution_count": 5,
   "metadata": {},
   "outputs": [
    {
     "data": {
      "text/plain": [
       "27"
      ]
     },
     "execution_count": 5,
     "metadata": {},
     "output_type": "execute_result"
    }
   ],
   "source": [
    "# Now our data has 27 variables\n",
    "len(df.columns)"
   ]
  },
  {
   "cell_type": "markdown",
   "metadata": {},
   "source": [
    "## FINDJOB % among post 9/11 veterans "
   ]
  },
  {
   "cell_type": "code",
   "execution_count": 6,
   "metadata": {},
   "outputs": [
    {
     "data": {
      "text/plain": [
       "1    144\n",
       "0     97\n",
       "Name: FINDJOB, dtype: int64"
      ]
     },
     "execution_count": 6,
     "metadata": {},
     "output_type": "execute_result"
    }
   ],
   "source": [
    "df['FINDJOB'].value_counts()"
   ]
  },
  {
   "cell_type": "code",
   "execution_count": 7,
   "metadata": {},
   "outputs": [
    {
     "data": {
      "image/png": "[encoded data removed]",
      "text/plain": [
       "<Figure size 640x320 with 1 Axes>"
      ]
     },
     "metadata": {
      "needs_background": "light"
     },
     "output_type": "display_data"
    }
   ],
   "source": [
    "# The label is slightly imbalanced but not too much\n",
    "\n",
    "plt.figure(figsize = (8,4),dpi=80)\n",
    "plt.ylim(0,160)\n",
    "ax = sns.countplot(data= df,x='FINDJOB',order=[1,0])\n",
    "ax.set(xticklabels=['<6 month','>6 month'])\n",
    "\n",
    "\n",
    "for p in ax.patches :\n",
    "    # int :Make annotation integers\n",
    "    # p.get_width()/2 : divide by 2 to align with the mid-point of the bar\n",
    "    # p.get_height()+3 : add 3 to move the annotations up of the edge of bars\n",
    "    # va = 'bottom' : vertical alignment is 'bottom'\n",
    "    ax.annotate(int(p.get_height()), (p.get_x() + p.get_width()/2, p.get_height()+3),va='bottom')"
   ]
  },
  {
   "cell_type": "code",
   "execution_count": 8,
   "metadata": {},
   "outputs": [
    {
     "data": {
      "text/plain": [
       "1    0.59751\n",
       "0    0.40249\n",
       "Name: FINDJOB, dtype: float64"
      ]
     },
     "execution_count": 8,
     "metadata": {},
     "output_type": "execute_result"
    }
   ],
   "source": [
    "df['FINDJOB'].value_counts()/len(df)"
   ]
  },
  {
   "cell_type": "markdown",
   "metadata": {},
   "source": [
    "### p_income vs FINDJOB"
   ]
  },
  {
   "cell_type": "code",
   "execution_count": 9,
   "metadata": {},
   "outputs": [
    {
     "data": {
      "image/png": "[encoded data removed]",
      "text/plain": [
       "<Figure size 640x320 with 1 Axes>"
      ]
     },
     "metadata": {
      "needs_background": "light"
     },
     "output_type": "display_data"
    }
   ],
   "source": [
    "# Veterans who find job within 6 months have higher pay: $44,000\n",
    "# Veterans who find job more than 6 months have lower pay : $35,000\n",
    "# This result is different because the removal of outliers\n",
    "# Before removal of outliers the median of both groups are the same : $44,000\n",
    "plt.figure(figsize = (8,4),dpi=80)\n",
    "ax = sns.boxplot(data= df,x='FINDJOB',y='p_income',order=[1,0])\n",
    "# label xticks \n",
    "ax.set(xticklabels=['<6 month','>6 month']);"
   ]
  },
  {
   "cell_type": "code",
   "execution_count": 10,
   "metadata": {},
   "outputs": [
    {
     "data": {
      "text/plain": [
       "count      144.000000\n",
       "mean     47048.611111\n",
       "std      21310.255537\n",
       "min       7500.000000\n",
       "25%      31500.000000\n",
       "50%      44000.000000\n",
       "75%      62500.000000\n",
       "max      88000.000000\n",
       "Name: p_income, dtype: float64"
      ]
     },
     "execution_count": 10,
     "metadata": {},
     "output_type": "execute_result"
    }
   ],
   "source": [
    "df[df['FINDJOB']==1]['p_income'].describe()"
   ]
  },
  {
   "cell_type": "code",
   "execution_count": 11,
   "metadata": {},
   "outputs": [
    {
     "data": {
      "text/plain": [
       "count       97.000000\n",
       "mean     43304.123711\n",
       "std      22423.777919\n",
       "min       7500.000000\n",
       "25%      25000.000000\n",
       "50%      35000.000000\n",
       "75%      62500.000000\n",
       "max      88000.000000\n",
       "Name: p_income, dtype: float64"
      ]
     },
     "execution_count": 11,
     "metadata": {},
     "output_type": "execute_result"
    }
   ],
   "source": [
    "df[df['FINDJOB']==0]['p_income'].describe()"
   ]
  },
  {
   "cell_type": "markdown",
   "metadata": {},
   "source": [
    "Reset legend labels :\n",
    "https://stackoverflow.com/questions/62475459/customize-seaborn-hue-legend-for-boxplot"
   ]
  },
  {
   "cell_type": "code",
   "execution_count": 12,
   "metadata": {
    "scrolled": false
   },
   "outputs": [
    {
     "data": {
      "image/png": "[encoded data removed]",
      "text/plain": [
       "<Figure size 960x480 with 1 Axes>"
      ]
     },
     "metadata": {
      "needs_background": "light"
     },
     "output_type": "display_data"
    }
   ],
   "source": [
    "plt.figure(figsize = (12,6),dpi=80)\n",
    "ax = sns.boxplot(data=df,x='FINDJOB',y='p_income',hue='F_EDUCCAT2',order =[0,1])\n",
    "ax.set(xticklabels=['<6 month','>6 month'])\n",
    "\n",
    "# title : set title for the legend\n",
    "# bbox_to_anchor (xwidth,ywidth) : set legend position \n",
    "# labels =[] : relabel the labels of education to easily visualize \n",
    "plt.legend(title = 'Education level',bbox_to_anchor = (1.05,1))\n",
    "\n",
    "# Reset legend label\n",
    "legend_label = ['High school degree','Some college(no degree)',\n",
    "              'Associate degree','Bachelors degree','MS/PHD degree']\n",
    "\n",
    "n=0\n",
    "for i in legend_label :\n",
    "    ax.legend_.texts[n].set_text(i)\n",
    "    n+=1\n",
    "    \n",
    "plt.show()"
   ]
  },
  {
   "cell_type": "code",
   "execution_count": 13,
   "metadata": {},
   "outputs": [],
   "source": [
    "shortfind = np.round(df[df['FINDJOB'] == 1][['p_income','F_EDUCCAT2']].groupby('F_EDUCCAT2').mean(),2)\n",
    "shortfind = shortfind.reset_index()"
   ]
  },
  {
   "cell_type": "code",
   "execution_count": 14,
   "metadata": {},
   "outputs": [
    {
     "data": {
      "text/html": [
       "<div>\n",
       "<style scoped>\n",
       "    .dataframe tbody tr th:only-of-type {\n",
       "        vertical-align: middle;\n",
       "    }\n",
       "\n",
       "    .dataframe tbody tr th {\n",
       "        vertical-align: top;\n",
       "    }\n",
       "\n",
       "    .dataframe thead th {\n",
       "        text-align: right;\n",
       "    }\n",
       "</style>\n",
       "<table border=\"1\" class=\"dataframe\">\n",
       "  <thead>\n",
       "    <tr style=\"text-align: right;\">\n",
       "      <th></th>\n",
       "      <th>F_EDUCCAT2</th>\n",
       "      <th>p_income</th>\n",
       "    </tr>\n",
       "  </thead>\n",
       "  <tbody>\n",
       "    <tr>\n",
       "      <th>0</th>\n",
       "      <td>High school degree</td>\n",
       "      <td>37305.56</td>\n",
       "    </tr>\n",
       "    <tr>\n",
       "      <th>1</th>\n",
       "      <td>Some college(no degree)</td>\n",
       "      <td>40250.00</td>\n",
       "    </tr>\n",
       "    <tr>\n",
       "      <th>2</th>\n",
       "      <td>Associate degree</td>\n",
       "      <td>37738.10</td>\n",
       "    </tr>\n",
       "    <tr>\n",
       "      <th>3</th>\n",
       "      <td>Bachelors degree</td>\n",
       "      <td>53538.46</td>\n",
       "    </tr>\n",
       "    <tr>\n",
       "      <th>4</th>\n",
       "      <td>MS/PHD degree</td>\n",
       "      <td>57953.12</td>\n",
       "    </tr>\n",
       "  </tbody>\n",
       "</table>\n",
       "</div>"
      ],
      "text/plain": [
       "                F_EDUCCAT2  p_income\n",
       "0       High school degree  37305.56\n",
       "1  Some college(no degree)  40250.00\n",
       "2         Associate degree  37738.10\n",
       "3         Bachelors degree  53538.46\n",
       "4            MS/PHD degree  57953.12"
      ]
     },
     "execution_count": 14,
     "metadata": {},
     "output_type": "execute_result"
    }
   ],
   "source": [
    "mapping = {0:'High school degree',1:'Some college(no degree)',\n",
    "              2:'Associate degree',3:'Bachelors degree',4:'MS/PHD degree'}\n",
    "shortfind['F_EDUCCAT2'] =shortfind['F_EDUCCAT2'].map(mapping)\n",
    "shortfind"
   ]
  },
  {
   "cell_type": "code",
   "execution_count": 15,
   "metadata": {},
   "outputs": [],
   "source": [
    "longfind = np.round(df[df['FINDJOB'] == 0][['p_income','F_EDUCCAT2']].groupby('F_EDUCCAT2').mean(),2)\n",
    "longfind = longfind.reset_index()"
   ]
  },
  {
   "cell_type": "code",
   "execution_count": 16,
   "metadata": {},
   "outputs": [
    {
     "data": {
      "text/html": [
       "<div>\n",
       "<style scoped>\n",
       "    .dataframe tbody tr th:only-of-type {\n",
       "        vertical-align: middle;\n",
       "    }\n",
       "\n",
       "    .dataframe tbody tr th {\n",
       "        vertical-align: top;\n",
       "    }\n",
       "\n",
       "    .dataframe thead th {\n",
       "        text-align: right;\n",
       "    }\n",
       "</style>\n",
       "<table border=\"1\" class=\"dataframe\">\n",
       "  <thead>\n",
       "    <tr style=\"text-align: right;\">\n",
       "      <th></th>\n",
       "      <th>F_EDUCCAT2</th>\n",
       "      <th>p_income</th>\n",
       "    </tr>\n",
       "  </thead>\n",
       "  <tbody>\n",
       "    <tr>\n",
       "      <th>0</th>\n",
       "      <td>High school degree</td>\n",
       "      <td>40100.00</td>\n",
       "    </tr>\n",
       "    <tr>\n",
       "      <th>1</th>\n",
       "      <td>Some college(no degree)</td>\n",
       "      <td>33095.24</td>\n",
       "    </tr>\n",
       "    <tr>\n",
       "      <th>2</th>\n",
       "      <td>Associate degree</td>\n",
       "      <td>36911.76</td>\n",
       "    </tr>\n",
       "    <tr>\n",
       "      <th>3</th>\n",
       "      <td>Bachelors degree</td>\n",
       "      <td>44573.53</td>\n",
       "    </tr>\n",
       "    <tr>\n",
       "      <th>4</th>\n",
       "      <td>MS/PHD degree</td>\n",
       "      <td>58100.00</td>\n",
       "    </tr>\n",
       "  </tbody>\n",
       "</table>\n",
       "</div>"
      ],
      "text/plain": [
       "                F_EDUCCAT2  p_income\n",
       "0       High school degree  40100.00\n",
       "1  Some college(no degree)  33095.24\n",
       "2         Associate degree  36911.76\n",
       "3         Bachelors degree  44573.53\n",
       "4            MS/PHD degree  58100.00"
      ]
     },
     "execution_count": 16,
     "metadata": {},
     "output_type": "execute_result"
    }
   ],
   "source": [
    "mapping = {0:'High school degree',1:'Some college(no degree)',\n",
    "              2:'Associate degree',3:'Bachelors degree',4:'MS/PHD degree'}\n",
    "longfind['F_EDUCCAT2'] =longfind['F_EDUCCAT2'].map(mapping)\n",
    "longfind"
   ]
  },
  {
   "cell_type": "markdown",
   "metadata": {},
   "source": [
    "Here we can see that in general, veterans who found a job > 6 months earn slightly less than veterans who found a job faster"
   ]
  },
  {
   "cell_type": "markdown",
   "metadata": {},
   "source": [
    "### YEARSERV vs FINDJOB\n",
    "- Lable : year = ['< 2 years','3-4 years','5-9 years','10-19 years','>20 years']\n",
    "- Trends : \n",
    "  1. Veterans who served <2 years and > 20 years found jobs faster\n",
    "  2. However, while veterans who served >20 years earned around 56,000\n",
    "  3. Veterans who served <2 years earned around 35,000 \n",
    " "
   ]
  },
  {
   "cell_type": "code",
   "execution_count": 17,
   "metadata": {},
   "outputs": [
    {
     "data": {
      "text/plain": [
       "4    83\n",
       "2    66\n",
       "1    52\n",
       "0    23\n",
       "3    17\n",
       "Name: YEARSERV, dtype: int64"
      ]
     },
     "execution_count": 17,
     "metadata": {},
     "output_type": "execute_result"
    }
   ],
   "source": [
    "df['YEARSERV'].value_counts()"
   ]
  },
  {
   "cell_type": "code",
   "execution_count": 18,
   "metadata": {
    "scrolled": true
   },
   "outputs": [
    {
     "data": {
      "image/png": "[encoded data removed]",
      "text/plain": [
       "<Figure size 640x320 with 1 Axes>"
      ]
     },
     "metadata": {
      "needs_background": "light"
     },
     "output_type": "display_data"
    }
   ],
   "source": [
    "# Veterans who find job within 6 months tend to serve longer years\n",
    "plt.figure(figsize = (8,4),dpi=80)\n",
    "ax = sns.boxplot(data= df,x='FINDJOB',y='YEARSERV',order=[1,0])\n",
    "# label xticks \n",
    "ax.set(xticklabels=['<6 month','>6 month']);\n"
   ]
  },
  {
   "cell_type": "code",
   "execution_count": 19,
   "metadata": {},
   "outputs": [
    {
     "data": {
      "text/plain": [
       "4    0.409722\n",
       "2    0.229167\n",
       "1    0.201389\n",
       "0    0.104167\n",
       "3    0.055556\n",
       "Name: YEARSERV, dtype: float64"
      ]
     },
     "execution_count": 19,
     "metadata": {},
     "output_type": "execute_result"
    }
   ],
   "source": [
    "df[df['FINDJOB']== 1]['YEARSERV'].value_counts()/len(df[df['FINDJOB']== 1])"
   ]
  },
  {
   "cell_type": "code",
   "execution_count": 20,
   "metadata": {},
   "outputs": [
    {
     "data": {
      "text/plain": [
       "2    0.340206\n",
       "4    0.247423\n",
       "1    0.237113\n",
       "3    0.092784\n",
       "0    0.082474\n",
       "Name: YEARSERV, dtype: float64"
      ]
     },
     "execution_count": 20,
     "metadata": {},
     "output_type": "execute_result"
    }
   ],
   "source": [
    "df[df['FINDJOB']== 0]['YEARSERV'].value_counts()/len(df[df['FINDJOB']== 0])"
   ]
  },
  {
   "cell_type": "code",
   "execution_count": 21,
   "metadata": {},
   "outputs": [
    {
     "data": {
      "text/plain": [
       "1    0.652174\n",
       "0    0.347826\n",
       "Name: FINDJOB, dtype: float64"
      ]
     },
     "execution_count": 21,
     "metadata": {},
     "output_type": "execute_result"
    }
   ],
   "source": [
    "df[df['YEARSERV']== 0]['FINDJOB'].value_counts()/len(df[df['YEARSERV']== 0])"
   ]
  },
  {
   "cell_type": "code",
   "execution_count": 22,
   "metadata": {},
   "outputs": [
    {
     "data": {
      "text/html": [
       "<div>\n",
       "<style scoped>\n",
       "    .dataframe tbody tr th:only-of-type {\n",
       "        vertical-align: middle;\n",
       "    }\n",
       "\n",
       "    .dataframe tbody tr th {\n",
       "        vertical-align: top;\n",
       "    }\n",
       "\n",
       "    .dataframe thead th {\n",
       "        text-align: right;\n",
       "    }\n",
       "</style>\n",
       "<table border=\"1\" class=\"dataframe\">\n",
       "  <thead>\n",
       "    <tr style=\"text-align: right;\">\n",
       "      <th></th>\n",
       "      <th>FINDJOB</th>\n",
       "      <th>YEARSERV</th>\n",
       "      <th>RANK</th>\n",
       "      <th>MILTOCIV</th>\n",
       "      <th>CIVADJ</th>\n",
       "      <th>CIVADJISSc</th>\n",
       "      <th>CIVADJISSe</th>\n",
       "      <th>MILJOBSKILLS</th>\n",
       "      <th>MILHELPJOB</th>\n",
       "      <th>F_AGECAT</th>\n",
       "      <th>...</th>\n",
       "      <th>LOOKJOB_Yes(right away)</th>\n",
       "      <th>SCHOOL_Yes</th>\n",
       "      <th>TRAUMA1_Yes</th>\n",
       "      <th>F_SEX_Male</th>\n",
       "      <th>F_HISP_Yes</th>\n",
       "      <th>INJURED</th>\n",
       "      <th>F_RACETHN</th>\n",
       "      <th>F_MARITAL</th>\n",
       "      <th>Branch</th>\n",
       "      <th>p_income</th>\n",
       "    </tr>\n",
       "  </thead>\n",
       "  <tbody>\n",
       "    <tr>\n",
       "      <th>25</th>\n",
       "      <td>1</td>\n",
       "      <td>0</td>\n",
       "      <td>0</td>\n",
       "      <td>2</td>\n",
       "      <td>2</td>\n",
       "      <td>1</td>\n",
       "      <td>2</td>\n",
       "      <td>1</td>\n",
       "      <td>2</td>\n",
       "      <td>1</td>\n",
       "      <td>...</td>\n",
       "      <td>1</td>\n",
       "      <td>0</td>\n",
       "      <td>1</td>\n",
       "      <td>1</td>\n",
       "      <td>0</td>\n",
       "      <td>2</td>\n",
       "      <td>3</td>\n",
       "      <td>2</td>\n",
       "      <td>5</td>\n",
       "      <td>25000</td>\n",
       "    </tr>\n",
       "    <tr>\n",
       "      <th>33</th>\n",
       "      <td>1</td>\n",
       "      <td>0</td>\n",
       "      <td>0</td>\n",
       "      <td>3</td>\n",
       "      <td>3</td>\n",
       "      <td>3</td>\n",
       "      <td>1</td>\n",
       "      <td>2</td>\n",
       "      <td>3</td>\n",
       "      <td>1</td>\n",
       "      <td>...</td>\n",
       "      <td>1</td>\n",
       "      <td>1</td>\n",
       "      <td>0</td>\n",
       "      <td>0</td>\n",
       "      <td>0</td>\n",
       "      <td>2</td>\n",
       "      <td>3</td>\n",
       "      <td>1</td>\n",
       "      <td>0</td>\n",
       "      <td>31500</td>\n",
       "    </tr>\n",
       "    <tr>\n",
       "      <th>34</th>\n",
       "      <td>1</td>\n",
       "      <td>0</td>\n",
       "      <td>0</td>\n",
       "      <td>1</td>\n",
       "      <td>3</td>\n",
       "      <td>2</td>\n",
       "      <td>0</td>\n",
       "      <td>0</td>\n",
       "      <td>2</td>\n",
       "      <td>1</td>\n",
       "      <td>...</td>\n",
       "      <td>1</td>\n",
       "      <td>0</td>\n",
       "      <td>0</td>\n",
       "      <td>1</td>\n",
       "      <td>0</td>\n",
       "      <td>2</td>\n",
       "      <td>3</td>\n",
       "      <td>1</td>\n",
       "      <td>0</td>\n",
       "      <td>22500</td>\n",
       "    </tr>\n",
       "    <tr>\n",
       "      <th>35</th>\n",
       "      <td>1</td>\n",
       "      <td>0</td>\n",
       "      <td>0</td>\n",
       "      <td>3</td>\n",
       "      <td>3</td>\n",
       "      <td>3</td>\n",
       "      <td>0</td>\n",
       "      <td>2</td>\n",
       "      <td>4</td>\n",
       "      <td>1</td>\n",
       "      <td>...</td>\n",
       "      <td>1</td>\n",
       "      <td>0</td>\n",
       "      <td>0</td>\n",
       "      <td>1</td>\n",
       "      <td>0</td>\n",
       "      <td>2</td>\n",
       "      <td>3</td>\n",
       "      <td>1</td>\n",
       "      <td>1</td>\n",
       "      <td>31500</td>\n",
       "    </tr>\n",
       "    <tr>\n",
       "      <th>49</th>\n",
       "      <td>1</td>\n",
       "      <td>0</td>\n",
       "      <td>0</td>\n",
       "      <td>2</td>\n",
       "      <td>3</td>\n",
       "      <td>3</td>\n",
       "      <td>0</td>\n",
       "      <td>3</td>\n",
       "      <td>2</td>\n",
       "      <td>2</td>\n",
       "      <td>...</td>\n",
       "      <td>0</td>\n",
       "      <td>0</td>\n",
       "      <td>0</td>\n",
       "      <td>1</td>\n",
       "      <td>0</td>\n",
       "      <td>2</td>\n",
       "      <td>3</td>\n",
       "      <td>1</td>\n",
       "      <td>1</td>\n",
       "      <td>44000</td>\n",
       "    </tr>\n",
       "    <tr>\n",
       "      <th>72</th>\n",
       "      <td>1</td>\n",
       "      <td>0</td>\n",
       "      <td>1</td>\n",
       "      <td>1</td>\n",
       "      <td>2</td>\n",
       "      <td>2</td>\n",
       "      <td>1</td>\n",
       "      <td>1</td>\n",
       "      <td>3</td>\n",
       "      <td>2</td>\n",
       "      <td>...</td>\n",
       "      <td>0</td>\n",
       "      <td>0</td>\n",
       "      <td>0</td>\n",
       "      <td>1</td>\n",
       "      <td>0</td>\n",
       "      <td>2</td>\n",
       "      <td>3</td>\n",
       "      <td>0</td>\n",
       "      <td>1</td>\n",
       "      <td>35000</td>\n",
       "    </tr>\n",
       "    <tr>\n",
       "      <th>96</th>\n",
       "      <td>1</td>\n",
       "      <td>0</td>\n",
       "      <td>0</td>\n",
       "      <td>2</td>\n",
       "      <td>2</td>\n",
       "      <td>2</td>\n",
       "      <td>1</td>\n",
       "      <td>2</td>\n",
       "      <td>2</td>\n",
       "      <td>1</td>\n",
       "      <td>...</td>\n",
       "      <td>0</td>\n",
       "      <td>1</td>\n",
       "      <td>0</td>\n",
       "      <td>1</td>\n",
       "      <td>0</td>\n",
       "      <td>2</td>\n",
       "      <td>3</td>\n",
       "      <td>1</td>\n",
       "      <td>3</td>\n",
       "      <td>31500</td>\n",
       "    </tr>\n",
       "    <tr>\n",
       "      <th>107</th>\n",
       "      <td>1</td>\n",
       "      <td>0</td>\n",
       "      <td>0</td>\n",
       "      <td>1</td>\n",
       "      <td>3</td>\n",
       "      <td>0</td>\n",
       "      <td>0</td>\n",
       "      <td>0</td>\n",
       "      <td>2</td>\n",
       "      <td>1</td>\n",
       "      <td>...</td>\n",
       "      <td>1</td>\n",
       "      <td>1</td>\n",
       "      <td>0</td>\n",
       "      <td>0</td>\n",
       "      <td>0</td>\n",
       "      <td>2</td>\n",
       "      <td>3</td>\n",
       "      <td>2</td>\n",
       "      <td>1</td>\n",
       "      <td>25000</td>\n",
       "    </tr>\n",
       "    <tr>\n",
       "      <th>133</th>\n",
       "      <td>1</td>\n",
       "      <td>0</td>\n",
       "      <td>0</td>\n",
       "      <td>2</td>\n",
       "      <td>3</td>\n",
       "      <td>3</td>\n",
       "      <td>0</td>\n",
       "      <td>0</td>\n",
       "      <td>2</td>\n",
       "      <td>3</td>\n",
       "      <td>...</td>\n",
       "      <td>1</td>\n",
       "      <td>1</td>\n",
       "      <td>0</td>\n",
       "      <td>1</td>\n",
       "      <td>0</td>\n",
       "      <td>2</td>\n",
       "      <td>3</td>\n",
       "      <td>1</td>\n",
       "      <td>1</td>\n",
       "      <td>44000</td>\n",
       "    </tr>\n",
       "    <tr>\n",
       "      <th>154</th>\n",
       "      <td>1</td>\n",
       "      <td>0</td>\n",
       "      <td>0</td>\n",
       "      <td>1</td>\n",
       "      <td>2</td>\n",
       "      <td>2</td>\n",
       "      <td>1</td>\n",
       "      <td>2</td>\n",
       "      <td>2</td>\n",
       "      <td>1</td>\n",
       "      <td>...</td>\n",
       "      <td>1</td>\n",
       "      <td>1</td>\n",
       "      <td>1</td>\n",
       "      <td>1</td>\n",
       "      <td>0</td>\n",
       "      <td>2</td>\n",
       "      <td>3</td>\n",
       "      <td>1</td>\n",
       "      <td>1</td>\n",
       "      <td>31500</td>\n",
       "    </tr>\n",
       "    <tr>\n",
       "      <th>166</th>\n",
       "      <td>1</td>\n",
       "      <td>0</td>\n",
       "      <td>0</td>\n",
       "      <td>0</td>\n",
       "      <td>1</td>\n",
       "      <td>3</td>\n",
       "      <td>3</td>\n",
       "      <td>2</td>\n",
       "      <td>2</td>\n",
       "      <td>1</td>\n",
       "      <td>...</td>\n",
       "      <td>1</td>\n",
       "      <td>1</td>\n",
       "      <td>0</td>\n",
       "      <td>0</td>\n",
       "      <td>0</td>\n",
       "      <td>2</td>\n",
       "      <td>3</td>\n",
       "      <td>1</td>\n",
       "      <td>1</td>\n",
       "      <td>62500</td>\n",
       "    </tr>\n",
       "    <tr>\n",
       "      <th>170</th>\n",
       "      <td>1</td>\n",
       "      <td>0</td>\n",
       "      <td>0</td>\n",
       "      <td>1</td>\n",
       "      <td>1</td>\n",
       "      <td>0</td>\n",
       "      <td>2</td>\n",
       "      <td>2</td>\n",
       "      <td>1</td>\n",
       "      <td>1</td>\n",
       "      <td>...</td>\n",
       "      <td>1</td>\n",
       "      <td>0</td>\n",
       "      <td>0</td>\n",
       "      <td>1</td>\n",
       "      <td>0</td>\n",
       "      <td>2</td>\n",
       "      <td>3</td>\n",
       "      <td>1</td>\n",
       "      <td>5</td>\n",
       "      <td>44000</td>\n",
       "    </tr>\n",
       "    <tr>\n",
       "      <th>181</th>\n",
       "      <td>1</td>\n",
       "      <td>0</td>\n",
       "      <td>0</td>\n",
       "      <td>1</td>\n",
       "      <td>2</td>\n",
       "      <td>2</td>\n",
       "      <td>1</td>\n",
       "      <td>2</td>\n",
       "      <td>4</td>\n",
       "      <td>1</td>\n",
       "      <td>...</td>\n",
       "      <td>1</td>\n",
       "      <td>0</td>\n",
       "      <td>0</td>\n",
       "      <td>0</td>\n",
       "      <td>0</td>\n",
       "      <td>2</td>\n",
       "      <td>3</td>\n",
       "      <td>1</td>\n",
       "      <td>1</td>\n",
       "      <td>12500</td>\n",
       "    </tr>\n",
       "    <tr>\n",
       "      <th>203</th>\n",
       "      <td>1</td>\n",
       "      <td>0</td>\n",
       "      <td>0</td>\n",
       "      <td>1</td>\n",
       "      <td>2</td>\n",
       "      <td>1</td>\n",
       "      <td>0</td>\n",
       "      <td>1</td>\n",
       "      <td>2</td>\n",
       "      <td>1</td>\n",
       "      <td>...</td>\n",
       "      <td>0</td>\n",
       "      <td>0</td>\n",
       "      <td>0</td>\n",
       "      <td>1</td>\n",
       "      <td>1</td>\n",
       "      <td>2</td>\n",
       "      <td>0</td>\n",
       "      <td>1</td>\n",
       "      <td>1</td>\n",
       "      <td>62500</td>\n",
       "    </tr>\n",
       "    <tr>\n",
       "      <th>234</th>\n",
       "      <td>1</td>\n",
       "      <td>0</td>\n",
       "      <td>0</td>\n",
       "      <td>0</td>\n",
       "      <td>0</td>\n",
       "      <td>2</td>\n",
       "      <td>2</td>\n",
       "      <td>0</td>\n",
       "      <td>0</td>\n",
       "      <td>1</td>\n",
       "      <td>...</td>\n",
       "      <td>1</td>\n",
       "      <td>1</td>\n",
       "      <td>1</td>\n",
       "      <td>1</td>\n",
       "      <td>0</td>\n",
       "      <td>1</td>\n",
       "      <td>3</td>\n",
       "      <td>1</td>\n",
       "      <td>1</td>\n",
       "      <td>22500</td>\n",
       "    </tr>\n",
       "  </tbody>\n",
       "</table>\n",
       "<p>15 rows × 27 columns</p>\n",
       "</div>"
      ],
      "text/plain": [
       "     FINDJOB  YEARSERV  RANK  MILTOCIV  CIVADJ  CIVADJISSc  CIVADJISSe  \\\n",
       "25         1         0     0         2       2           1           2   \n",
       "33         1         0     0         3       3           3           1   \n",
       "34         1         0     0         1       3           2           0   \n",
       "35         1         0     0         3       3           3           0   \n",
       "49         1         0     0         2       3           3           0   \n",
       "72         1         0     1         1       2           2           1   \n",
       "96         1         0     0         2       2           2           1   \n",
       "107        1         0     0         1       3           0           0   \n",
       "133        1         0     0         2       3           3           0   \n",
       "154        1         0     0         1       2           2           1   \n",
       "166        1         0     0         0       1           3           3   \n",
       "170        1         0     0         1       1           0           2   \n",
       "181        1         0     0         1       2           2           1   \n",
       "203        1         0     0         1       2           1           0   \n",
       "234        1         0     0         0       0           2           2   \n",
       "\n",
       "     MILJOBSKILLS  MILHELPJOB  F_AGECAT  ...  LOOKJOB_Yes(right away)  \\\n",
       "25              1           2         1  ...                        1   \n",
       "33              2           3         1  ...                        1   \n",
       "34              0           2         1  ...                        1   \n",
       "35              2           4         1  ...                        1   \n",
       "49              3           2         2  ...                        0   \n",
       "72              1           3         2  ...                        0   \n",
       "96              2           2         1  ...                        0   \n",
       "107             0           2         1  ...                        1   \n",
       "133             0           2         3  ...                        1   \n",
       "154             2           2         1  ...                        1   \n",
       "166             2           2         1  ...                        1   \n",
       "170             2           1         1  ...                        1   \n",
       "181             2           4         1  ...                        1   \n",
       "203             1           2         1  ...                        0   \n",
       "234             0           0         1  ...                        1   \n",
       "\n",
       "     SCHOOL_Yes  TRAUMA1_Yes  F_SEX_Male  F_HISP_Yes  INJURED  F_RACETHN  \\\n",
       "25            0            1           1           0        2          3   \n",
       "33            1            0           0           0        2          3   \n",
       "34            0            0           1           0        2          3   \n",
       "35            0            0           1           0        2          3   \n",
       "49            0            0           1           0        2          3   \n",
       "72            0            0           1           0        2          3   \n",
       "96            1            0           1           0        2          3   \n",
       "107           1            0           0           0        2          3   \n",
       "133           1            0           1           0        2          3   \n",
       "154           1            1           1           0        2          3   \n",
       "166           1            0           0           0        2          3   \n",
       "170           0            0           1           0        2          3   \n",
       "181           0            0           0           0        2          3   \n",
       "203           0            0           1           1        2          0   \n",
       "234           1            1           1           0        1          3   \n",
       "\n",
       "     F_MARITAL  Branch  p_income  \n",
       "25           2       5     25000  \n",
       "33           1       0     31500  \n",
       "34           1       0     22500  \n",
       "35           1       1     31500  \n",
       "49           1       1     44000  \n",
       "72           0       1     35000  \n",
       "96           1       3     31500  \n",
       "107          2       1     25000  \n",
       "133          1       1     44000  \n",
       "154          1       1     31500  \n",
       "166          1       1     62500  \n",
       "170          1       5     44000  \n",
       "181          1       1     12500  \n",
       "203          1       1     62500  \n",
       "234          1       1     22500  \n",
       "\n",
       "[15 rows x 27 columns]"
      ]
     },
     "execution_count": 22,
     "metadata": {},
     "output_type": "execute_result"
    }
   ],
   "source": [
    "df[(df['YEARSERV']== 0)&(df['FINDJOB']==1)]"
   ]
  },
  {
   "cell_type": "code",
   "execution_count": 23,
   "metadata": {},
   "outputs": [
    {
     "data": {
      "text/plain": [
       "p_income    35033.333333\n",
       "F_AGECAT        1.266667\n",
       "RANK            0.066667\n",
       "dtype: float64"
      ]
     },
     "execution_count": 23,
     "metadata": {},
     "output_type": "execute_result"
    }
   ],
   "source": [
    "# Veterans who served <2 years earned $35k\n",
    "df[(df['YEARSERV']== 0)&(df['FINDJOB']==1)][['p_income','F_AGECAT','RANK']].mean()"
   ]
  },
  {
   "cell_type": "code",
   "execution_count": 24,
   "metadata": {},
   "outputs": [
    {
     "data": {
      "text/plain": [
       "1    0.557692\n",
       "0    0.442308\n",
       "Name: FINDJOB, dtype: float64"
      ]
     },
     "execution_count": 24,
     "metadata": {},
     "output_type": "execute_result"
    }
   ],
   "source": [
    "df[df['YEARSERV']== 1]['FINDJOB'].value_counts()/len(df[df['YEARSERV']== 1])"
   ]
  },
  {
   "cell_type": "code",
   "execution_count": 25,
   "metadata": {},
   "outputs": [
    {
     "data": {
      "text/plain": [
       "0    0.5\n",
       "1    0.5\n",
       "Name: FINDJOB, dtype: float64"
      ]
     },
     "execution_count": 25,
     "metadata": {},
     "output_type": "execute_result"
    }
   ],
   "source": [
    "df[df['YEARSERV']== 2]['FINDJOB'].value_counts()/len(df[df['YEARSERV']== 2])"
   ]
  },
  {
   "cell_type": "code",
   "execution_count": 26,
   "metadata": {},
   "outputs": [
    {
     "data": {
      "text/plain": [
       "0    0.529412\n",
       "1    0.470588\n",
       "Name: FINDJOB, dtype: float64"
      ]
     },
     "execution_count": 26,
     "metadata": {},
     "output_type": "execute_result"
    }
   ],
   "source": [
    "df[df['YEARSERV']== 3]['FINDJOB'].value_counts()/len(df[df['YEARSERV']== 3])"
   ]
  },
  {
   "cell_type": "code",
   "execution_count": 27,
   "metadata": {},
   "outputs": [
    {
     "data": {
      "text/plain": [
       "1    0.710843\n",
       "0    0.289157\n",
       "Name: FINDJOB, dtype: float64"
      ]
     },
     "execution_count": 27,
     "metadata": {},
     "output_type": "execute_result"
    }
   ],
   "source": [
    "df[df['YEARSERV']== 4]['FINDJOB'].value_counts()/len(df[df['YEARSERV']== 4])"
   ]
  },
  {
   "cell_type": "code",
   "execution_count": 28,
   "metadata": {},
   "outputs": [
    {
     "data": {
      "text/plain": [
       "p_income    55762.711864\n",
       "F_AGECAT        2.067797\n",
       "RANK            1.559322\n",
       "dtype: float64"
      ]
     },
     "execution_count": 28,
     "metadata": {},
     "output_type": "execute_result"
    }
   ],
   "source": [
    "# Veterans who served >20 years earned $56k\n",
    "df[(df['YEARSERV']== 4)&(df['FINDJOB']==1)][['p_income','F_AGECAT','RANK']].mean()"
   ]
  },
  {
   "cell_type": "markdown",
   "metadata": {},
   "source": [
    "### RANK vs FINDJOB\n",
    "- Label: 'E1-E6','E7-E9','WO1-WO5','O1-O10'\n",
    "- Trends : Officers who didn't have jobs lined up didn't find a job faster than enlisted"
   ]
  },
  {
   "cell_type": "code",
   "execution_count": 29,
   "metadata": {},
   "outputs": [
    {
     "data": {
      "text/plain": [
       "0    102\n",
       "1     94\n",
       "3     39\n",
       "2      6\n",
       "Name: RANK, dtype: int64"
      ]
     },
     "execution_count": 29,
     "metadata": {},
     "output_type": "execute_result"
    }
   ],
   "source": [
    "df['RANK'].value_counts()"
   ]
  },
  {
   "cell_type": "code",
   "execution_count": 30,
   "metadata": {},
   "outputs": [
    {
     "data": {
      "image/png": "[encoded data removed]",
      "text/plain": [
       "<Figure size 640x320 with 1 Axes>"
      ]
     },
     "metadata": {
      "needs_background": "light"
     },
     "output_type": "display_data"
    }
   ],
   "source": [
    "plt.figure(figsize = (8,4),dpi=80)\n",
    "ax = sns.boxplot(data= df,x='FINDJOB',y='RANK',order=[1,0])\n",
    "# label xticks \n",
    "ax.set(xticklabels=['<6 month','>6 month']);"
   ]
  },
  {
   "cell_type": "code",
   "execution_count": 31,
   "metadata": {},
   "outputs": [
    {
     "data": {
      "text/plain": [
       "1    0.598039\n",
       "0    0.401961\n",
       "Name: FINDJOB, dtype: float64"
      ]
     },
     "execution_count": 31,
     "metadata": {},
     "output_type": "execute_result"
    }
   ],
   "source": [
    "df[df['RANK']== 0]['FINDJOB'].value_counts()/len(df[df['RANK']== 0])"
   ]
  },
  {
   "cell_type": "code",
   "execution_count": 32,
   "metadata": {},
   "outputs": [
    {
     "data": {
      "text/plain": [
       "1    0.617021\n",
       "0    0.382979\n",
       "Name: FINDJOB, dtype: float64"
      ]
     },
     "execution_count": 32,
     "metadata": {},
     "output_type": "execute_result"
    }
   ],
   "source": [
    "df[df['RANK']== 1]['FINDJOB'].value_counts()/len(df[df['RANK']== 1])"
   ]
  },
  {
   "cell_type": "code",
   "execution_count": 33,
   "metadata": {},
   "outputs": [
    {
     "data": {
      "text/plain": [
       "0    0.666667\n",
       "1    0.333333\n",
       "Name: FINDJOB, dtype: float64"
      ]
     },
     "execution_count": 33,
     "metadata": {},
     "output_type": "execute_result"
    }
   ],
   "source": [
    "df[df['RANK']== 2]['FINDJOB'].value_counts()/len(df[df['RANK']== 2])"
   ]
  },
  {
   "cell_type": "code",
   "execution_count": 34,
   "metadata": {},
   "outputs": [
    {
     "data": {
      "text/plain": [
       "1    0.589744\n",
       "0    0.410256\n",
       "Name: FINDJOB, dtype: float64"
      ]
     },
     "execution_count": 34,
     "metadata": {},
     "output_type": "execute_result"
    }
   ],
   "source": [
    "df[df['RANK']== 3]['FINDJOB'].value_counts()/len(df[df['RANK']== 3])"
   ]
  },
  {
   "cell_type": "code",
   "execution_count": 35,
   "metadata": {},
   "outputs": [
    {
     "data": {
      "text/plain": [
       "Index(['FINDJOB', 'YEARSERV', 'RANK', 'MILTOCIV', 'CIVADJ', 'CIVADJISSc',\n",
       "       'CIVADJISSe', 'MILJOBSKILLS', 'MILHELPJOB', 'F_AGECAT', 'F_EDUCCAT2',\n",
       "       'MARRACTIV_Not Married', 'PARACTIV_Yes', 'COMBAT_Yes', 'VABENEFITS_Yes',\n",
       "       'CIVADJPROBa_Yes', 'CIVADJPROBb_Yes', 'LOOKJOB_Yes(right away)',\n",
       "       'SCHOOL_Yes', 'TRAUMA1_Yes', 'F_SEX_Male', 'F_HISP_Yes', 'INJURED',\n",
       "       'F_RACETHN', 'F_MARITAL', 'Branch', 'p_income'],\n",
       "      dtype='object')"
      ]
     },
     "execution_count": 35,
     "metadata": {},
     "output_type": "execute_result"
    }
   ],
   "source": [
    "df.columns"
   ]
  },
  {
   "cell_type": "markdown",
   "metadata": {},
   "source": [
    "### CIVADJISSc vs FINDJOB\n",
    "- Label : civadjissc = ['Never','Seldom','Sometimes','Frequently']"
   ]
  },
  {
   "cell_type": "code",
   "execution_count": 36,
   "metadata": {},
   "outputs": [
    {
     "data": {
      "image/png": "[encoded data removed]",
      "text/plain": [
       "<Figure size 640x320 with 1 Axes>"
      ]
     },
     "metadata": {
      "needs_background": "light"
     },
     "output_type": "display_data"
    }
   ],
   "source": [
    "# Veterans who don't find job within 6 months \n",
    "# are less optimistic about their future\n",
    "plt.figure(figsize = (8,4),dpi=80)\n",
    "ax = sns.boxplot(data= df,x='FINDJOB', y='CIVADJISSc',order=[1,0])\n",
    "ax.set(xticklabels = (['<6 months', '>6 months',]));"
   ]
  },
  {
   "cell_type": "code",
   "execution_count": 37,
   "metadata": {},
   "outputs": [
    {
     "data": {
      "text/plain": [
       "count    144.000000\n",
       "mean       2.208333\n",
       "std        0.783349\n",
       "min        0.000000\n",
       "25%        2.000000\n",
       "50%        2.000000\n",
       "75%        3.000000\n",
       "max        3.000000\n",
       "Name: CIVADJISSc, dtype: float64"
      ]
     },
     "execution_count": 37,
     "metadata": {},
     "output_type": "execute_result"
    }
   ],
   "source": [
    "# Median is 2 : somtimes optimistic\n",
    "df[df['FINDJOB'] == 1]['CIVADJISSc'].describe()"
   ]
  },
  {
   "cell_type": "markdown",
   "metadata": {},
   "source": [
    "### CIVADJISSe vs FINDJOB\n",
    "- civadjisse level= ['Never','Seldom','Sometimes','Frequently']"
   ]
  },
  {
   "cell_type": "code",
   "execution_count": 38,
   "metadata": {
    "scrolled": true
   },
   "outputs": [
    {
     "data": {
      "image/png": "[encoded data removed]",
      "text/plain": [
       "<Figure size 640x320 with 1 Axes>"
      ]
     },
     "metadata": {
      "needs_background": "light"
     },
     "output_type": "display_data"
    }
   ],
   "source": [
    "# Veterans who don't find job within 6 months \n",
    "# have difficulty dealing with the lack of structure in civilian life \n",
    "# frequently\n",
    "plt.figure(figsize = (8,4),dpi=80)\n",
    "ax = sns.boxplot(data= df,x='FINDJOB', y='CIVADJISSe',order=[1,0])\n",
    "ax.set(xticklabels = (['<6 months', '>6 months',]));"
   ]
  },
  {
   "cell_type": "markdown",
   "metadata": {},
   "source": [
    "### MILJOBSKILLS vs FINDJOB\n",
    "- Label : miljobskills = ['not useful at all','not too useful','fairly useful','Very useful']\n",
    "- Trends : \n",
    "    1. Veterans who answered 'Very useful' is the only group had FINDJOB rate > 60%\n",
    "    2. Veterans who answered above 'fairly useful' have the same median income of 44,000; Salary doesn't increase much above 'fiarly useful'"
   ]
  },
  {
   "cell_type": "code",
   "execution_count": 39,
   "metadata": {},
   "outputs": [
    {
     "data": {
      "text/plain": [
       "2    84\n",
       "3    79\n",
       "1    54\n",
       "0    24\n",
       "Name: MILJOBSKILLS, dtype: int64"
      ]
     },
     "execution_count": 39,
     "metadata": {},
     "output_type": "execute_result"
    }
   ],
   "source": [
    "# Most veterans said 'fairly useful'\n",
    "df['MILJOBSKILLS'].value_counts()"
   ]
  },
  {
   "cell_type": "code",
   "execution_count": 40,
   "metadata": {},
   "outputs": [
    {
     "data": {
      "text/plain": [
       "2    0.348548\n",
       "3    0.327801\n",
       "1    0.224066\n",
       "0    0.099585\n",
       "Name: MILJOBSKILLS, dtype: float64"
      ]
     },
     "execution_count": 40,
     "metadata": {},
     "output_type": "execute_result"
    }
   ],
   "source": [
    "df['MILJOBSKILLS'].value_counts()/len(df)"
   ]
  },
  {
   "cell_type": "code",
   "execution_count": 41,
   "metadata": {
    "scrolled": false
   },
   "outputs": [
    {
     "data": {
      "image/png": "[encoded data removed]",
      "text/plain": [
       "<Figure size 640x320 with 1 Axes>"
      ]
     },
     "metadata": {
      "needs_background": "light"
     },
     "output_type": "display_data"
    }
   ],
   "source": [
    "plt.figure(figsize = (8,4),dpi=80)\n",
    "ax = sns.boxplot(data= df,x='FINDJOB',y='MILJOBSKILLS',order=[1,0])\n",
    "# label xticks \n",
    "ax.set(xticklabels=['<6 month','>6 month']);"
   ]
  },
  {
   "cell_type": "code",
   "execution_count": 42,
   "metadata": {
    "scrolled": true
   },
   "outputs": [
    {
     "data": {
      "text/plain": [
       "1    0.5\n",
       "0    0.5\n",
       "Name: FINDJOB, dtype: float64"
      ]
     },
     "execution_count": 42,
     "metadata": {},
     "output_type": "execute_result"
    }
   ],
   "source": [
    "# 50% vs 50% for 'not useful at all'\n",
    "df[df['MILJOBSKILLS'] == 0]['FINDJOB'].value_counts()/len(df[df['MILJOBSKILLS'] == 0])"
   ]
  },
  {
   "cell_type": "code",
   "execution_count": 43,
   "metadata": {},
   "outputs": [
    {
     "data": {
      "text/plain": [
       "1    0.518519\n",
       "0    0.481481\n",
       "Name: FINDJOB, dtype: float64"
      ]
     },
     "execution_count": 43,
     "metadata": {},
     "output_type": "execute_result"
    }
   ],
   "source": [
    "# almost 50% vs 50% for 'not too useful'\n",
    "df[df['MILJOBSKILLS'] == 1]['FINDJOB'].value_counts()/len(df[df['MILJOBSKILLS'] == 1])"
   ]
  },
  {
   "cell_type": "code",
   "execution_count": 44,
   "metadata": {},
   "outputs": [
    {
     "data": {
      "text/plain": [
       "1    0.571429\n",
       "0    0.428571\n",
       "Name: FINDJOB, dtype: float64"
      ]
     },
     "execution_count": 44,
     "metadata": {},
     "output_type": "execute_result"
    }
   ],
   "source": [
    "# 57% vs 42% for 'fairly useful'\n",
    "df[df['MILJOBSKILLS'] == 2]['FINDJOB'].value_counts()/len(df[df['MILJOBSKILLS'] == 2])"
   ]
  },
  {
   "cell_type": "code",
   "execution_count": 45,
   "metadata": {},
   "outputs": [
    {
     "data": {
      "text/plain": [
       "1    0.708861\n",
       "0    0.291139\n",
       "Name: FINDJOB, dtype: float64"
      ]
     },
     "execution_count": 45,
     "metadata": {},
     "output_type": "execute_result"
    }
   ],
   "source": [
    "# 70% vs 30% for 'very useful'\n",
    "df[df['MILJOBSKILLS'] == 3]['FINDJOB'].value_counts()/len(df[df['MILJOBSKILLS'] == 3])"
   ]
  },
  {
   "cell_type": "code",
   "execution_count": 46,
   "metadata": {},
   "outputs": [
    {
     "data": {
      "text/plain": [
       "count       24.000000\n",
       "mean     38458.333333\n",
       "std      23112.633787\n",
       "min      10000.000000\n",
       "25%      22500.000000\n",
       "50%      28250.000000\n",
       "75%      62500.000000\n",
       "max      88000.000000\n",
       "Name: p_income, dtype: float64"
      ]
     },
     "execution_count": 46,
     "metadata": {},
     "output_type": "execute_result"
    }
   ],
   "source": [
    "# Median salary $28250\n",
    "df[df['MILJOBSKILLS'] == 0]['p_income'].describe()"
   ]
  },
  {
   "cell_type": "code",
   "execution_count": 47,
   "metadata": {
    "scrolled": true
   },
   "outputs": [
    {
     "data": {
      "text/plain": [
       "count       54.000000\n",
       "mean     41509.259259\n",
       "std      22911.126641\n",
       "min       7500.000000\n",
       "25%      23125.000000\n",
       "50%      33250.000000\n",
       "75%      62500.000000\n",
       "max      88000.000000\n",
       "Name: p_income, dtype: float64"
      ]
     },
     "execution_count": 47,
     "metadata": {},
     "output_type": "execute_result"
    }
   ],
   "source": [
    "# Median salary $33250\n",
    "df[df['MILJOBSKILLS'] == 1]['p_income'].describe()"
   ]
  },
  {
   "cell_type": "code",
   "execution_count": 48,
   "metadata": {},
   "outputs": [
    {
     "data": {
      "text/plain": [
       "count       84.000000\n",
       "mean     47892.857143\n",
       "std      19724.926348\n",
       "min       7500.000000\n",
       "25%      31500.000000\n",
       "50%      44000.000000\n",
       "75%      62500.000000\n",
       "max      88000.000000\n",
       "Name: p_income, dtype: float64"
      ]
     },
     "execution_count": 48,
     "metadata": {},
     "output_type": "execute_result"
    }
   ],
   "source": [
    "# Median salary $44000\n",
    "df[df['MILJOBSKILLS'] == 2]['p_income'].describe()"
   ]
  },
  {
   "cell_type": "code",
   "execution_count": 49,
   "metadata": {},
   "outputs": [
    {
     "data": {
      "text/plain": [
       "count       79.000000\n",
       "mean     47949.367089\n",
       "std      22251.274083\n",
       "min       7500.000000\n",
       "25%      31500.000000\n",
       "50%      44000.000000\n",
       "75%      62500.000000\n",
       "max      88000.000000\n",
       "Name: p_income, dtype: float64"
      ]
     },
     "execution_count": 49,
     "metadata": {},
     "output_type": "execute_result"
    }
   ],
   "source": [
    "# Median salary $44000\n",
    "df[df['MILJOBSKILLS'] == 3]['p_income'].describe()"
   ]
  },
  {
   "cell_type": "markdown",
   "metadata": {},
   "source": [
    "### F_EDUCCAT2 vs FINDJOB\n",
    "- Label : f_educcat2 = ['High school degree','Some college(no degree)','Associate degree','Bachelors degree','MS/PHD degree']\n",
    "- We want to know the result above 'Bachelors degree',label : 3\n",
    "- Trends : \n",
    "    1. Surprisingly, more veterans who have degree lower than bachelors degree found a job faster \n",
    "    2. However, they earned way less than veterans who have degree above bachelors degree"
   ]
  },
  {
   "cell_type": "code",
   "execution_count": 50,
   "metadata": {},
   "outputs": [
    {
     "data": {
      "text/plain": [
       "1    59.75\n",
       "0    40.25\n",
       "Name: FINDJOB, dtype: float64"
      ]
     },
     "execution_count": 50,
     "metadata": {},
     "output_type": "execute_result"
    }
   ],
   "source": [
    "# More veterans find jobs within 6 months\n",
    "#60% vs 40%\n",
    "np.round(df['FINDJOB'].value_counts()/len(df)*100,2)"
   ]
  },
  {
   "cell_type": "code",
   "execution_count": 51,
   "metadata": {
    "scrolled": true
   },
   "outputs": [
    {
     "data": {
      "image/png": "[encoded data removed]",
      "text/plain": [
       "<Figure size 640x320 with 1 Axes>"
      ]
     },
     "metadata": {
      "needs_background": "light"
     },
     "output_type": "display_data"
    }
   ],
   "source": [
    "plt.figure(figsize = (8,4),dpi=80)\n",
    "ax = sns.boxplot(data= df,x='FINDJOB',y='F_EDUCCAT2',order=[1,0])\n",
    "# label xticks \n",
    "ax.set(xticklabels=['<6 month','>6 month']);"
   ]
  },
  {
   "cell_type": "code",
   "execution_count": 52,
   "metadata": {},
   "outputs": [
    {
     "data": {
      "text/plain": [
       "count    97.000000\n",
       "mean      2.443299\n",
       "std       1.189967\n",
       "min       0.000000\n",
       "25%       1.000000\n",
       "50%       3.000000\n",
       "75%       3.000000\n",
       "max       4.000000\n",
       "Name: F_EDUCCAT2, dtype: float64"
      ]
     },
     "execution_count": 52,
     "metadata": {},
     "output_type": "execute_result"
    }
   ],
   "source": [
    "# Median education for veterans who found job > 6 month is bachelor's degree\n",
    "# Found job > 6 months\n",
    "# median = 3 Bachelors\n",
    "\n",
    "df[df['FINDJOB'] == 0]['F_EDUCCAT2'].describe()"
   ]
  },
  {
   "cell_type": "code",
   "execution_count": 53,
   "metadata": {},
   "outputs": [
    {
     "data": {
      "text/plain": [
       "3    27.08\n",
       "1    23.61\n",
       "4    22.22\n",
       "2    14.58\n",
       "0    12.50\n",
       "Name: F_EDUCCAT2, dtype: float64"
      ]
     },
     "execution_count": 53,
     "metadata": {},
     "output_type": "execute_result"
    }
   ],
   "source": [
    "# Found job < 6 months\n",
    "# > Bachlor's degree : 49.2%\n",
    "np.round(df[df['FINDJOB'] == 1]['F_EDUCCAT2'].value_counts()/len(df[df['FINDJOB'] == 1])*100,2)"
   ]
  },
  {
   "cell_type": "code",
   "execution_count": 54,
   "metadata": {},
   "outputs": [
    {
     "data": {
      "text/plain": [
       "3    35.05\n",
       "1    21.65\n",
       "4    20.62\n",
       "2    17.53\n",
       "0     5.15\n",
       "Name: F_EDUCCAT2, dtype: float64"
      ]
     },
     "execution_count": 54,
     "metadata": {},
     "output_type": "execute_result"
    }
   ],
   "source": [
    "# Found job > 6 months\n",
    "# > Bachlor's degree :55.6%\n",
    "np.round(df[df['FINDJOB'] == 0]['F_EDUCCAT2'].value_counts()/len(df[df['FINDJOB'] == 0])*100,2)"
   ]
  },
  {
   "cell_type": "markdown",
   "metadata": {},
   "source": [
    "Veterans who found job < 6 months has lower education level"
   ]
  },
  {
   "cell_type": "markdown",
   "metadata": {},
   "source": [
    "#### Education < bachlor's degree "
   ]
  },
  {
   "cell_type": "code",
   "execution_count": 55,
   "metadata": {},
   "outputs": [
    {
     "data": {
      "text/plain": [
       "1    0.62931\n",
       "0    0.37069\n",
       "Name: FINDJOB, dtype: float64"
      ]
     },
     "execution_count": 55,
     "metadata": {},
     "output_type": "execute_result"
    }
   ],
   "source": [
    "# veterans with education lower than bachlor's degree\n",
    "# 63% found a job < 6 month\n",
    "df[df['F_EDUCCAT2'] < 3]['FINDJOB'].value_counts()/len(df[df['F_EDUCCAT2'] < 3])"
   ]
  },
  {
   "cell_type": "code",
   "execution_count": 56,
   "metadata": {},
   "outputs": [
    {
     "data": {
      "text/plain": [
       "count       73.000000\n",
       "mean     38801.369863\n",
       "std      20454.003229\n",
       "min       7500.000000\n",
       "25%      25000.000000\n",
       "50%      31500.000000\n",
       "75%      44000.000000\n",
       "max      88000.000000\n",
       "Name: p_income, dtype: float64"
      ]
     },
     "execution_count": 56,
     "metadata": {},
     "output_type": "execute_result"
    }
   ],
   "source": [
    "# veterans who found a job < 6 month earned a median income of 31500 \n",
    "df[(df['F_EDUCCAT2'] < 3)&(df['FINDJOB']==1)]['p_income'].describe()"
   ]
  },
  {
   "cell_type": "code",
   "execution_count": 57,
   "metadata": {},
   "outputs": [
    {
     "data": {
      "text/plain": [
       "count       43.000000\n",
       "mean     35418.604651\n",
       "std      19241.550475\n",
       "min       7500.000000\n",
       "25%      22500.000000\n",
       "50%      31500.000000\n",
       "75%      44000.000000\n",
       "max      88000.000000\n",
       "Name: p_income, dtype: float64"
      ]
     },
     "execution_count": 57,
     "metadata": {},
     "output_type": "execute_result"
    }
   ],
   "source": [
    "# veterans who found a job > 6 month earned a median income of 31500 \n",
    "df[(df['F_EDUCCAT2'] < 3)&(df['FINDJOB']==0)]['p_income'].describe()"
   ]
  },
  {
   "cell_type": "markdown",
   "metadata": {},
   "source": [
    "No matter the speed of finding a job, veterans with education lower than bachlor's degree earned a median income of 31500."
   ]
  },
  {
   "cell_type": "markdown",
   "metadata": {},
   "source": [
    "#### Education >= bachlor's degree"
   ]
  },
  {
   "cell_type": "code",
   "execution_count": 58,
   "metadata": {},
   "outputs": [
    {
     "data": {
      "text/plain": [
       "1    0.568\n",
       "0    0.432\n",
       "Name: FINDJOB, dtype: float64"
      ]
     },
     "execution_count": 58,
     "metadata": {},
     "output_type": "execute_result"
    }
   ],
   "source": [
    "# veterans with education equal to or higher than bachlor's degree\n",
    "# 56% found a job < 6 month\n",
    "df[df['F_EDUCCAT2'] >= 3]['FINDJOB'].value_counts()/len(df[df['F_EDUCCAT2'] >= 3])"
   ]
  },
  {
   "cell_type": "code",
   "execution_count": 59,
   "metadata": {},
   "outputs": [
    {
     "data": {
      "text/plain": [
       "count       71.000000\n",
       "mean     55528.169014\n",
       "std      18802.524018\n",
       "min      17500.000000\n",
       "25%      44000.000000\n",
       "50%      62500.000000\n",
       "75%      62750.000000\n",
       "max      88000.000000\n",
       "Name: p_income, dtype: float64"
      ]
     },
     "execution_count": 59,
     "metadata": {},
     "output_type": "execute_result"
    }
   ],
   "source": [
    "# veterans who found a job < 6 month earned a median income of 62500\n",
    "df[(df['F_EDUCCAT2'] >= 3)&(df['FINDJOB']==1)]['p_income'].describe()"
   ]
  },
  {
   "cell_type": "code",
   "execution_count": 60,
   "metadata": {
    "scrolled": true
   },
   "outputs": [
    {
     "data": {
      "text/plain": [
       "count       54.000000\n",
       "mean     49583.333333\n",
       "std      22951.291738\n",
       "min       7500.000000\n",
       "25%      31500.000000\n",
       "50%      44000.000000\n",
       "75%      63000.000000\n",
       "max      88000.000000\n",
       "Name: p_income, dtype: float64"
      ]
     },
     "execution_count": 60,
     "metadata": {},
     "output_type": "execute_result"
    }
   ],
   "source": [
    "# veterans who found a job > 6 month earned a median income of 44000\n",
    "df[(df['F_EDUCCAT2'] >= 3)&(df['FINDJOB']==0)]['p_income'].describe()"
   ]
  },
  {
   "cell_type": "markdown",
   "metadata": {},
   "source": [
    "Veterans with education equal to or higher than bachlor's degree should find job faster, otherwise their earnings decreased"
   ]
  },
  {
   "cell_type": "markdown",
   "metadata": {},
   "source": [
    "#### Bachlor's and master's degrees"
   ]
  },
  {
   "cell_type": "code",
   "execution_count": 61,
   "metadata": {},
   "outputs": [
    {
     "data": {
      "text/plain": [
       "1    0.534247\n",
       "0    0.465753\n",
       "Name: FINDJOB, dtype: float64"
      ]
     },
     "execution_count": 61,
     "metadata": {},
     "output_type": "execute_result"
    }
   ],
   "source": [
    "# % of finding jobs within 6 month (veterans who have bachlor's degree)\n",
    "df[df['F_EDUCCAT2'] == 3]['FINDJOB'].value_counts()/len(df[df['F_EDUCCAT2'] == 3])"
   ]
  },
  {
   "cell_type": "code",
   "execution_count": 62,
   "metadata": {},
   "outputs": [
    {
     "data": {
      "text/plain": [
       "1    0.615385\n",
       "0    0.384615\n",
       "Name: FINDJOB, dtype: float64"
      ]
     },
     "execution_count": 62,
     "metadata": {},
     "output_type": "execute_result"
    }
   ],
   "source": [
    "# % of finding jobs within 6 month (veterans who have master degree)\n",
    "df[df['F_EDUCCAT2'] == 4]['FINDJOB'].value_counts()/len(df[df['F_EDUCCAT2'] == 4])"
   ]
  },
  {
   "cell_type": "markdown",
   "metadata": {},
   "source": [
    "veterans with master's degree tend to find jobs faster"
   ]
  },
  {
   "cell_type": "code",
   "execution_count": 63,
   "metadata": {},
   "outputs": [],
   "source": [
    "bachlor = df[(df['F_EDUCCAT2'] == 3)]"
   ]
  },
  {
   "cell_type": "code",
   "execution_count": 64,
   "metadata": {},
   "outputs": [
    {
     "data": {
      "text/plain": [
       "count       39.000000\n",
       "mean     53538.461538\n",
       "std      19783.826667\n",
       "min      17500.000000\n",
       "25%      35000.000000\n",
       "50%      62500.000000\n",
       "75%      62500.000000\n",
       "max      88000.000000\n",
       "Name: p_income, dtype: float64"
      ]
     },
     "execution_count": 64,
     "metadata": {},
     "output_type": "execute_result"
    }
   ],
   "source": [
    "df[(df['F_EDUCCAT2'] == 3)&(df['FINDJOB']==1)]['p_income'].describe()"
   ]
  },
  {
   "cell_type": "code",
   "execution_count": 65,
   "metadata": {},
   "outputs": [
    {
     "data": {
      "text/plain": [
       "count       34.000000\n",
       "mean     44573.529412\n",
       "std      22801.559075\n",
       "min       7500.000000\n",
       "25%      31500.000000\n",
       "50%      44000.000000\n",
       "75%      62500.000000\n",
       "max      88000.000000\n",
       "Name: p_income, dtype: float64"
      ]
     },
     "execution_count": 65,
     "metadata": {},
     "output_type": "execute_result"
    }
   ],
   "source": [
    "df[(df['F_EDUCCAT2'] == 3)&(df['FINDJOB']==0)]['p_income'].describe()"
   ]
  },
  {
   "cell_type": "code",
   "execution_count": 66,
   "metadata": {
    "scrolled": true
   },
   "outputs": [
    {
     "data": {
      "image/png": "[encoded data removed]",
      "text/plain": [
       "<Figure size 640x320 with 1 Axes>"
      ]
     },
     "metadata": {
      "needs_background": "light"
     },
     "output_type": "display_data"
    }
   ],
   "source": [
    "# Median of <6 month is 62500\n",
    "plt.figure(figsize = (8,4),dpi=80)\n",
    "ax = sns.boxplot(data= bachlor,x='FINDJOB',y='p_income',order=[1,0])\n",
    "# label xticks \n",
    "ax.set(xticklabels=['<6 month','>6 month']);"
   ]
  },
  {
   "cell_type": "code",
   "execution_count": 67,
   "metadata": {},
   "outputs": [],
   "source": [
    "master = df[(df['F_EDUCCAT2'] == 4)]"
   ]
  },
  {
   "cell_type": "code",
   "execution_count": 68,
   "metadata": {},
   "outputs": [
    {
     "data": {
      "text/plain": [
       "count       32.00000\n",
       "mean     57953.12500\n",
       "std      17534.92339\n",
       "min      22500.00000\n",
       "25%      44000.00000\n",
       "50%      62500.00000\n",
       "75%      75000.00000\n",
       "max      88000.00000\n",
       "Name: p_income, dtype: float64"
      ]
     },
     "execution_count": 68,
     "metadata": {},
     "output_type": "execute_result"
    }
   ],
   "source": [
    "df[(df['F_EDUCCAT2'] == 4)&(df['FINDJOB']==1)]['p_income'].describe()"
   ]
  },
  {
   "cell_type": "code",
   "execution_count": 69,
   "metadata": {},
   "outputs": [
    {
     "data": {
      "text/plain": [
       "count       20.000000\n",
       "mean     58100.000000\n",
       "std      21097.892137\n",
       "min      12500.000000\n",
       "25%      34125.000000\n",
       "50%      62500.000000\n",
       "75%      75000.000000\n",
       "max      88000.000000\n",
       "Name: p_income, dtype: float64"
      ]
     },
     "execution_count": 69,
     "metadata": {},
     "output_type": "execute_result"
    }
   ],
   "source": [
    "df[(df['F_EDUCCAT2'] == 4)&(df['FINDJOB']==0)]['p_income'].describe()"
   ]
  },
  {
   "cell_type": "code",
   "execution_count": 70,
   "metadata": {},
   "outputs": [
    {
     "data": {
      "image/png": "[encoded data removed]",
      "text/plain": [
       "<Figure size 640x320 with 1 Axes>"
      ]
     },
     "metadata": {
      "needs_background": "light"
     },
     "output_type": "display_data"
    }
   ],
   "source": [
    "plt.figure(figsize = (8,4),dpi=80)\n",
    "ax = sns.boxplot(data= master,x='FINDJOB',y='p_income',order=[1,0])\n",
    "# label xticks \n",
    "ax.set(xticklabels=['<6 month','>6 month']);"
   ]
  },
  {
   "cell_type": "markdown",
   "metadata": {},
   "source": [
    "### MARRACTIV_Not Married vs FINDJOB"
   ]
  },
  {
   "cell_type": "code",
   "execution_count": 71,
   "metadata": {},
   "outputs": [
    {
     "data": {
      "text/plain": [
       "1    0.589744\n",
       "0    0.410256\n",
       "Name: FINDJOB, dtype: float64"
      ]
     },
     "execution_count": 71,
     "metadata": {},
     "output_type": "execute_result"
    }
   ],
   "source": [
    "# Similar trends for whether are married\n",
    "df[df['MARRACTIV_Not Married'] == 0]['FINDJOB'].value_counts()/len(df[df['MARRACTIV_Not Married'] == 0])"
   ]
  },
  {
   "cell_type": "code",
   "execution_count": 72,
   "metadata": {
    "scrolled": true
   },
   "outputs": [
    {
     "data": {
      "text/plain": [
       "1    0.611765\n",
       "0    0.388235\n",
       "Name: FINDJOB, dtype: float64"
      ]
     },
     "execution_count": 72,
     "metadata": {},
     "output_type": "execute_result"
    }
   ],
   "source": [
    "df[df['MARRACTIV_Not Married'] == 1]['FINDJOB'].value_counts()/len(df[df['MARRACTIV_Not Married'] == 1])"
   ]
  },
  {
   "cell_type": "markdown",
   "metadata": {},
   "source": [
    "### PARACTIV_Yes vs FINDJOB"
   ]
  },
  {
   "cell_type": "code",
   "execution_count": 73,
   "metadata": {},
   "outputs": [
    {
     "data": {
      "text/plain": [
       "1    0.574627\n",
       "0    0.425373\n",
       "Name: FINDJOB, dtype: float64"
      ]
     },
     "execution_count": 73,
     "metadata": {},
     "output_type": "execute_result"
    }
   ],
   "source": [
    "# Similar trend for whether are parents\n",
    "df[df['PARACTIV_Yes'] == 0]['FINDJOB'].value_counts()/len(df[df['PARACTIV_Yes'] == 0])"
   ]
  },
  {
   "cell_type": "code",
   "execution_count": 74,
   "metadata": {
    "scrolled": true
   },
   "outputs": [
    {
     "data": {
      "text/plain": [
       "1    0.626168\n",
       "0    0.373832\n",
       "Name: FINDJOB, dtype: float64"
      ]
     },
     "execution_count": 74,
     "metadata": {},
     "output_type": "execute_result"
    }
   ],
   "source": [
    "df[df['PARACTIV_Yes'] == 1]['FINDJOB'].value_counts()/len(df[df['PARACTIV_Yes'] == 1])"
   ]
  },
  {
   "cell_type": "markdown",
   "metadata": {},
   "source": [
    "### COMBAT_Yes vs FINDJOB"
   ]
  },
  {
   "cell_type": "code",
   "execution_count": 75,
   "metadata": {},
   "outputs": [
    {
     "data": {
      "text/plain": [
       "1    0.602837\n",
       "0    0.397163\n",
       "Name: FINDJOB, dtype: float64"
      ]
     },
     "execution_count": 75,
     "metadata": {},
     "output_type": "execute_result"
    }
   ],
   "source": [
    "# Similar trend for whether have combat\n",
    "df[df['COMBAT_Yes'] == 1]['FINDJOB'].value_counts()/len(df[df['COMBAT_Yes'] == 1])"
   ]
  },
  {
   "cell_type": "code",
   "execution_count": 76,
   "metadata": {},
   "outputs": [
    {
     "data": {
      "text/plain": [
       "1    0.59\n",
       "0    0.41\n",
       "Name: FINDJOB, dtype: float64"
      ]
     },
     "execution_count": 76,
     "metadata": {},
     "output_type": "execute_result"
    }
   ],
   "source": [
    "df[df['COMBAT_Yes'] == 0]['FINDJOB'].value_counts()/len(df[df['COMBAT_Yes'] == 0])"
   ]
  },
  {
   "cell_type": "markdown",
   "metadata": {},
   "source": [
    "### VABENEFITS_Yes"
   ]
  },
  {
   "cell_type": "code",
   "execution_count": 77,
   "metadata": {},
   "outputs": [
    {
     "data": {
      "text/plain": [
       "1    0.666667\n",
       "0    0.333333\n",
       "Name: FINDJOB, dtype: float64"
      ]
     },
     "execution_count": 77,
     "metadata": {},
     "output_type": "execute_result"
    }
   ],
   "source": [
    "# Veterans who didn't receive VA benefits found job faster \n",
    "df[df['VABENEFITS_Yes'] == 0]['FINDJOB'].value_counts()/len(df[df['VABENEFITS_Yes'] == 0])"
   ]
  },
  {
   "cell_type": "code",
   "execution_count": 78,
   "metadata": {
    "scrolled": true
   },
   "outputs": [
    {
     "data": {
      "text/plain": [
       "1    0.585366\n",
       "0    0.414634\n",
       "Name: FINDJOB, dtype: float64"
      ]
     },
     "execution_count": 78,
     "metadata": {},
     "output_type": "execute_result"
    }
   ],
   "source": [
    "df[df['VABENEFITS_Yes'] == 1]['FINDJOB'].value_counts()/len(df[df['VABENEFITS_Yes'] == 1])"
   ]
  },
  {
   "cell_type": "code",
   "execution_count": 79,
   "metadata": {},
   "outputs": [
    {
     "data": {
      "text/plain": [
       "count       24.000000\n",
       "mean     42583.333333\n",
       "std      15505.024898\n",
       "min      12500.000000\n",
       "25%      31500.000000\n",
       "50%      44000.000000\n",
       "75%      62500.000000\n",
       "max      63000.000000\n",
       "Name: p_income, dtype: float64"
      ]
     },
     "execution_count": 79,
     "metadata": {},
     "output_type": "execute_result"
    }
   ],
   "source": [
    "# Doesn't have much difference; only max is different : 63,000 vs 88,000\n",
    "df[(df['VABENEFITS_Yes'] ==0)&(df['FINDJOB']==1)]['p_income'].describe()"
   ]
  },
  {
   "cell_type": "code",
   "execution_count": 80,
   "metadata": {},
   "outputs": [
    {
     "data": {
      "text/plain": [
       "count      120.000000\n",
       "mean     47941.666667\n",
       "std      22235.672692\n",
       "min       7500.000000\n",
       "25%      31500.000000\n",
       "50%      44000.000000\n",
       "75%      62500.000000\n",
       "max      88000.000000\n",
       "Name: p_income, dtype: float64"
      ]
     },
     "execution_count": 80,
     "metadata": {},
     "output_type": "execute_result"
    }
   ],
   "source": [
    "df[(df['VABENEFITS_Yes'] ==1)&(df['FINDJOB']==1)]['p_income'].describe()"
   ]
  },
  {
   "cell_type": "markdown",
   "metadata": {},
   "source": [
    "### CIVADJPROBa_Yes vs FINDJOB"
   ]
  },
  {
   "cell_type": "code",
   "execution_count": 81,
   "metadata": {},
   "outputs": [
    {
     "data": {
      "text/plain": [
       "0    0.631944\n",
       "1    0.368056\n",
       "Name: CIVADJPROBa_Yes, dtype: float64"
      ]
     },
     "execution_count": 81,
     "metadata": {},
     "output_type": "execute_result"
    }
   ],
   "source": [
    "# Most veterans who find job within 6 months don't have trouble paying bills\n",
    "df[df['FINDJOB']==1]['CIVADJPROBa_Yes'].value_counts()/len(df[df['FINDJOB']==1])"
   ]
  },
  {
   "cell_type": "code",
   "execution_count": 82,
   "metadata": {},
   "outputs": [
    {
     "data": {
      "text/plain": [
       "1    0.536082\n",
       "0    0.463918\n",
       "Name: CIVADJPROBa_Yes, dtype: float64"
      ]
     },
     "execution_count": 82,
     "metadata": {},
     "output_type": "execute_result"
    }
   ],
   "source": [
    "# Most veterans who don't find job within 6 months have trouble paying bills\n",
    "# Veterans who don't find job within 6 months have more trouble paying bills\n",
    "df[df['FINDJOB']==0]['CIVADJPROBa_Yes'].value_counts()/len(df[df['FINDJOB']==0])"
   ]
  },
  {
   "cell_type": "markdown",
   "metadata": {},
   "source": [
    "### CIVADJPROBb_Yes vs FINDJOB"
   ]
  },
  {
   "cell_type": "code",
   "execution_count": 83,
   "metadata": {},
   "outputs": [
    {
     "data": {
      "text/plain": [
       "0    0.881944\n",
       "1    0.118056\n",
       "Name: CIVADJPROBb_Yes, dtype: float64"
      ]
     },
     "execution_count": 83,
     "metadata": {},
     "output_type": "execute_result"
    }
   ],
   "source": [
    "# Similar trend for whether receive food benefits\n",
    "df[df['FINDJOB']==1]['CIVADJPROBb_Yes'].value_counts()/len(df[df['FINDJOB']==1])"
   ]
  },
  {
   "cell_type": "code",
   "execution_count": 84,
   "metadata": {
    "scrolled": true
   },
   "outputs": [
    {
     "data": {
      "text/plain": [
       "0    0.762887\n",
       "1    0.237113\n",
       "Name: CIVADJPROBb_Yes, dtype: float64"
      ]
     },
     "execution_count": 84,
     "metadata": {},
     "output_type": "execute_result"
    }
   ],
   "source": [
    "# However, 10% more veterans receive food benefits in this group\n",
    "df[df['FINDJOB']==0]['CIVADJPROBb_Yes'].value_counts()/len(df[df['FINDJOB']==0])"
   ]
  },
  {
   "cell_type": "markdown",
   "metadata": {},
   "source": [
    "### LOOKJOB_Yes(right away) vs FINDJOB"
   ]
  },
  {
   "cell_type": "code",
   "execution_count": 85,
   "metadata": {},
   "outputs": [
    {
     "data": {
      "text/plain": [
       "1    0.647059\n",
       "0    0.352941\n",
       "Name: FINDJOB, dtype: float64"
      ]
     },
     "execution_count": 85,
     "metadata": {},
     "output_type": "execute_result"
    }
   ],
   "source": [
    "# Veterans who look jobs right away found job faster\n",
    "df[df['LOOKJOB_Yes(right away)'] == 1]['FINDJOB'].value_counts()/len(df[df['LOOKJOB_Yes(right away)'] == 1])"
   ]
  },
  {
   "cell_type": "code",
   "execution_count": 86,
   "metadata": {},
   "outputs": [
    {
     "data": {
      "text/plain": [
       "1    0.511364\n",
       "0    0.488636\n",
       "Name: FINDJOB, dtype: float64"
      ]
     },
     "execution_count": 86,
     "metadata": {},
     "output_type": "execute_result"
    }
   ],
   "source": [
    "df[df['LOOKJOB_Yes(right away)'] == 0]['FINDJOB'].value_counts()/len(df[df['LOOKJOB_Yes(right away)'] == 0])"
   ]
  },
  {
   "cell_type": "markdown",
   "metadata": {},
   "source": [
    "### TRAUMA_Yes"
   ]
  },
  {
   "cell_type": "code",
   "execution_count": 87,
   "metadata": {},
   "outputs": [
    {
     "data": {
      "text/plain": [
       "1    0.55\n",
       "0    0.45\n",
       "Name: FINDJOB, dtype: float64"
      ]
     },
     "execution_count": 87,
     "metadata": {},
     "output_type": "execute_result"
    }
   ],
   "source": [
    "# Veterans who had no trauma found jobs faster\n",
    "df[df['TRAUMA1_Yes'] == 1]['FINDJOB'].value_counts()/len(df[df['TRAUMA1_Yes'] == 1])"
   ]
  },
  {
   "cell_type": "code",
   "execution_count": 88,
   "metadata": {},
   "outputs": [
    {
     "data": {
      "text/plain": [
       "1    0.644628\n",
       "0    0.355372\n",
       "Name: FINDJOB, dtype: float64"
      ]
     },
     "execution_count": 88,
     "metadata": {},
     "output_type": "execute_result"
    }
   ],
   "source": [
    "df[df['TRAUMA1_Yes'] == 0]['FINDJOB'].value_counts()/len(df[df['TRAUMA1_Yes'] == 0])"
   ]
  },
  {
   "cell_type": "markdown",
   "metadata": {},
   "source": [
    "### F_SEX_Male"
   ]
  },
  {
   "cell_type": "code",
   "execution_count": 89,
   "metadata": {},
   "outputs": [
    {
     "data": {
      "text/plain": [
       "1    0.788382\n",
       "0    0.211618\n",
       "Name: F_SEX_Male, dtype: float64"
      ]
     },
     "execution_count": 89,
     "metadata": {},
     "output_type": "execute_result"
    }
   ],
   "source": [
    "# Male tend to find job faster\n",
    "df['F_SEX_Male'].value_counts()/len(df)"
   ]
  },
  {
   "cell_type": "code",
   "execution_count": 90,
   "metadata": {},
   "outputs": [
    {
     "data": {
      "text/plain": [
       "1    0.615789\n",
       "0    0.384211\n",
       "Name: FINDJOB, dtype: float64"
      ]
     },
     "execution_count": 90,
     "metadata": {},
     "output_type": "execute_result"
    }
   ],
   "source": [
    "df[df['F_SEX_Male'] == 1]['FINDJOB'].value_counts()/len(df[df['F_SEX_Male'] == 1])"
   ]
  },
  {
   "cell_type": "code",
   "execution_count": 91,
   "metadata": {},
   "outputs": [
    {
     "data": {
      "text/plain": [
       "1    0.529412\n",
       "0    0.470588\n",
       "Name: FINDJOB, dtype: float64"
      ]
     },
     "execution_count": 91,
     "metadata": {},
     "output_type": "execute_result"
    }
   ],
   "source": [
    "df[df['F_SEX_Male'] == 0]['FINDJOB'].value_counts()/len(df[df['F_SEX_Male'] == 0])"
   ]
  },
  {
   "cell_type": "markdown",
   "metadata": {},
   "source": [
    "### F_HISP_Yes"
   ]
  },
  {
   "cell_type": "code",
   "execution_count": 92,
   "metadata": {},
   "outputs": [
    {
     "data": {
      "text/plain": [
       "0    0.817427\n",
       "1    0.182573\n",
       "Name: F_HISP_Yes, dtype: float64"
      ]
     },
     "execution_count": 92,
     "metadata": {},
     "output_type": "execute_result"
    }
   ],
   "source": [
    "# Hip tend to find job faster\n",
    "df['F_HISP_Yes'].value_counts()/len(df)"
   ]
  },
  {
   "cell_type": "code",
   "execution_count": 93,
   "metadata": {},
   "outputs": [
    {
     "data": {
      "text/plain": [
       "1    0.704545\n",
       "0    0.295455\n",
       "Name: FINDJOB, dtype: float64"
      ]
     },
     "execution_count": 93,
     "metadata": {},
     "output_type": "execute_result"
    }
   ],
   "source": [
    "df[df['F_HISP_Yes'] == 1]['FINDJOB'].value_counts()/len(df[df['F_HISP_Yes'] == 1])"
   ]
  },
  {
   "cell_type": "code",
   "execution_count": 94,
   "metadata": {},
   "outputs": [
    {
     "data": {
      "text/plain": [
       "1    0.573604\n",
       "0    0.426396\n",
       "Name: FINDJOB, dtype: float64"
      ]
     },
     "execution_count": 94,
     "metadata": {},
     "output_type": "execute_result"
    }
   ],
   "source": [
    "df[df['F_HISP_Yes'] == 0]['FINDJOB'].value_counts()/len(df[df['F_HISP_Yes'] == 0])"
   ]
  }
 ],
 "metadata": {
  "kernelspec": {
   "display_name": "Python 3 (ipykernel)",
   "language": "python",
   "name": "python3"
  },
  "language_info": {
   "codemirror_mode": {
    "name": "ipython",
    "version": 3
   },
   "file_extension": ".py",
   "mimetype": "text/x-python",
   "name": "python",
   "nbconvert_exporter": "python",
   "pygments_lexer": "ipython3",
   "version": "3.9.18"
  }
 },
 "nbformat": 4,
 "nbformat_minor": 4
}
