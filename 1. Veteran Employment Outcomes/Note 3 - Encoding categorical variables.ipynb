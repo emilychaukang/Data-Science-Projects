{
 "cells": [
  {
   "cell_type": "markdown",
   "metadata": {},
   "source": [
    "# Step 4 : Pre-processing for ML : Stage 1"
   ]
  },
  {
   "cell_type": "markdown",
   "metadata": {},
   "source": [
    "## 2. Data Transformation : Encoding Categorical Variables\n",
    "In this section, I used two methods to re-code categorical variables : \n",
    "- Ordinal Encoding\n",
    "- Dummy Encoding\n",
    "\n",
    "After encoding, I combined the data together\n",
    "\n",
    "Install:\n",
    "pip install category_encoders"
   ]
  },
  {
   "cell_type": "markdown",
   "metadata": {},
   "source": [
    "### Import Data"
   ]
  },
  {
   "cell_type": "code",
   "execution_count": 1,
   "metadata": {},
   "outputs": [],
   "source": [
    "# Imports\n",
    "import numpy as np\n",
    "import pandas as pd\n",
    "import matplotlib.pyplot as plt\n",
    "import seaborn as sns"
   ]
  },
  {
   "cell_type": "code",
   "execution_count": 2,
   "metadata": {},
   "outputs": [],
   "source": [
    "# Read the csv file\n",
    "fjdf = pd.read_csv(\"Findjob_no_outliers.csv\")"
   ]
  },
  {
   "cell_type": "code",
   "execution_count": 3,
   "metadata": {},
   "outputs": [
    {
     "data": {
      "text/plain": [
       "Index(['YEARSERV', 'RANK', 'MARRACTIV', 'PARACTIV', 'COMBAT', 'INJURED',\n",
       "       'MILTOCIV', 'CIVADJ', 'VABENEFITS', 'CIVADJPROBa', 'CIVADJPROBb',\n",
       "       'CIVADJISSc', 'CIVADJISSe', 'LOOKJOB', 'SCHOOL', 'MILJOBSKILLS',\n",
       "       'FINDJOB', 'MILHELPJOB', 'TRAUMA1', 'F_AGECAT', 'F_SEX', 'F_EDUCCAT2',\n",
       "       'F_HISP', 'F_RACETHN', 'F_MARITAL', 'Branch', 'p_income'],\n",
       "      dtype='object')"
      ]
     },
     "execution_count": 3,
     "metadata": {},
     "output_type": "execute_result"
    }
   ],
   "source": [
    "fjdf.columns"
   ]
  },
  {
   "cell_type": "code",
   "execution_count": 4,
   "metadata": {},
   "outputs": [
    {
     "data": {
      "text/plain": [
       "27"
      ]
     },
     "execution_count": 4,
     "metadata": {},
     "output_type": "execute_result"
    }
   ],
   "source": [
    "len(fjdf.columns)"
   ]
  },
  {
   "cell_type": "code",
   "execution_count": 5,
   "metadata": {},
   "outputs": [
    {
     "data": {
      "text/plain": [
       "241"
      ]
     },
     "execution_count": 5,
     "metadata": {},
     "output_type": "execute_result"
    }
   ],
   "source": [
    "len(fjdf)"
   ]
  },
  {
   "cell_type": "code",
   "execution_count": 6,
   "metadata": {},
   "outputs": [
    {
     "data": {
      "text/plain": [
       "(241, 27)"
      ]
     },
     "execution_count": 6,
     "metadata": {},
     "output_type": "execute_result"
    }
   ],
   "source": [
    "fjdf.shape"
   ]
  },
  {
   "cell_type": "markdown",
   "metadata": {},
   "source": [
    "### Check each variables"
   ]
  },
  {
   "cell_type": "code",
   "execution_count": 7,
   "metadata": {},
   "outputs": [
    {
     "data": {
      "text/plain": [
       "array(['>20 years', '5-9 years', '3-4 years', '< 2 years', '10-19 years'],\n",
       "      dtype=object)"
      ]
     },
     "execution_count": 7,
     "metadata": {},
     "output_type": "execute_result"
    }
   ],
   "source": [
    "# Ordinal\n",
    "fjdf[\"YEARSERV\"].unique()"
   ]
  },
  {
   "cell_type": "code",
   "execution_count": 8,
   "metadata": {},
   "outputs": [
    {
     "data": {
      "text/plain": [
       "array(['E1-E6', 'WO1-WO5', 'E7-E9', 'O1-O10'], dtype=object)"
      ]
     },
     "execution_count": 8,
     "metadata": {},
     "output_type": "execute_result"
    }
   ],
   "source": [
    "# Ordinal\n",
    "fjdf[\"RANK\"].unique()"
   ]
  },
  {
   "cell_type": "code",
   "execution_count": 9,
   "metadata": {},
   "outputs": [
    {
     "data": {
      "text/plain": [
       "array(['Married', 'Not Married'], dtype=object)"
      ]
     },
     "execution_count": 9,
     "metadata": {},
     "output_type": "execute_result"
    }
   ],
   "source": [
    "# Binary\n",
    "fjdf['MARRACTIV'].unique()"
   ]
  },
  {
   "cell_type": "code",
   "execution_count": 10,
   "metadata": {},
   "outputs": [
    {
     "data": {
      "text/plain": [
       "array(['Yes', 'No'], dtype=object)"
      ]
     },
     "execution_count": 10,
     "metadata": {},
     "output_type": "execute_result"
    }
   ],
   "source": [
    "# Binary\n",
    "fjdf['PARACTIV'].unique()"
   ]
  },
  {
   "cell_type": "code",
   "execution_count": 11,
   "metadata": {},
   "outputs": [
    {
     "data": {
      "text/plain": [
       "array(['Yes', 'No'], dtype=object)"
      ]
     },
     "execution_count": 11,
     "metadata": {},
     "output_type": "execute_result"
    }
   ],
   "source": [
    "# Binary\n",
    "fjdf['COMBAT'].unique()"
   ]
  },
  {
   "cell_type": "code",
   "execution_count": 12,
   "metadata": {},
   "outputs": [
    {
     "data": {
      "text/plain": [
       "array(['Not injured', 'Injured out of combat', 'Injured in combat'],\n",
       "      dtype=object)"
      ]
     },
     "execution_count": 12,
     "metadata": {},
     "output_type": "execute_result"
    }
   ],
   "source": [
    "fjdf['INJURED'].unique()"
   ]
  },
  {
   "cell_type": "code",
   "execution_count": 13,
   "metadata": {},
   "outputs": [
    {
     "data": {
      "text/plain": [
       "array(['Somewhat well', 'Not well at all', 'Not too well', 'Very well'],\n",
       "      dtype=object)"
      ]
     },
     "execution_count": 13,
     "metadata": {},
     "output_type": "execute_result"
    }
   ],
   "source": [
    "# Ordinal\n",
    "fjdf['MILTOCIV'].unique()"
   ]
  },
  {
   "cell_type": "code",
   "execution_count": 14,
   "metadata": {},
   "outputs": [
    {
     "data": {
      "text/plain": [
       "array(['Very Easy', 'Somewhat Easy', 'Somewhat difficult',\n",
       "       'Very difficult'], dtype=object)"
      ]
     },
     "execution_count": 14,
     "metadata": {},
     "output_type": "execute_result"
    }
   ],
   "source": [
    "# Ordinal\n",
    "fjdf['CIVADJ'].unique()"
   ]
  },
  {
   "cell_type": "code",
   "execution_count": 15,
   "metadata": {},
   "outputs": [
    {
     "data": {
      "text/plain": [
       "array(['Yes', 'No'], dtype=object)"
      ]
     },
     "execution_count": 15,
     "metadata": {},
     "output_type": "execute_result"
    }
   ],
   "source": [
    "# Binary\n",
    "fjdf['VABENEFITS'].unique()"
   ]
  },
  {
   "cell_type": "code",
   "execution_count": 16,
   "metadata": {},
   "outputs": [
    {
     "data": {
      "text/plain": [
       "array(['Yes', 'No'], dtype=object)"
      ]
     },
     "execution_count": 16,
     "metadata": {},
     "output_type": "execute_result"
    }
   ],
   "source": [
    "# Binary\n",
    "fjdf['CIVADJPROBa'].unique()"
   ]
  },
  {
   "cell_type": "code",
   "execution_count": 17,
   "metadata": {},
   "outputs": [
    {
     "data": {
      "text/plain": [
       "array(['No', 'Yes'], dtype=object)"
      ]
     },
     "execution_count": 17,
     "metadata": {},
     "output_type": "execute_result"
    }
   ],
   "source": [
    "# Binary\n",
    "fjdf['CIVADJPROBb'].unique()"
   ]
  },
  {
   "cell_type": "code",
   "execution_count": 18,
   "metadata": {},
   "outputs": [
    {
     "data": {
      "text/plain": [
       "array(['Frequently', 'Sometimes', 'Seldom', 'Never'], dtype=object)"
      ]
     },
     "execution_count": 18,
     "metadata": {},
     "output_type": "execute_result"
    }
   ],
   "source": [
    "# Ordinal\n",
    "fjdf['CIVADJISSc'].unique()"
   ]
  },
  {
   "cell_type": "code",
   "execution_count": 19,
   "metadata": {},
   "outputs": [
    {
     "data": {
      "text/plain": [
       "array(['Never', 'Seldom', 'Sometimes', 'Frequently'], dtype=object)"
      ]
     },
     "execution_count": 19,
     "metadata": {},
     "output_type": "execute_result"
    }
   ],
   "source": [
    "# Ordinal\n",
    "fjdf['CIVADJISSe'].unique()"
   ]
  },
  {
   "cell_type": "code",
   "execution_count": 20,
   "metadata": {},
   "outputs": [
    {
     "data": {
      "text/plain": [
       "array(['Yes(right away)', 'Yes(Not right away)'], dtype=object)"
      ]
     },
     "execution_count": 20,
     "metadata": {},
     "output_type": "execute_result"
    }
   ],
   "source": [
    "# Binary\n",
    "fjdf['LOOKJOB'].unique()"
   ]
  },
  {
   "cell_type": "code",
   "execution_count": 21,
   "metadata": {},
   "outputs": [
    {
     "data": {
      "text/plain": [
       "array(['No', 'Yes'], dtype=object)"
      ]
     },
     "execution_count": 21,
     "metadata": {},
     "output_type": "execute_result"
    }
   ],
   "source": [
    "# Binary\n",
    "fjdf['SCHOOL'].unique()"
   ]
  },
  {
   "cell_type": "code",
   "execution_count": 22,
   "metadata": {},
   "outputs": [
    {
     "data": {
      "text/plain": [
       "array(['fairly useful', 'Very useful', 'not too useful',\n",
       "       'not useful at all'], dtype=object)"
      ]
     },
     "execution_count": 22,
     "metadata": {},
     "output_type": "execute_result"
    }
   ],
   "source": [
    "# Ordinal\n",
    "fjdf['MILJOBSKILLS'].unique()"
   ]
  },
  {
   "cell_type": "code",
   "execution_count": 23,
   "metadata": {},
   "outputs": [
    {
     "data": {
      "text/plain": [
       "array(['<6 months', '>6 months'], dtype=object)"
      ]
     },
     "execution_count": 23,
     "metadata": {},
     "output_type": "execute_result"
    }
   ],
   "source": [
    "# Binary ordinal\n",
    "fjdf['FINDJOB'].unique()"
   ]
  },
  {
   "cell_type": "code",
   "execution_count": 24,
   "metadata": {},
   "outputs": [
    {
     "data": {
      "text/plain": [
       "array(['Helped a lot', 'Helped a bit', 'hurt a bit', 'Neither',\n",
       "       'hurt a lot'], dtype=object)"
      ]
     },
     "execution_count": 24,
     "metadata": {},
     "output_type": "execute_result"
    }
   ],
   "source": [
    "# Ordinal\n",
    "fjdf['MILHELPJOB'].unique()"
   ]
  },
  {
   "cell_type": "code",
   "execution_count": 25,
   "metadata": {},
   "outputs": [
    {
     "data": {
      "text/plain": [
       "array(['No', 'Yes'], dtype=object)"
      ]
     },
     "execution_count": 25,
     "metadata": {},
     "output_type": "execute_result"
    }
   ],
   "source": [
    "# Binary\n",
    "fjdf['TRAUMA1'].unique()"
   ]
  },
  {
   "cell_type": "code",
   "execution_count": 26,
   "metadata": {},
   "outputs": [
    {
     "data": {
      "text/plain": [
       "array(['65+', '50-64', '30-49', '18-29'], dtype=object)"
      ]
     },
     "execution_count": 26,
     "metadata": {},
     "output_type": "execute_result"
    }
   ],
   "source": [
    "# Ordinal\n",
    "fjdf['F_AGECAT'].unique()"
   ]
  },
  {
   "cell_type": "code",
   "execution_count": 27,
   "metadata": {},
   "outputs": [
    {
     "data": {
      "text/plain": [
       "array(['Male', 'Female'], dtype=object)"
      ]
     },
     "execution_count": 27,
     "metadata": {},
     "output_type": "execute_result"
    }
   ],
   "source": [
    "# Binary\n",
    "fjdf['F_SEX'].unique()"
   ]
  },
  {
   "cell_type": "code",
   "execution_count": 28,
   "metadata": {},
   "outputs": [
    {
     "data": {
      "text/plain": [
       "array(['High school degree', 'MS/PHD degree', 'Associate degree',\n",
       "       'Some college(no degree)', 'Bachelors degree'], dtype=object)"
      ]
     },
     "execution_count": 28,
     "metadata": {},
     "output_type": "execute_result"
    }
   ],
   "source": [
    "# Ordinal\n",
    "fjdf['F_EDUCCAT2'].unique()"
   ]
  },
  {
   "cell_type": "code",
   "execution_count": 29,
   "metadata": {},
   "outputs": [
    {
     "data": {
      "text/plain": [
       "array(['No', 'Yes'], dtype=object)"
      ]
     },
     "execution_count": 29,
     "metadata": {},
     "output_type": "execute_result"
    }
   ],
   "source": [
    "# Binary\n",
    "fjdf['F_HISP'].unique()"
   ]
  },
  {
   "cell_type": "code",
   "execution_count": 30,
   "metadata": {},
   "outputs": [
    {
     "data": {
      "text/plain": [
       "array(['White', 'Black', 'Asian', 'Mixed race'], dtype=object)"
      ]
     },
     "execution_count": 30,
     "metadata": {},
     "output_type": "execute_result"
    }
   ],
   "source": [
    "fjdf['F_RACETHN'].unique()"
   ]
  },
  {
   "cell_type": "code",
   "execution_count": 31,
   "metadata": {},
   "outputs": [
    {
     "data": {
      "text/plain": [
       "array(['Married/Live with a partner', 'Divorced/Seperated/Widowed',\n",
       "       'Never Married'], dtype=object)"
      ]
     },
     "execution_count": 31,
     "metadata": {},
     "output_type": "execute_result"
    }
   ],
   "source": [
    "fjdf['F_MARITAL'].unique()"
   ]
  },
  {
   "cell_type": "code",
   "execution_count": 32,
   "metadata": {},
   "outputs": [
    {
     "data": {
      "text/plain": [
       "array(['Muti-Branch', 'Army', 'Navy', 'Air_Force', 'Marines',\n",
       "       'Coast_Guard'], dtype=object)"
      ]
     },
     "execution_count": 32,
     "metadata": {},
     "output_type": "execute_result"
    }
   ],
   "source": [
    "fjdf['Branch'].unique()"
   ]
  },
  {
   "cell_type": "markdown",
   "metadata": {},
   "source": [
    "### Encoding Categorical Data - Ordinal Encoding\n",
    "\n",
    "1. Steps: \n",
    "- Import category_encoders, OrdinalEncoder, and LabelEncoder\n",
    "- Create a list of all columns belong to this category\n",
    "- Make a “list” that specify the hierarchy of the column, then pass in all the lists into “categories” in OrdinalEncoder \n",
    "- Fit_transform the columns\n",
    "- Change float to integers for the result\n",
    "\n",
    "2. 11 columns in this category are :\n",
    "\n",
    "'FINDJOB','YEARSERV','RANK','MILTOCIV','CIVADJ','CIVADJISSc','CIVADJISSe','MILJOBSKILLS','MILHELPJOB',\n",
    "'F_AGECAT','F_EDUCCAT2'\n",
    "\n",
    "3. Code Example :\n",
    "\n",
    "Create 2 lists from 2 variables :\n",
    "- Varaible SA : satisfaction = [Low,medium,High]\n",
    "- Variable SI : size = [S,M,L]\n",
    "\n",
    "encoder = OrdinalEncoder(categories = [satisfaction,size])\n",
    "result = encoder.fit_transform(df[['SA','SI']])\n",
    "result = result.astype(int)"
   ]
  },
  {
   "cell_type": "code",
   "execution_count": 33,
   "metadata": {},
   "outputs": [],
   "source": [
    "# Import\n",
    "from sklearn import preprocessing\n",
    "from sklearn.preprocessing import OrdinalEncoder\n",
    "from sklearn.preprocessing import LabelEncoder"
   ]
  },
  {
   "cell_type": "code",
   "execution_count": 34,
   "metadata": {},
   "outputs": [],
   "source": [
    "# Create a list of all columns belong to ordinal encoding category\n",
    "or_index = ['FINDJOB','YEARSERV','RANK','MILTOCIV','CIVADJ','CIVADJISSc','CIVADJISSe'\n",
    "            ,'MILJOBSKILLS','MILHELPJOB','F_AGECAT','F_EDUCCAT2']"
   ]
  },
  {
   "cell_type": "markdown",
   "metadata": {},
   "source": [
    "#### FINDJOB : How long it takes you to find a job after you left (Label Y)\n",
    "Label : '<6 months','>6 months'"
   ]
  },
  {
   "cell_type": "code",
   "execution_count": 35,
   "metadata": {},
   "outputs": [
    {
     "data": {
      "text/plain": [
       "array(['<6 months', '>6 months'], dtype=object)"
      ]
     },
     "execution_count": 35,
     "metadata": {},
     "output_type": "execute_result"
    }
   ],
   "source": [
    "fjdf['FINDJOB'].unique()"
   ]
  },
  {
   "cell_type": "code",
   "execution_count": 36,
   "metadata": {},
   "outputs": [],
   "source": [
    "# Create a list of labels in sequence\n",
    "findjob = ['>6 months','<6 months']"
   ]
  },
  {
   "cell_type": "markdown",
   "metadata": {},
   "source": [
    "#### YEARSERV : How many years serverd\n",
    "Label: '< 2 years','3-4 years','5-9 years','10-19 years','>20 years'"
   ]
  },
  {
   "cell_type": "code",
   "execution_count": 37,
   "metadata": {},
   "outputs": [
    {
     "data": {
      "text/plain": [
       "array(['>20 years', '5-9 years', '3-4 years', '< 2 years', '10-19 years'],\n",
       "      dtype=object)"
      ]
     },
     "execution_count": 37,
     "metadata": {},
     "output_type": "execute_result"
    }
   ],
   "source": [
    "fjdf['YEARSERV'].unique()"
   ]
  },
  {
   "cell_type": "code",
   "execution_count": 38,
   "metadata": {},
   "outputs": [],
   "source": [
    "# Create a list of labels in sequence\n",
    "year = ['< 2 years','3-4 years','5-9 years','10-19 years','>20 years']"
   ]
  },
  {
   "cell_type": "markdown",
   "metadata": {},
   "source": [
    "#### RANK : Rank in military\n",
    "Label: 'E1-E6','E7-E9','WO1-WO5','O1-O10'"
   ]
  },
  {
   "cell_type": "code",
   "execution_count": 39,
   "metadata": {},
   "outputs": [
    {
     "data": {
      "text/plain": [
       "array(['E1-E6', 'WO1-WO5', 'E7-E9', 'O1-O10'], dtype=object)"
      ]
     },
     "execution_count": 39,
     "metadata": {},
     "output_type": "execute_result"
    }
   ],
   "source": [
    "fjdf['RANK'].unique()"
   ]
  },
  {
   "cell_type": "code",
   "execution_count": 40,
   "metadata": {},
   "outputs": [],
   "source": [
    "# Create a list of labels in sequence\n",
    "rank = ['E1-E6','E7-E9','WO1-WO5','O1-O10']"
   ]
  },
  {
   "cell_type": "markdown",
   "metadata": {},
   "source": [
    "#### MILTOCIV : How well did the military prepare you for the transition to CIVILIAN life (Higher the better)\n",
    "Label :'Not well at all','Not too well','Somewhat well','Very well'"
   ]
  },
  {
   "cell_type": "code",
   "execution_count": 41,
   "metadata": {},
   "outputs": [
    {
     "data": {
      "text/plain": [
       "array(['Somewhat well', 'Not well at all', 'Not too well', 'Very well'],\n",
       "      dtype=object)"
      ]
     },
     "execution_count": 41,
     "metadata": {},
     "output_type": "execute_result"
    }
   ],
   "source": [
    "fjdf['MILTOCIV'].unique()"
   ]
  },
  {
   "cell_type": "code",
   "execution_count": 42,
   "metadata": {},
   "outputs": [],
   "source": [
    "# Create a list of labels in sequence\n",
    "miltociv = ['Not well at all','Not too well','Somewhat well','Very well']"
   ]
  },
  {
   "cell_type": "markdown",
   "metadata": {},
   "source": [
    "#### CIVADJ : How easy to adjust to civilian life\n",
    "Label: 'Very difficult','Somewhat difficult','Somewhat Easy','Very Easy'"
   ]
  },
  {
   "cell_type": "code",
   "execution_count": 43,
   "metadata": {},
   "outputs": [
    {
     "data": {
      "text/plain": [
       "array(['Very Easy', 'Somewhat Easy', 'Somewhat difficult',\n",
       "       'Very difficult'], dtype=object)"
      ]
     },
     "execution_count": 43,
     "metadata": {},
     "output_type": "execute_result"
    }
   ],
   "source": [
    "fjdf['CIVADJ'].unique()"
   ]
  },
  {
   "cell_type": "code",
   "execution_count": 44,
   "metadata": {},
   "outputs": [],
   "source": [
    "# Create a list of labels in sequence\n",
    "civadj = ['Very difficult','Somewhat difficult','Somewhat Easy','Very Easy']"
   ]
  },
  {
   "cell_type": "markdown",
   "metadata": {},
   "source": [
    "#### CIVADJISSc : Few years after you left, how optimistic you feel about your future (Higher the better)\n",
    "Label : 'Never','Seldom','Sometimes','Frequently'"
   ]
  },
  {
   "cell_type": "code",
   "execution_count": 45,
   "metadata": {},
   "outputs": [
    {
     "data": {
      "text/plain": [
       "array(['Frequently', 'Sometimes', 'Seldom', 'Never'], dtype=object)"
      ]
     },
     "execution_count": 45,
     "metadata": {},
     "output_type": "execute_result"
    }
   ],
   "source": [
    "fjdf['CIVADJISSc'].unique()"
   ]
  },
  {
   "cell_type": "code",
   "execution_count": 46,
   "metadata": {},
   "outputs": [],
   "source": [
    "# Create a list of labels in sequence\n",
    "civadjissc = ['Never','Seldom','Sometimes','Frequently']"
   ]
  },
  {
   "cell_type": "markdown",
   "metadata": {},
   "source": [
    "#### CIVADJISSe : Few years after you left, How often you have difficulty dealing with the lack of structure in civilian life \n",
    "Label : 'Never','Seldom','Sometimes','Frequently'\n",
    "   "
   ]
  },
  {
   "cell_type": "code",
   "execution_count": 47,
   "metadata": {},
   "outputs": [
    {
     "data": {
      "text/plain": [
       "array(['Never', 'Seldom', 'Sometimes', 'Frequently'], dtype=object)"
      ]
     },
     "execution_count": 47,
     "metadata": {},
     "output_type": "execute_result"
    }
   ],
   "source": [
    "fjdf['CIVADJISSe'].unique()"
   ]
  },
  {
   "cell_type": "code",
   "execution_count": 48,
   "metadata": {},
   "outputs": [],
   "source": [
    "# Create a list of labels in sequence\n",
    "civadjisse = ['Never','Seldom','Sometimes','Frequently']"
   ]
  },
  {
   "cell_type": "markdown",
   "metadata": {},
   "source": [
    "#### MILJOBSKILLS : How useful is military skills for civilian jobs\n",
    "Label : 'not useful at all','not too useful','fairly useful','Very useful'"
   ]
  },
  {
   "cell_type": "code",
   "execution_count": 49,
   "metadata": {},
   "outputs": [
    {
     "data": {
      "text/plain": [
       "array(['fairly useful', 'Very useful', 'not too useful',\n",
       "       'not useful at all'], dtype=object)"
      ]
     },
     "execution_count": 49,
     "metadata": {},
     "output_type": "execute_result"
    }
   ],
   "source": [
    "fjdf['MILJOBSKILLS'].unique()"
   ]
  },
  {
   "cell_type": "code",
   "execution_count": 50,
   "metadata": {},
   "outputs": [],
   "source": [
    "# Create a list of labels in sequence\n",
    "miljobskills = ['not useful at all','not too useful','fairly useful','Very useful']"
   ]
  },
  {
   "cell_type": "markdown",
   "metadata": {},
   "source": [
    "#### MILHELPJOB : Does serving in military helf or hurt to get a civilian job (the higher the better)\n",
    "Label : 'hurt a lot','hurt a bit','Neither','Helped a bit','Helped a lot'"
   ]
  },
  {
   "cell_type": "code",
   "execution_count": 51,
   "metadata": {},
   "outputs": [
    {
     "data": {
      "text/plain": [
       "array(['Helped a lot', 'Helped a bit', 'hurt a bit', 'Neither',\n",
       "       'hurt a lot'], dtype=object)"
      ]
     },
     "execution_count": 51,
     "metadata": {},
     "output_type": "execute_result"
    }
   ],
   "source": [
    "fjdf['MILHELPJOB'].unique()"
   ]
  },
  {
   "cell_type": "code",
   "execution_count": 52,
   "metadata": {},
   "outputs": [],
   "source": [
    "# Create a list of labels in sequence\n",
    "milhelpjob = ['hurt a lot','hurt a bit','Neither','Helped a bit','Helped a lot']"
   ]
  },
  {
   "cell_type": "markdown",
   "metadata": {},
   "source": [
    "#### F_AGECAT\n",
    "Label : '18-29','30-49','50-64','65+'"
   ]
  },
  {
   "cell_type": "code",
   "execution_count": 53,
   "metadata": {},
   "outputs": [
    {
     "data": {
      "text/plain": [
       "array(['65+', '50-64', '30-49', '18-29'], dtype=object)"
      ]
     },
     "execution_count": 53,
     "metadata": {},
     "output_type": "execute_result"
    }
   ],
   "source": [
    "fjdf['F_AGECAT'].unique()"
   ]
  },
  {
   "cell_type": "code",
   "execution_count": 54,
   "metadata": {},
   "outputs": [],
   "source": [
    "# Create a list of labels in sequence\n",
    "f_agecat = ['18-29','30-49','50-64','65+']"
   ]
  },
  {
   "cell_type": "markdown",
   "metadata": {},
   "source": [
    "#### F_EDUCCAT2\n",
    "Label : 'High school degree','Some college(no degree)','Associate degree','Bachelors degree','MS/PHD degree'"
   ]
  },
  {
   "cell_type": "code",
   "execution_count": 55,
   "metadata": {},
   "outputs": [
    {
     "data": {
      "text/plain": [
       "array(['High school degree', 'MS/PHD degree', 'Associate degree',\n",
       "       'Some college(no degree)', 'Bachelors degree'], dtype=object)"
      ]
     },
     "execution_count": 55,
     "metadata": {},
     "output_type": "execute_result"
    }
   ],
   "source": [
    "fjdf['F_EDUCCAT2'].unique()"
   ]
  },
  {
   "cell_type": "code",
   "execution_count": 56,
   "metadata": {},
   "outputs": [],
   "source": [
    "# Create a list of labels in sequence\n",
    "f_educcat2 = ['High school degree','Some college(no degree)',\n",
    "              'Associate degree','Bachelors degree','MS/PHD degree']"
   ]
  },
  {
   "cell_type": "markdown",
   "metadata": {},
   "source": [
    "#### Pass in all lists in OrdinalEncoder"
   ]
  },
  {
   "cell_type": "code",
   "execution_count": 57,
   "metadata": {},
   "outputs": [],
   "source": [
    "# Pass in all the lists we created above\n",
    "or_enc = OrdinalEncoder(categories = [findjob,year,rank,miltociv,civadj,\n",
    "                                      civadjissc,civadjisse,miljobskills,\n",
    "                                      milhelpjob,f_agecat,f_educcat2\n",
    "                                     ])"
   ]
  },
  {
   "cell_type": "code",
   "execution_count": 58,
   "metadata": {},
   "outputs": [],
   "source": [
    "# Fit transform and fix the data type\n",
    "or_result = or_enc.fit_transform(fjdf[['FINDJOB','YEARSERV','RANK','MILTOCIV','CIVADJ'\n",
    "                                       ,'CIVADJISSc','CIVADJISSe','MILJOBSKILLS'\n",
    "                                       ,'MILHELPJOB','F_AGECAT','F_EDUCCAT2']])\n",
    "# Change float array to all integers\n",
    "or_result = or_result.astype(int)"
   ]
  },
  {
   "cell_type": "code",
   "execution_count": 59,
   "metadata": {},
   "outputs": [
    {
     "data": {
      "text/html": [
       "<div>\n",
       "<style scoped>\n",
       "    .dataframe tbody tr th:only-of-type {\n",
       "        vertical-align: middle;\n",
       "    }\n",
       "\n",
       "    .dataframe tbody tr th {\n",
       "        vertical-align: top;\n",
       "    }\n",
       "\n",
       "    .dataframe thead th {\n",
       "        text-align: right;\n",
       "    }\n",
       "</style>\n",
       "<table border=\"1\" class=\"dataframe\">\n",
       "  <thead>\n",
       "    <tr style=\"text-align: right;\">\n",
       "      <th></th>\n",
       "      <th>FINDJOB</th>\n",
       "      <th>YEARSERV</th>\n",
       "      <th>RANK</th>\n",
       "      <th>MILTOCIV</th>\n",
       "      <th>CIVADJ</th>\n",
       "      <th>CIVADJISSc</th>\n",
       "      <th>CIVADJISSe</th>\n",
       "      <th>MILJOBSKILLS</th>\n",
       "      <th>MILHELPJOB</th>\n",
       "      <th>F_AGECAT</th>\n",
       "      <th>F_EDUCCAT2</th>\n",
       "    </tr>\n",
       "  </thead>\n",
       "  <tbody>\n",
       "    <tr>\n",
       "      <th>0</th>\n",
       "      <td>1</td>\n",
       "      <td>4</td>\n",
       "      <td>0</td>\n",
       "      <td>2</td>\n",
       "      <td>3</td>\n",
       "      <td>3</td>\n",
       "      <td>0</td>\n",
       "      <td>2</td>\n",
       "      <td>4</td>\n",
       "      <td>3</td>\n",
       "      <td>0</td>\n",
       "    </tr>\n",
       "    <tr>\n",
       "      <th>1</th>\n",
       "      <td>0</td>\n",
       "      <td>4</td>\n",
       "      <td>2</td>\n",
       "      <td>2</td>\n",
       "      <td>2</td>\n",
       "      <td>3</td>\n",
       "      <td>0</td>\n",
       "      <td>3</td>\n",
       "      <td>3</td>\n",
       "      <td>2</td>\n",
       "      <td>4</td>\n",
       "    </tr>\n",
       "    <tr>\n",
       "      <th>2</th>\n",
       "      <td>1</td>\n",
       "      <td>4</td>\n",
       "      <td>1</td>\n",
       "      <td>2</td>\n",
       "      <td>2</td>\n",
       "      <td>2</td>\n",
       "      <td>1</td>\n",
       "      <td>3</td>\n",
       "      <td>4</td>\n",
       "      <td>2</td>\n",
       "      <td>2</td>\n",
       "    </tr>\n",
       "    <tr>\n",
       "      <th>3</th>\n",
       "      <td>1</td>\n",
       "      <td>4</td>\n",
       "      <td>3</td>\n",
       "      <td>2</td>\n",
       "      <td>1</td>\n",
       "      <td>2</td>\n",
       "      <td>2</td>\n",
       "      <td>2</td>\n",
       "      <td>4</td>\n",
       "      <td>2</td>\n",
       "      <td>4</td>\n",
       "    </tr>\n",
       "    <tr>\n",
       "      <th>4</th>\n",
       "      <td>1</td>\n",
       "      <td>4</td>\n",
       "      <td>0</td>\n",
       "      <td>2</td>\n",
       "      <td>2</td>\n",
       "      <td>2</td>\n",
       "      <td>0</td>\n",
       "      <td>2</td>\n",
       "      <td>4</td>\n",
       "      <td>2</td>\n",
       "      <td>1</td>\n",
       "    </tr>\n",
       "    <tr>\n",
       "      <th>...</th>\n",
       "      <td>...</td>\n",
       "      <td>...</td>\n",
       "      <td>...</td>\n",
       "      <td>...</td>\n",
       "      <td>...</td>\n",
       "      <td>...</td>\n",
       "      <td>...</td>\n",
       "      <td>...</td>\n",
       "      <td>...</td>\n",
       "      <td>...</td>\n",
       "      <td>...</td>\n",
       "    </tr>\n",
       "    <tr>\n",
       "      <th>236</th>\n",
       "      <td>0</td>\n",
       "      <td>2</td>\n",
       "      <td>1</td>\n",
       "      <td>1</td>\n",
       "      <td>2</td>\n",
       "      <td>2</td>\n",
       "      <td>1</td>\n",
       "      <td>1</td>\n",
       "      <td>2</td>\n",
       "      <td>1</td>\n",
       "      <td>3</td>\n",
       "    </tr>\n",
       "    <tr>\n",
       "      <th>237</th>\n",
       "      <td>1</td>\n",
       "      <td>1</td>\n",
       "      <td>0</td>\n",
       "      <td>3</td>\n",
       "      <td>2</td>\n",
       "      <td>3</td>\n",
       "      <td>3</td>\n",
       "      <td>0</td>\n",
       "      <td>2</td>\n",
       "      <td>1</td>\n",
       "      <td>0</td>\n",
       "    </tr>\n",
       "    <tr>\n",
       "      <th>238</th>\n",
       "      <td>1</td>\n",
       "      <td>4</td>\n",
       "      <td>0</td>\n",
       "      <td>2</td>\n",
       "      <td>1</td>\n",
       "      <td>3</td>\n",
       "      <td>0</td>\n",
       "      <td>1</td>\n",
       "      <td>3</td>\n",
       "      <td>2</td>\n",
       "      <td>1</td>\n",
       "    </tr>\n",
       "    <tr>\n",
       "      <th>239</th>\n",
       "      <td>1</td>\n",
       "      <td>4</td>\n",
       "      <td>3</td>\n",
       "      <td>2</td>\n",
       "      <td>1</td>\n",
       "      <td>3</td>\n",
       "      <td>2</td>\n",
       "      <td>1</td>\n",
       "      <td>2</td>\n",
       "      <td>2</td>\n",
       "      <td>3</td>\n",
       "    </tr>\n",
       "    <tr>\n",
       "      <th>240</th>\n",
       "      <td>0</td>\n",
       "      <td>2</td>\n",
       "      <td>0</td>\n",
       "      <td>2</td>\n",
       "      <td>3</td>\n",
       "      <td>2</td>\n",
       "      <td>1</td>\n",
       "      <td>2</td>\n",
       "      <td>2</td>\n",
       "      <td>1</td>\n",
       "      <td>1</td>\n",
       "    </tr>\n",
       "  </tbody>\n",
       "</table>\n",
       "<p>241 rows × 11 columns</p>\n",
       "</div>"
      ],
      "text/plain": [
       "     FINDJOB  YEARSERV  RANK  MILTOCIV  CIVADJ  CIVADJISSc  CIVADJISSe  \\\n",
       "0          1         4     0         2       3           3           0   \n",
       "1          0         4     2         2       2           3           0   \n",
       "2          1         4     1         2       2           2           1   \n",
       "3          1         4     3         2       1           2           2   \n",
       "4          1         4     0         2       2           2           0   \n",
       "..       ...       ...   ...       ...     ...         ...         ...   \n",
       "236        0         2     1         1       2           2           1   \n",
       "237        1         1     0         3       2           3           3   \n",
       "238        1         4     0         2       1           3           0   \n",
       "239        1         4     3         2       1           3           2   \n",
       "240        0         2     0         2       3           2           1   \n",
       "\n",
       "     MILJOBSKILLS  MILHELPJOB  F_AGECAT  F_EDUCCAT2  \n",
       "0               2           4         3           0  \n",
       "1               3           3         2           4  \n",
       "2               3           4         2           2  \n",
       "3               2           4         2           4  \n",
       "4               2           4         2           1  \n",
       "..            ...         ...       ...         ...  \n",
       "236             1           2         1           3  \n",
       "237             0           2         1           0  \n",
       "238             1           3         2           1  \n",
       "239             1           2         2           3  \n",
       "240             2           2         1           1  \n",
       "\n",
       "[241 rows x 11 columns]"
      ]
     },
     "execution_count": 59,
     "metadata": {},
     "output_type": "execute_result"
    }
   ],
   "source": [
    "# Remember to set index\n",
    "# otherwise, there will be error during concatenate (index won't match)\n",
    "ordf = pd.DataFrame(or_result,columns=or_index,index=fjdf.index)\n",
    "ordf"
   ]
  },
  {
   "cell_type": "code",
   "execution_count": 60,
   "metadata": {},
   "outputs": [
    {
     "data": {
      "text/html": [
       "<div>\n",
       "<style scoped>\n",
       "    .dataframe tbody tr th:only-of-type {\n",
       "        vertical-align: middle;\n",
       "    }\n",
       "\n",
       "    .dataframe tbody tr th {\n",
       "        vertical-align: top;\n",
       "    }\n",
       "\n",
       "    .dataframe thead th {\n",
       "        text-align: right;\n",
       "    }\n",
       "</style>\n",
       "<table border=\"1\" class=\"dataframe\">\n",
       "  <thead>\n",
       "    <tr style=\"text-align: right;\">\n",
       "      <th></th>\n",
       "      <th>FINDJOB</th>\n",
       "      <th>YEARSERV</th>\n",
       "      <th>RANK</th>\n",
       "      <th>MILTOCIV</th>\n",
       "      <th>CIVADJ</th>\n",
       "      <th>CIVADJISSc</th>\n",
       "      <th>CIVADJISSe</th>\n",
       "      <th>MILJOBSKILLS</th>\n",
       "      <th>MILHELPJOB</th>\n",
       "      <th>F_AGECAT</th>\n",
       "      <th>F_EDUCCAT2</th>\n",
       "    </tr>\n",
       "  </thead>\n",
       "  <tbody>\n",
       "    <tr>\n",
       "      <th>0</th>\n",
       "      <td>&lt;6 months</td>\n",
       "      <td>&gt;20 years</td>\n",
       "      <td>E1-E6</td>\n",
       "      <td>Somewhat well</td>\n",
       "      <td>Very Easy</td>\n",
       "      <td>Frequently</td>\n",
       "      <td>Never</td>\n",
       "      <td>fairly useful</td>\n",
       "      <td>Helped a lot</td>\n",
       "      <td>65+</td>\n",
       "      <td>High school degree</td>\n",
       "    </tr>\n",
       "    <tr>\n",
       "      <th>1</th>\n",
       "      <td>&gt;6 months</td>\n",
       "      <td>&gt;20 years</td>\n",
       "      <td>WO1-WO5</td>\n",
       "      <td>Somewhat well</td>\n",
       "      <td>Somewhat Easy</td>\n",
       "      <td>Frequently</td>\n",
       "      <td>Never</td>\n",
       "      <td>Very useful</td>\n",
       "      <td>Helped a bit</td>\n",
       "      <td>50-64</td>\n",
       "      <td>MS/PHD degree</td>\n",
       "    </tr>\n",
       "    <tr>\n",
       "      <th>2</th>\n",
       "      <td>&lt;6 months</td>\n",
       "      <td>&gt;20 years</td>\n",
       "      <td>E7-E9</td>\n",
       "      <td>Somewhat well</td>\n",
       "      <td>Somewhat Easy</td>\n",
       "      <td>Sometimes</td>\n",
       "      <td>Seldom</td>\n",
       "      <td>Very useful</td>\n",
       "      <td>Helped a lot</td>\n",
       "      <td>50-64</td>\n",
       "      <td>Associate degree</td>\n",
       "    </tr>\n",
       "    <tr>\n",
       "      <th>3</th>\n",
       "      <td>&lt;6 months</td>\n",
       "      <td>&gt;20 years</td>\n",
       "      <td>O1-O10</td>\n",
       "      <td>Somewhat well</td>\n",
       "      <td>Somewhat difficult</td>\n",
       "      <td>Sometimes</td>\n",
       "      <td>Sometimes</td>\n",
       "      <td>fairly useful</td>\n",
       "      <td>Helped a lot</td>\n",
       "      <td>50-64</td>\n",
       "      <td>MS/PHD degree</td>\n",
       "    </tr>\n",
       "    <tr>\n",
       "      <th>4</th>\n",
       "      <td>&lt;6 months</td>\n",
       "      <td>&gt;20 years</td>\n",
       "      <td>E1-E6</td>\n",
       "      <td>Somewhat well</td>\n",
       "      <td>Somewhat Easy</td>\n",
       "      <td>Sometimes</td>\n",
       "      <td>Never</td>\n",
       "      <td>fairly useful</td>\n",
       "      <td>Helped a lot</td>\n",
       "      <td>50-64</td>\n",
       "      <td>Some college(no degree)</td>\n",
       "    </tr>\n",
       "  </tbody>\n",
       "</table>\n",
       "</div>"
      ],
      "text/plain": [
       "     FINDJOB   YEARSERV     RANK       MILTOCIV              CIVADJ  \\\n",
       "0  <6 months  >20 years    E1-E6  Somewhat well           Very Easy   \n",
       "1  >6 months  >20 years  WO1-WO5  Somewhat well       Somewhat Easy   \n",
       "2  <6 months  >20 years    E7-E9  Somewhat well       Somewhat Easy   \n",
       "3  <6 months  >20 years   O1-O10  Somewhat well  Somewhat difficult   \n",
       "4  <6 months  >20 years    E1-E6  Somewhat well       Somewhat Easy   \n",
       "\n",
       "   CIVADJISSc CIVADJISSe   MILJOBSKILLS    MILHELPJOB F_AGECAT  \\\n",
       "0  Frequently      Never  fairly useful  Helped a lot      65+   \n",
       "1  Frequently      Never    Very useful  Helped a bit    50-64   \n",
       "2   Sometimes     Seldom    Very useful  Helped a lot    50-64   \n",
       "3   Sometimes  Sometimes  fairly useful  Helped a lot    50-64   \n",
       "4   Sometimes      Never  fairly useful  Helped a lot    50-64   \n",
       "\n",
       "                F_EDUCCAT2  \n",
       "0       High school degree  \n",
       "1            MS/PHD degree  \n",
       "2         Associate degree  \n",
       "3            MS/PHD degree  \n",
       "4  Some college(no degree)  "
      ]
     },
     "execution_count": 60,
     "metadata": {},
     "output_type": "execute_result"
    }
   ],
   "source": [
    "# Check whether codes above match with strings\n",
    "fjdf[['FINDJOB','YEARSERV','RANK','MILTOCIV','CIVADJ','CIVADJISSc','CIVADJISSe','MILJOBSKILLS','MILHELPJOB',\n",
    "'F_AGECAT','F_EDUCCAT2']].head()"
   ]
  },
  {
   "cell_type": "markdown",
   "metadata": {},
   "source": [
    "### Encoding Categorical Data - Dummy Encoding\n",
    "1. Steps: \n",
    "- Create a list of all variables we want to convert\n",
    "- Pass in this list to .get_dummies\n",
    "- Remember to set \"drop_first\" to \"True\" so we won't have duplicate columns\n",
    "\n",
    "2. 11 columns in this category are :\n",
    "'MARRACTIV','PARACTIV','COMBAT','VABENEFITS','CIVADJPROBa','CIVADJPROBb','LOOKJOB','SCHOOL','FINDJOB','TRAUMA1','F_SEX','F_HISP'"
   ]
  },
  {
   "cell_type": "code",
   "execution_count": 61,
   "metadata": {},
   "outputs": [],
   "source": [
    "dummy_list = ['MARRACTIV','PARACTIV','COMBAT','VABENEFITS','CIVADJPROBa', 'CIVADJPROBb'\n",
    "              ,'LOOKJOB','SCHOOL','TRAUMA1','F_SEX','F_HISP',]"
   ]
  },
  {
   "cell_type": "code",
   "execution_count": 62,
   "metadata": {},
   "outputs": [
    {
     "data": {
      "text/plain": [
       "11"
      ]
     },
     "execution_count": 62,
     "metadata": {},
     "output_type": "execute_result"
    }
   ],
   "source": [
    "len(dummy_list)"
   ]
  },
  {
   "cell_type": "code",
   "execution_count": 63,
   "metadata": {
    "scrolled": true
   },
   "outputs": [
    {
     "data": {
      "text/html": [
       "<div>\n",
       "<style scoped>\n",
       "    .dataframe tbody tr th:only-of-type {\n",
       "        vertical-align: middle;\n",
       "    }\n",
       "\n",
       "    .dataframe tbody tr th {\n",
       "        vertical-align: top;\n",
       "    }\n",
       "\n",
       "    .dataframe thead th {\n",
       "        text-align: right;\n",
       "    }\n",
       "</style>\n",
       "<table border=\"1\" class=\"dataframe\">\n",
       "  <thead>\n",
       "    <tr style=\"text-align: right;\">\n",
       "      <th></th>\n",
       "      <th>MARRACTIV_Not Married</th>\n",
       "      <th>PARACTIV_Yes</th>\n",
       "      <th>COMBAT_Yes</th>\n",
       "      <th>VABENEFITS_Yes</th>\n",
       "      <th>CIVADJPROBa_Yes</th>\n",
       "      <th>CIVADJPROBb_Yes</th>\n",
       "      <th>LOOKJOB_Yes(right away)</th>\n",
       "      <th>SCHOOL_Yes</th>\n",
       "      <th>TRAUMA1_Yes</th>\n",
       "      <th>F_SEX_Male</th>\n",
       "      <th>F_HISP_Yes</th>\n",
       "    </tr>\n",
       "  </thead>\n",
       "  <tbody>\n",
       "    <tr>\n",
       "      <th>0</th>\n",
       "      <td>0</td>\n",
       "      <td>1</td>\n",
       "      <td>1</td>\n",
       "      <td>1</td>\n",
       "      <td>1</td>\n",
       "      <td>0</td>\n",
       "      <td>1</td>\n",
       "      <td>0</td>\n",
       "      <td>0</td>\n",
       "      <td>1</td>\n",
       "      <td>0</td>\n",
       "    </tr>\n",
       "    <tr>\n",
       "      <th>1</th>\n",
       "      <td>0</td>\n",
       "      <td>1</td>\n",
       "      <td>0</td>\n",
       "      <td>1</td>\n",
       "      <td>0</td>\n",
       "      <td>0</td>\n",
       "      <td>0</td>\n",
       "      <td>0</td>\n",
       "      <td>1</td>\n",
       "      <td>1</td>\n",
       "      <td>0</td>\n",
       "    </tr>\n",
       "    <tr>\n",
       "      <th>2</th>\n",
       "      <td>0</td>\n",
       "      <td>1</td>\n",
       "      <td>0</td>\n",
       "      <td>1</td>\n",
       "      <td>0</td>\n",
       "      <td>0</td>\n",
       "      <td>1</td>\n",
       "      <td>0</td>\n",
       "      <td>0</td>\n",
       "      <td>1</td>\n",
       "      <td>0</td>\n",
       "    </tr>\n",
       "    <tr>\n",
       "      <th>3</th>\n",
       "      <td>0</td>\n",
       "      <td>0</td>\n",
       "      <td>1</td>\n",
       "      <td>1</td>\n",
       "      <td>0</td>\n",
       "      <td>0</td>\n",
       "      <td>1</td>\n",
       "      <td>0</td>\n",
       "      <td>1</td>\n",
       "      <td>1</td>\n",
       "      <td>0</td>\n",
       "    </tr>\n",
       "    <tr>\n",
       "      <th>4</th>\n",
       "      <td>0</td>\n",
       "      <td>1</td>\n",
       "      <td>1</td>\n",
       "      <td>0</td>\n",
       "      <td>0</td>\n",
       "      <td>0</td>\n",
       "      <td>0</td>\n",
       "      <td>1</td>\n",
       "      <td>0</td>\n",
       "      <td>1</td>\n",
       "      <td>0</td>\n",
       "    </tr>\n",
       "    <tr>\n",
       "      <th>...</th>\n",
       "      <td>...</td>\n",
       "      <td>...</td>\n",
       "      <td>...</td>\n",
       "      <td>...</td>\n",
       "      <td>...</td>\n",
       "      <td>...</td>\n",
       "      <td>...</td>\n",
       "      <td>...</td>\n",
       "      <td>...</td>\n",
       "      <td>...</td>\n",
       "      <td>...</td>\n",
       "    </tr>\n",
       "    <tr>\n",
       "      <th>236</th>\n",
       "      <td>0</td>\n",
       "      <td>0</td>\n",
       "      <td>0</td>\n",
       "      <td>1</td>\n",
       "      <td>1</td>\n",
       "      <td>1</td>\n",
       "      <td>0</td>\n",
       "      <td>1</td>\n",
       "      <td>1</td>\n",
       "      <td>1</td>\n",
       "      <td>0</td>\n",
       "    </tr>\n",
       "    <tr>\n",
       "      <th>237</th>\n",
       "      <td>1</td>\n",
       "      <td>0</td>\n",
       "      <td>1</td>\n",
       "      <td>1</td>\n",
       "      <td>0</td>\n",
       "      <td>0</td>\n",
       "      <td>1</td>\n",
       "      <td>0</td>\n",
       "      <td>1</td>\n",
       "      <td>0</td>\n",
       "      <td>0</td>\n",
       "    </tr>\n",
       "    <tr>\n",
       "      <th>238</th>\n",
       "      <td>1</td>\n",
       "      <td>0</td>\n",
       "      <td>1</td>\n",
       "      <td>1</td>\n",
       "      <td>1</td>\n",
       "      <td>0</td>\n",
       "      <td>1</td>\n",
       "      <td>0</td>\n",
       "      <td>1</td>\n",
       "      <td>1</td>\n",
       "      <td>0</td>\n",
       "    </tr>\n",
       "    <tr>\n",
       "      <th>239</th>\n",
       "      <td>0</td>\n",
       "      <td>1</td>\n",
       "      <td>1</td>\n",
       "      <td>1</td>\n",
       "      <td>0</td>\n",
       "      <td>0</td>\n",
       "      <td>1</td>\n",
       "      <td>0</td>\n",
       "      <td>1</td>\n",
       "      <td>1</td>\n",
       "      <td>0</td>\n",
       "    </tr>\n",
       "    <tr>\n",
       "      <th>240</th>\n",
       "      <td>0</td>\n",
       "      <td>1</td>\n",
       "      <td>1</td>\n",
       "      <td>0</td>\n",
       "      <td>0</td>\n",
       "      <td>1</td>\n",
       "      <td>1</td>\n",
       "      <td>0</td>\n",
       "      <td>1</td>\n",
       "      <td>1</td>\n",
       "      <td>0</td>\n",
       "    </tr>\n",
       "  </tbody>\n",
       "</table>\n",
       "<p>241 rows × 11 columns</p>\n",
       "</div>"
      ],
      "text/plain": [
       "     MARRACTIV_Not Married  PARACTIV_Yes  COMBAT_Yes  VABENEFITS_Yes  \\\n",
       "0                        0             1           1               1   \n",
       "1                        0             1           0               1   \n",
       "2                        0             1           0               1   \n",
       "3                        0             0           1               1   \n",
       "4                        0             1           1               0   \n",
       "..                     ...           ...         ...             ...   \n",
       "236                      0             0           0               1   \n",
       "237                      1             0           1               1   \n",
       "238                      1             0           1               1   \n",
       "239                      0             1           1               1   \n",
       "240                      0             1           1               0   \n",
       "\n",
       "     CIVADJPROBa_Yes  CIVADJPROBb_Yes  LOOKJOB_Yes(right away)  SCHOOL_Yes  \\\n",
       "0                  1                0                        1           0   \n",
       "1                  0                0                        0           0   \n",
       "2                  0                0                        1           0   \n",
       "3                  0                0                        1           0   \n",
       "4                  0                0                        0           1   \n",
       "..               ...              ...                      ...         ...   \n",
       "236                1                1                        0           1   \n",
       "237                0                0                        1           0   \n",
       "238                1                0                        1           0   \n",
       "239                0                0                        1           0   \n",
       "240                0                1                        1           0   \n",
       "\n",
       "     TRAUMA1_Yes  F_SEX_Male  F_HISP_Yes  \n",
       "0              0           1           0  \n",
       "1              1           1           0  \n",
       "2              0           1           0  \n",
       "3              1           1           0  \n",
       "4              0           1           0  \n",
       "..           ...         ...         ...  \n",
       "236            1           1           0  \n",
       "237            1           0           0  \n",
       "238            1           1           0  \n",
       "239            1           1           0  \n",
       "240            1           1           0  \n",
       "\n",
       "[241 rows x 11 columns]"
      ]
     },
     "execution_count": 63,
     "metadata": {},
     "output_type": "execute_result"
    }
   ],
   "source": [
    "# Drop_first = True : eliminate duplicate columns\n",
    "dummies_done = pd.get_dummies(fjdf[['MARRACTIV','PARACTIV','COMBAT','VABENEFITS'\n",
    "                                    ,'CIVADJPROBa','CIVADJPROBb','LOOKJOB','SCHOOL',\n",
    "                                    'TRAUMA1','F_SEX','F_HISP']],drop_first= True)\n",
    "dummies_done"
   ]
  },
  {
   "cell_type": "markdown",
   "metadata": {},
   "source": [
    "### Encoding Categorical Data - Label Encoding\n",
    "1. 4 columns in this category are :\n",
    "'INJURED','F_RACETHN','F_MARITAL','Branch'"
   ]
  },
  {
   "cell_type": "code",
   "execution_count": 64,
   "metadata": {},
   "outputs": [],
   "source": [
    "# Create an instance of LabelEncoder\n",
    "label_encoder = preprocessing.LabelEncoder()"
   ]
  },
  {
   "cell_type": "code",
   "execution_count": 65,
   "metadata": {},
   "outputs": [
    {
     "name": "stdout",
     "output_type": "stream",
     "text": [
      "INJURED : ['Injured in combat' 'Injured out of combat' 'Not injured']\n",
      "\n",
      "F_RACETHN : ['Asian' 'Black' 'Mixed race' 'White']\n",
      "\n",
      "F_MARITAL : ['Divorced/Seperated/Widowed' 'Married/Live with a partner'\n",
      " 'Never Married']\n",
      "\n",
      "Branch : ['Air_Force' 'Army' 'Coast_Guard' 'Marines' 'Muti-Branch' 'Navy']\n",
      "\n"
     ]
    }
   ],
   "source": [
    "# Copy data from these columns\n",
    "ldf = fjdf[['INJURED','F_RACETHN','F_MARITAL','Branch']].copy()\n",
    "\n",
    "# Fit transform\n",
    "ldf['INJURED'] = label_encoder.fit_transform(fjdf['INJURED'])\n",
    "# Print the labels in sequence\n",
    "print(f\"INJURED : {label_encoder.classes_}\\n\")\n",
    "\n",
    "ldf['F_RACETHN'] = label_encoder.fit_transform(fjdf['F_RACETHN'])\n",
    "print(f\"F_RACETHN : {label_encoder.classes_}\\n\")\n",
    "\n",
    "ldf['F_MARITAL'] = label_encoder.fit_transform(fjdf['F_MARITAL'])\n",
    "print(f\"F_MARITAL : {label_encoder.classes_}\\n\")\n",
    "\n",
    "ldf['Branch'] = label_encoder.fit_transform(fjdf['Branch'])\n",
    "print(f\"Branch : {label_encoder.classes_}\\n\")"
   ]
  },
  {
   "cell_type": "code",
   "execution_count": 66,
   "metadata": {
    "scrolled": true
   },
   "outputs": [
    {
     "data": {
      "text/html": [
       "<div>\n",
       "<style scoped>\n",
       "    .dataframe tbody tr th:only-of-type {\n",
       "        vertical-align: middle;\n",
       "    }\n",
       "\n",
       "    .dataframe tbody tr th {\n",
       "        vertical-align: top;\n",
       "    }\n",
       "\n",
       "    .dataframe thead th {\n",
       "        text-align: right;\n",
       "    }\n",
       "</style>\n",
       "<table border=\"1\" class=\"dataframe\">\n",
       "  <thead>\n",
       "    <tr style=\"text-align: right;\">\n",
       "      <th></th>\n",
       "      <th>INJURED</th>\n",
       "      <th>F_RACETHN</th>\n",
       "      <th>F_MARITAL</th>\n",
       "      <th>Branch</th>\n",
       "    </tr>\n",
       "  </thead>\n",
       "  <tbody>\n",
       "    <tr>\n",
       "      <th>0</th>\n",
       "      <td>2</td>\n",
       "      <td>3</td>\n",
       "      <td>1</td>\n",
       "      <td>4</td>\n",
       "    </tr>\n",
       "    <tr>\n",
       "      <th>1</th>\n",
       "      <td>2</td>\n",
       "      <td>3</td>\n",
       "      <td>1</td>\n",
       "      <td>1</td>\n",
       "    </tr>\n",
       "    <tr>\n",
       "      <th>2</th>\n",
       "      <td>2</td>\n",
       "      <td>3</td>\n",
       "      <td>1</td>\n",
       "      <td>5</td>\n",
       "    </tr>\n",
       "    <tr>\n",
       "      <th>3</th>\n",
       "      <td>2</td>\n",
       "      <td>3</td>\n",
       "      <td>1</td>\n",
       "      <td>0</td>\n",
       "    </tr>\n",
       "    <tr>\n",
       "      <th>4</th>\n",
       "      <td>1</td>\n",
       "      <td>1</td>\n",
       "      <td>1</td>\n",
       "      <td>3</td>\n",
       "    </tr>\n",
       "    <tr>\n",
       "      <th>...</th>\n",
       "      <td>...</td>\n",
       "      <td>...</td>\n",
       "      <td>...</td>\n",
       "      <td>...</td>\n",
       "    </tr>\n",
       "    <tr>\n",
       "      <th>236</th>\n",
       "      <td>2</td>\n",
       "      <td>3</td>\n",
       "      <td>0</td>\n",
       "      <td>5</td>\n",
       "    </tr>\n",
       "    <tr>\n",
       "      <th>237</th>\n",
       "      <td>2</td>\n",
       "      <td>3</td>\n",
       "      <td>0</td>\n",
       "      <td>5</td>\n",
       "    </tr>\n",
       "    <tr>\n",
       "      <th>238</th>\n",
       "      <td>2</td>\n",
       "      <td>3</td>\n",
       "      <td>1</td>\n",
       "      <td>5</td>\n",
       "    </tr>\n",
       "    <tr>\n",
       "      <th>239</th>\n",
       "      <td>2</td>\n",
       "      <td>3</td>\n",
       "      <td>1</td>\n",
       "      <td>3</td>\n",
       "    </tr>\n",
       "    <tr>\n",
       "      <th>240</th>\n",
       "      <td>2</td>\n",
       "      <td>3</td>\n",
       "      <td>1</td>\n",
       "      <td>5</td>\n",
       "    </tr>\n",
       "  </tbody>\n",
       "</table>\n",
       "<p>241 rows × 4 columns</p>\n",
       "</div>"
      ],
      "text/plain": [
       "     INJURED  F_RACETHN  F_MARITAL  Branch\n",
       "0          2          3          1       4\n",
       "1          2          3          1       1\n",
       "2          2          3          1       5\n",
       "3          2          3          1       0\n",
       "4          1          1          1       3\n",
       "..       ...        ...        ...     ...\n",
       "236        2          3          0       5\n",
       "237        2          3          0       5\n",
       "238        2          3          1       5\n",
       "239        2          3          1       3\n",
       "240        2          3          1       5\n",
       "\n",
       "[241 rows x 4 columns]"
      ]
     },
     "execution_count": 66,
     "metadata": {},
     "output_type": "execute_result"
    }
   ],
   "source": [
    "label_done = ldf[['INJURED','F_RACETHN','F_MARITAL','Branch']]\n",
    "label_done"
   ]
  },
  {
   "cell_type": "markdown",
   "metadata": {},
   "source": [
    "### Combine three encoded data"
   ]
  },
  {
   "cell_type": "code",
   "execution_count": 67,
   "metadata": {
    "scrolled": false
   },
   "outputs": [
    {
     "data": {
      "text/html": [
       "<div>\n",
       "<style scoped>\n",
       "    .dataframe tbody tr th:only-of-type {\n",
       "        vertical-align: middle;\n",
       "    }\n",
       "\n",
       "    .dataframe tbody tr th {\n",
       "        vertical-align: top;\n",
       "    }\n",
       "\n",
       "    .dataframe thead th {\n",
       "        text-align: right;\n",
       "    }\n",
       "</style>\n",
       "<table border=\"1\" class=\"dataframe\">\n",
       "  <thead>\n",
       "    <tr style=\"text-align: right;\">\n",
       "      <th></th>\n",
       "      <th>FINDJOB</th>\n",
       "      <th>YEARSERV</th>\n",
       "      <th>RANK</th>\n",
       "      <th>MILTOCIV</th>\n",
       "      <th>CIVADJ</th>\n",
       "      <th>CIVADJISSc</th>\n",
       "      <th>CIVADJISSe</th>\n",
       "      <th>MILJOBSKILLS</th>\n",
       "      <th>MILHELPJOB</th>\n",
       "      <th>F_AGECAT</th>\n",
       "      <th>...</th>\n",
       "      <th>LOOKJOB_Yes(right away)</th>\n",
       "      <th>SCHOOL_Yes</th>\n",
       "      <th>TRAUMA1_Yes</th>\n",
       "      <th>F_SEX_Male</th>\n",
       "      <th>F_HISP_Yes</th>\n",
       "      <th>INJURED</th>\n",
       "      <th>F_RACETHN</th>\n",
       "      <th>F_MARITAL</th>\n",
       "      <th>Branch</th>\n",
       "      <th>p_income</th>\n",
       "    </tr>\n",
       "  </thead>\n",
       "  <tbody>\n",
       "    <tr>\n",
       "      <th>0</th>\n",
       "      <td>1</td>\n",
       "      <td>4</td>\n",
       "      <td>0</td>\n",
       "      <td>2</td>\n",
       "      <td>3</td>\n",
       "      <td>3</td>\n",
       "      <td>0</td>\n",
       "      <td>2</td>\n",
       "      <td>4</td>\n",
       "      <td>3</td>\n",
       "      <td>...</td>\n",
       "      <td>1</td>\n",
       "      <td>0</td>\n",
       "      <td>0</td>\n",
       "      <td>1</td>\n",
       "      <td>0</td>\n",
       "      <td>2</td>\n",
       "      <td>3</td>\n",
       "      <td>1</td>\n",
       "      <td>4</td>\n",
       "      <td>31500</td>\n",
       "    </tr>\n",
       "    <tr>\n",
       "      <th>1</th>\n",
       "      <td>0</td>\n",
       "      <td>4</td>\n",
       "      <td>2</td>\n",
       "      <td>2</td>\n",
       "      <td>2</td>\n",
       "      <td>3</td>\n",
       "      <td>0</td>\n",
       "      <td>3</td>\n",
       "      <td>3</td>\n",
       "      <td>2</td>\n",
       "      <td>...</td>\n",
       "      <td>0</td>\n",
       "      <td>0</td>\n",
       "      <td>1</td>\n",
       "      <td>1</td>\n",
       "      <td>0</td>\n",
       "      <td>2</td>\n",
       "      <td>3</td>\n",
       "      <td>1</td>\n",
       "      <td>1</td>\n",
       "      <td>75000</td>\n",
       "    </tr>\n",
       "    <tr>\n",
       "      <th>2</th>\n",
       "      <td>1</td>\n",
       "      <td>4</td>\n",
       "      <td>1</td>\n",
       "      <td>2</td>\n",
       "      <td>2</td>\n",
       "      <td>2</td>\n",
       "      <td>1</td>\n",
       "      <td>3</td>\n",
       "      <td>4</td>\n",
       "      <td>2</td>\n",
       "      <td>...</td>\n",
       "      <td>1</td>\n",
       "      <td>0</td>\n",
       "      <td>0</td>\n",
       "      <td>1</td>\n",
       "      <td>0</td>\n",
       "      <td>2</td>\n",
       "      <td>3</td>\n",
       "      <td>1</td>\n",
       "      <td>5</td>\n",
       "      <td>31500</td>\n",
       "    </tr>\n",
       "    <tr>\n",
       "      <th>3</th>\n",
       "      <td>1</td>\n",
       "      <td>4</td>\n",
       "      <td>3</td>\n",
       "      <td>2</td>\n",
       "      <td>1</td>\n",
       "      <td>2</td>\n",
       "      <td>2</td>\n",
       "      <td>2</td>\n",
       "      <td>4</td>\n",
       "      <td>2</td>\n",
       "      <td>...</td>\n",
       "      <td>1</td>\n",
       "      <td>0</td>\n",
       "      <td>1</td>\n",
       "      <td>1</td>\n",
       "      <td>0</td>\n",
       "      <td>2</td>\n",
       "      <td>3</td>\n",
       "      <td>1</td>\n",
       "      <td>0</td>\n",
       "      <td>62500</td>\n",
       "    </tr>\n",
       "    <tr>\n",
       "      <th>4</th>\n",
       "      <td>1</td>\n",
       "      <td>4</td>\n",
       "      <td>0</td>\n",
       "      <td>2</td>\n",
       "      <td>2</td>\n",
       "      <td>2</td>\n",
       "      <td>0</td>\n",
       "      <td>2</td>\n",
       "      <td>4</td>\n",
       "      <td>2</td>\n",
       "      <td>...</td>\n",
       "      <td>0</td>\n",
       "      <td>1</td>\n",
       "      <td>0</td>\n",
       "      <td>1</td>\n",
       "      <td>0</td>\n",
       "      <td>1</td>\n",
       "      <td>1</td>\n",
       "      <td>1</td>\n",
       "      <td>3</td>\n",
       "      <td>44000</td>\n",
       "    </tr>\n",
       "    <tr>\n",
       "      <th>...</th>\n",
       "      <td>...</td>\n",
       "      <td>...</td>\n",
       "      <td>...</td>\n",
       "      <td>...</td>\n",
       "      <td>...</td>\n",
       "      <td>...</td>\n",
       "      <td>...</td>\n",
       "      <td>...</td>\n",
       "      <td>...</td>\n",
       "      <td>...</td>\n",
       "      <td>...</td>\n",
       "      <td>...</td>\n",
       "      <td>...</td>\n",
       "      <td>...</td>\n",
       "      <td>...</td>\n",
       "      <td>...</td>\n",
       "      <td>...</td>\n",
       "      <td>...</td>\n",
       "      <td>...</td>\n",
       "      <td>...</td>\n",
       "      <td>...</td>\n",
       "    </tr>\n",
       "    <tr>\n",
       "      <th>236</th>\n",
       "      <td>0</td>\n",
       "      <td>2</td>\n",
       "      <td>1</td>\n",
       "      <td>1</td>\n",
       "      <td>2</td>\n",
       "      <td>2</td>\n",
       "      <td>1</td>\n",
       "      <td>1</td>\n",
       "      <td>2</td>\n",
       "      <td>1</td>\n",
       "      <td>...</td>\n",
       "      <td>0</td>\n",
       "      <td>1</td>\n",
       "      <td>1</td>\n",
       "      <td>1</td>\n",
       "      <td>0</td>\n",
       "      <td>2</td>\n",
       "      <td>3</td>\n",
       "      <td>0</td>\n",
       "      <td>5</td>\n",
       "      <td>63000</td>\n",
       "    </tr>\n",
       "    <tr>\n",
       "      <th>237</th>\n",
       "      <td>1</td>\n",
       "      <td>1</td>\n",
       "      <td>0</td>\n",
       "      <td>3</td>\n",
       "      <td>2</td>\n",
       "      <td>3</td>\n",
       "      <td>3</td>\n",
       "      <td>0</td>\n",
       "      <td>2</td>\n",
       "      <td>1</td>\n",
       "      <td>...</td>\n",
       "      <td>1</td>\n",
       "      <td>0</td>\n",
       "      <td>1</td>\n",
       "      <td>0</td>\n",
       "      <td>0</td>\n",
       "      <td>2</td>\n",
       "      <td>3</td>\n",
       "      <td>0</td>\n",
       "      <td>5</td>\n",
       "      <td>25000</td>\n",
       "    </tr>\n",
       "    <tr>\n",
       "      <th>238</th>\n",
       "      <td>1</td>\n",
       "      <td>4</td>\n",
       "      <td>0</td>\n",
       "      <td>2</td>\n",
       "      <td>1</td>\n",
       "      <td>3</td>\n",
       "      <td>0</td>\n",
       "      <td>1</td>\n",
       "      <td>3</td>\n",
       "      <td>2</td>\n",
       "      <td>...</td>\n",
       "      <td>1</td>\n",
       "      <td>0</td>\n",
       "      <td>1</td>\n",
       "      <td>1</td>\n",
       "      <td>0</td>\n",
       "      <td>2</td>\n",
       "      <td>3</td>\n",
       "      <td>1</td>\n",
       "      <td>5</td>\n",
       "      <td>31500</td>\n",
       "    </tr>\n",
       "    <tr>\n",
       "      <th>239</th>\n",
       "      <td>1</td>\n",
       "      <td>4</td>\n",
       "      <td>3</td>\n",
       "      <td>2</td>\n",
       "      <td>1</td>\n",
       "      <td>3</td>\n",
       "      <td>2</td>\n",
       "      <td>1</td>\n",
       "      <td>2</td>\n",
       "      <td>2</td>\n",
       "      <td>...</td>\n",
       "      <td>1</td>\n",
       "      <td>0</td>\n",
       "      <td>1</td>\n",
       "      <td>1</td>\n",
       "      <td>0</td>\n",
       "      <td>2</td>\n",
       "      <td>3</td>\n",
       "      <td>1</td>\n",
       "      <td>3</td>\n",
       "      <td>62500</td>\n",
       "    </tr>\n",
       "    <tr>\n",
       "      <th>240</th>\n",
       "      <td>0</td>\n",
       "      <td>2</td>\n",
       "      <td>0</td>\n",
       "      <td>2</td>\n",
       "      <td>3</td>\n",
       "      <td>2</td>\n",
       "      <td>1</td>\n",
       "      <td>2</td>\n",
       "      <td>2</td>\n",
       "      <td>1</td>\n",
       "      <td>...</td>\n",
       "      <td>1</td>\n",
       "      <td>0</td>\n",
       "      <td>1</td>\n",
       "      <td>1</td>\n",
       "      <td>0</td>\n",
       "      <td>2</td>\n",
       "      <td>3</td>\n",
       "      <td>1</td>\n",
       "      <td>5</td>\n",
       "      <td>22500</td>\n",
       "    </tr>\n",
       "  </tbody>\n",
       "</table>\n",
       "<p>241 rows × 27 columns</p>\n",
       "</div>"
      ],
      "text/plain": [
       "     FINDJOB  YEARSERV  RANK  MILTOCIV  CIVADJ  CIVADJISSc  CIVADJISSe  \\\n",
       "0          1         4     0         2       3           3           0   \n",
       "1          0         4     2         2       2           3           0   \n",
       "2          1         4     1         2       2           2           1   \n",
       "3          1         4     3         2       1           2           2   \n",
       "4          1         4     0         2       2           2           0   \n",
       "..       ...       ...   ...       ...     ...         ...         ...   \n",
       "236        0         2     1         1       2           2           1   \n",
       "237        1         1     0         3       2           3           3   \n",
       "238        1         4     0         2       1           3           0   \n",
       "239        1         4     3         2       1           3           2   \n",
       "240        0         2     0         2       3           2           1   \n",
       "\n",
       "     MILJOBSKILLS  MILHELPJOB  F_AGECAT  ...  LOOKJOB_Yes(right away)  \\\n",
       "0               2           4         3  ...                        1   \n",
       "1               3           3         2  ...                        0   \n",
       "2               3           4         2  ...                        1   \n",
       "3               2           4         2  ...                        1   \n",
       "4               2           4         2  ...                        0   \n",
       "..            ...         ...       ...  ...                      ...   \n",
       "236             1           2         1  ...                        0   \n",
       "237             0           2         1  ...                        1   \n",
       "238             1           3         2  ...                        1   \n",
       "239             1           2         2  ...                        1   \n",
       "240             2           2         1  ...                        1   \n",
       "\n",
       "     SCHOOL_Yes  TRAUMA1_Yes  F_SEX_Male  F_HISP_Yes  INJURED  F_RACETHN  \\\n",
       "0             0            0           1           0        2          3   \n",
       "1             0            1           1           0        2          3   \n",
       "2             0            0           1           0        2          3   \n",
       "3             0            1           1           0        2          3   \n",
       "4             1            0           1           0        1          1   \n",
       "..          ...          ...         ...         ...      ...        ...   \n",
       "236           1            1           1           0        2          3   \n",
       "237           0            1           0           0        2          3   \n",
       "238           0            1           1           0        2          3   \n",
       "239           0            1           1           0        2          3   \n",
       "240           0            1           1           0        2          3   \n",
       "\n",
       "     F_MARITAL  Branch  p_income  \n",
       "0            1       4     31500  \n",
       "1            1       1     75000  \n",
       "2            1       5     31500  \n",
       "3            1       0     62500  \n",
       "4            1       3     44000  \n",
       "..         ...     ...       ...  \n",
       "236          0       5     63000  \n",
       "237          0       5     25000  \n",
       "238          1       5     31500  \n",
       "239          1       3     62500  \n",
       "240          1       5     22500  \n",
       "\n",
       "[241 rows x 27 columns]"
      ]
     },
     "execution_count": 67,
     "metadata": {},
     "output_type": "execute_result"
    }
   ],
   "source": [
    "# Combine three encoded data and p_income(the only numeric variable)\n",
    "encoded_fjdf = pd.concat([ordf,dummies_done,label_done,fjdf['p_income']],axis=1)\n",
    "encoded_fjdf"
   ]
  },
  {
   "cell_type": "code",
   "execution_count": 68,
   "metadata": {},
   "outputs": [
    {
     "data": {
      "text/plain": [
       "27"
      ]
     },
     "execution_count": 68,
     "metadata": {},
     "output_type": "execute_result"
    }
   ],
   "source": [
    "# column numbers are the same as the beginning\n",
    "len(encoded_fjdf.columns)"
   ]
  },
  {
   "cell_type": "markdown",
   "metadata": {},
   "source": [
    "### Save file"
   ]
  },
  {
   "cell_type": "code",
   "execution_count": 69,
   "metadata": {},
   "outputs": [],
   "source": [
    "encoded_fjdf.to_csv(\"Findjob_encoded.csv\",index=False)"
   ]
  }
 ],
 "metadata": {
  "kernelspec": {
   "display_name": "Python 3 (ipykernel)",
   "language": "python",
   "name": "python3"
  },
  "language_info": {
   "codemirror_mode": {
    "name": "ipython",
    "version": 3
   },
   "file_extension": ".py",
   "mimetype": "text/x-python",
   "name": "python",
   "nbconvert_exporter": "python",
   "pygments_lexer": "ipython3",
   "version": "3.9.18"
  }
 },
 "nbformat": 4,
 "nbformat_minor": 4
}
